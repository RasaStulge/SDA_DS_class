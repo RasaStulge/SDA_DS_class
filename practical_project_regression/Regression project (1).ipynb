{
 "cells": [
  {
   "cell_type": "markdown",
   "source": "# Questions we would like to answer: \n1.How did infant deaths change during 2000-2015? \n2.How do alcohol and HIV/AIDS affect adult mortality? \n3.Which factors influence life expectancy the most (positively and negatively)? ",
   "metadata": {
    "cell_id": "defc57bf-e75a-43cc-942b-ab70e10ee6be",
    "deepnote_cell_type": "markdown"
   }
  },
  {
   "cell_type": "markdown",
   "source": "# Import libraries",
   "metadata": {
    "cell_id": "00001-4156e460-ca3b-411e-94da-b7715060a9f2",
    "deepnote_cell_type": "markdown"
   }
  },
  {
   "cell_type": "code",
   "metadata": {
    "cell_id": "00002-fbda0706-6d9b-4ede-ae8b-81cdaf26b601",
    "deepnote_to_be_reexecuted": false,
    "source_hash": "e155392b",
    "execution_start": 1644755666286,
    "execution_millis": 4964,
    "deepnote_cell_type": "code"
   },
   "source": "import pandas as pd\nimport numpy as np\n\nfrom matplotlib import pyplot as plt\nimport seaborn as sns",
   "execution_count": null,
   "outputs": []
  },
  {
   "cell_type": "markdown",
   "source": "# Import and prepare the dataset",
   "metadata": {
    "cell_id": "00003-e37ce5f6-722f-457d-a5a2-ae0a6b6946bb",
    "deepnote_cell_type": "markdown"
   }
  },
  {
   "cell_type": "code",
   "metadata": {
    "cell_id": "00004-c8f22597-925d-47b0-8462-1e4cf6979755",
    "deepnote_to_be_reexecuted": false,
    "source_hash": "ba1fb993",
    "execution_start": 1644755671283,
    "execution_millis": 28,
    "deepnote_cell_type": "code"
   },
   "source": "df = pd.read_csv(\"life_expectancy_data.csv\")",
   "execution_count": null,
   "outputs": []
  },
  {
   "cell_type": "code",
   "metadata": {
    "cell_id": "00005-f487d787-70a2-4b67-8acb-9a047fcf55c4",
    "deepnote_output_heights": [
     21
    ],
    "deepnote_to_be_reexecuted": false,
    "source_hash": "56cb903f",
    "execution_start": 1644755671360,
    "execution_millis": 44,
    "deepnote_cell_type": "code"
   },
   "source": "pwd",
   "execution_count": null,
   "outputs": [
    {
     "output_type": "execute_result",
     "execution_count": 3,
     "data": {
      "text/plain": "'/work'"
     },
     "metadata": {}
    }
   ]
  },
  {
   "cell_type": "code",
   "metadata": {
    "cell_id": "00006-05185b89-f596-4316-ad94-996df0b28824",
    "deepnote_to_be_reexecuted": false,
    "source_hash": "51f79413",
    "execution_start": 1644755671447,
    "execution_millis": 0,
    "deepnote_cell_type": "code"
   },
   "source": "#df.columns = df.columns.str.replace(' ', '_')",
   "execution_count": null,
   "outputs": []
  },
  {
   "cell_type": "code",
   "metadata": {
    "cell_id": "00007-ba6a1c93-d0f2-4048-813d-3ef4a0b64530",
    "deepnote_output_heights": [
     220
    ],
    "deepnote_to_be_reexecuted": false,
    "source_hash": "1b4f5b61",
    "execution_start": 1644755671490,
    "execution_millis": 382,
    "deepnote_cell_type": "code"
   },
   "source": "df = df.rename(columns=str.lower)\ndf = df.rename(columns=str.strip)\ndf.head()",
   "execution_count": null,
   "outputs": [
    {
     "output_type": "execute_result",
     "execution_count": 5,
     "data": {
      "application/vnd.deepnote.dataframe.v3+json": {
       "column_count": 22,
       "row_count": 5,
       "columns": [
        {
         "name": "country",
         "dtype": "object",
         "stats": {
          "unique_count": 1,
          "nan_count": 0,
          "categories": [
           {
            "name": "Afghanistan",
            "count": 5
           }
          ]
         }
        },
        {
         "name": "year",
         "dtype": "int64",
         "stats": {
          "unique_count": 5,
          "nan_count": 0,
          "min": "2011",
          "max": "2015",
          "histogram": [
           {
            "bin_start": 2011,
            "bin_end": 2011.4,
            "count": 1
           },
           {
            "bin_start": 2011.4,
            "bin_end": 2011.8,
            "count": 0
           },
           {
            "bin_start": 2011.8,
            "bin_end": 2012.2,
            "count": 1
           },
           {
            "bin_start": 2012.2,
            "bin_end": 2012.6,
            "count": 0
           },
           {
            "bin_start": 2012.6,
            "bin_end": 2013,
            "count": 0
           },
           {
            "bin_start": 2013,
            "bin_end": 2013.4,
            "count": 1
           },
           {
            "bin_start": 2013.4,
            "bin_end": 2013.8,
            "count": 0
           },
           {
            "bin_start": 2013.8,
            "bin_end": 2014.2,
            "count": 1
           },
           {
            "bin_start": 2014.2,
            "bin_end": 2014.6,
            "count": 0
           },
           {
            "bin_start": 2014.6,
            "bin_end": 2015,
            "count": 1
           }
          ]
         }
        },
        {
         "name": "status",
         "dtype": "object",
         "stats": {
          "unique_count": 1,
          "nan_count": 0,
          "categories": [
           {
            "name": "Developing",
            "count": 5
           }
          ]
         }
        },
        {
         "name": "life expectancy",
         "dtype": "float64",
         "stats": {
          "unique_count": 4,
          "nan_count": 0,
          "min": "59.2",
          "max": "65.0",
          "histogram": [
           {
            "bin_start": 59.2,
            "bin_end": 59.78,
            "count": 2
           },
           {
            "bin_start": 59.78,
            "bin_end": 60.36,
            "count": 2
           },
           {
            "bin_start": 60.36,
            "bin_end": 60.940000000000005,
            "count": 0
           },
           {
            "bin_start": 60.940000000000005,
            "bin_end": 61.52,
            "count": 0
           },
           {
            "bin_start": 61.52,
            "bin_end": 62.1,
            "count": 0
           },
           {
            "bin_start": 62.1,
            "bin_end": 62.68,
            "count": 0
           },
           {
            "bin_start": 62.68,
            "bin_end": 63.26,
            "count": 0
           },
           {
            "bin_start": 63.26,
            "bin_end": 63.84,
            "count": 0
           },
           {
            "bin_start": 63.84,
            "bin_end": 64.42,
            "count": 0
           },
           {
            "bin_start": 64.42,
            "bin_end": 65,
            "count": 1
           }
          ]
         }
        },
        {
         "name": "adult mortality",
         "dtype": "float64",
         "stats": {
          "unique_count": 5,
          "nan_count": 0,
          "min": "263.0",
          "max": "275.0",
          "histogram": [
           {
            "bin_start": 263,
            "bin_end": 264.2,
            "count": 1
           },
           {
            "bin_start": 264.2,
            "bin_end": 265.4,
            "count": 0
           },
           {
            "bin_start": 265.4,
            "bin_end": 266.6,
            "count": 0
           },
           {
            "bin_start": 266.6,
            "bin_end": 267.8,
            "count": 0
           },
           {
            "bin_start": 267.8,
            "bin_end": 269,
            "count": 1
           },
           {
            "bin_start": 269,
            "bin_end": 270.2,
            "count": 0
           },
           {
            "bin_start": 270.2,
            "bin_end": 271.4,
            "count": 1
           },
           {
            "bin_start": 271.4,
            "bin_end": 272.6,
            "count": 1
           },
           {
            "bin_start": 272.6,
            "bin_end": 273.8,
            "count": 0
           },
           {
            "bin_start": 273.8,
            "bin_end": 275,
            "count": 1
           }
          ]
         }
        },
        {
         "name": "infant deaths",
         "dtype": "int64",
         "stats": {
          "unique_count": 5,
          "nan_count": 0,
          "min": "62",
          "max": "71",
          "histogram": [
           {
            "bin_start": 62,
            "bin_end": 62.9,
            "count": 1
           },
           {
            "bin_start": 62.9,
            "bin_end": 63.8,
            "count": 0
           },
           {
            "bin_start": 63.8,
            "bin_end": 64.7,
            "count": 1
           },
           {
            "bin_start": 64.7,
            "bin_end": 65.6,
            "count": 0
           },
           {
            "bin_start": 65.6,
            "bin_end": 66.5,
            "count": 1
           },
           {
            "bin_start": 66.5,
            "bin_end": 67.4,
            "count": 0
           },
           {
            "bin_start": 67.4,
            "bin_end": 68.3,
            "count": 0
           },
           {
            "bin_start": 68.3,
            "bin_end": 69.2,
            "count": 1
           },
           {
            "bin_start": 69.2,
            "bin_end": 70.1,
            "count": 0
           },
           {
            "bin_start": 70.1,
            "bin_end": 71,
            "count": 1
           }
          ]
         }
        },
        {
         "name": "alcohol",
         "dtype": "float64",
         "stats": {
          "unique_count": 1,
          "nan_count": 0,
          "min": "0.01",
          "max": "0.01",
          "histogram": [
           {
            "bin_start": -0.49,
            "bin_end": -0.39,
            "count": 0
           },
           {
            "bin_start": -0.39,
            "bin_end": -0.29,
            "count": 0
           },
           {
            "bin_start": -0.29,
            "bin_end": -0.18999999999999995,
            "count": 0
           },
           {
            "bin_start": -0.18999999999999995,
            "bin_end": -0.08999999999999997,
            "count": 0
           },
           {
            "bin_start": -0.08999999999999997,
            "bin_end": 0.010000000000000009,
            "count": 5
           },
           {
            "bin_start": 0.010000000000000009,
            "bin_end": 0.1100000000000001,
            "count": 0
           },
           {
            "bin_start": 0.1100000000000001,
            "bin_end": 0.21000000000000008,
            "count": 0
           },
           {
            "bin_start": 0.21000000000000008,
            "bin_end": 0.31000000000000005,
            "count": 0
           },
           {
            "bin_start": 0.31000000000000005,
            "bin_end": 0.41000000000000003,
            "count": 0
           },
           {
            "bin_start": 0.41000000000000003,
            "bin_end": 0.51,
            "count": 0
           }
          ]
         }
        },
        {
         "name": "percentage expenditure",
         "dtype": "float64",
         "stats": {
          "unique_count": 5,
          "nan_count": 0,
          "min": "7.097108703",
          "max": "78.1842153",
          "histogram": [
           {
            "bin_start": 7.097108703,
            "bin_end": 14.2058193627,
            "count": 1
           },
           {
            "bin_start": 14.2058193627,
            "bin_end": 21.3145300224,
            "count": 0
           },
           {
            "bin_start": 21.3145300224,
            "bin_end": 28.423240682099998,
            "count": 0
           },
           {
            "bin_start": 28.423240682099998,
            "bin_end": 35.531951341799996,
            "count": 0
           },
           {
            "bin_start": 35.531951341799996,
            "bin_end": 42.640662001500004,
            "count": 0
           },
           {
            "bin_start": 42.640662001500004,
            "bin_end": 49.7493726612,
            "count": 0
           },
           {
            "bin_start": 49.7493726612,
            "bin_end": 56.85808332089999,
            "count": 0
           },
           {
            "bin_start": 56.85808332089999,
            "bin_end": 63.9667939806,
            "count": 0
           },
           {
            "bin_start": 63.9667939806,
            "bin_end": 71.0755046403,
            "count": 0
           },
           {
            "bin_start": 71.0755046403,
            "bin_end": 78.1842153,
            "count": 4
           }
          ]
         }
        },
        {
         "name": "hepatitis b",
         "dtype": "float64",
         "stats": {
          "unique_count": 5,
          "nan_count": 0,
          "min": "62.0",
          "max": "68.0",
          "histogram": [
           {
            "bin_start": 62,
            "bin_end": 62.6,
            "count": 1
           },
           {
            "bin_start": 62.6,
            "bin_end": 63.2,
            "count": 0
           },
           {
            "bin_start": 63.2,
            "bin_end": 63.8,
            "count": 0
           },
           {
            "bin_start": 63.8,
            "bin_end": 64.4,
            "count": 1
           },
           {
            "bin_start": 64.4,
            "bin_end": 65,
            "count": 0
           },
           {
            "bin_start": 65,
            "bin_end": 65.6,
            "count": 1
           },
           {
            "bin_start": 65.6,
            "bin_end": 66.2,
            "count": 0
           },
           {
            "bin_start": 66.2,
            "bin_end": 66.8,
            "count": 0
           },
           {
            "bin_start": 66.8,
            "bin_end": 67.4,
            "count": 1
           },
           {
            "bin_start": 67.4,
            "bin_end": 68,
            "count": 1
           }
          ]
         }
        },
        {
         "name": "measles",
         "dtype": "int64",
         "stats": {
          "unique_count": 5,
          "nan_count": 0,
          "min": "430",
          "max": "3013",
          "histogram": [
           {
            "bin_start": 430,
            "bin_end": 688.3,
            "count": 2
           },
           {
            "bin_start": 688.3,
            "bin_end": 946.6,
            "count": 0
           },
           {
            "bin_start": 946.6,
            "bin_end": 1204.9,
            "count": 1
           },
           {
            "bin_start": 1204.9,
            "bin_end": 1463.2,
            "count": 0
           },
           {
            "bin_start": 1463.2,
            "bin_end": 1721.5,
            "count": 0
           },
           {
            "bin_start": 1721.5,
            "bin_end": 1979.8000000000002,
            "count": 0
           },
           {
            "bin_start": 1979.8000000000002,
            "bin_end": 2238.1000000000004,
            "count": 0
           },
           {
            "bin_start": 2238.1000000000004,
            "bin_end": 2496.4,
            "count": 0
           },
           {
            "bin_start": 2496.4,
            "bin_end": 2754.7000000000003,
            "count": 0
           },
           {
            "bin_start": 2754.7000000000003,
            "bin_end": 3013,
            "count": 2
           }
          ]
         }
        },
        {
         "name": "bmi",
         "dtype": "float64",
         "stats": {
          "unique_count": 5,
          "nan_count": 0,
          "min": "17.2",
          "max": "19.1",
          "histogram": [
           {
            "bin_start": 17.2,
            "bin_end": 17.39,
            "count": 1
           },
           {
            "bin_start": 17.39,
            "bin_end": 17.58,
            "count": 0
           },
           {
            "bin_start": 17.58,
            "bin_end": 17.77,
            "count": 1
           },
           {
            "bin_start": 17.77,
            "bin_end": 17.96,
            "count": 0
           },
           {
            "bin_start": 17.96,
            "bin_end": 18.15,
            "count": 1
           },
           {
            "bin_start": 18.15,
            "bin_end": 18.34,
            "count": 0
           },
           {
            "bin_start": 18.34,
            "bin_end": 18.53,
            "count": 0
           },
           {
            "bin_start": 18.53,
            "bin_end": 18.720000000000002,
            "count": 1
           },
           {
            "bin_start": 18.720000000000002,
            "bin_end": 18.91,
            "count": 0
           },
           {
            "bin_start": 18.91,
            "bin_end": 19.1,
            "count": 1
           }
          ]
         }
        },
        {
         "name": "under-five deaths",
         "dtype": "int64",
         "stats": {
          "unique_count": 5,
          "nan_count": 0,
          "min": "83",
          "max": "97",
          "histogram": [
           {
            "bin_start": 83,
            "bin_end": 84.4,
            "count": 1
           },
           {
            "bin_start": 84.4,
            "bin_end": 85.8,
            "count": 0
           },
           {
            "bin_start": 85.8,
            "bin_end": 87.2,
            "count": 1
           },
           {
            "bin_start": 87.2,
            "bin_end": 88.6,
            "count": 0
           },
           {
            "bin_start": 88.6,
            "bin_end": 90,
            "count": 1
           },
           {
            "bin_start": 90,
            "bin_end": 91.4,
            "count": 0
           },
           {
            "bin_start": 91.4,
            "bin_end": 92.8,
            "count": 0
           },
           {
            "bin_start": 92.8,
            "bin_end": 94.2,
            "count": 1
           },
           {
            "bin_start": 94.2,
            "bin_end": 95.6,
            "count": 0
           },
           {
            "bin_start": 95.6,
            "bin_end": 97,
            "count": 1
           }
          ]
         }
        },
        {
         "name": "polio",
         "dtype": "float64",
         "stats": {
          "unique_count": 5,
          "nan_count": 0,
          "min": "6.0",
          "max": "68.0",
          "histogram": [
           {
            "bin_start": 6,
            "bin_end": 12.2,
            "count": 1
           },
           {
            "bin_start": 12.2,
            "bin_end": 18.4,
            "count": 0
           },
           {
            "bin_start": 18.4,
            "bin_end": 24.6,
            "count": 0
           },
           {
            "bin_start": 24.6,
            "bin_end": 30.8,
            "count": 0
           },
           {
            "bin_start": 30.8,
            "bin_end": 37,
            "count": 0
           },
           {
            "bin_start": 37,
            "bin_end": 43.2,
            "count": 0
           },
           {
            "bin_start": 43.2,
            "bin_end": 49.4,
            "count": 0
           },
           {
            "bin_start": 49.4,
            "bin_end": 55.6,
            "count": 0
           },
           {
            "bin_start": 55.6,
            "bin_end": 61.800000000000004,
            "count": 1
           },
           {
            "bin_start": 61.800000000000004,
            "bin_end": 68,
            "count": 3
           }
          ]
         }
        },
        {
         "name": "total expenditure",
         "dtype": "float64",
         "stats": {
          "unique_count": 5,
          "nan_count": 0,
          "min": "7.87",
          "max": "8.52",
          "histogram": [
           {
            "bin_start": 7.87,
            "bin_end": 7.9350000000000005,
            "count": 1
           },
           {
            "bin_start": 7.9350000000000005,
            "bin_end": 8,
            "count": 0
           },
           {
            "bin_start": 8,
            "bin_end": 8.065,
            "count": 0
           },
           {
            "bin_start": 8.065,
            "bin_end": 8.129999999999999,
            "count": 0
           },
           {
            "bin_start": 8.129999999999999,
            "bin_end": 8.195,
            "count": 3
           },
           {
            "bin_start": 8.195,
            "bin_end": 8.26,
            "count": 0
           },
           {
            "bin_start": 8.26,
            "bin_end": 8.325,
            "count": 0
           },
           {
            "bin_start": 8.325,
            "bin_end": 8.39,
            "count": 0
           },
           {
            "bin_start": 8.39,
            "bin_end": 8.455,
            "count": 0
           },
           {
            "bin_start": 8.455,
            "bin_end": 8.52,
            "count": 1
           }
          ]
         }
        },
        {
         "name": "diphtheria",
         "dtype": "float64",
         "stats": {
          "unique_count": 5,
          "nan_count": 0,
          "min": "62.0",
          "max": "68.0",
          "histogram": [
           {
            "bin_start": 62,
            "bin_end": 62.6,
            "count": 1
           },
           {
            "bin_start": 62.6,
            "bin_end": 63.2,
            "count": 0
           },
           {
            "bin_start": 63.2,
            "bin_end": 63.8,
            "count": 0
           },
           {
            "bin_start": 63.8,
            "bin_end": 64.4,
            "count": 1
           },
           {
            "bin_start": 64.4,
            "bin_end": 65,
            "count": 0
           },
           {
            "bin_start": 65,
            "bin_end": 65.6,
            "count": 1
           },
           {
            "bin_start": 65.6,
            "bin_end": 66.2,
            "count": 0
           },
           {
            "bin_start": 66.2,
            "bin_end": 66.8,
            "count": 0
           },
           {
            "bin_start": 66.8,
            "bin_end": 67.4,
            "count": 1
           },
           {
            "bin_start": 67.4,
            "bin_end": 68,
            "count": 1
           }
          ]
         }
        },
        {
         "name": "hiv/aids",
         "dtype": "float64",
         "stats": {
          "unique_count": 1,
          "nan_count": 0,
          "min": "0.1",
          "max": "0.1",
          "histogram": [
           {
            "bin_start": -0.4,
            "bin_end": -0.30000000000000004,
            "count": 0
           },
           {
            "bin_start": -0.30000000000000004,
            "bin_end": -0.2,
            "count": 0
           },
           {
            "bin_start": -0.2,
            "bin_end": -0.09999999999999998,
            "count": 0
           },
           {
            "bin_start": -0.09999999999999998,
            "bin_end": 0,
            "count": 0
           },
           {
            "bin_start": 0,
            "bin_end": 0.09999999999999998,
            "count": 0
           },
           {
            "bin_start": 0.09999999999999998,
            "bin_end": 0.20000000000000007,
            "count": 5
           },
           {
            "bin_start": 0.20000000000000007,
            "bin_end": 0.30000000000000004,
            "count": 0
           },
           {
            "bin_start": 0.30000000000000004,
            "bin_end": 0.4,
            "count": 0
           },
           {
            "bin_start": 0.4,
            "bin_end": 0.5,
            "count": 0
           },
           {
            "bin_start": 0.5,
            "bin_end": 0.6,
            "count": 0
           }
          ]
         }
        },
        {
         "name": "gdp",
         "dtype": "float64",
         "stats": {
          "unique_count": 5,
          "nan_count": 0,
          "min": "63.537231",
          "max": "669.959",
          "histogram": [
           {
            "bin_start": 63.537231,
            "bin_end": 124.1794079,
            "count": 1
           },
           {
            "bin_start": 124.1794079,
            "bin_end": 184.82158479999998,
            "count": 0
           },
           {
            "bin_start": 184.82158479999998,
            "bin_end": 245.4637617,
            "count": 0
           },
           {
            "bin_start": 245.4637617,
            "bin_end": 306.1059386,
            "count": 0
           },
           {
            "bin_start": 306.1059386,
            "bin_end": 366.7481155,
            "count": 0
           },
           {
            "bin_start": 366.7481155,
            "bin_end": 427.3902924,
            "count": 0
           },
           {
            "bin_start": 427.3902924,
            "bin_end": 488.0324693,
            "count": 0
           },
           {
            "bin_start": 488.0324693,
            "bin_end": 548.6746462,
            "count": 0
           },
           {
            "bin_start": 548.6746462,
            "bin_end": 609.3168231,
            "count": 1
           },
           {
            "bin_start": 609.3168231,
            "bin_end": 669.959,
            "count": 3
           }
          ]
         }
        },
        {
         "name": "population",
         "dtype": "float64",
         "stats": {
          "unique_count": 5,
          "nan_count": 0,
          "min": "327582.0",
          "max": "33736494.0",
          "histogram": [
           {
            "bin_start": 327582,
            "bin_end": 3668473.2,
            "count": 2
           },
           {
            "bin_start": 3668473.2,
            "bin_end": 7009364.4,
            "count": 1
           },
           {
            "bin_start": 7009364.4,
            "bin_end": 10350255.600000001,
            "count": 0
           },
           {
            "bin_start": 10350255.600000001,
            "bin_end": 13691146.8,
            "count": 0
           },
           {
            "bin_start": 13691146.8,
            "bin_end": 17032038,
            "count": 0
           },
           {
            "bin_start": 17032038,
            "bin_end": 20372929.200000003,
            "count": 0
           },
           {
            "bin_start": 20372929.200000003,
            "bin_end": 23713820.400000002,
            "count": 0
           },
           {
            "bin_start": 23713820.400000002,
            "bin_end": 27054711.6,
            "count": 0
           },
           {
            "bin_start": 27054711.6,
            "bin_end": 30395602.8,
            "count": 0
           },
           {
            "bin_start": 30395602.8,
            "bin_end": 33736494,
            "count": 2
           }
          ]
         }
        },
        {
         "name": "thinness  1-19 years",
         "dtype": "float64",
         "stats": {
          "unique_count": 5,
          "nan_count": 0,
          "min": "17.2",
          "max": "18.2",
          "histogram": [
           {
            "bin_start": 17.2,
            "bin_end": 17.3,
            "count": 1
           },
           {
            "bin_start": 17.3,
            "bin_end": 17.4,
            "count": 0
           },
           {
            "bin_start": 17.4,
            "bin_end": 17.5,
            "count": 0
           },
           {
            "bin_start": 17.5,
            "bin_end": 17.599999999999998,
            "count": 1
           },
           {
            "bin_start": 17.599999999999998,
            "bin_end": 17.7,
            "count": 0
           },
           {
            "bin_start": 17.7,
            "bin_end": 17.8,
            "count": 1
           },
           {
            "bin_start": 17.8,
            "bin_end": 17.9,
            "count": 0
           },
           {
            "bin_start": 17.9,
            "bin_end": 18,
            "count": 1
           },
           {
            "bin_start": 18,
            "bin_end": 18.099999999999998,
            "count": 0
           },
           {
            "bin_start": 18.099999999999998,
            "bin_end": 18.2,
            "count": 1
           }
          ]
         }
        },
        {
         "name": "thinness 5-9 years",
         "dtype": "float64",
         "stats": {
          "unique_count": 5,
          "nan_count": 0,
          "min": "17.3",
          "max": "18.2",
          "histogram": [
           {
            "bin_start": 17.3,
            "bin_end": 17.39,
            "count": 1
           },
           {
            "bin_start": 17.39,
            "bin_end": 17.48,
            "count": 0
           },
           {
            "bin_start": 17.48,
            "bin_end": 17.57,
            "count": 1
           },
           {
            "bin_start": 17.57,
            "bin_end": 17.66,
            "count": 0
           },
           {
            "bin_start": 17.66,
            "bin_end": 17.75,
            "count": 1
           },
           {
            "bin_start": 17.75,
            "bin_end": 17.84,
            "count": 0
           },
           {
            "bin_start": 17.84,
            "bin_end": 17.93,
            "count": 0
           },
           {
            "bin_start": 17.93,
            "bin_end": 18.02,
            "count": 1
           },
           {
            "bin_start": 18.02,
            "bin_end": 18.11,
            "count": 0
           },
           {
            "bin_start": 18.11,
            "bin_end": 18.2,
            "count": 1
           }
          ]
         }
        },
        {
         "name": "income composition of resources",
         "dtype": "float64",
         "stats": {
          "unique_count": 5,
          "nan_count": 0,
          "min": "0.454",
          "max": "0.479",
          "histogram": [
           {
            "bin_start": 0.454,
            "bin_end": 0.4565,
            "count": 1
           },
           {
            "bin_start": 0.4565,
            "bin_end": 0.459,
            "count": 0
           },
           {
            "bin_start": 0.459,
            "bin_end": 0.4615,
            "count": 0
           },
           {
            "bin_start": 0.4615,
            "bin_end": 0.464,
            "count": 1
           },
           {
            "bin_start": 0.464,
            "bin_end": 0.4665,
            "count": 0
           },
           {
            "bin_start": 0.4665,
            "bin_end": 0.469,
            "count": 0
           },
           {
            "bin_start": 0.469,
            "bin_end": 0.4715,
            "count": 1
           },
           {
            "bin_start": 0.4715,
            "bin_end": 0.474,
            "count": 0
           },
           {
            "bin_start": 0.474,
            "bin_end": 0.4765,
            "count": 1
           },
           {
            "bin_start": 0.4765,
            "bin_end": 0.479,
            "count": 1
           }
          ]
         }
        },
        {
         "name": "schooling",
         "dtype": "float64",
         "stats": {
          "unique_count": 5,
          "nan_count": 0,
          "min": "9.5",
          "max": "10.1",
          "histogram": [
           {
            "bin_start": 9.5,
            "bin_end": 9.56,
            "count": 1
           },
           {
            "bin_start": 9.56,
            "bin_end": 9.62,
            "count": 0
           },
           {
            "bin_start": 9.62,
            "bin_end": 9.68,
            "count": 0
           },
           {
            "bin_start": 9.68,
            "bin_end": 9.74,
            "count": 0
           },
           {
            "bin_start": 9.74,
            "bin_end": 9.8,
            "count": 0
           },
           {
            "bin_start": 9.8,
            "bin_end": 9.86,
            "count": 1
           },
           {
            "bin_start": 9.86,
            "bin_end": 9.92,
            "count": 1
           },
           {
            "bin_start": 9.92,
            "bin_end": 9.98,
            "count": 0
           },
           {
            "bin_start": 9.98,
            "bin_end": 10.04,
            "count": 1
           },
           {
            "bin_start": 10.04,
            "bin_end": 10.1,
            "count": 1
           }
          ]
         }
        },
        {
         "name": "_deepnote_index_column",
         "dtype": "int64"
        }
       ],
       "rows": [
        {
         "country": "Afghanistan",
         "year": 2015,
         "status": "Developing",
         "life expectancy": 65,
         "adult mortality": 263,
         "infant deaths": 62,
         "alcohol": 0.01,
         "percentage expenditure": 71.27962362,
         "hepatitis b": 65,
         "measles": 1154,
         "bmi": 19.1,
         "under-five deaths": 83,
         "polio": 6,
         "total expenditure": 8.16,
         "diphtheria": 65,
         "hiv/aids": 0.1,
         "gdp": 584.25921,
         "population": 33736494,
         "thinness  1-19 years": 17.2,
         "thinness 5-9 years": 17.3,
         "income composition of resources": 0.479,
         "schooling": 10.1,
         "_deepnote_index_column": 0
        },
        {
         "country": "Afghanistan",
         "year": 2014,
         "status": "Developing",
         "life expectancy": 59.9,
         "adult mortality": 271,
         "infant deaths": 64,
         "alcohol": 0.01,
         "percentage expenditure": 73.52358168,
         "hepatitis b": 62,
         "measles": 492,
         "bmi": 18.6,
         "under-five deaths": 86,
         "polio": 58,
         "total expenditure": 8.18,
         "diphtheria": 62,
         "hiv/aids": 0.1,
         "gdp": 612.696514,
         "population": 327582,
         "thinness  1-19 years": 17.5,
         "thinness 5-9 years": 17.5,
         "income composition of resources": 0.476,
         "schooling": 10,
         "_deepnote_index_column": 1
        },
        {
         "country": "Afghanistan",
         "year": 2013,
         "status": "Developing",
         "life expectancy": 59.9,
         "adult mortality": 268,
         "infant deaths": 66,
         "alcohol": 0.01,
         "percentage expenditure": 73.21924272,
         "hepatitis b": 64,
         "measles": 430,
         "bmi": 18.1,
         "under-five deaths": 89,
         "polio": 62,
         "total expenditure": 8.13,
         "diphtheria": 64,
         "hiv/aids": 0.1,
         "gdp": 631.744976,
         "population": 31731688,
         "thinness  1-19 years": 17.7,
         "thinness 5-9 years": 17.7,
         "income composition of resources": 0.47,
         "schooling": 9.9,
         "_deepnote_index_column": 2
        },
        {
         "country": "Afghanistan",
         "year": 2012,
         "status": "Developing",
         "life expectancy": 59.5,
         "adult mortality": 272,
         "infant deaths": 69,
         "alcohol": 0.01,
         "percentage expenditure": 78.1842153,
         "hepatitis b": 67,
         "measles": 2787,
         "bmi": 17.6,
         "under-five deaths": 93,
         "polio": 67,
         "total expenditure": 8.52,
         "diphtheria": 67,
         "hiv/aids": 0.1,
         "gdp": 669.959,
         "population": 3696958,
         "thinness  1-19 years": 17.9,
         "thinness 5-9 years": 18,
         "income composition of resources": 0.463,
         "schooling": 9.8,
         "_deepnote_index_column": 3
        },
        {
         "country": "Afghanistan",
         "year": 2011,
         "status": "Developing",
         "life expectancy": 59.2,
         "adult mortality": 275,
         "infant deaths": 71,
         "alcohol": 0.01,
         "percentage expenditure": 7.097108703,
         "hepatitis b": 68,
         "measles": 3013,
         "bmi": 17.2,
         "under-five deaths": 97,
         "polio": 68,
         "total expenditure": 7.87,
         "diphtheria": 68,
         "hiv/aids": 0.1,
         "gdp": 63.537231,
         "population": 2978599,
         "thinness  1-19 years": 18.2,
         "thinness 5-9 years": 18.2,
         "income composition of resources": 0.454,
         "schooling": 9.5,
         "_deepnote_index_column": 4
        }
       ]
      },
      "text/plain": "       country  year      status  life expectancy  adult mortality  \\\n0  Afghanistan  2015  Developing             65.0            263.0   \n1  Afghanistan  2014  Developing             59.9            271.0   \n2  Afghanistan  2013  Developing             59.9            268.0   \n3  Afghanistan  2012  Developing             59.5            272.0   \n4  Afghanistan  2011  Developing             59.2            275.0   \n\n   infant deaths  alcohol  percentage expenditure  hepatitis b  measles  ...  \\\n0             62     0.01               71.279624         65.0     1154  ...   \n1             64     0.01               73.523582         62.0      492  ...   \n2             66     0.01               73.219243         64.0      430  ...   \n3             69     0.01               78.184215         67.0     2787  ...   \n4             71     0.01                7.097109         68.0     3013  ...   \n\n   polio  total expenditure  diphtheria  hiv/aids         gdp  population  \\\n0    6.0               8.16        65.0       0.1  584.259210  33736494.0   \n1   58.0               8.18        62.0       0.1  612.696514    327582.0   \n2   62.0               8.13        64.0       0.1  631.744976  31731688.0   \n3   67.0               8.52        67.0       0.1  669.959000   3696958.0   \n4   68.0               7.87        68.0       0.1   63.537231   2978599.0   \n\n   thinness  1-19 years  thinness 5-9 years  income composition of resources  \\\n0                  17.2                17.3                            0.479   \n1                  17.5                17.5                            0.476   \n2                  17.7                17.7                            0.470   \n3                  17.9                18.0                            0.463   \n4                  18.2                18.2                            0.454   \n\n   schooling  \n0       10.1  \n1       10.0  \n2        9.9  \n3        9.8  \n4        9.5  \n\n[5 rows x 22 columns]",
      "text/html": "<div>\n<style scoped>\n    .dataframe tbody tr th:only-of-type {\n        vertical-align: middle;\n    }\n\n    .dataframe tbody tr th {\n        vertical-align: top;\n    }\n\n    .dataframe thead th {\n        text-align: right;\n    }\n</style>\n<table border=\"1\" class=\"dataframe\">\n  <thead>\n    <tr style=\"text-align: right;\">\n      <th></th>\n      <th>country</th>\n      <th>year</th>\n      <th>status</th>\n      <th>life expectancy</th>\n      <th>adult mortality</th>\n      <th>infant deaths</th>\n      <th>alcohol</th>\n      <th>percentage expenditure</th>\n      <th>hepatitis b</th>\n      <th>measles</th>\n      <th>...</th>\n      <th>polio</th>\n      <th>total expenditure</th>\n      <th>diphtheria</th>\n      <th>hiv/aids</th>\n      <th>gdp</th>\n      <th>population</th>\n      <th>thinness  1-19 years</th>\n      <th>thinness 5-9 years</th>\n      <th>income composition of resources</th>\n      <th>schooling</th>\n    </tr>\n  </thead>\n  <tbody>\n    <tr>\n      <th>0</th>\n      <td>Afghanistan</td>\n      <td>2015</td>\n      <td>Developing</td>\n      <td>65.0</td>\n      <td>263.0</td>\n      <td>62</td>\n      <td>0.01</td>\n      <td>71.279624</td>\n      <td>65.0</td>\n      <td>1154</td>\n      <td>...</td>\n      <td>6.0</td>\n      <td>8.16</td>\n      <td>65.0</td>\n      <td>0.1</td>\n      <td>584.259210</td>\n      <td>33736494.0</td>\n      <td>17.2</td>\n      <td>17.3</td>\n      <td>0.479</td>\n      <td>10.1</td>\n    </tr>\n    <tr>\n      <th>1</th>\n      <td>Afghanistan</td>\n      <td>2014</td>\n      <td>Developing</td>\n      <td>59.9</td>\n      <td>271.0</td>\n      <td>64</td>\n      <td>0.01</td>\n      <td>73.523582</td>\n      <td>62.0</td>\n      <td>492</td>\n      <td>...</td>\n      <td>58.0</td>\n      <td>8.18</td>\n      <td>62.0</td>\n      <td>0.1</td>\n      <td>612.696514</td>\n      <td>327582.0</td>\n      <td>17.5</td>\n      <td>17.5</td>\n      <td>0.476</td>\n      <td>10.0</td>\n    </tr>\n    <tr>\n      <th>2</th>\n      <td>Afghanistan</td>\n      <td>2013</td>\n      <td>Developing</td>\n      <td>59.9</td>\n      <td>268.0</td>\n      <td>66</td>\n      <td>0.01</td>\n      <td>73.219243</td>\n      <td>64.0</td>\n      <td>430</td>\n      <td>...</td>\n      <td>62.0</td>\n      <td>8.13</td>\n      <td>64.0</td>\n      <td>0.1</td>\n      <td>631.744976</td>\n      <td>31731688.0</td>\n      <td>17.7</td>\n      <td>17.7</td>\n      <td>0.470</td>\n      <td>9.9</td>\n    </tr>\n    <tr>\n      <th>3</th>\n      <td>Afghanistan</td>\n      <td>2012</td>\n      <td>Developing</td>\n      <td>59.5</td>\n      <td>272.0</td>\n      <td>69</td>\n      <td>0.01</td>\n      <td>78.184215</td>\n      <td>67.0</td>\n      <td>2787</td>\n      <td>...</td>\n      <td>67.0</td>\n      <td>8.52</td>\n      <td>67.0</td>\n      <td>0.1</td>\n      <td>669.959000</td>\n      <td>3696958.0</td>\n      <td>17.9</td>\n      <td>18.0</td>\n      <td>0.463</td>\n      <td>9.8</td>\n    </tr>\n    <tr>\n      <th>4</th>\n      <td>Afghanistan</td>\n      <td>2011</td>\n      <td>Developing</td>\n      <td>59.2</td>\n      <td>275.0</td>\n      <td>71</td>\n      <td>0.01</td>\n      <td>7.097109</td>\n      <td>68.0</td>\n      <td>3013</td>\n      <td>...</td>\n      <td>68.0</td>\n      <td>7.87</td>\n      <td>68.0</td>\n      <td>0.1</td>\n      <td>63.537231</td>\n      <td>2978599.0</td>\n      <td>18.2</td>\n      <td>18.2</td>\n      <td>0.454</td>\n      <td>9.5</td>\n    </tr>\n  </tbody>\n</table>\n<p>5 rows × 22 columns</p>\n</div>"
     },
     "metadata": {}
    }
   ]
  },
  {
   "cell_type": "code",
   "metadata": {
    "cell_id": "e7a076c8-672b-474f-a82a-32f0435f20b4",
    "tags": [],
    "deepnote_to_be_reexecuted": false,
    "source_hash": "86545ece",
    "execution_start": 1644755672010,
    "execution_millis": 450,
    "deepnote_cell_type": "code"
   },
   "source": "l = ['Lithuania'] \ndf[df.country.isin(l)]",
   "execution_count": null,
   "outputs": [
    {
     "output_type": "execute_result",
     "execution_count": 6,
     "data": {
      "application/vnd.deepnote.dataframe.v3+json": {
       "column_count": 22,
       "row_count": 16,
       "columns": [
        {
         "name": "country",
         "dtype": "object",
         "stats": {
          "unique_count": 1,
          "nan_count": 0,
          "categories": [
           {
            "name": "Lithuania",
            "count": 16
           }
          ]
         }
        },
        {
         "name": "year",
         "dtype": "int64",
         "stats": {
          "unique_count": 16,
          "nan_count": 0,
          "min": "2000",
          "max": "2015",
          "histogram": [
           {
            "bin_start": 2000,
            "bin_end": 2001.5,
            "count": 2
           },
           {
            "bin_start": 2001.5,
            "bin_end": 2003,
            "count": 1
           },
           {
            "bin_start": 2003,
            "bin_end": 2004.5,
            "count": 2
           },
           {
            "bin_start": 2004.5,
            "bin_end": 2006,
            "count": 1
           },
           {
            "bin_start": 2006,
            "bin_end": 2007.5,
            "count": 2
           },
           {
            "bin_start": 2007.5,
            "bin_end": 2009,
            "count": 1
           },
           {
            "bin_start": 2009,
            "bin_end": 2010.5,
            "count": 2
           },
           {
            "bin_start": 2010.5,
            "bin_end": 2012,
            "count": 1
           },
           {
            "bin_start": 2012,
            "bin_end": 2013.5,
            "count": 2
           },
           {
            "bin_start": 2013.5,
            "bin_end": 2015,
            "count": 2
           }
          ]
         }
        },
        {
         "name": "status",
         "dtype": "object",
         "stats": {
          "unique_count": 1,
          "nan_count": 0,
          "categories": [
           {
            "name": "Developed",
            "count": 16
           }
          ]
         }
        },
        {
         "name": "life expectancy",
         "dtype": "float64",
         "stats": {
          "unique_count": 13,
          "nan_count": 0,
          "min": "71.1",
          "max": "78.0",
          "histogram": [
           {
            "bin_start": 71.1,
            "bin_end": 71.78999999999999,
            "count": 6
           },
           {
            "bin_start": 71.78999999999999,
            "bin_end": 72.47999999999999,
            "count": 3
           },
           {
            "bin_start": 72.47999999999999,
            "bin_end": 73.17,
            "count": 3
           },
           {
            "bin_start": 73.17,
            "bin_end": 73.86,
            "count": 2
           },
           {
            "bin_start": 73.86,
            "bin_end": 74.55,
            "count": 0
           },
           {
            "bin_start": 74.55,
            "bin_end": 75.24,
            "count": 0
           },
           {
            "bin_start": 75.24,
            "bin_end": 75.92999999999999,
            "count": 0
           },
           {
            "bin_start": 75.92999999999999,
            "bin_end": 76.62,
            "count": 1
           },
           {
            "bin_start": 76.62,
            "bin_end": 77.31,
            "count": 0
           },
           {
            "bin_start": 77.31,
            "bin_end": 78,
            "count": 1
           }
          ]
         }
        },
        {
         "name": "adult mortality",
         "dtype": "float64",
         "stats": {
          "unique_count": 14,
          "nan_count": 0,
          "min": "2.0",
          "max": "229.0",
          "histogram": [
           {
            "bin_start": 2,
            "bin_end": 24.7,
            "count": 7
           },
           {
            "bin_start": 24.7,
            "bin_end": 47.4,
            "count": 0
           },
           {
            "bin_start": 47.4,
            "bin_end": 70.1,
            "count": 0
           },
           {
            "bin_start": 70.1,
            "bin_end": 92.8,
            "count": 0
           },
           {
            "bin_start": 92.8,
            "bin_end": 115.5,
            "count": 0
           },
           {
            "bin_start": 115.5,
            "bin_end": 138.2,
            "count": 0
           },
           {
            "bin_start": 138.2,
            "bin_end": 160.9,
            "count": 0
           },
           {
            "bin_start": 160.9,
            "bin_end": 183.6,
            "count": 4
           },
           {
            "bin_start": 183.6,
            "bin_end": 206.29999999999998,
            "count": 2
           },
           {
            "bin_start": 206.29999999999998,
            "bin_end": 229,
            "count": 3
           }
          ]
         }
        },
        {
         "name": "infant deaths",
         "dtype": "int64",
         "stats": {
          "unique_count": 1,
          "nan_count": 0,
          "min": "0",
          "max": "0",
          "histogram": [
           {
            "bin_start": -0.5,
            "bin_end": -0.4,
            "count": 0
           },
           {
            "bin_start": -0.4,
            "bin_end": -0.3,
            "count": 0
           },
           {
            "bin_start": -0.3,
            "bin_end": -0.19999999999999996,
            "count": 0
           },
           {
            "bin_start": -0.19999999999999996,
            "bin_end": -0.09999999999999998,
            "count": 0
           },
           {
            "bin_start": -0.09999999999999998,
            "bin_end": 0,
            "count": 0
           },
           {
            "bin_start": 0,
            "bin_end": 0.10000000000000009,
            "count": 16
           },
           {
            "bin_start": 0.10000000000000009,
            "bin_end": 0.20000000000000007,
            "count": 0
           },
           {
            "bin_start": 0.20000000000000007,
            "bin_end": 0.30000000000000004,
            "count": 0
           },
           {
            "bin_start": 0.30000000000000004,
            "bin_end": 0.4,
            "count": 0
           },
           {
            "bin_start": 0.4,
            "bin_end": 0.5,
            "count": 0
           }
          ]
         }
        },
        {
         "name": "alcohol",
         "dtype": "float64",
         "stats": {
          "unique_count": 15,
          "nan_count": 1,
          "min": "9.87",
          "max": "15.19",
          "histogram": [
           {
            "bin_start": 9.87,
            "bin_end": 10.402,
            "count": 2
           },
           {
            "bin_start": 10.402,
            "bin_end": 10.934,
            "count": 0
           },
           {
            "bin_start": 10.934,
            "bin_end": 11.466,
            "count": 2
           },
           {
            "bin_start": 11.466,
            "bin_end": 11.998,
            "count": 0
           },
           {
            "bin_start": 11.998,
            "bin_end": 12.53,
            "count": 3
           },
           {
            "bin_start": 12.53,
            "bin_end": 13.062,
            "count": 3
           },
           {
            "bin_start": 13.062,
            "bin_end": 13.594,
            "count": 2
           },
           {
            "bin_start": 13.594,
            "bin_end": 14.126,
            "count": 0
           },
           {
            "bin_start": 14.126,
            "bin_end": 14.658,
            "count": 0
           },
           {
            "bin_start": 14.658,
            "bin_end": 15.19,
            "count": 3
           }
          ]
         }
        },
        {
         "name": "percentage expenditure",
         "dtype": "float64",
         "stats": {
          "unique_count": 16,
          "nan_count": 0,
          "min": "0.0",
          "max": "2211.744178",
          "histogram": [
           {
            "bin_start": 0,
            "bin_end": 221.1744178,
            "count": 5
           },
           {
            "bin_start": 221.1744178,
            "bin_end": 442.3488356,
            "count": 1
           },
           {
            "bin_start": 442.3488356,
            "bin_end": 663.5232533999999,
            "count": 1
           },
           {
            "bin_start": 663.5232533999999,
            "bin_end": 884.6976712,
            "count": 0
           },
           {
            "bin_start": 884.6976712,
            "bin_end": 1105.872089,
            "count": 1
           },
           {
            "bin_start": 1105.872089,
            "bin_end": 1327.0465067999999,
            "count": 0
           },
           {
            "bin_start": 1327.0465067999999,
            "bin_end": 1548.2209246,
            "count": 2
           },
           {
            "bin_start": 1548.2209246,
            "bin_end": 1769.3953424,
            "count": 2
           },
           {
            "bin_start": 1769.3953424,
            "bin_end": 1990.5697601999998,
            "count": 3
           },
           {
            "bin_start": 1990.5697601999998,
            "bin_end": 2211.744178,
            "count": 1
           }
          ]
         }
        },
        {
         "name": "hepatitis b",
         "dtype": "float64",
         "stats": {
          "unique_count": 5,
          "nan_count": 0,
          "min": "93.0",
          "max": "98.0",
          "histogram": [
           {
            "bin_start": 93,
            "bin_end": 93.5,
            "count": 2
           },
           {
            "bin_start": 93.5,
            "bin_end": 94,
            "count": 0
           },
           {
            "bin_start": 94,
            "bin_end": 94.5,
            "count": 5
           },
           {
            "bin_start": 94.5,
            "bin_end": 95,
            "count": 0
           },
           {
            "bin_start": 95,
            "bin_end": 95.5,
            "count": 6
           },
           {
            "bin_start": 95.5,
            "bin_end": 96,
            "count": 0
           },
           {
            "bin_start": 96,
            "bin_end": 96.5,
            "count": 2
           },
           {
            "bin_start": 96.5,
            "bin_end": 97,
            "count": 0
           },
           {
            "bin_start": 97,
            "bin_end": 97.5,
            "count": 0
           },
           {
            "bin_start": 97.5,
            "bin_end": 98,
            "count": 1
           }
          ]
         }
        },
        {
         "name": "measles",
         "dtype": "int64",
         "stats": {
          "unique_count": 9,
          "nan_count": 0,
          "min": "0",
          "max": "103",
          "histogram": [
           {
            "bin_start": 0,
            "bin_end": 10.3,
            "count": 11
           },
           {
            "bin_start": 10.3,
            "bin_end": 20.6,
            "count": 2
           },
           {
            "bin_start": 20.6,
            "bin_end": 30.900000000000002,
            "count": 0
           },
           {
            "bin_start": 30.900000000000002,
            "bin_end": 41.2,
            "count": 1
           },
           {
            "bin_start": 41.2,
            "bin_end": 51.5,
            "count": 1
           },
           {
            "bin_start": 51.5,
            "bin_end": 61.800000000000004,
            "count": 0
           },
           {
            "bin_start": 61.800000000000004,
            "bin_end": 72.10000000000001,
            "count": 0
           },
           {
            "bin_start": 72.10000000000001,
            "bin_end": 82.4,
            "count": 0
           },
           {
            "bin_start": 82.4,
            "bin_end": 92.7,
            "count": 0
           },
           {
            "bin_start": 92.7,
            "bin_end": 103,
            "count": 1
           }
          ]
         }
        },
        {
         "name": "bmi",
         "dtype": "float64",
         "stats": {
          "unique_count": 16,
          "nan_count": 0,
          "min": "6.0",
          "max": "62.4",
          "histogram": [
           {
            "bin_start": 6,
            "bin_end": 11.64,
            "count": 3
           },
           {
            "bin_start": 11.64,
            "bin_end": 17.28,
            "count": 0
           },
           {
            "bin_start": 17.28,
            "bin_end": 22.919999999999998,
            "count": 0
           },
           {
            "bin_start": 22.919999999999998,
            "bin_end": 28.56,
            "count": 0
           },
           {
            "bin_start": 28.56,
            "bin_end": 34.2,
            "count": 0
           },
           {
            "bin_start": 34.2,
            "bin_end": 39.839999999999996,
            "count": 0
           },
           {
            "bin_start": 39.839999999999996,
            "bin_end": 45.48,
            "count": 0
           },
           {
            "bin_start": 45.48,
            "bin_end": 51.12,
            "count": 0
           },
           {
            "bin_start": 51.12,
            "bin_end": 56.76,
            "count": 0
           },
           {
            "bin_start": 56.76,
            "bin_end": 62.4,
            "count": 13
           }
          ]
         }
        },
        {
         "name": "under-five deaths",
         "dtype": "int64",
         "stats": {
          "unique_count": 1,
          "nan_count": 0,
          "min": "0",
          "max": "0",
          "histogram": [
           {
            "bin_start": -0.5,
            "bin_end": -0.4,
            "count": 0
           },
           {
            "bin_start": -0.4,
            "bin_end": -0.3,
            "count": 0
           },
           {
            "bin_start": -0.3,
            "bin_end": -0.19999999999999996,
            "count": 0
           },
           {
            "bin_start": -0.19999999999999996,
            "bin_end": -0.09999999999999998,
            "count": 0
           },
           {
            "bin_start": -0.09999999999999998,
            "bin_end": 0,
            "count": 0
           },
           {
            "bin_start": 0,
            "bin_end": 0.10000000000000009,
            "count": 16
           },
           {
            "bin_start": 0.10000000000000009,
            "bin_end": 0.20000000000000007,
            "count": 0
           },
           {
            "bin_start": 0.20000000000000007,
            "bin_end": 0.30000000000000004,
            "count": 0
           },
           {
            "bin_start": 0.30000000000000004,
            "bin_end": 0.4,
            "count": 0
           },
           {
            "bin_start": 0.4,
            "bin_end": 0.5,
            "count": 0
           }
          ]
         }
        },
        {
         "name": "polio",
         "dtype": "float64",
         "stats": {
          "unique_count": 9,
          "nan_count": 0,
          "min": "9.0",
          "max": "98.0",
          "histogram": [
           {
            "bin_start": 9,
            "bin_end": 17.9,
            "count": 1
           },
           {
            "bin_start": 17.9,
            "bin_end": 26.8,
            "count": 0
           },
           {
            "bin_start": 26.8,
            "bin_end": 35.7,
            "count": 0
           },
           {
            "bin_start": 35.7,
            "bin_end": 44.6,
            "count": 0
           },
           {
            "bin_start": 44.6,
            "bin_end": 53.5,
            "count": 0
           },
           {
            "bin_start": 53.5,
            "bin_end": 62.400000000000006,
            "count": 0
           },
           {
            "bin_start": 62.400000000000006,
            "bin_end": 71.30000000000001,
            "count": 0
           },
           {
            "bin_start": 71.30000000000001,
            "bin_end": 80.2,
            "count": 0
           },
           {
            "bin_start": 80.2,
            "bin_end": 89.10000000000001,
            "count": 0
           },
           {
            "bin_start": 89.10000000000001,
            "bin_end": 98,
            "count": 15
           }
          ]
         }
        },
        {
         "name": "total expenditure",
         "dtype": "float64",
         "stats": {
          "unique_count": 14,
          "nan_count": 1,
          "min": "5.67",
          "max": "7.9",
          "histogram": [
           {
            "bin_start": 5.67,
            "bin_end": 5.893,
            "count": 2
           },
           {
            "bin_start": 5.893,
            "bin_end": 6.116,
            "count": 0
           },
           {
            "bin_start": 6.116,
            "bin_end": 6.339,
            "count": 3
           },
           {
            "bin_start": 6.339,
            "bin_end": 6.562,
            "count": 4
           },
           {
            "bin_start": 6.562,
            "bin_end": 6.785,
            "count": 3
           },
           {
            "bin_start": 6.785,
            "bin_end": 7.008,
            "count": 1
           },
           {
            "bin_start": 7.008,
            "bin_end": 7.231,
            "count": 0
           },
           {
            "bin_start": 7.231,
            "bin_end": 7.454000000000001,
            "count": 0
           },
           {
            "bin_start": 7.454000000000001,
            "bin_end": 7.677,
            "count": 1
           },
           {
            "bin_start": 7.677,
            "bin_end": 7.9,
            "count": 1
           }
          ]
         }
        },
        {
         "name": "diphtheria",
         "dtype": "float64",
         "stats": {
          "unique_count": 6,
          "nan_count": 0,
          "min": "92.0",
          "max": "98.0",
          "histogram": [
           {
            "bin_start": 92,
            "bin_end": 92.6,
            "count": 1
           },
           {
            "bin_start": 92.6,
            "bin_end": 93.2,
            "count": 4
           },
           {
            "bin_start": 93.2,
            "bin_end": 93.8,
            "count": 0
           },
           {
            "bin_start": 93.8,
            "bin_end": 94.4,
            "count": 5
           },
           {
            "bin_start": 94.4,
            "bin_end": 95,
            "count": 0
           },
           {
            "bin_start": 95,
            "bin_end": 95.6,
            "count": 4
           },
           {
            "bin_start": 95.6,
            "bin_end": 96.2,
            "count": 1
           },
           {
            "bin_start": 96.2,
            "bin_end": 96.8,
            "count": 0
           },
           {
            "bin_start": 96.8,
            "bin_end": 97.4,
            "count": 0
           },
           {
            "bin_start": 97.4,
            "bin_end": 98,
            "count": 1
           }
          ]
         }
        },
        {
         "name": "hiv/aids",
         "dtype": "float64",
         "stats": {
          "unique_count": 1,
          "nan_count": 0,
          "min": "0.1",
          "max": "0.1",
          "histogram": [
           {
            "bin_start": -0.4,
            "bin_end": -0.30000000000000004,
            "count": 0
           },
           {
            "bin_start": -0.30000000000000004,
            "bin_end": -0.2,
            "count": 0
           },
           {
            "bin_start": -0.2,
            "bin_end": -0.09999999999999998,
            "count": 0
           },
           {
            "bin_start": -0.09999999999999998,
            "bin_end": 0,
            "count": 0
           },
           {
            "bin_start": 0,
            "bin_end": 0.09999999999999998,
            "count": 0
           },
           {
            "bin_start": 0.09999999999999998,
            "bin_end": 0.20000000000000007,
            "count": 16
           },
           {
            "bin_start": 0.20000000000000007,
            "bin_end": 0.30000000000000004,
            "count": 0
           },
           {
            "bin_start": 0.30000000000000004,
            "bin_end": 0.4,
            "count": 0
           },
           {
            "bin_start": 0.4,
            "bin_end": 0.5,
            "count": 0
           },
           {
            "bin_start": 0.5,
            "bin_end": 0.6,
            "count": 0
           }
          ]
         }
        },
        {
         "name": "gdp",
         "dtype": "float64",
         "stats": {
          "unique_count": 16,
          "nan_count": 0,
          "min": "353.147337",
          "max": "16554.97139",
          "histogram": [
           {
            "bin_start": 353.147337,
            "bin_end": 1973.3297423,
            "count": 4
           },
           {
            "bin_start": 1973.3297423,
            "bin_end": 3593.5121475999995,
            "count": 1
           },
           {
            "bin_start": 3593.5121475999995,
            "bin_end": 5213.6945528999995,
            "count": 1
           },
           {
            "bin_start": 5213.6945528999995,
            "bin_end": 6833.8769581999995,
            "count": 0
           },
           {
            "bin_start": 6833.8769581999995,
            "bin_end": 8454.059363499999,
            "count": 1
           },
           {
            "bin_start": 8454.059363499999,
            "bin_end": 10074.241768799999,
            "count": 0
           },
           {
            "bin_start": 10074.241768799999,
            "bin_end": 11694.424174099999,
            "count": 0
           },
           {
            "bin_start": 11694.424174099999,
            "bin_end": 13314.606579399999,
            "count": 3
           },
           {
            "bin_start": 13314.606579399999,
            "bin_end": 14934.788984699999,
            "count": 3
           },
           {
            "bin_start": 14934.788984699999,
            "bin_end": 16554.97139,
            "count": 3
           }
          ]
         }
        },
        {
         "name": "population",
         "dtype": "float64",
         "stats": {
          "unique_count": 16,
          "nan_count": 0,
          "min": "29491.0",
          "max": "3499536.0",
          "histogram": [
           {
            "bin_start": 29491,
            "bin_end": 376495.5,
            "count": 6
           },
           {
            "bin_start": 376495.5,
            "bin_end": 723500,
            "count": 1
           },
           {
            "bin_start": 723500,
            "bin_end": 1070504.5,
            "count": 0
           },
           {
            "bin_start": 1070504.5,
            "bin_end": 1417509,
            "count": 0
           },
           {
            "bin_start": 1417509,
            "bin_end": 1764513.5,
            "count": 0
           },
           {
            "bin_start": 1764513.5,
            "bin_end": 2111518,
            "count": 0
           },
           {
            "bin_start": 2111518,
            "bin_end": 2458522.5,
            "count": 0
           },
           {
            "bin_start": 2458522.5,
            "bin_end": 2805527,
            "count": 0
           },
           {
            "bin_start": 2805527,
            "bin_end": 3152531.5,
            "count": 3
           },
           {
            "bin_start": 3152531.5,
            "bin_end": 3499536,
            "count": 6
           }
          ]
         }
        },
        {
         "name": "thinness  1-19 years",
         "dtype": "float64",
         "stats": {
          "unique_count": 9,
          "nan_count": 0,
          "min": "2.6",
          "max": "3.4",
          "histogram": [
           {
            "bin_start": 2.6,
            "bin_end": 2.68,
            "count": 2
           },
           {
            "bin_start": 2.68,
            "bin_end": 2.7600000000000002,
            "count": 3
           },
           {
            "bin_start": 2.7600000000000002,
            "bin_end": 2.84,
            "count": 2
           },
           {
            "bin_start": 2.84,
            "bin_end": 2.92,
            "count": 2
           },
           {
            "bin_start": 2.92,
            "bin_end": 3,
            "count": 0
           },
           {
            "bin_start": 3,
            "bin_end": 3.08,
            "count": 2
           },
           {
            "bin_start": 3.08,
            "bin_end": 3.16,
            "count": 1
           },
           {
            "bin_start": 3.16,
            "bin_end": 3.24,
            "count": 1
           },
           {
            "bin_start": 3.24,
            "bin_end": 3.32,
            "count": 2
           },
           {
            "bin_start": 3.32,
            "bin_end": 3.4,
            "count": 1
           }
          ]
         }
        },
        {
         "name": "thinness 5-9 years",
         "dtype": "float64",
         "stats": {
          "unique_count": 9,
          "nan_count": 0,
          "min": "2.6",
          "max": "3.4",
          "histogram": [
           {
            "bin_start": 2.6,
            "bin_end": 2.68,
            "count": 1
           },
           {
            "bin_start": 2.68,
            "bin_end": 2.7600000000000002,
            "count": 3
           },
           {
            "bin_start": 2.7600000000000002,
            "bin_end": 2.84,
            "count": 2
           },
           {
            "bin_start": 2.84,
            "bin_end": 2.92,
            "count": 2
           },
           {
            "bin_start": 2.92,
            "bin_end": 3,
            "count": 0
           },
           {
            "bin_start": 3,
            "bin_end": 3.08,
            "count": 2
           },
           {
            "bin_start": 3.08,
            "bin_end": 3.16,
            "count": 2
           },
           {
            "bin_start": 3.16,
            "bin_end": 3.24,
            "count": 1
           },
           {
            "bin_start": 3.24,
            "bin_end": 3.32,
            "count": 2
           },
           {
            "bin_start": 3.32,
            "bin_end": 3.4,
            "count": 1
           }
          ]
         }
        },
        {
         "name": "income composition of resources",
         "dtype": "float64",
         "stats": {
          "unique_count": 16,
          "nan_count": 0,
          "min": "0.745",
          "max": "0.846",
          "histogram": [
           {
            "bin_start": 0.745,
            "bin_end": 0.7551,
            "count": 1
           },
           {
            "bin_start": 0.7551,
            "bin_end": 0.7652,
            "count": 1
           },
           {
            "bin_start": 0.7652,
            "bin_end": 0.7753,
            "count": 1
           },
           {
            "bin_start": 0.7753,
            "bin_end": 0.7854,
            "count": 1
           },
           {
            "bin_start": 0.7854,
            "bin_end": 0.7955,
            "count": 1
           },
           {
            "bin_start": 0.7955,
            "bin_end": 0.8056,
            "count": 1
           },
           {
            "bin_start": 0.8056,
            "bin_end": 0.8157,
            "count": 2
           },
           {
            "bin_start": 0.8157,
            "bin_end": 0.8258,
            "count": 3
           },
           {
            "bin_start": 0.8258,
            "bin_end": 0.8359,
            "count": 3
           },
           {
            "bin_start": 0.8359,
            "bin_end": 0.846,
            "count": 2
           }
          ]
         }
        },
        {
         "name": "schooling",
         "dtype": "float64",
         "stats": {
          "unique_count": 11,
          "nan_count": 0,
          "min": "14.0",
          "max": "16.8",
          "histogram": [
           {
            "bin_start": 14,
            "bin_end": 14.28,
            "count": 1
           },
           {
            "bin_start": 14.28,
            "bin_end": 14.56,
            "count": 0
           },
           {
            "bin_start": 14.56,
            "bin_end": 14.84,
            "count": 1
           },
           {
            "bin_start": 14.84,
            "bin_end": 15.120000000000001,
            "count": 0
           },
           {
            "bin_start": 15.120000000000001,
            "bin_end": 15.4,
            "count": 1
           },
           {
            "bin_start": 15.4,
            "bin_end": 15.68,
            "count": 0
           },
           {
            "bin_start": 15.68,
            "bin_end": 15.96,
            "count": 1
           },
           {
            "bin_start": 15.96,
            "bin_end": 16.240000000000002,
            "count": 1
           },
           {
            "bin_start": 16.240000000000002,
            "bin_end": 16.52,
            "count": 8
           },
           {
            "bin_start": 16.52,
            "bin_end": 16.8,
            "count": 3
           }
          ]
         }
        },
        {
         "name": "_deepnote_index_column",
         "dtype": "int64"
        }
       ],
       "rows": [
        {
         "country": "Lithuania",
         "year": 2015,
         "status": "Developed",
         "life expectancy": 73.6,
         "adult mortality": 165,
         "infant deaths": 0,
         "alcohol": "nan",
         "percentage expenditure": 0,
         "hepatitis b": 94,
         "measles": 50,
         "bmi": 62.4,
         "under-five deaths": 0,
         "polio": 93,
         "total expenditure": "nan",
         "diphtheria": 93,
         "hiv/aids": 0.1,
         "gdp": 14252.42853,
         "population": 29491,
         "thinness  1-19 years": 2.6,
         "thinness 5-9 years": 2.6,
         "income composition of resources": 0.846,
         "schooling": 16.5,
         "_deepnote_index_column": 1522
        },
        {
         "country": "Lithuania",
         "year": 2014,
         "status": "Developed",
         "life expectancy": 73.4,
         "adult mortality": 169,
         "infant deaths": 0,
         "alcohol": 15.19,
         "percentage expenditure": 2211.744178,
         "hepatitis b": 94,
         "measles": 11,
         "bmi": 61.9,
         "under-five deaths": 0,
         "polio": 93,
         "total expenditure": 6.55,
         "diphtheria": 93,
         "hiv/aids": 0.1,
         "gdp": 16554.97139,
         "population": 2932367,
         "thinness  1-19 years": 2.6,
         "thinness 5-9 years": 2.7,
         "income composition of resources": 0.841,
         "schooling": 16.5,
         "_deepnote_index_column": 1523
        },
        {
         "country": "Lithuania",
         "year": 2013,
         "status": "Developed",
         "life expectancy": 73,
         "adult mortality": 178,
         "infant deaths": 0,
         "alcohol": 15.04,
         "percentage expenditure": 1968.816817,
         "hepatitis b": 93,
         "measles": 35,
         "bmi": 61.4,
         "under-five deaths": 0,
         "polio": 93,
         "total expenditure": 6.59,
         "diphtheria": 93,
         "hiv/aids": 0.1,
         "gdp": 15712.82376,
         "population": 2957689,
         "thinness  1-19 years": 2.7,
         "thinness 5-9 years": 2.7,
         "income composition of resources": 0.834,
         "schooling": 16.4,
         "_deepnote_index_column": 1524
        },
        {
         "country": "Lithuania",
         "year": 2012,
         "status": "Developed",
         "life expectancy": 73,
         "adult mortality": 176,
         "infant deaths": 0,
         "alcohol": 15.14,
         "percentage expenditure": 1807.071336,
         "hepatitis b": 93,
         "measles": 0,
         "bmi": 6.9,
         "under-five deaths": 0,
         "polio": 93,
         "total expenditure": 6.67,
         "diphtheria": 93,
         "hiv/aids": 0.1,
         "gdp": 14341.836,
         "population": 2987773,
         "thinness  1-19 years": 2.7,
         "thinness 5-9 years": 2.7,
         "income composition of resources": 0.83,
         "schooling": 16.5,
         "_deepnote_index_column": 1525
        },
        {
         "country": "Lithuania",
         "year": 2011,
         "status": "Developed",
         "life expectancy": 72.8,
         "adult mortality": 18,
         "infant deaths": 0,
         "alcohol": 12.66,
         "percentage expenditure": 1758.822757,
         "hepatitis b": 95,
         "measles": 7,
         "bmi": 6.5,
         "under-five deaths": 0,
         "polio": 92,
         "total expenditure": 6.86,
         "diphtheria": 92,
         "hiv/aids": 0.1,
         "gdp": 14357.73679,
         "population": 328115,
         "thinness  1-19 years": 2.7,
         "thinness 5-9 years": 2.8,
         "income composition of resources": 0.826,
         "schooling": 16.7,
         "_deepnote_index_column": 1526
        },
        {
         "country": "Lithuania",
         "year": 2010,
         "status": "Developed",
         "life expectancy": 72.4,
         "adult mortality": 188,
         "infant deaths": 0,
         "alcohol": 12.9,
         "percentage expenditure": 1423.802386,
         "hepatitis b": 94,
         "measles": 2,
         "bmi": 6,
         "under-five deaths": 0,
         "polio": 95,
         "total expenditure": 7.9,
         "diphtheria": 95,
         "hiv/aids": 0.1,
         "gdp": 11984.86857,
         "population": 397282,
         "thinness  1-19 years": 2.8,
         "thinness 5-9 years": 2.8,
         "income composition of resources": 0.824,
         "schooling": 16.8,
         "_deepnote_index_column": 1527
        },
        {
         "country": "Lithuania",
         "year": 2009,
         "status": "Developed",
         "life expectancy": 72.2,
         "adult mortality": 192,
         "infant deaths": 0,
         "alcohol": 12.4,
         "percentage expenditure": 1446.529217,
         "hepatitis b": 95,
         "measles": 0,
         "bmi": 59.7,
         "under-five deaths": 0,
         "polio": 98,
         "total expenditure": 7.53,
         "diphtheria": 98,
         "hiv/aids": 0.1,
         "gdp": 11837.3913,
         "population": 3162916,
         "thinness  1-19 years": 2.8,
         "thinness 5-9 years": 2.9,
         "income composition of resources": 0.825,
         "schooling": 16.6,
         "_deepnote_index_column": 1528
        },
        {
         "country": "Lithuania",
         "year": 2008,
         "status": "Developed",
         "life expectancy": 71.1,
         "adult mortality": 224,
         "infant deaths": 0,
         "alcohol": 13.3,
         "percentage expenditure": 1888.149904,
         "hepatitis b": 96,
         "measles": 1,
         "bmi": 59.3,
         "under-five deaths": 0,
         "polio": 96,
         "total expenditure": 6.61,
         "diphtheria": 96,
         "hiv/aids": 0.1,
         "gdp": 14961.56818,
         "population": 3198231,
         "thinness  1-19 years": 2.9,
         "thinness 5-9 years": 2.9,
         "income composition of resources": 0.82,
         "schooling": 16.5,
         "_deepnote_index_column": 1529
        },
        {
         "country": "Lithuania",
         "year": 2007,
         "status": "Developed",
         "life expectancy": 72,
         "adult mortality": 24,
         "infant deaths": 0,
         "alcohol": 13.4,
         "percentage expenditure": 1581.511914,
         "hepatitis b": 96,
         "measles": 0,
         "bmi": 59,
         "under-five deaths": 0,
         "polio": 95,
         "total expenditure": 6.22,
         "diphtheria": 95,
         "hiv/aids": 0.1,
         "gdp": 12297.91535,
         "population": 3231294,
         "thinness  1-19 years": 2.9,
         "thinness 5-9 years": 3,
         "income composition of resources": 0.812,
         "schooling": 16.4,
         "_deepnote_index_column": 1530
        },
        {
         "country": "Lithuania",
         "year": 2006,
         "status": "Developed",
         "life expectancy": 76,
         "adult mortality": 229,
         "infant deaths": 0,
         "alcohol": 12.7,
         "percentage expenditure": 116.504961,
         "hepatitis b": 95,
         "measles": 1,
         "bmi": 58.7,
         "under-five deaths": 0,
         "polio": 94,
         "total expenditure": 6.2,
         "diphtheria": 94,
         "hiv/aids": 0.1,
         "gdp": 924.642548,
         "population": 326999,
         "thinness  1-19 years": 3,
         "thinness 5-9 years": 3,
         "income composition of resources": 0.807,
         "schooling": 16.4,
         "_deepnote_index_column": 1531
        }
       ]
      },
      "text/plain": "        country  year     status  life expectancy  adult mortality  \\\n1522  Lithuania  2015  Developed             73.6            165.0   \n1523  Lithuania  2014  Developed             73.4            169.0   \n1524  Lithuania  2013  Developed             73.0            178.0   \n1525  Lithuania  2012  Developed             73.0            176.0   \n1526  Lithuania  2011  Developed             72.8             18.0   \n1527  Lithuania  2010  Developed             72.4            188.0   \n1528  Lithuania  2009  Developed             72.2            192.0   \n1529  Lithuania  2008  Developed             71.1            224.0   \n1530  Lithuania  2007  Developed             72.0             24.0   \n1531  Lithuania  2006  Developed             76.0            229.0   \n1532  Lithuania  2005  Developed             78.0            222.0   \n1533  Lithuania  2004  Developed             71.6             24.0   \n1534  Lithuania  2003  Developed             71.6             22.0   \n1535  Lithuania  2002  Developed             71.4             22.0   \n1536  Lithuania  2001  Developed             71.2             21.0   \n1537  Lithuania  2000  Developed             71.6              2.0   \n\n      infant deaths  alcohol  percentage expenditure  hepatitis b  measles  \\\n1522              0      NaN                0.000000         94.0       50   \n1523              0    15.19             2211.744178         94.0       11   \n1524              0    15.04             1968.816817         93.0       35   \n1525              0    15.14             1807.071336         93.0        0   \n1526              0    12.66             1758.822757         95.0        7   \n1527              0    12.90             1423.802386         94.0        2   \n1528              0    12.40             1446.529217         95.0        0   \n1529              0    13.30             1888.149904         96.0        1   \n1530              0    13.40             1581.511914         96.0        0   \n1531              0    12.70              116.504961         95.0        1   \n1532              0    12.30              913.699529         95.0        1   \n1533              0    12.10               76.361877         94.0        1   \n1534              0    11.29               80.997101         95.0        1   \n1535              0    11.00              561.916864         94.0      103   \n1536              0    10.20               42.872087         95.0        7   \n1537              0     9.87              373.260553         98.0       19   \n\n      ...  polio  total expenditure  diphtheria  hiv/aids           gdp  \\\n1522  ...   93.0                NaN        93.0       0.1  14252.428530   \n1523  ...   93.0               6.55        93.0       0.1  16554.971390   \n1524  ...   93.0               6.59        93.0       0.1  15712.823760   \n1525  ...   93.0               6.67        93.0       0.1  14341.836000   \n1526  ...   92.0               6.86        92.0       0.1  14357.736790   \n1527  ...   95.0               7.90        95.0       0.1  11984.868570   \n1528  ...   98.0               7.53        98.0       0.1  11837.391300   \n1529  ...   96.0               6.61        96.0       0.1  14961.568180   \n1530  ...   95.0               6.22        95.0       0.1  12297.915350   \n1531  ...   94.0               6.20        94.0       0.1    924.642548   \n1532  ...   93.0               5.83        94.0       0.1   7863.162900   \n1533  ...    9.0               5.67        94.0       0.1    676.966998   \n1534  ...   91.0               6.46        94.0       0.1    555.535669   \n1535  ...   97.0               6.40        95.0       0.1   4146.987928   \n1536  ...   97.0               6.26        95.0       0.1    353.147337   \n1537  ...   92.0               6.46        94.0       0.1   3297.354710   \n\n      population  thinness  1-19 years  thinness 5-9 years  \\\n1522     29491.0                   2.6                 2.6   \n1523   2932367.0                   2.6                 2.7   \n1524   2957689.0                   2.7                 2.7   \n1525   2987773.0                   2.7                 2.7   \n1526    328115.0                   2.7                 2.8   \n1527    397282.0                   2.8                 2.8   \n1528   3162916.0                   2.8                 2.9   \n1529   3198231.0                   2.9                 2.9   \n1530   3231294.0                   2.9                 3.0   \n1531    326999.0                   3.0                 3.0   \n1532   3322528.0                   3.0                 3.1   \n1533    337775.0                   3.1                 3.1   \n1534   3415213.0                   3.2                 3.2   \n1535    344367.0                   3.3                 3.3   \n1536    347818.0                   3.3                 3.3   \n1537   3499536.0                   3.4                 3.4   \n\n      income composition of resources  schooling  \n1522                            0.846       16.5  \n1523                            0.841       16.5  \n1524                            0.834       16.4  \n1525                            0.830       16.5  \n1526                            0.826       16.7  \n1527                            0.824       16.8  \n1528                            0.825       16.6  \n1529                            0.820       16.5  \n1530                            0.812       16.4  \n1531                            0.807       16.4  \n1532                            0.798       16.2  \n1533                            0.792       16.3  \n1534                            0.780       15.8  \n1535                            0.770       15.3  \n1536                            0.757       14.7  \n1537                            0.745       14.0  \n\n[16 rows x 22 columns]",
      "text/html": "<div>\n<style scoped>\n    .dataframe tbody tr th:only-of-type {\n        vertical-align: middle;\n    }\n\n    .dataframe tbody tr th {\n        vertical-align: top;\n    }\n\n    .dataframe thead th {\n        text-align: right;\n    }\n</style>\n<table border=\"1\" class=\"dataframe\">\n  <thead>\n    <tr style=\"text-align: right;\">\n      <th></th>\n      <th>country</th>\n      <th>year</th>\n      <th>status</th>\n      <th>life expectancy</th>\n      <th>adult mortality</th>\n      <th>infant deaths</th>\n      <th>alcohol</th>\n      <th>percentage expenditure</th>\n      <th>hepatitis b</th>\n      <th>measles</th>\n      <th>...</th>\n      <th>polio</th>\n      <th>total expenditure</th>\n      <th>diphtheria</th>\n      <th>hiv/aids</th>\n      <th>gdp</th>\n      <th>population</th>\n      <th>thinness  1-19 years</th>\n      <th>thinness 5-9 years</th>\n      <th>income composition of resources</th>\n      <th>schooling</th>\n    </tr>\n  </thead>\n  <tbody>\n    <tr>\n      <th>1522</th>\n      <td>Lithuania</td>\n      <td>2015</td>\n      <td>Developed</td>\n      <td>73.6</td>\n      <td>165.0</td>\n      <td>0</td>\n      <td>NaN</td>\n      <td>0.000000</td>\n      <td>94.0</td>\n      <td>50</td>\n      <td>...</td>\n      <td>93.0</td>\n      <td>NaN</td>\n      <td>93.0</td>\n      <td>0.1</td>\n      <td>14252.428530</td>\n      <td>29491.0</td>\n      <td>2.6</td>\n      <td>2.6</td>\n      <td>0.846</td>\n      <td>16.5</td>\n    </tr>\n    <tr>\n      <th>1523</th>\n      <td>Lithuania</td>\n      <td>2014</td>\n      <td>Developed</td>\n      <td>73.4</td>\n      <td>169.0</td>\n      <td>0</td>\n      <td>15.19</td>\n      <td>2211.744178</td>\n      <td>94.0</td>\n      <td>11</td>\n      <td>...</td>\n      <td>93.0</td>\n      <td>6.55</td>\n      <td>93.0</td>\n      <td>0.1</td>\n      <td>16554.971390</td>\n      <td>2932367.0</td>\n      <td>2.6</td>\n      <td>2.7</td>\n      <td>0.841</td>\n      <td>16.5</td>\n    </tr>\n    <tr>\n      <th>1524</th>\n      <td>Lithuania</td>\n      <td>2013</td>\n      <td>Developed</td>\n      <td>73.0</td>\n      <td>178.0</td>\n      <td>0</td>\n      <td>15.04</td>\n      <td>1968.816817</td>\n      <td>93.0</td>\n      <td>35</td>\n      <td>...</td>\n      <td>93.0</td>\n      <td>6.59</td>\n      <td>93.0</td>\n      <td>0.1</td>\n      <td>15712.823760</td>\n      <td>2957689.0</td>\n      <td>2.7</td>\n      <td>2.7</td>\n      <td>0.834</td>\n      <td>16.4</td>\n    </tr>\n    <tr>\n      <th>1525</th>\n      <td>Lithuania</td>\n      <td>2012</td>\n      <td>Developed</td>\n      <td>73.0</td>\n      <td>176.0</td>\n      <td>0</td>\n      <td>15.14</td>\n      <td>1807.071336</td>\n      <td>93.0</td>\n      <td>0</td>\n      <td>...</td>\n      <td>93.0</td>\n      <td>6.67</td>\n      <td>93.0</td>\n      <td>0.1</td>\n      <td>14341.836000</td>\n      <td>2987773.0</td>\n      <td>2.7</td>\n      <td>2.7</td>\n      <td>0.830</td>\n      <td>16.5</td>\n    </tr>\n    <tr>\n      <th>1526</th>\n      <td>Lithuania</td>\n      <td>2011</td>\n      <td>Developed</td>\n      <td>72.8</td>\n      <td>18.0</td>\n      <td>0</td>\n      <td>12.66</td>\n      <td>1758.822757</td>\n      <td>95.0</td>\n      <td>7</td>\n      <td>...</td>\n      <td>92.0</td>\n      <td>6.86</td>\n      <td>92.0</td>\n      <td>0.1</td>\n      <td>14357.736790</td>\n      <td>328115.0</td>\n      <td>2.7</td>\n      <td>2.8</td>\n      <td>0.826</td>\n      <td>16.7</td>\n    </tr>\n    <tr>\n      <th>1527</th>\n      <td>Lithuania</td>\n      <td>2010</td>\n      <td>Developed</td>\n      <td>72.4</td>\n      <td>188.0</td>\n      <td>0</td>\n      <td>12.90</td>\n      <td>1423.802386</td>\n      <td>94.0</td>\n      <td>2</td>\n      <td>...</td>\n      <td>95.0</td>\n      <td>7.90</td>\n      <td>95.0</td>\n      <td>0.1</td>\n      <td>11984.868570</td>\n      <td>397282.0</td>\n      <td>2.8</td>\n      <td>2.8</td>\n      <td>0.824</td>\n      <td>16.8</td>\n    </tr>\n    <tr>\n      <th>1528</th>\n      <td>Lithuania</td>\n      <td>2009</td>\n      <td>Developed</td>\n      <td>72.2</td>\n      <td>192.0</td>\n      <td>0</td>\n      <td>12.40</td>\n      <td>1446.529217</td>\n      <td>95.0</td>\n      <td>0</td>\n      <td>...</td>\n      <td>98.0</td>\n      <td>7.53</td>\n      <td>98.0</td>\n      <td>0.1</td>\n      <td>11837.391300</td>\n      <td>3162916.0</td>\n      <td>2.8</td>\n      <td>2.9</td>\n      <td>0.825</td>\n      <td>16.6</td>\n    </tr>\n    <tr>\n      <th>1529</th>\n      <td>Lithuania</td>\n      <td>2008</td>\n      <td>Developed</td>\n      <td>71.1</td>\n      <td>224.0</td>\n      <td>0</td>\n      <td>13.30</td>\n      <td>1888.149904</td>\n      <td>96.0</td>\n      <td>1</td>\n      <td>...</td>\n      <td>96.0</td>\n      <td>6.61</td>\n      <td>96.0</td>\n      <td>0.1</td>\n      <td>14961.568180</td>\n      <td>3198231.0</td>\n      <td>2.9</td>\n      <td>2.9</td>\n      <td>0.820</td>\n      <td>16.5</td>\n    </tr>\n    <tr>\n      <th>1530</th>\n      <td>Lithuania</td>\n      <td>2007</td>\n      <td>Developed</td>\n      <td>72.0</td>\n      <td>24.0</td>\n      <td>0</td>\n      <td>13.40</td>\n      <td>1581.511914</td>\n      <td>96.0</td>\n      <td>0</td>\n      <td>...</td>\n      <td>95.0</td>\n      <td>6.22</td>\n      <td>95.0</td>\n      <td>0.1</td>\n      <td>12297.915350</td>\n      <td>3231294.0</td>\n      <td>2.9</td>\n      <td>3.0</td>\n      <td>0.812</td>\n      <td>16.4</td>\n    </tr>\n    <tr>\n      <th>1531</th>\n      <td>Lithuania</td>\n      <td>2006</td>\n      <td>Developed</td>\n      <td>76.0</td>\n      <td>229.0</td>\n      <td>0</td>\n      <td>12.70</td>\n      <td>116.504961</td>\n      <td>95.0</td>\n      <td>1</td>\n      <td>...</td>\n      <td>94.0</td>\n      <td>6.20</td>\n      <td>94.0</td>\n      <td>0.1</td>\n      <td>924.642548</td>\n      <td>326999.0</td>\n      <td>3.0</td>\n      <td>3.0</td>\n      <td>0.807</td>\n      <td>16.4</td>\n    </tr>\n    <tr>\n      <th>1532</th>\n      <td>Lithuania</td>\n      <td>2005</td>\n      <td>Developed</td>\n      <td>78.0</td>\n      <td>222.0</td>\n      <td>0</td>\n      <td>12.30</td>\n      <td>913.699529</td>\n      <td>95.0</td>\n      <td>1</td>\n      <td>...</td>\n      <td>93.0</td>\n      <td>5.83</td>\n      <td>94.0</td>\n      <td>0.1</td>\n      <td>7863.162900</td>\n      <td>3322528.0</td>\n      <td>3.0</td>\n      <td>3.1</td>\n      <td>0.798</td>\n      <td>16.2</td>\n    </tr>\n    <tr>\n      <th>1533</th>\n      <td>Lithuania</td>\n      <td>2004</td>\n      <td>Developed</td>\n      <td>71.6</td>\n      <td>24.0</td>\n      <td>0</td>\n      <td>12.10</td>\n      <td>76.361877</td>\n      <td>94.0</td>\n      <td>1</td>\n      <td>...</td>\n      <td>9.0</td>\n      <td>5.67</td>\n      <td>94.0</td>\n      <td>0.1</td>\n      <td>676.966998</td>\n      <td>337775.0</td>\n      <td>3.1</td>\n      <td>3.1</td>\n      <td>0.792</td>\n      <td>16.3</td>\n    </tr>\n    <tr>\n      <th>1534</th>\n      <td>Lithuania</td>\n      <td>2003</td>\n      <td>Developed</td>\n      <td>71.6</td>\n      <td>22.0</td>\n      <td>0</td>\n      <td>11.29</td>\n      <td>80.997101</td>\n      <td>95.0</td>\n      <td>1</td>\n      <td>...</td>\n      <td>91.0</td>\n      <td>6.46</td>\n      <td>94.0</td>\n      <td>0.1</td>\n      <td>555.535669</td>\n      <td>3415213.0</td>\n      <td>3.2</td>\n      <td>3.2</td>\n      <td>0.780</td>\n      <td>15.8</td>\n    </tr>\n    <tr>\n      <th>1535</th>\n      <td>Lithuania</td>\n      <td>2002</td>\n      <td>Developed</td>\n      <td>71.4</td>\n      <td>22.0</td>\n      <td>0</td>\n      <td>11.00</td>\n      <td>561.916864</td>\n      <td>94.0</td>\n      <td>103</td>\n      <td>...</td>\n      <td>97.0</td>\n      <td>6.40</td>\n      <td>95.0</td>\n      <td>0.1</td>\n      <td>4146.987928</td>\n      <td>344367.0</td>\n      <td>3.3</td>\n      <td>3.3</td>\n      <td>0.770</td>\n      <td>15.3</td>\n    </tr>\n    <tr>\n      <th>1536</th>\n      <td>Lithuania</td>\n      <td>2001</td>\n      <td>Developed</td>\n      <td>71.2</td>\n      <td>21.0</td>\n      <td>0</td>\n      <td>10.20</td>\n      <td>42.872087</td>\n      <td>95.0</td>\n      <td>7</td>\n      <td>...</td>\n      <td>97.0</td>\n      <td>6.26</td>\n      <td>95.0</td>\n      <td>0.1</td>\n      <td>353.147337</td>\n      <td>347818.0</td>\n      <td>3.3</td>\n      <td>3.3</td>\n      <td>0.757</td>\n      <td>14.7</td>\n    </tr>\n    <tr>\n      <th>1537</th>\n      <td>Lithuania</td>\n      <td>2000</td>\n      <td>Developed</td>\n      <td>71.6</td>\n      <td>2.0</td>\n      <td>0</td>\n      <td>9.87</td>\n      <td>373.260553</td>\n      <td>98.0</td>\n      <td>19</td>\n      <td>...</td>\n      <td>92.0</td>\n      <td>6.46</td>\n      <td>94.0</td>\n      <td>0.1</td>\n      <td>3297.354710</td>\n      <td>3499536.0</td>\n      <td>3.4</td>\n      <td>3.4</td>\n      <td>0.745</td>\n      <td>14.0</td>\n    </tr>\n  </tbody>\n</table>\n<p>16 rows × 22 columns</p>\n</div>"
     },
     "metadata": {}
    }
   ]
  },
  {
   "cell_type": "code",
   "metadata": {
    "cell_id": "00008-7bf8329f-06d0-4129-ba44-0e1497a458ae",
    "deepnote_output_heights": [
     281
    ],
    "deepnote_to_be_reexecuted": false,
    "source_hash": "f88152d9",
    "execution_start": 1644755672522,
    "execution_millis": 672,
    "deepnote_cell_type": "code"
   },
   "source": "df.describe()",
   "execution_count": null,
   "outputs": [
    {
     "output_type": "execute_result",
     "execution_count": 7,
     "data": {
      "application/vnd.deepnote.dataframe.v3+json": {
       "column_count": 20,
       "row_count": 8,
       "columns": [
        {
         "name": "year",
         "dtype": "float64",
         "stats": {
          "unique_count": 8,
          "nan_count": 0,
          "min": "4.613840940258097",
          "max": "2938.0",
          "histogram": [
           {
            "bin_start": 4.613840940258097,
            "bin_end": 297.95245684623234,
            "count": 1
           },
           {
            "bin_start": 297.95245684623234,
            "bin_end": 591.2910727522066,
            "count": 0
           },
           {
            "bin_start": 591.2910727522066,
            "bin_end": 884.6296886581808,
            "count": 0
           },
           {
            "bin_start": 884.6296886581808,
            "bin_end": 1177.968304564155,
            "count": 0
           },
           {
            "bin_start": 1177.968304564155,
            "bin_end": 1471.3069204701292,
            "count": 0
           },
           {
            "bin_start": 1471.3069204701292,
            "bin_end": 1764.6455363761036,
            "count": 0
           },
           {
            "bin_start": 1764.6455363761036,
            "bin_end": 2057.9841522820775,
            "count": 6
           },
           {
            "bin_start": 2057.9841522820775,
            "bin_end": 2351.3227681880517,
            "count": 0
           },
           {
            "bin_start": 2351.3227681880517,
            "bin_end": 2644.661384094026,
            "count": 0
           },
           {
            "bin_start": 2644.661384094026,
            "bin_end": 2938,
            "count": 1
           }
          ]
         }
        },
        {
         "name": "life expectancy",
         "dtype": "float64",
         "stats": {
          "unique_count": 8,
          "nan_count": 0,
          "min": "9.523867487824301",
          "max": "2928.0",
          "histogram": [
           {
            "bin_start": 9.523867487824301,
            "bin_end": 301.3714807390419,
            "count": 7
           },
           {
            "bin_start": 301.3714807390419,
            "bin_end": 593.2190939902595,
            "count": 0
           },
           {
            "bin_start": 593.2190939902595,
            "bin_end": 885.066707241477,
            "count": 0
           },
           {
            "bin_start": 885.066707241477,
            "bin_end": 1176.9143204926945,
            "count": 0
           },
           {
            "bin_start": 1176.9143204926945,
            "bin_end": 1468.761933743912,
            "count": 0
           },
           {
            "bin_start": 1468.761933743912,
            "bin_end": 1760.6095469951297,
            "count": 0
           },
           {
            "bin_start": 1760.6095469951297,
            "bin_end": 2052.4571602463475,
            "count": 0
           },
           {
            "bin_start": 2052.4571602463475,
            "bin_end": 2344.304773497565,
            "count": 0
           },
           {
            "bin_start": 2344.304773497565,
            "bin_end": 2636.1523867487826,
            "count": 0
           },
           {
            "bin_start": 2636.1523867487826,
            "bin_end": 2928,
            "count": 1
           }
          ]
         }
        },
        {
         "name": "adult mortality",
         "dtype": "float64",
         "stats": {
          "unique_count": 8,
          "nan_count": 0,
          "min": "1.0",
          "max": "2928.0",
          "histogram": [
           {
            "bin_start": 1,
            "bin_end": 293.7,
            "count": 6
           },
           {
            "bin_start": 293.7,
            "bin_end": 586.4,
            "count": 0
           },
           {
            "bin_start": 586.4,
            "bin_end": 879.0999999999999,
            "count": 1
           },
           {
            "bin_start": 879.0999999999999,
            "bin_end": 1171.8,
            "count": 0
           },
           {
            "bin_start": 1171.8,
            "bin_end": 1464.5,
            "count": 0
           },
           {
            "bin_start": 1464.5,
            "bin_end": 1757.1999999999998,
            "count": 0
           },
           {
            "bin_start": 1757.1999999999998,
            "bin_end": 2049.9,
            "count": 0
           },
           {
            "bin_start": 2049.9,
            "bin_end": 2342.6,
            "count": 0
           },
           {
            "bin_start": 2342.6,
            "bin_end": 2635.2999999999997,
            "count": 0
           },
           {
            "bin_start": 2635.2999999999997,
            "bin_end": 2928,
            "count": 1
           }
          ]
         }
        },
        {
         "name": "infant deaths",
         "dtype": "float64",
         "stats": {
          "unique_count": 7,
          "nan_count": 0,
          "min": "0.0",
          "max": "2938.0",
          "histogram": [
           {
            "bin_start": 0,
            "bin_end": 293.8,
            "count": 6
           },
           {
            "bin_start": 293.8,
            "bin_end": 587.6,
            "count": 0
           },
           {
            "bin_start": 587.6,
            "bin_end": 881.4000000000001,
            "count": 0
           },
           {
            "bin_start": 881.4000000000001,
            "bin_end": 1175.2,
            "count": 0
           },
           {
            "bin_start": 1175.2,
            "bin_end": 1469,
            "count": 0
           },
           {
            "bin_start": 1469,
            "bin_end": 1762.8000000000002,
            "count": 0
           },
           {
            "bin_start": 1762.8000000000002,
            "bin_end": 2056.6,
            "count": 1
           },
           {
            "bin_start": 2056.6,
            "bin_end": 2350.4,
            "count": 0
           },
           {
            "bin_start": 2350.4,
            "bin_end": 2644.2000000000003,
            "count": 0
           },
           {
            "bin_start": 2644.2000000000003,
            "bin_end": 2938,
            "count": 1
           }
          ]
         }
        },
        {
         "name": "alcohol",
         "dtype": "float64",
         "stats": {
          "unique_count": 8,
          "nan_count": 0,
          "min": "0.01",
          "max": "2744.0",
          "histogram": [
           {
            "bin_start": 0.01,
            "bin_end": 274.409,
            "count": 7
           },
           {
            "bin_start": 274.409,
            "bin_end": 548.808,
            "count": 0
           },
           {
            "bin_start": 548.808,
            "bin_end": 823.207,
            "count": 0
           },
           {
            "bin_start": 823.207,
            "bin_end": 1097.606,
            "count": 0
           },
           {
            "bin_start": 1097.606,
            "bin_end": 1372.0049999999999,
            "count": 0
           },
           {
            "bin_start": 1372.0049999999999,
            "bin_end": 1646.404,
            "count": 0
           },
           {
            "bin_start": 1646.404,
            "bin_end": 1920.803,
            "count": 0
           },
           {
            "bin_start": 1920.803,
            "bin_end": 2195.202,
            "count": 0
           },
           {
            "bin_start": 2195.202,
            "bin_end": 2469.601,
            "count": 0
           },
           {
            "bin_start": 2469.601,
            "bin_end": 2744,
            "count": 1
           }
          ]
         }
        },
        {
         "name": "percentage expenditure",
         "dtype": "float64",
         "stats": {
          "unique_count": 8,
          "nan_count": 0,
          "min": "0.0",
          "max": "19479.91161",
          "histogram": [
           {
            "bin_start": 0,
            "bin_end": 1947.991161,
            "count": 5
           },
           {
            "bin_start": 1947.991161,
            "bin_end": 3895.982322,
            "count": 2
           },
           {
            "bin_start": 3895.982322,
            "bin_end": 5843.973483,
            "count": 0
           },
           {
            "bin_start": 5843.973483,
            "bin_end": 7791.964644,
            "count": 0
           },
           {
            "bin_start": 7791.964644,
            "bin_end": 9739.955805,
            "count": 0
           },
           {
            "bin_start": 9739.955805,
            "bin_end": 11687.946966,
            "count": 0
           },
           {
            "bin_start": 11687.946966,
            "bin_end": 13635.938127,
            "count": 0
           },
           {
            "bin_start": 13635.938127,
            "bin_end": 15583.929288,
            "count": 0
           },
           {
            "bin_start": 15583.929288,
            "bin_end": 17531.920448999997,
            "count": 0
           },
           {
            "bin_start": 17531.920448999997,
            "bin_end": 19479.91161,
            "count": 1
           }
          ]
         }
        },
        {
         "name": "hepatitis b",
         "dtype": "float64",
         "stats": {
          "unique_count": 8,
          "nan_count": 0,
          "min": "1.0",
          "max": "2385.0",
          "histogram": [
           {
            "bin_start": 1,
            "bin_end": 239.4,
            "count": 7
           },
           {
            "bin_start": 239.4,
            "bin_end": 477.8,
            "count": 0
           },
           {
            "bin_start": 477.8,
            "bin_end": 716.2,
            "count": 0
           },
           {
            "bin_start": 716.2,
            "bin_end": 954.6,
            "count": 0
           },
           {
            "bin_start": 954.6,
            "bin_end": 1193,
            "count": 0
           },
           {
            "bin_start": 1193,
            "bin_end": 1431.4,
            "count": 0
           },
           {
            "bin_start": 1431.4,
            "bin_end": 1669.8,
            "count": 0
           },
           {
            "bin_start": 1669.8,
            "bin_end": 1908.2,
            "count": 0
           },
           {
            "bin_start": 1908.2,
            "bin_end": 2146.6,
            "count": 0
           },
           {
            "bin_start": 2146.6,
            "bin_end": 2385,
            "count": 1
           }
          ]
         }
        },
        {
         "name": "measles",
         "dtype": "float64",
         "stats": {
          "unique_count": 7,
          "nan_count": 0,
          "min": "0.0",
          "max": "212183.0",
          "histogram": [
           {
            "bin_start": 0,
            "bin_end": 21218.3,
            "count": 7
           },
           {
            "bin_start": 21218.3,
            "bin_end": 42436.6,
            "count": 0
           },
           {
            "bin_start": 42436.6,
            "bin_end": 63654.899999999994,
            "count": 0
           },
           {
            "bin_start": 63654.899999999994,
            "bin_end": 84873.2,
            "count": 0
           },
           {
            "bin_start": 84873.2,
            "bin_end": 106091.5,
            "count": 0
           },
           {
            "bin_start": 106091.5,
            "bin_end": 127309.79999999999,
            "count": 0
           },
           {
            "bin_start": 127309.79999999999,
            "bin_end": 148528.1,
            "count": 0
           },
           {
            "bin_start": 148528.1,
            "bin_end": 169746.4,
            "count": 0
           },
           {
            "bin_start": 169746.4,
            "bin_end": 190964.69999999998,
            "count": 0
           },
           {
            "bin_start": 190964.69999999998,
            "bin_end": 212183,
            "count": 1
           }
          ]
         }
        },
        {
         "name": "bmi",
         "dtype": "float64",
         "stats": {
          "unique_count": 8,
          "nan_count": 0,
          "min": "1.0",
          "max": "2904.0",
          "histogram": [
           {
            "bin_start": 1,
            "bin_end": 291.3,
            "count": 7
           },
           {
            "bin_start": 291.3,
            "bin_end": 581.6,
            "count": 0
           },
           {
            "bin_start": 581.6,
            "bin_end": 871.9000000000001,
            "count": 0
           },
           {
            "bin_start": 871.9000000000001,
            "bin_end": 1162.2,
            "count": 0
           },
           {
            "bin_start": 1162.2,
            "bin_end": 1452.5,
            "count": 0
           },
           {
            "bin_start": 1452.5,
            "bin_end": 1742.8000000000002,
            "count": 0
           },
           {
            "bin_start": 1742.8000000000002,
            "bin_end": 2033.1000000000001,
            "count": 0
           },
           {
            "bin_start": 2033.1000000000001,
            "bin_end": 2323.4,
            "count": 0
           },
           {
            "bin_start": 2323.4,
            "bin_end": 2613.7000000000003,
            "count": 0
           },
           {
            "bin_start": 2613.7000000000003,
            "bin_end": 2904,
            "count": 1
           }
          ]
         }
        },
        {
         "name": "under-five deaths",
         "dtype": "float64",
         "stats": {
          "unique_count": 7,
          "nan_count": 0,
          "min": "0.0",
          "max": "2938.0",
          "histogram": [
           {
            "bin_start": 0,
            "bin_end": 293.8,
            "count": 6
           },
           {
            "bin_start": 293.8,
            "bin_end": 587.6,
            "count": 0
           },
           {
            "bin_start": 587.6,
            "bin_end": 881.4000000000001,
            "count": 0
           },
           {
            "bin_start": 881.4000000000001,
            "bin_end": 1175.2,
            "count": 0
           },
           {
            "bin_start": 1175.2,
            "bin_end": 1469,
            "count": 0
           },
           {
            "bin_start": 1469,
            "bin_end": 1762.8000000000002,
            "count": 0
           },
           {
            "bin_start": 1762.8000000000002,
            "bin_end": 2056.6,
            "count": 0
           },
           {
            "bin_start": 2056.6,
            "bin_end": 2350.4,
            "count": 0
           },
           {
            "bin_start": 2350.4,
            "bin_end": 2644.2000000000003,
            "count": 1
           },
           {
            "bin_start": 2644.2000000000003,
            "bin_end": 2938,
            "count": 1
           }
          ]
         }
        },
        {
         "name": "polio",
         "dtype": "float64",
         "stats": {
          "unique_count": 8,
          "nan_count": 0,
          "min": "3.0",
          "max": "2919.0",
          "histogram": [
           {
            "bin_start": 3,
            "bin_end": 294.6,
            "count": 7
           },
           {
            "bin_start": 294.6,
            "bin_end": 586.2,
            "count": 0
           },
           {
            "bin_start": 586.2,
            "bin_end": 877.8000000000001,
            "count": 0
           },
           {
            "bin_start": 877.8000000000001,
            "bin_end": 1169.4,
            "count": 0
           },
           {
            "bin_start": 1169.4,
            "bin_end": 1461,
            "count": 0
           },
           {
            "bin_start": 1461,
            "bin_end": 1752.6000000000001,
            "count": 0
           },
           {
            "bin_start": 1752.6000000000001,
            "bin_end": 2044.2000000000003,
            "count": 0
           },
           {
            "bin_start": 2044.2000000000003,
            "bin_end": 2335.8,
            "count": 0
           },
           {
            "bin_start": 2335.8,
            "bin_end": 2627.4,
            "count": 0
           },
           {
            "bin_start": 2627.4,
            "bin_end": 2919,
            "count": 1
           }
          ]
         }
        },
        {
         "name": "total expenditure",
         "dtype": "float64",
         "stats": {
          "unique_count": 8,
          "nan_count": 0,
          "min": "0.37",
          "max": "2712.0",
          "histogram": [
           {
            "bin_start": 0.37,
            "bin_end": 271.533,
            "count": 7
           },
           {
            "bin_start": 271.533,
            "bin_end": 542.696,
            "count": 0
           },
           {
            "bin_start": 542.696,
            "bin_end": 813.859,
            "count": 0
           },
           {
            "bin_start": 813.859,
            "bin_end": 1085.022,
            "count": 0
           },
           {
            "bin_start": 1085.022,
            "bin_end": 1356.185,
            "count": 0
           },
           {
            "bin_start": 1356.185,
            "bin_end": 1627.348,
            "count": 0
           },
           {
            "bin_start": 1627.348,
            "bin_end": 1898.511,
            "count": 0
           },
           {
            "bin_start": 1898.511,
            "bin_end": 2169.674,
            "count": 0
           },
           {
            "bin_start": 2169.674,
            "bin_end": 2440.837,
            "count": 0
           },
           {
            "bin_start": 2440.837,
            "bin_end": 2712,
            "count": 1
           }
          ]
         }
        },
        {
         "name": "diphtheria",
         "dtype": "float64",
         "stats": {
          "unique_count": 8,
          "nan_count": 0,
          "min": "2.0",
          "max": "2919.0",
          "histogram": [
           {
            "bin_start": 2,
            "bin_end": 293.7,
            "count": 7
           },
           {
            "bin_start": 293.7,
            "bin_end": 585.4,
            "count": 0
           },
           {
            "bin_start": 585.4,
            "bin_end": 877.0999999999999,
            "count": 0
           },
           {
            "bin_start": 877.0999999999999,
            "bin_end": 1168.8,
            "count": 0
           },
           {
            "bin_start": 1168.8,
            "bin_end": 1460.5,
            "count": 0
           },
           {
            "bin_start": 1460.5,
            "bin_end": 1752.1999999999998,
            "count": 0
           },
           {
            "bin_start": 1752.1999999999998,
            "bin_end": 2043.8999999999999,
            "count": 0
           },
           {
            "bin_start": 2043.8999999999999,
            "bin_end": 2335.6,
            "count": 0
           },
           {
            "bin_start": 2335.6,
            "bin_end": 2627.2999999999997,
            "count": 0
           },
           {
            "bin_start": 2627.2999999999997,
            "bin_end": 2919,
            "count": 1
           }
          ]
         }
        },
        {
         "name": "hiv/aids",
         "dtype": "float64",
         "stats": {
          "unique_count": 6,
          "nan_count": 0,
          "min": "0.1",
          "max": "2938.0",
          "histogram": [
           {
            "bin_start": 0.1,
            "bin_end": 293.89000000000004,
            "count": 7
           },
           {
            "bin_start": 293.89000000000004,
            "bin_end": 587.6800000000001,
            "count": 0
           },
           {
            "bin_start": 587.6800000000001,
            "bin_end": 881.4700000000001,
            "count": 0
           },
           {
            "bin_start": 881.4700000000001,
            "bin_end": 1175.26,
            "count": 0
           },
           {
            "bin_start": 1175.26,
            "bin_end": 1469.05,
            "count": 0
           },
           {
            "bin_start": 1469.05,
            "bin_end": 1762.8400000000001,
            "count": 0
           },
           {
            "bin_start": 1762.8400000000001,
            "bin_end": 2056.63,
            "count": 0
           },
           {
            "bin_start": 2056.63,
            "bin_end": 2350.42,
            "count": 0
           },
           {
            "bin_start": 2350.42,
            "bin_end": 2644.21,
            "count": 0
           },
           {
            "bin_start": 2644.21,
            "bin_end": 2938,
            "count": 1
           }
          ]
         }
        },
        {
         "name": "gdp",
         "dtype": "float64",
         "stats": {
          "unique_count": 8,
          "nan_count": 0,
          "min": "1.68135",
          "max": "119172.7418",
          "histogram": [
           {
            "bin_start": 1.68135,
            "bin_end": 11918.787395000001,
            "count": 6
           },
           {
            "bin_start": 11918.787395000001,
            "bin_end": 23835.89344,
            "count": 1
           },
           {
            "bin_start": 23835.89344,
            "bin_end": 35752.999485,
            "count": 0
           },
           {
            "bin_start": 35752.999485,
            "bin_end": 47670.10553,
            "count": 0
           },
           {
            "bin_start": 47670.10553,
            "bin_end": 59587.211575,
            "count": 0
           },
           {
            "bin_start": 59587.211575,
            "bin_end": 71504.31762,
            "count": 0
           },
           {
            "bin_start": 71504.31762,
            "bin_end": 83421.42366500001,
            "count": 0
           },
           {
            "bin_start": 83421.42366500001,
            "bin_end": 95338.52971,
            "count": 0
           },
           {
            "bin_start": 95338.52971,
            "bin_end": 107255.635755,
            "count": 0
           },
           {
            "bin_start": 107255.635755,
            "bin_end": 119172.7418,
            "count": 1
           }
          ]
         }
        },
        {
         "name": "population",
         "dtype": "float64",
         "stats": {
          "unique_count": 8,
          "nan_count": 0,
          "min": "34.0",
          "max": "1293859294.0",
          "histogram": [
           {
            "bin_start": 34,
            "bin_end": 129385960,
            "count": 7
           },
           {
            "bin_start": 129385960,
            "bin_end": 258771886,
            "count": 0
           },
           {
            "bin_start": 258771886,
            "bin_end": 388157812,
            "count": 0
           },
           {
            "bin_start": 388157812,
            "bin_end": 517543738,
            "count": 0
           },
           {
            "bin_start": 517543738,
            "bin_end": 646929664,
            "count": 0
           },
           {
            "bin_start": 646929664,
            "bin_end": 776315590,
            "count": 0
           },
           {
            "bin_start": 776315590,
            "bin_end": 905701516,
            "count": 0
           },
           {
            "bin_start": 905701516,
            "bin_end": 1035087442,
            "count": 0
           },
           {
            "bin_start": 1035087442,
            "bin_end": 1164473368,
            "count": 0
           },
           {
            "bin_start": 1164473368,
            "bin_end": 1293859294,
            "count": 1
           }
          ]
         }
        },
        {
         "name": "thinness  1-19 years",
         "dtype": "float64",
         "stats": {
          "unique_count": 8,
          "nan_count": 0,
          "min": "0.1",
          "max": "2904.0",
          "histogram": [
           {
            "bin_start": 0.1,
            "bin_end": 290.49,
            "count": 7
           },
           {
            "bin_start": 290.49,
            "bin_end": 580.88,
            "count": 0
           },
           {
            "bin_start": 580.88,
            "bin_end": 871.27,
            "count": 0
           },
           {
            "bin_start": 871.27,
            "bin_end": 1161.6599999999999,
            "count": 0
           },
           {
            "bin_start": 1161.6599999999999,
            "bin_end": 1452.0499999999997,
            "count": 0
           },
           {
            "bin_start": 1452.0499999999997,
            "bin_end": 1742.4399999999998,
            "count": 0
           },
           {
            "bin_start": 1742.4399999999998,
            "bin_end": 2032.83,
            "count": 0
           },
           {
            "bin_start": 2032.83,
            "bin_end": 2323.22,
            "count": 0
           },
           {
            "bin_start": 2323.22,
            "bin_end": 2613.6099999999997,
            "count": 0
           },
           {
            "bin_start": 2613.6099999999997,
            "bin_end": 2904,
            "count": 1
           }
          ]
         }
        },
        {
         "name": "thinness 5-9 years",
         "dtype": "float64",
         "stats": {
          "unique_count": 8,
          "nan_count": 0,
          "min": "0.1",
          "max": "2904.0",
          "histogram": [
           {
            "bin_start": 0.1,
            "bin_end": 290.49,
            "count": 7
           },
           {
            "bin_start": 290.49,
            "bin_end": 580.88,
            "count": 0
           },
           {
            "bin_start": 580.88,
            "bin_end": 871.27,
            "count": 0
           },
           {
            "bin_start": 871.27,
            "bin_end": 1161.6599999999999,
            "count": 0
           },
           {
            "bin_start": 1161.6599999999999,
            "bin_end": 1452.0499999999997,
            "count": 0
           },
           {
            "bin_start": 1452.0499999999997,
            "bin_end": 1742.4399999999998,
            "count": 0
           },
           {
            "bin_start": 1742.4399999999998,
            "bin_end": 2032.83,
            "count": 0
           },
           {
            "bin_start": 2032.83,
            "bin_end": 2323.22,
            "count": 0
           },
           {
            "bin_start": 2323.22,
            "bin_end": 2613.6099999999997,
            "count": 0
           },
           {
            "bin_start": 2613.6099999999997,
            "bin_end": 2904,
            "count": 1
           }
          ]
         }
        },
        {
         "name": "income composition of resources",
         "dtype": "float64",
         "stats": {
          "unique_count": 8,
          "nan_count": 0,
          "min": "0.0",
          "max": "2771.0",
          "histogram": [
           {
            "bin_start": 0,
            "bin_end": 277.1,
            "count": 7
           },
           {
            "bin_start": 277.1,
            "bin_end": 554.2,
            "count": 0
           },
           {
            "bin_start": 554.2,
            "bin_end": 831.3000000000001,
            "count": 0
           },
           {
            "bin_start": 831.3000000000001,
            "bin_end": 1108.4,
            "count": 0
           },
           {
            "bin_start": 1108.4,
            "bin_end": 1385.5,
            "count": 0
           },
           {
            "bin_start": 1385.5,
            "bin_end": 1662.6000000000001,
            "count": 0
           },
           {
            "bin_start": 1662.6000000000001,
            "bin_end": 1939.7000000000003,
            "count": 0
           },
           {
            "bin_start": 1939.7000000000003,
            "bin_end": 2216.8,
            "count": 0
           },
           {
            "bin_start": 2216.8,
            "bin_end": 2493.9,
            "count": 0
           },
           {
            "bin_start": 2493.9,
            "bin_end": 2771,
            "count": 1
           }
          ]
         }
        },
        {
         "name": "schooling",
         "dtype": "float64",
         "stats": {
          "unique_count": 8,
          "nan_count": 0,
          "min": "0.0",
          "max": "2775.0",
          "histogram": [
           {
            "bin_start": 0,
            "bin_end": 277.5,
            "count": 7
           },
           {
            "bin_start": 277.5,
            "bin_end": 555,
            "count": 0
           },
           {
            "bin_start": 555,
            "bin_end": 832.5,
            "count": 0
           },
           {
            "bin_start": 832.5,
            "bin_end": 1110,
            "count": 0
           },
           {
            "bin_start": 1110,
            "bin_end": 1387.5,
            "count": 0
           },
           {
            "bin_start": 1387.5,
            "bin_end": 1665,
            "count": 0
           },
           {
            "bin_start": 1665,
            "bin_end": 1942.5,
            "count": 0
           },
           {
            "bin_start": 1942.5,
            "bin_end": 2220,
            "count": 0
           },
           {
            "bin_start": 2220,
            "bin_end": 2497.5,
            "count": 0
           },
           {
            "bin_start": 2497.5,
            "bin_end": 2775,
            "count": 1
           }
          ]
         }
        },
        {
         "name": "_deepnote_index_column",
         "dtype": "object"
        }
       ],
       "rows": [
        {
         "year": 2938,
         "life expectancy": 2928,
         "adult mortality": 2928,
         "infant deaths": 2938,
         "alcohol": 2744,
         "percentage expenditure": 2938,
         "hepatitis b": 2385,
         "measles": 2938,
         "bmi": 2904,
         "under-five deaths": 2938,
         "polio": 2919,
         "total expenditure": 2712,
         "diphtheria": 2919,
         "hiv/aids": 2938,
         "gdp": 2490,
         "population": 2286,
         "thinness  1-19 years": 2904,
         "thinness 5-9 years": 2904,
         "income composition of resources": 2771,
         "schooling": 2775,
         "_deepnote_index_column": "count"
        },
        {
         "year": 2007.5187202178352,
         "life expectancy": 69.22493169398908,
         "adult mortality": 164.79644808743168,
         "infant deaths": 30.303948264125257,
         "alcohol": 4.602860787172012,
         "percentage expenditure": 738.2512954533831,
         "hepatitis b": 80.94046121593291,
         "measles": 2419.5922396187884,
         "bmi": 38.321246556473824,
         "under-five deaths": 42.0357385976855,
         "polio": 82.55018842069202,
         "total expenditure": 5.9381895280235995,
         "diphtheria": 82.32408359027065,
         "hiv/aids": 1.7421034717494894,
         "gdp": 7483.158469138474,
         "population": 12753375.120052494,
         "thinness  1-19 years": 4.839703856749312,
         "thinness 5-9 years": 4.870316804407714,
         "income composition of resources": 0.6275510645976182,
         "schooling": 11.992792792792793,
         "_deepnote_index_column": "mean"
        },
        {
         "year": 4.613840940258097,
         "life expectancy": 9.523867487824301,
         "adult mortality": 124.29207900342186,
         "infant deaths": 117.92650131339907,
         "alcohol": 4.052412658755661,
         "percentage expenditure": 1987.9148580161914,
         "hepatitis b": 25.0700155930181,
         "measles": 11467.272489234621,
         "bmi": 20.04403350256208,
         "under-five deaths": 160.4455484057337,
         "polio": 23.428045949468498,
         "total expenditure": 2.4983196721556316,
         "diphtheria": 23.716912068572594,
         "hiv/aids": 5.077784531086549,
         "gdp": 14270.169341515977,
         "population": 61012096.508427925,
         "thinness  1-19 years": 4.420194947144321,
         "thinness 5-9 years": 4.508882086983003,
         "income composition of resources": 0.21090355515159298,
         "schooling": 3.3589197211023563,
         "_deepnote_index_column": "std"
        },
        {
         "year": 2000,
         "life expectancy": 36.3,
         "adult mortality": 1,
         "infant deaths": 0,
         "alcohol": 0.01,
         "percentage expenditure": 0,
         "hepatitis b": 1,
         "measles": 0,
         "bmi": 1,
         "under-five deaths": 0,
         "polio": 3,
         "total expenditure": 0.37,
         "diphtheria": 2,
         "hiv/aids": 0.1,
         "gdp": 1.68135,
         "population": 34,
         "thinness  1-19 years": 0.1,
         "thinness 5-9 years": 0.1,
         "income composition of resources": 0,
         "schooling": 0,
         "_deepnote_index_column": "min"
        },
        {
         "year": 2004,
         "life expectancy": 63.1,
         "adult mortality": 74,
         "infant deaths": 0,
         "alcohol": 0.8775000000000001,
         "percentage expenditure": 4.68534258525,
         "hepatitis b": 77,
         "measles": 0,
         "bmi": 19.3,
         "under-five deaths": 0,
         "polio": 78,
         "total expenditure": 4.26,
         "diphtheria": 78,
         "hiv/aids": 0.1,
         "gdp": 463.935626,
         "population": 195793.25,
         "thinness  1-19 years": 1.6,
         "thinness 5-9 years": 1.5,
         "income composition of resources": 0.493,
         "schooling": 10.1,
         "_deepnote_index_column": "25%"
        },
        {
         "year": 2008,
         "life expectancy": 72.1,
         "adult mortality": 144,
         "infant deaths": 3,
         "alcohol": 3.755,
         "percentage expenditure": 64.912906045,
         "hepatitis b": 92,
         "measles": 17,
         "bmi": 43.5,
         "under-five deaths": 4,
         "polio": 93,
         "total expenditure": 5.755,
         "diphtheria": 93,
         "hiv/aids": 0.1,
         "gdp": 1766.947595,
         "population": 1386542,
         "thinness  1-19 years": 3.3,
         "thinness 5-9 years": 3.3,
         "income composition of resources": 0.677,
         "schooling": 12.3,
         "_deepnote_index_column": "50%"
        },
        {
         "year": 2012,
         "life expectancy": 75.7,
         "adult mortality": 228,
         "infant deaths": 22,
         "alcohol": 7.702500000000001,
         "percentage expenditure": 441.53414435,
         "hepatitis b": 97,
         "measles": 360.25,
         "bmi": 56.2,
         "under-five deaths": 28,
         "polio": 97,
         "total expenditure": 7.4925,
         "diphtheria": 97,
         "hiv/aids": 0.8,
         "gdp": 5910.806334999999,
         "population": 7420359,
         "thinness  1-19 years": 7.2,
         "thinness 5-9 years": 7.2,
         "income composition of resources": 0.779,
         "schooling": 14.3,
         "_deepnote_index_column": "75%"
        },
        {
         "year": 2015,
         "life expectancy": 89,
         "adult mortality": 723,
         "infant deaths": 1800,
         "alcohol": 17.87,
         "percentage expenditure": 19479.91161,
         "hepatitis b": 99,
         "measles": 212183,
         "bmi": 87.3,
         "under-five deaths": 2500,
         "polio": 99,
         "total expenditure": 17.6,
         "diphtheria": 99,
         "hiv/aids": 50.6,
         "gdp": 119172.7418,
         "population": 1293859294,
         "thinness  1-19 years": 27.7,
         "thinness 5-9 years": 28.6,
         "income composition of resources": 0.948,
         "schooling": 20.7,
         "_deepnote_index_column": "max"
        }
       ]
      },
      "text/plain": "              year  life expectancy  adult mortality  infant deaths  \\\ncount  2938.000000      2928.000000      2928.000000    2938.000000   \nmean   2007.518720        69.224932       164.796448      30.303948   \nstd       4.613841         9.523867       124.292079     117.926501   \nmin    2000.000000        36.300000         1.000000       0.000000   \n25%    2004.000000        63.100000        74.000000       0.000000   \n50%    2008.000000        72.100000       144.000000       3.000000   \n75%    2012.000000        75.700000       228.000000      22.000000   \nmax    2015.000000        89.000000       723.000000    1800.000000   \n\n           alcohol  percentage expenditure  hepatitis b        measles  \\\ncount  2744.000000             2938.000000  2385.000000    2938.000000   \nmean      4.602861              738.251295    80.940461    2419.592240   \nstd       4.052413             1987.914858    25.070016   11467.272489   \nmin       0.010000                0.000000     1.000000       0.000000   \n25%       0.877500                4.685343    77.000000       0.000000   \n50%       3.755000               64.912906    92.000000      17.000000   \n75%       7.702500              441.534144    97.000000     360.250000   \nmax      17.870000            19479.911610    99.000000  212183.000000   \n\n               bmi  under-five deaths        polio  total expenditure  \\\ncount  2904.000000        2938.000000  2919.000000         2712.00000   \nmean     38.321247          42.035739    82.550188            5.93819   \nstd      20.044034         160.445548    23.428046            2.49832   \nmin       1.000000           0.000000     3.000000            0.37000   \n25%      19.300000           0.000000    78.000000            4.26000   \n50%      43.500000           4.000000    93.000000            5.75500   \n75%      56.200000          28.000000    97.000000            7.49250   \nmax      87.300000        2500.000000    99.000000           17.60000   \n\n        diphtheria     hiv/aids            gdp    population  \\\ncount  2919.000000  2938.000000    2490.000000  2.286000e+03   \nmean     82.324084     1.742103    7483.158469  1.275338e+07   \nstd      23.716912     5.077785   14270.169342  6.101210e+07   \nmin       2.000000     0.100000       1.681350  3.400000e+01   \n25%      78.000000     0.100000     463.935626  1.957932e+05   \n50%      93.000000     0.100000    1766.947595  1.386542e+06   \n75%      97.000000     0.800000    5910.806335  7.420359e+06   \nmax      99.000000    50.600000  119172.741800  1.293859e+09   \n\n       thinness  1-19 years  thinness 5-9 years  \\\ncount           2904.000000         2904.000000   \nmean               4.839704            4.870317   \nstd                4.420195            4.508882   \nmin                0.100000            0.100000   \n25%                1.600000            1.500000   \n50%                3.300000            3.300000   \n75%                7.200000            7.200000   \nmax               27.700000           28.600000   \n\n       income composition of resources    schooling  \ncount                      2771.000000  2775.000000  \nmean                          0.627551    11.992793  \nstd                           0.210904     3.358920  \nmin                           0.000000     0.000000  \n25%                           0.493000    10.100000  \n50%                           0.677000    12.300000  \n75%                           0.779000    14.300000  \nmax                           0.948000    20.700000  ",
      "text/html": "<div>\n<style scoped>\n    .dataframe tbody tr th:only-of-type {\n        vertical-align: middle;\n    }\n\n    .dataframe tbody tr th {\n        vertical-align: top;\n    }\n\n    .dataframe thead th {\n        text-align: right;\n    }\n</style>\n<table border=\"1\" class=\"dataframe\">\n  <thead>\n    <tr style=\"text-align: right;\">\n      <th></th>\n      <th>year</th>\n      <th>life expectancy</th>\n      <th>adult mortality</th>\n      <th>infant deaths</th>\n      <th>alcohol</th>\n      <th>percentage expenditure</th>\n      <th>hepatitis b</th>\n      <th>measles</th>\n      <th>bmi</th>\n      <th>under-five deaths</th>\n      <th>polio</th>\n      <th>total expenditure</th>\n      <th>diphtheria</th>\n      <th>hiv/aids</th>\n      <th>gdp</th>\n      <th>population</th>\n      <th>thinness  1-19 years</th>\n      <th>thinness 5-9 years</th>\n      <th>income composition of resources</th>\n      <th>schooling</th>\n    </tr>\n  </thead>\n  <tbody>\n    <tr>\n      <th>count</th>\n      <td>2938.000000</td>\n      <td>2928.000000</td>\n      <td>2928.000000</td>\n      <td>2938.000000</td>\n      <td>2744.000000</td>\n      <td>2938.000000</td>\n      <td>2385.000000</td>\n      <td>2938.000000</td>\n      <td>2904.000000</td>\n      <td>2938.000000</td>\n      <td>2919.000000</td>\n      <td>2712.00000</td>\n      <td>2919.000000</td>\n      <td>2938.000000</td>\n      <td>2490.000000</td>\n      <td>2.286000e+03</td>\n      <td>2904.000000</td>\n      <td>2904.000000</td>\n      <td>2771.000000</td>\n      <td>2775.000000</td>\n    </tr>\n    <tr>\n      <th>mean</th>\n      <td>2007.518720</td>\n      <td>69.224932</td>\n      <td>164.796448</td>\n      <td>30.303948</td>\n      <td>4.602861</td>\n      <td>738.251295</td>\n      <td>80.940461</td>\n      <td>2419.592240</td>\n      <td>38.321247</td>\n      <td>42.035739</td>\n      <td>82.550188</td>\n      <td>5.93819</td>\n      <td>82.324084</td>\n      <td>1.742103</td>\n      <td>7483.158469</td>\n      <td>1.275338e+07</td>\n      <td>4.839704</td>\n      <td>4.870317</td>\n      <td>0.627551</td>\n      <td>11.992793</td>\n    </tr>\n    <tr>\n      <th>std</th>\n      <td>4.613841</td>\n      <td>9.523867</td>\n      <td>124.292079</td>\n      <td>117.926501</td>\n      <td>4.052413</td>\n      <td>1987.914858</td>\n      <td>25.070016</td>\n      <td>11467.272489</td>\n      <td>20.044034</td>\n      <td>160.445548</td>\n      <td>23.428046</td>\n      <td>2.49832</td>\n      <td>23.716912</td>\n      <td>5.077785</td>\n      <td>14270.169342</td>\n      <td>6.101210e+07</td>\n      <td>4.420195</td>\n      <td>4.508882</td>\n      <td>0.210904</td>\n      <td>3.358920</td>\n    </tr>\n    <tr>\n      <th>min</th>\n      <td>2000.000000</td>\n      <td>36.300000</td>\n      <td>1.000000</td>\n      <td>0.000000</td>\n      <td>0.010000</td>\n      <td>0.000000</td>\n      <td>1.000000</td>\n      <td>0.000000</td>\n      <td>1.000000</td>\n      <td>0.000000</td>\n      <td>3.000000</td>\n      <td>0.37000</td>\n      <td>2.000000</td>\n      <td>0.100000</td>\n      <td>1.681350</td>\n      <td>3.400000e+01</td>\n      <td>0.100000</td>\n      <td>0.100000</td>\n      <td>0.000000</td>\n      <td>0.000000</td>\n    </tr>\n    <tr>\n      <th>25%</th>\n      <td>2004.000000</td>\n      <td>63.100000</td>\n      <td>74.000000</td>\n      <td>0.000000</td>\n      <td>0.877500</td>\n      <td>4.685343</td>\n      <td>77.000000</td>\n      <td>0.000000</td>\n      <td>19.300000</td>\n      <td>0.000000</td>\n      <td>78.000000</td>\n      <td>4.26000</td>\n      <td>78.000000</td>\n      <td>0.100000</td>\n      <td>463.935626</td>\n      <td>1.957932e+05</td>\n      <td>1.600000</td>\n      <td>1.500000</td>\n      <td>0.493000</td>\n      <td>10.100000</td>\n    </tr>\n    <tr>\n      <th>50%</th>\n      <td>2008.000000</td>\n      <td>72.100000</td>\n      <td>144.000000</td>\n      <td>3.000000</td>\n      <td>3.755000</td>\n      <td>64.912906</td>\n      <td>92.000000</td>\n      <td>17.000000</td>\n      <td>43.500000</td>\n      <td>4.000000</td>\n      <td>93.000000</td>\n      <td>5.75500</td>\n      <td>93.000000</td>\n      <td>0.100000</td>\n      <td>1766.947595</td>\n      <td>1.386542e+06</td>\n      <td>3.300000</td>\n      <td>3.300000</td>\n      <td>0.677000</td>\n      <td>12.300000</td>\n    </tr>\n    <tr>\n      <th>75%</th>\n      <td>2012.000000</td>\n      <td>75.700000</td>\n      <td>228.000000</td>\n      <td>22.000000</td>\n      <td>7.702500</td>\n      <td>441.534144</td>\n      <td>97.000000</td>\n      <td>360.250000</td>\n      <td>56.200000</td>\n      <td>28.000000</td>\n      <td>97.000000</td>\n      <td>7.49250</td>\n      <td>97.000000</td>\n      <td>0.800000</td>\n      <td>5910.806335</td>\n      <td>7.420359e+06</td>\n      <td>7.200000</td>\n      <td>7.200000</td>\n      <td>0.779000</td>\n      <td>14.300000</td>\n    </tr>\n    <tr>\n      <th>max</th>\n      <td>2015.000000</td>\n      <td>89.000000</td>\n      <td>723.000000</td>\n      <td>1800.000000</td>\n      <td>17.870000</td>\n      <td>19479.911610</td>\n      <td>99.000000</td>\n      <td>212183.000000</td>\n      <td>87.300000</td>\n      <td>2500.000000</td>\n      <td>99.000000</td>\n      <td>17.60000</td>\n      <td>99.000000</td>\n      <td>50.600000</td>\n      <td>119172.741800</td>\n      <td>1.293859e+09</td>\n      <td>27.700000</td>\n      <td>28.600000</td>\n      <td>0.948000</td>\n      <td>20.700000</td>\n    </tr>\n  </tbody>\n</table>\n</div>"
     },
     "metadata": {}
    }
   ]
  },
  {
   "cell_type": "code",
   "metadata": {
    "cell_id": "00009-4bbbf2f8-1241-4536-8437-4a7d37225a42",
    "deepnote_output_heights": [
     21
    ],
    "deepnote_to_be_reexecuted": false,
    "source_hash": "14f60b8f",
    "execution_start": 1644755673094,
    "execution_millis": 108,
    "deepnote_cell_type": "code"
   },
   "source": "df.shape",
   "execution_count": null,
   "outputs": [
    {
     "output_type": "execute_result",
     "execution_count": 8,
     "data": {
      "text/plain": "(2938, 22)"
     },
     "metadata": {}
    }
   ]
  },
  {
   "cell_type": "code",
   "metadata": {
    "cell_id": "00010-bd4bd668-ca3c-45c3-a7e5-605ef4b21f5a",
    "deepnote_to_be_reexecuted": false,
    "source_hash": "de1e323c",
    "execution_start": 1644755673139,
    "execution_millis": 79,
    "deepnote_cell_type": "code"
   },
   "source": "df.info()",
   "execution_count": null,
   "outputs": [
    {
     "name": "stdout",
     "text": "<class 'pandas.core.frame.DataFrame'>\nRangeIndex: 2938 entries, 0 to 2937\nData columns (total 22 columns):\n #   Column                           Non-Null Count  Dtype  \n---  ------                           --------------  -----  \n 0   country                          2938 non-null   object \n 1   year                             2938 non-null   int64  \n 2   status                           2938 non-null   object \n 3   life expectancy                  2928 non-null   float64\n 4   adult mortality                  2928 non-null   float64\n 5   infant deaths                    2938 non-null   int64  \n 6   alcohol                          2744 non-null   float64\n 7   percentage expenditure           2938 non-null   float64\n 8   hepatitis b                      2385 non-null   float64\n 9   measles                          2938 non-null   int64  \n 10  bmi                              2904 non-null   float64\n 11  under-five deaths                2938 non-null   int64  \n 12  polio                            2919 non-null   float64\n 13  total expenditure                2712 non-null   float64\n 14  diphtheria                       2919 non-null   float64\n 15  hiv/aids                         2938 non-null   float64\n 16  gdp                              2490 non-null   float64\n 17  population                       2286 non-null   float64\n 18  thinness  1-19 years             2904 non-null   float64\n 19  thinness 5-9 years               2904 non-null   float64\n 20  income composition of resources  2771 non-null   float64\n 21  schooling                        2775 non-null   float64\ndtypes: float64(16), int64(4), object(2)\nmemory usage: 505.1+ KB\n",
     "output_type": "stream"
    }
   ]
  },
  {
   "cell_type": "code",
   "metadata": {
    "cell_id": "00011-dd61f4c2-bb15-4cb4-90cd-599f543aac98",
    "deepnote_to_be_reexecuted": false,
    "source_hash": "5e02c5e6",
    "execution_start": 1644755673195,
    "execution_millis": 1,
    "deepnote_cell_type": "code"
   },
   "source": "#df.drop('Diphtheria ', axis=1, inplace=True)",
   "execution_count": null,
   "outputs": []
  },
  {
   "cell_type": "markdown",
   "source": "# How did infant deaths change during 2000-2015?",
   "metadata": {
    "cell_id": "00012-2b459dd7-a62c-40bf-bb28-87b14d92ef1d",
    "deepnote_cell_type": "markdown"
   }
  },
  {
   "cell_type": "code",
   "metadata": {
    "cell_id": "00013-dadb1f1f-cef5-4a07-98e1-323e8c0e9682",
    "deepnote_output_heights": [
     21,
     319
    ],
    "deepnote_to_be_reexecuted": false,
    "source_hash": "40d4979e",
    "execution_start": 1644755673258,
    "execution_millis": 2674,
    "deepnote_cell_type": "code"
   },
   "source": "plt.figure(figsize=(12,5))\nsns.lineplot(data=df, x=\"year\", y=\"infant deaths\")",
   "execution_count": null,
   "outputs": [
    {
     "output_type": "execute_result",
     "execution_count": 11,
     "data": {
      "text/plain": "<AxesSubplot:xlabel='year', ylabel='infant deaths'>"
     },
     "metadata": {}
    },
    {
     "data": {
      "text/plain": "<Figure size 864x360 with 1 Axes>",
      "image/png": "[encoded data removed]"
     },
     "metadata": {
      "needs_background": "light",
      "image/png": {
       "width": 717,
       "height": 317
      }
     },
     "output_type": "display_data"
    }
   ]
  },
  {
   "cell_type": "markdown",
   "source": "# How do alcohol and HIV/AIDS affect adult mortality?",
   "metadata": {
    "cell_id": "00014-1c5ebd84-dfc1-4c0b-9e71-be81341f7b55",
    "deepnote_cell_type": "markdown"
   }
  },
  {
   "cell_type": "code",
   "metadata": {
    "cell_id": "00015-15fdb978-a2bb-49a5-bb62-b4707a8f1e89",
    "deepnote_to_be_reexecuted": false,
    "source_hash": "625f835b",
    "execution_start": 1644755675945,
    "execution_millis": 864,
    "deepnote_output_heights": [
     319
    ],
    "deepnote_cell_type": "code"
   },
   "source": "plt.figure(figsize=(12,5))\nplt.tight_layout()\nsns.histplot(df['alcohol'])\nplt.show()\n#plot_hist(data_df['Alcohol'])",
   "execution_count": null,
   "outputs": [
    {
     "data": {
      "text/plain": "<Figure size 864x360 with 1 Axes>",
      "image/png": "[encoded data removed]"
     },
     "metadata": {
      "needs_background": "light",
      "image/png": {
       "width": 723,
       "height": 317
      }
     },
     "output_type": "display_data"
    }
   ]
  },
  {
   "cell_type": "markdown",
   "source": "# Which factors influence life expectancy the most (positively and negatively)?",
   "metadata": {
    "cell_id": "00016-e9e37339-5daa-47cb-959f-363ca449a6f1",
    "deepnote_cell_type": "markdown"
   }
  },
  {
   "cell_type": "code",
   "metadata": {
    "cell_id": "00017-a06704ea-c1af-44e4-9cc4-ec25c746ca0f",
    "deepnote_to_be_reexecuted": false,
    "source_hash": "300f9702",
    "execution_start": 1644755676811,
    "execution_millis": 23,
    "deepnote_cell_type": "code"
   },
   "source": "features = ['country','year','status','life expectancy','adult mortality','infant deaths','alcohol','percentage expenditure','hepatitis b','measles','bmi','under-five deaths','polio','total expenditure','diphtheria','hiv/aids','gdp','population','thinness  1-19 years','thinness 5-9 years','income composition of resources','schooling']\n\n\ndef corr_plot(mat, title='My Title', color='cividis'):\n    plt.subplots(figsize=(14, 11))\n    plt.title(title,fontsize=22)\n\n    sns.heatmap(mat,linewidths=0.2,vmax=0.7,square=True,cmap=color, \n                linecolor='w',annot=True,annot_kws={'size':9},cbar_kws={'shrink': .5})",
   "execution_count": null,
   "outputs": []
  },
  {
   "cell_type": "code",
   "metadata": {
    "cell_id": "00018-fe0fbde4-fb80-4d2a-a4f0-2d2d1c9d3fc7",
    "deepnote_to_be_reexecuted": false,
    "source_hash": "b2e68a9",
    "execution_start": 1644755676845,
    "execution_millis": 7293,
    "deepnote_output_heights": [
     611
    ],
    "deepnote_cell_type": "code"
   },
   "source": "corr_matrix = df[features].corr()\ncorr_plot(corr_matrix, \"Life Expectancy correlation\")",
   "execution_count": null,
   "outputs": [
    {
     "data": {
      "text/plain": "<Figure size 1008x792 with 2 Axes>",
      "image/png": "[encoded data removed]"
     },
     "metadata": {
      "needs_background": "light",
      "image/png": {
       "width": 869,
       "height": 805
      }
     },
     "output_type": "display_data"
    }
   ]
  },
  {
   "cell_type": "markdown",
   "source": "Define x and y",
   "metadata": {
    "cell_id": "00019-f2145e43-81f9-4cbd-895a-a3095cb7a614",
    "deepnote_cell_type": "markdown"
   }
  },
  {
   "cell_type": "code",
   "metadata": {
    "cell_id": "00020-f8d12398-c20f-4bd9-9476-19c05aa0bfdc",
    "deepnote_to_be_reexecuted": false,
    "source_hash": "251c7831",
    "execution_start": 1644755684141,
    "execution_millis": 6,
    "deepnote_cell_type": "code"
   },
   "source": "x = df.drop(['year','country','status'], axis=1).values\ny = df['alcohol'].values",
   "execution_count": null,
   "outputs": []
  },
  {
   "cell_type": "code",
   "metadata": {
    "cell_id": "00021-07842d15-d9c5-4f9d-82f6-b249109522c1",
    "deepnote_to_be_reexecuted": false,
    "source_hash": "19618a48",
    "execution_start": 1644755684161,
    "execution_millis": 9,
    "deepnote_cell_type": "code"
   },
   "source": "print(x)",
   "execution_count": null,
   "outputs": [
    {
     "name": "stdout",
     "text": "[[6.50e+01 2.63e+02 6.20e+01 ... 1.73e+01 4.79e-01 1.01e+01]\n [5.99e+01 2.71e+02 6.40e+01 ... 1.75e+01 4.76e-01 1.00e+01]\n [5.99e+01 2.68e+02 6.60e+01 ... 1.77e+01 4.70e-01 9.90e+00]\n ...\n [4.48e+01 7.30e+01 2.50e+01 ... 1.30e+00 4.27e-01 1.00e+01]\n [4.53e+01 6.86e+02 2.50e+01 ... 1.70e+00 4.27e-01 9.80e+00]\n [4.60e+01 6.65e+02 2.40e+01 ... 1.12e+01 4.34e-01 9.80e+00]]\n",
     "output_type": "stream"
    }
   ]
  },
  {
   "cell_type": "code",
   "metadata": {
    "cell_id": "00022-16cd0234-da8e-4c63-a544-4afb07d845f1",
    "deepnote_to_be_reexecuted": false,
    "source_hash": "344417bf",
    "execution_start": 1644755684219,
    "deepnote_cell_type": "code"
   },
   "source": "print(y)",
   "execution_count": null,
   "outputs": [
    {
     "name": "stdout",
     "text": "[0.01 0.01 0.01 ... 4.43 1.72 1.68]\n",
     "output_type": "stream"
    }
   ]
  },
  {
   "cell_type": "markdown",
   "source": "Split the dataset in training set and test set",
   "metadata": {
    "cell_id": "00023-6c116c9d-f0b3-4138-8e26-279ebb7ea08d",
    "deepnote_cell_type": "markdown"
   }
  },
  {
   "cell_type": "code",
   "metadata": {
    "cell_id": "00024-9e98e791-fc89-4e6b-bfca-6c1c998f0308",
    "deepnote_to_be_reexecuted": false,
    "source_hash": "c48047b9",
    "execution_start": 1644755684220,
    "execution_millis": 307,
    "deepnote_cell_type": "code"
   },
   "source": "from sklearn.model_selection import train_test_split\nx_train, x_test, y_train, y_test=train_test_split(x,y, test_size=0.33, random_state=42) # from sklearn model",
   "execution_count": null,
   "outputs": []
  },
  {
   "cell_type": "markdown",
   "source": "Train the model on the training set\n",
   "metadata": {
    "cell_id": "00025-9b1e9c38-c868-49bf-abf9-86d8f28762ee",
    "deepnote_cell_type": "markdown"
   }
  },
  {
   "cell_type": "code",
   "metadata": {
    "cell_id": "00026-73e96add-bb37-493c-93a7-219e3e770a67",
    "deepnote_to_be_reexecuted": false,
    "source_hash": "b623e53d",
    "execution_start": 1644755684543,
    "execution_millis": 22,
    "deepnote_cell_type": "code"
   },
   "source": "",
   "execution_count": null,
   "outputs": []
  },
  {
   "cell_type": "code",
   "metadata": {
    "cell_id": "00027-f616e755-b579-4268-942e-3ab4577de47d",
    "deepnote_to_be_reexecuted": false,
    "source_hash": "80efbeec",
    "execution_start": 1644755684579,
    "execution_millis": 609,
    "deepnote_cell_type": "code"
   },
   "source": "from sklearn.linear_model import LinearRegression  #Nepavyko, nes stringo neskaito\nml = LinearRegression()\nml.fit(x_train,y_train)",
   "execution_count": null,
   "outputs": [
    {
     "output_type": "error",
     "ename": "ValueError",
     "evalue": "Input contains NaN, infinity or a value too large for dtype('float64').",
     "traceback": [
      "\u001b[0;31m---------------------------------------------------------------------------\u001b[0m",
      "\u001b[0;31mValueError\u001b[0m                                Traceback (most recent call last)",
      "\u001b[0;32m<ipython-input-19-7f69e01639eb>\u001b[0m in \u001b[0;36m<module>\u001b[0;34m\u001b[0m\n\u001b[1;32m      1\u001b[0m \u001b[0;32mfrom\u001b[0m \u001b[0msklearn\u001b[0m\u001b[0;34m.\u001b[0m\u001b[0mlinear_model\u001b[0m \u001b[0;32mimport\u001b[0m \u001b[0mLinearRegression\u001b[0m  \u001b[0;31m#Nepavyko, nes stringo neskaito\u001b[0m\u001b[0;34m\u001b[0m\u001b[0;34m\u001b[0m\u001b[0m\n\u001b[1;32m      2\u001b[0m \u001b[0mml\u001b[0m \u001b[0;34m=\u001b[0m \u001b[0mLinearRegression\u001b[0m\u001b[0;34m(\u001b[0m\u001b[0;34m)\u001b[0m\u001b[0;34m\u001b[0m\u001b[0;34m\u001b[0m\u001b[0m\n\u001b[0;32m----> 3\u001b[0;31m \u001b[0mml\u001b[0m\u001b[0;34m.\u001b[0m\u001b[0mfit\u001b[0m\u001b[0;34m(\u001b[0m\u001b[0mx_train\u001b[0m\u001b[0;34m,\u001b[0m\u001b[0my_train\u001b[0m\u001b[0;34m)\u001b[0m\u001b[0;34m\u001b[0m\u001b[0;34m\u001b[0m\u001b[0m\n\u001b[0m",
      "\u001b[0;32m/shared-libs/python3.7/py/lib/python3.7/site-packages/sklearn/linear_model/_base.py\u001b[0m in \u001b[0;36mfit\u001b[0;34m(self, X, y, sample_weight)\u001b[0m\n\u001b[1;32m    661\u001b[0m \u001b[0;34m\u001b[0m\u001b[0m\n\u001b[1;32m    662\u001b[0m         X, y = self._validate_data(\n\u001b[0;32m--> 663\u001b[0;31m             \u001b[0mX\u001b[0m\u001b[0;34m,\u001b[0m \u001b[0my\u001b[0m\u001b[0;34m,\u001b[0m \u001b[0maccept_sparse\u001b[0m\u001b[0;34m=\u001b[0m\u001b[0maccept_sparse\u001b[0m\u001b[0;34m,\u001b[0m \u001b[0my_numeric\u001b[0m\u001b[0;34m=\u001b[0m\u001b[0;32mTrue\u001b[0m\u001b[0;34m,\u001b[0m \u001b[0mmulti_output\u001b[0m\u001b[0;34m=\u001b[0m\u001b[0;32mTrue\u001b[0m\u001b[0;34m\u001b[0m\u001b[0;34m\u001b[0m\u001b[0m\n\u001b[0m\u001b[1;32m    664\u001b[0m         )\n\u001b[1;32m    665\u001b[0m \u001b[0;34m\u001b[0m\u001b[0m\n",
      "\u001b[0;32m/shared-libs/python3.7/py/lib/python3.7/site-packages/sklearn/base.py\u001b[0m in \u001b[0;36m_validate_data\u001b[0;34m(self, X, y, reset, validate_separately, **check_params)\u001b[0m\n\u001b[1;32m    574\u001b[0m                 \u001b[0my\u001b[0m \u001b[0;34m=\u001b[0m \u001b[0mcheck_array\u001b[0m\u001b[0;34m(\u001b[0m\u001b[0my\u001b[0m\u001b[0;34m,\u001b[0m \u001b[0;34m**\u001b[0m\u001b[0mcheck_y_params\u001b[0m\u001b[0;34m)\u001b[0m\u001b[0;34m\u001b[0m\u001b[0;34m\u001b[0m\u001b[0m\n\u001b[1;32m    575\u001b[0m             \u001b[0;32melse\u001b[0m\u001b[0;34m:\u001b[0m\u001b[0;34m\u001b[0m\u001b[0;34m\u001b[0m\u001b[0m\n\u001b[0;32m--> 576\u001b[0;31m                 \u001b[0mX\u001b[0m\u001b[0;34m,\u001b[0m \u001b[0my\u001b[0m \u001b[0;34m=\u001b[0m \u001b[0mcheck_X_y\u001b[0m\u001b[0;34m(\u001b[0m\u001b[0mX\u001b[0m\u001b[0;34m,\u001b[0m \u001b[0my\u001b[0m\u001b[0;34m,\u001b[0m \u001b[0;34m**\u001b[0m\u001b[0mcheck_params\u001b[0m\u001b[0;34m)\u001b[0m\u001b[0;34m\u001b[0m\u001b[0;34m\u001b[0m\u001b[0m\n\u001b[0m\u001b[1;32m    577\u001b[0m             \u001b[0mout\u001b[0m \u001b[0;34m=\u001b[0m \u001b[0mX\u001b[0m\u001b[0;34m,\u001b[0m \u001b[0my\u001b[0m\u001b[0;34m\u001b[0m\u001b[0;34m\u001b[0m\u001b[0m\n\u001b[1;32m    578\u001b[0m \u001b[0;34m\u001b[0m\u001b[0m\n",
      "\u001b[0;32m/shared-libs/python3.7/py/lib/python3.7/site-packages/sklearn/utils/validation.py\u001b[0m in \u001b[0;36mcheck_X_y\u001b[0;34m(X, y, accept_sparse, accept_large_sparse, dtype, order, copy, force_all_finite, ensure_2d, allow_nd, multi_output, ensure_min_samples, ensure_min_features, y_numeric, estimator)\u001b[0m\n\u001b[1;32m    966\u001b[0m         \u001b[0mensure_min_samples\u001b[0m\u001b[0;34m=\u001b[0m\u001b[0mensure_min_samples\u001b[0m\u001b[0;34m,\u001b[0m\u001b[0;34m\u001b[0m\u001b[0;34m\u001b[0m\u001b[0m\n\u001b[1;32m    967\u001b[0m         \u001b[0mensure_min_features\u001b[0m\u001b[0;34m=\u001b[0m\u001b[0mensure_min_features\u001b[0m\u001b[0;34m,\u001b[0m\u001b[0;34m\u001b[0m\u001b[0;34m\u001b[0m\u001b[0m\n\u001b[0;32m--> 968\u001b[0;31m         \u001b[0mestimator\u001b[0m\u001b[0;34m=\u001b[0m\u001b[0mestimator\u001b[0m\u001b[0;34m,\u001b[0m\u001b[0;34m\u001b[0m\u001b[0;34m\u001b[0m\u001b[0m\n\u001b[0m\u001b[1;32m    969\u001b[0m     )\n\u001b[1;32m    970\u001b[0m \u001b[0;34m\u001b[0m\u001b[0m\n",
      "\u001b[0;32m/shared-libs/python3.7/py/lib/python3.7/site-packages/sklearn/utils/validation.py\u001b[0m in \u001b[0;36mcheck_array\u001b[0;34m(array, accept_sparse, accept_large_sparse, dtype, order, copy, force_all_finite, ensure_2d, allow_nd, ensure_min_samples, ensure_min_features, estimator)\u001b[0m\n\u001b[1;32m    790\u001b[0m \u001b[0;34m\u001b[0m\u001b[0m\n\u001b[1;32m    791\u001b[0m         \u001b[0;32mif\u001b[0m \u001b[0mforce_all_finite\u001b[0m\u001b[0;34m:\u001b[0m\u001b[0;34m\u001b[0m\u001b[0;34m\u001b[0m\u001b[0m\n\u001b[0;32m--> 792\u001b[0;31m             \u001b[0m_assert_all_finite\u001b[0m\u001b[0;34m(\u001b[0m\u001b[0marray\u001b[0m\u001b[0;34m,\u001b[0m \u001b[0mallow_nan\u001b[0m\u001b[0;34m=\u001b[0m\u001b[0mforce_all_finite\u001b[0m \u001b[0;34m==\u001b[0m \u001b[0;34m\"allow-nan\"\u001b[0m\u001b[0;34m)\u001b[0m\u001b[0;34m\u001b[0m\u001b[0;34m\u001b[0m\u001b[0m\n\u001b[0m\u001b[1;32m    793\u001b[0m \u001b[0;34m\u001b[0m\u001b[0m\n\u001b[1;32m    794\u001b[0m     \u001b[0;32mif\u001b[0m \u001b[0mensure_min_samples\u001b[0m \u001b[0;34m>\u001b[0m \u001b[0;36m0\u001b[0m\u001b[0;34m:\u001b[0m\u001b[0;34m\u001b[0m\u001b[0;34m\u001b[0m\u001b[0m\n",
      "\u001b[0;32m/shared-libs/python3.7/py/lib/python3.7/site-packages/sklearn/utils/validation.py\u001b[0m in \u001b[0;36m_assert_all_finite\u001b[0;34m(X, allow_nan, msg_dtype)\u001b[0m\n\u001b[1;32m    114\u001b[0m             raise ValueError(\n\u001b[1;32m    115\u001b[0m                 msg_err.format(\n\u001b[0;32m--> 116\u001b[0;31m                     \u001b[0mtype_err\u001b[0m\u001b[0;34m,\u001b[0m \u001b[0mmsg_dtype\u001b[0m \u001b[0;32mif\u001b[0m \u001b[0mmsg_dtype\u001b[0m \u001b[0;32mis\u001b[0m \u001b[0;32mnot\u001b[0m \u001b[0;32mNone\u001b[0m \u001b[0;32melse\u001b[0m \u001b[0mX\u001b[0m\u001b[0;34m.\u001b[0m\u001b[0mdtype\u001b[0m\u001b[0;34m\u001b[0m\u001b[0;34m\u001b[0m\u001b[0m\n\u001b[0m\u001b[1;32m    117\u001b[0m                 )\n\u001b[1;32m    118\u001b[0m             )\n",
      "\u001b[0;31mValueError\u001b[0m: Input contains NaN, infinity or a value too large for dtype('float64')."
     ]
    }
   ]
  },
  {
   "cell_type": "markdown",
   "source": "Predict the test set results",
   "metadata": {
    "cell_id": "00028-55b61a6d-f4c4-413e-95e7-5538148a6a44",
    "deepnote_cell_type": "markdown"
   }
  },
  {
   "cell_type": "code",
   "metadata": {
    "cell_id": "00029-8c589466-80a1-4338-9249-072c5734d725",
    "deepnote_to_be_reexecuted": true,
    "source_hash": "af827751",
    "deepnote_cell_type": "code"
   },
   "source": "y_pred = ml.predict(x_test) #nekviecia, nes fit nera\nprint(y_pred)",
   "execution_count": null,
   "outputs": []
  },
  {
   "cell_type": "code",
   "metadata": {
    "cell_id": "00030-4e8e3154-e3a5-421a-8426-c6be5ec7c3f5",
    "deepnote_to_be_reexecuted": true,
    "source_hash": "951b1b70",
    "deepnote_cell_type": "code"
   },
   "source": "ml.predict([[value]])",
   "execution_count": null,
   "outputs": []
  },
  {
   "cell_type": "markdown",
   "source": "Evaluate the model",
   "metadata": {
    "cell_id": "00031-2d6f4f88-8d5a-4230-baa2-dedf50043611",
    "deepnote_cell_type": "markdown"
   }
  },
  {
   "cell_type": "code",
   "metadata": {
    "cell_id": "00032-d35f61a1-f5e7-4312-b35b-cdeecc97995b",
    "deepnote_to_be_reexecuted": true,
    "source_hash": "b5bd9669",
    "deepnote_cell_type": "code"
   },
   "source": "from sklearn.metrics import r2_score\nr2_score(y_test, y_pred)",
   "execution_count": null,
   "outputs": []
  },
  {
   "cell_type": "markdown",
   "source": "Plot the results",
   "metadata": {
    "cell_id": "00033-581402f0-5423-4ced-9d41-49ae32f9b904",
    "deepnote_cell_type": "markdown"
   }
  },
  {
   "cell_type": "code",
   "metadata": {
    "cell_id": "00034-dd8be8c7-a1bc-4f50-a06d-8d1a9e6e1018",
    "deepnote_to_be_reexecuted": true,
    "source_hash": "c69b2342",
    "deepnote_cell_type": "code"
   },
   "source": "import matplotlib.pyplot as plt\nplt.figure(fisize=(15,10))\nplt.scatter(y_test,y_pred)\nplt.xlabel('Actual')\nplt.ylabel('Predicted')\nplt.title('Actual vs. Predicted')",
   "execution_count": null,
   "outputs": []
  },
  {
   "cell_type": "markdown",
   "source": "Predicted values",
   "metadata": {
    "cell_id": "00035-04718aad-cbb5-40b1-ad31-0d507e001ad9",
    "deepnote_cell_type": "markdown"
   }
  },
  {
   "cell_type": "code",
   "metadata": {
    "cell_id": "00036-da984873-b8be-4314-a991-3acdcf9410f9",
    "deepnote_to_be_reexecuted": true,
    "source_hash": "291d5e2f",
    "deepnote_cell_type": "code"
   },
   "source": "pred_y_df = pd.DataFrame({'Actual Value':y_test, 'Predicted Value':y_pred, 'Difference': y_test-y_pred})\npred_y_df[0:20]",
   "execution_count": null,
   "outputs": []
  },
  {
   "cell_type": "markdown",
   "source": "<a style='text-decoration:none;line-height:16px;display:flex;color:#5B5B62;padding:10px;justify-content:end;' href='https://deepnote.com?utm_source=created-in-deepnote-cell&projectId=1cab57d9-93e1-485f-a03a-7a1401c41c35' target=\"_blank\">\n<img alt='Created in deepnote.com' style='display:inline;max-height:16px;margin:0px;margin-right:7.5px;' src='data:image/svg+xml;base64,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' > </img>\nCreated in <span style='font-weight:600;margin-left:4px;'>Deepnote</span></a>",
   "metadata": {
    "tags": [],
    "created_in_deepnote_cell": true,
    "deepnote_cell_type": "markdown"
   }
  }
 ],
 "nbformat": 4,
 "nbformat_minor": 5,
 "metadata": {
  "kernelspec": {
   "display_name": "Python 3 (ipykernel)",
   "language": "python",
   "name": "python3"
  },
  "language_info": {
   "codemirror_mode": {
    "name": "ipython",
    "version": 3
   },
   "file_extension": ".py",
   "mimetype": "text/x-python",
   "name": "python",
   "nbconvert_exporter": "python",
   "pygments_lexer": "ipython3",
   "version": "3.9.7"
  },
  "deepnote_notebook_id": "356c768b-0ec9-4fb6-9d6a-1776d4232e3a",
  "deepnote": {},
  "deepnote_execution_queue": []
 }
}