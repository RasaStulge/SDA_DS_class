{
 "cells": [
  {
   "cell_type": "code",
   "execution_count": 53,
   "id": "fb78545f-6425-4141-9935-0db1bafd3db1",
   "metadata": {
    "tags": []
   },
   "outputs": [],
   "source": [
    "import pandas as pd\n",
    "import numpy as np\n",
    "\n",
    "from matplotlib import pyplot as plt\n",
    "import seaborn as sns\n",
    "\n",
    "%matplotlib inline\n",
    "\n",
    "from sklearn.linear_model import LinearRegression\n",
    "from sklearn.model_selection import train_test_split\n",
    "\n",
    "from sklearn.metrics import accuracy_score, precision_score, recall_score, f1_score\n",
    "\n",
    "# Permutation Feature Importance\n",
    "\n",
    "import eli5\n",
    "from eli5.sklearn import PermutationImportance\n",
    "\n",
    "# improve how pandas numbers are displayed\n",
    "pd.set_option('display.float_format', lambda x: '%.4f' % x)\n",
    "pd.set_option('display.max_columns', 25)\n",
    "pd.set_option('display.max_rows', 50)"
   ]
  },
  {
   "cell_type": "code",
   "execution_count": 123,
   "id": "e1db73bd-242f-41b6-9a87-fa8a5b3c23a2",
   "metadata": {},
   "outputs": [],
   "source": [
    "def score_prediction(y_test, y_pred):\n",
    "    print(f'Accuracy:  {accuracy_score(y_test, y_pred):.3f}')\n",
    "    print(f'Precision: {precision_score(y_test, y_pred):.3f}')\n",
    "    print(f'Recall:    {recall_score(y_test, y_pred):.3f}')\n",
    "    print(f'F1:        {f1_score(y_test, y_pred):.3f}')\n",
    "    \n",
    "    \n",
    "def corr_plot(mat, title='My Title', color='cividis'):\n",
    "    plt.subplots(figsize=(14, 11))\n",
    "    plt.title(title,fontsize=22)\n",
    "\n",
    "    sns.heatmap(mat,linewidths=0.2,vmax=0.7,square=True,cmap=color, \n",
    "                linecolor='w',annot=True,annot_kws={'size':9},cbar_kws={'shrink': .5})\n",
    "\n",
    "def _tpr(y_actual, y_pred):\n",
    "    tn, fn, fp, tp = _confusion_matrix(y_actual, y_pred)\n",
    "    return tp / (tp + fn)\n",
    "\n",
    "def _fpr(y_actual, y_pred):\n",
    "    tn, fn, fp, tp = _confusion_matrix(y_actual, y_pred)\n",
    "    return fp / (fp + tn)\n",
    "\n",
    "def _roc(y_actual, y_pred):\n",
    "    tpr = _tpr(y_actual, y_pred)\n",
    "    fpr = _fpr(y_actual, y_pred)\n",
    "    return tpr, fpr\n",
    "\n",
    "def tpr_thresh(thresh):\n",
    "    y_pred = (y_pred_prob > thresh).astype('int')\n",
    "    return _tpr(y_test, y_pred)\n",
    "\n",
    "def fpr_thresh(thresh):\n",
    "    y_pred = (y_pred_prob > thresh).astype('int')\n",
    "    return _fpr(y_test, y_pred)\n",
    "\n",
    "def _confusion_matrix(y_actual, y_pred):\n",
    "    tp, tn, fp, fn = 0, 0, 0, 0\n",
    "    for (actual, predicted) in zip(y_test, y_pred):\n",
    "        if actual == predicted :\n",
    "            if predicted:\n",
    "                tp += 1\n",
    "            else:\n",
    "                tn += 1\n",
    "        else:\n",
    "            if predicted:\n",
    "                fp += 1\n",
    "            else:\n",
    "                fn += 1\n",
    "    # print('                    ______Actuals_______')\n",
    "    # print('                    False    |  True    ')\n",
    "    # print(f'Predicted - False | {tn}      |  {fn}')\n",
    "    # print(f'Predicted - True  | {fp}      | {tp}')\n",
    "     \n",
    "    return tn, fn, fp, tp"
   ]
  },
  {
   "cell_type": "code",
   "execution_count": 3,
   "id": "8dc64058-b62e-4d21-bf98-1450ceb9d00f",
   "metadata": {},
   "outputs": [],
   "source": [
    "# !git clone https://github.com/matzim95/ML-datasets"
   ]
  },
  {
   "cell_type": "code",
   "execution_count": 124,
   "id": "d25a70bb-3415-48dd-a4d3-f36a2a772ff9",
   "metadata": {},
   "outputs": [],
   "source": [
    "# !ls '../../ML-datasets'"
   ]
  },
  {
   "cell_type": "code",
   "execution_count": 5,
   "id": "8c88fe82-2571-45eb-b9b0-651b02df8042",
   "metadata": {},
   "outputs": [
    {
     "name": "stdout",
     "output_type": "stream",
     "text": [
      "Object type features: Index(['Name', 'Sex', 'Ticket', 'Cabin', 'Embarked'], dtype='object')\n",
      "Numeric type features: Index(['Survived', 'Pclass', 'Age', 'SibSp', 'Parch', 'Fare', 'if_female',\n",
      "       'if_embarked_C', 'if_embarked_Q', 'miss_Embarked'],\n",
      "      dtype='object')\n",
      "(891, 15)\n"
     ]
    }
   ],
   "source": [
    "df = pd.read_csv('../../ML-datasets/titanic.csv')\n",
    "\n",
    "df = df.drop(columns='PassengerId')\n",
    "df['if_female'] = (df.Sex=='female').astype('int')\n",
    "df['if_embarked_C'] = (df.Embarked=='C').astype('int')\n",
    "df['if_embarked_Q'] = (df.Embarked=='Q').astype('int')\n",
    "df['miss_Embarked'] = df.Embarked.isna().astype('int')\n",
    "\n",
    "target = 'Survived'\n",
    "\n",
    "print(f\"Object type features: {df.columns[df.dtypes=='object']}\")\n",
    "\n",
    "print(f\"Numeric type features: {df.columns[df.dtypes!='object']}\")\n",
    "\n",
    "print(df.shape)"
   ]
  },
  {
   "cell_type": "code",
   "execution_count": 6,
   "id": "12e2b7b5-66fd-4363-9ae6-c5e0319ffa9b",
   "metadata": {},
   "outputs": [
    {
     "data": {
      "text/plain": [
       "Survived           0\n",
       "Pclass             0\n",
       "Name               0\n",
       "Sex                0\n",
       "Age              177\n",
       "SibSp              0\n",
       "Parch              0\n",
       "Ticket             0\n",
       "Fare               0\n",
       "Cabin            687\n",
       "Embarked           2\n",
       "if_female          0\n",
       "if_embarked_C      0\n",
       "if_embarked_Q      0\n",
       "miss_Embarked      0\n",
       "dtype: int64"
      ]
     },
     "execution_count": 6,
     "metadata": {},
     "output_type": "execute_result"
    }
   ],
   "source": [
    "df.isna().sum()"
   ]
  },
  {
   "cell_type": "code",
   "execution_count": 7,
   "id": "4fc68c34-e12b-4abf-b72b-4493924b50b5",
   "metadata": {},
   "outputs": [
    {
     "data": {
      "text/html": [
       "<div>\n",
       "<style scoped>\n",
       "    .dataframe tbody tr th:only-of-type {\n",
       "        vertical-align: middle;\n",
       "    }\n",
       "\n",
       "    .dataframe tbody tr th {\n",
       "        vertical-align: top;\n",
       "    }\n",
       "\n",
       "    .dataframe thead th {\n",
       "        text-align: right;\n",
       "    }\n",
       "</style>\n",
       "<table border=\"1\" class=\"dataframe\">\n",
       "  <thead>\n",
       "    <tr style=\"text-align: right;\">\n",
       "      <th></th>\n",
       "      <th>Survived</th>\n",
       "      <th>Pclass</th>\n",
       "      <th>Name</th>\n",
       "      <th>Sex</th>\n",
       "      <th>Age</th>\n",
       "      <th>SibSp</th>\n",
       "      <th>Parch</th>\n",
       "      <th>Ticket</th>\n",
       "      <th>Fare</th>\n",
       "      <th>Cabin</th>\n",
       "      <th>Embarked</th>\n",
       "      <th>if_female</th>\n",
       "      <th>if_embarked_C</th>\n",
       "      <th>if_embarked_Q</th>\n",
       "      <th>miss_Embarked</th>\n",
       "    </tr>\n",
       "  </thead>\n",
       "  <tbody>\n",
       "    <tr>\n",
       "      <th>61</th>\n",
       "      <td>1</td>\n",
       "      <td>1</td>\n",
       "      <td>Icard, Miss. Amelie</td>\n",
       "      <td>female</td>\n",
       "      <td>38.0</td>\n",
       "      <td>0</td>\n",
       "      <td>0</td>\n",
       "      <td>113572</td>\n",
       "      <td>80.0</td>\n",
       "      <td>B28</td>\n",
       "      <td>NaN</td>\n",
       "      <td>1</td>\n",
       "      <td>0</td>\n",
       "      <td>0</td>\n",
       "      <td>1</td>\n",
       "    </tr>\n",
       "    <tr>\n",
       "      <th>829</th>\n",
       "      <td>1</td>\n",
       "      <td>1</td>\n",
       "      <td>Stone, Mrs. George Nelson (Martha Evelyn)</td>\n",
       "      <td>female</td>\n",
       "      <td>62.0</td>\n",
       "      <td>0</td>\n",
       "      <td>0</td>\n",
       "      <td>113572</td>\n",
       "      <td>80.0</td>\n",
       "      <td>B28</td>\n",
       "      <td>NaN</td>\n",
       "      <td>1</td>\n",
       "      <td>0</td>\n",
       "      <td>0</td>\n",
       "      <td>1</td>\n",
       "    </tr>\n",
       "  </tbody>\n",
       "</table>\n",
       "</div>"
      ],
      "text/plain": [
       "     Survived  Pclass                                       Name     Sex  \\\n",
       "61          1       1                        Icard, Miss. Amelie  female   \n",
       "829         1       1  Stone, Mrs. George Nelson (Martha Evelyn)  female   \n",
       "\n",
       "      Age  SibSp  Parch  Ticket  Fare Cabin Embarked  if_female  \\\n",
       "61   38.0      0      0  113572  80.0   B28      NaN          1   \n",
       "829  62.0      0      0  113572  80.0   B28      NaN          1   \n",
       "\n",
       "     if_embarked_C  if_embarked_Q  miss_Embarked  \n",
       "61               0              0              1  \n",
       "829              0              0              1  "
      ]
     },
     "execution_count": 7,
     "metadata": {},
     "output_type": "execute_result"
    }
   ],
   "source": [
    "df[df.Embarked.isna()]"
   ]
  },
  {
   "cell_type": "code",
   "execution_count": 8,
   "id": "46b1d2ad-1bf2-4e16-8597-889ed87640d6",
   "metadata": {},
   "outputs": [
    {
     "data": {
      "text/plain": [
       "['Name', 'Sex', 'Ticket', 'Cabin', 'Embarked']"
      ]
     },
     "execution_count": 8,
     "metadata": {},
     "output_type": "execute_result"
    }
   ],
   "source": [
    "list(df.columns[df.dtypes=='object'])"
   ]
  },
  {
   "cell_type": "code",
   "execution_count": 9,
   "id": "440fd443-5707-4f6c-8b63-aa34053aefde",
   "metadata": {},
   "outputs": [
    {
     "data": {
      "text/plain": [
       "S    644\n",
       "C    168\n",
       "Q     77\n",
       "Name: Embarked, dtype: int64"
      ]
     },
     "execution_count": 9,
     "metadata": {},
     "output_type": "execute_result"
    }
   ],
   "source": [
    "df.Embarked.value_counts()"
   ]
  },
  {
   "cell_type": "code",
   "execution_count": 10,
   "id": "88ff2506-00e9-409d-a905-fa2a2c28f0c2",
   "metadata": {},
   "outputs": [
    {
     "data": {
      "text/plain": [
       "male      577\n",
       "female    314\n",
       "Name: Sex, dtype: int64"
      ]
     },
     "execution_count": 10,
     "metadata": {},
     "output_type": "execute_result"
    }
   ],
   "source": [
    "df.Sex.value_counts()"
   ]
  },
  {
   "cell_type": "code",
   "execution_count": 11,
   "id": "b3540ea9-f563-4350-8276-16abfce8ded2",
   "metadata": {},
   "outputs": [
    {
     "data": {
      "text/plain": [
       "0    577\n",
       "1    314\n",
       "Name: if_female, dtype: int64"
      ]
     },
     "execution_count": 11,
     "metadata": {},
     "output_type": "execute_result"
    }
   ],
   "source": [
    "df.if_female.value_counts()"
   ]
  },
  {
   "cell_type": "code",
   "execution_count": 12,
   "id": "465d6319-39e4-41be-9348-54a538cd9158",
   "metadata": {},
   "outputs": [
    {
     "name": "stdout",
     "output_type": "stream",
     "text": [
      "Survived           0\n",
      "Pclass             0\n",
      "Age              177\n",
      "SibSp              0\n",
      "Parch              0\n",
      "Fare               0\n",
      "if_female          0\n",
      "if_embarked_C      0\n",
      "if_embarked_Q      0\n",
      "miss_Embarked      0\n",
      "dtype: int64\n"
     ]
    }
   ],
   "source": [
    "df_num = df[df.columns[df.dtypes!='object']]\n",
    "print(df_num.isna().sum())"
   ]
  },
  {
   "cell_type": "markdown",
   "id": "5523b65b-23f7-4142-af7a-a4be68afc4f8",
   "metadata": {},
   "source": [
    "## How to deal with missing values"
   ]
  },
  {
   "cell_type": "markdown",
   "id": "1dd1ef9a-5329-4172-b75f-1d8e9e0cacdc",
   "metadata": {},
   "source": [
    "### 1. Drop rows with any missing data"
   ]
  },
  {
   "cell_type": "code",
   "execution_count": 13,
   "id": "5a438dbc-234e-479c-aa44-ed1ef05a8cf6",
   "metadata": {},
   "outputs": [
    {
     "name": "stdout",
     "output_type": "stream",
     "text": [
      "Survived         0\n",
      "Pclass           0\n",
      "Age              0\n",
      "SibSp            0\n",
      "Parch            0\n",
      "Fare             0\n",
      "if_female        0\n",
      "if_embarked_C    0\n",
      "if_embarked_Q    0\n",
      "miss_Embarked    0\n",
      "dtype: int64\n"
     ]
    }
   ],
   "source": [
    "df_nonmiss = df_num.dropna(subset = [\"Age\"])\n",
    "\n",
    "# x = x.dropna()\n",
    "\n",
    "print(df_nonmiss.isna().sum())\n",
    "y = df_nonmiss.pop(target)\n",
    "x = df_nonmiss"
   ]
  },
  {
   "cell_type": "code",
   "execution_count": 14,
   "id": "8ff7409c-deb8-4bcf-bc03-a707efd921bf",
   "metadata": {},
   "outputs": [
    {
     "name": "stdout",
     "output_type": "stream",
     "text": [
      "(499, 9) (215, 9)\n",
      "Accuracy:  0.828\n",
      "Precision: 0.750\n",
      "Recall:    0.779\n",
      "F1:        0.764\n"
     ]
    }
   ],
   "source": [
    "X_train,X_test,y_train,y_test=train_test_split(x, y, train_size = 0.7, random_state=412)\n",
    "print(X_train.shape, X_test.shape)\n",
    "\n",
    "lin_model = LinearRegression().fit(X_train, y_train)\n",
    "y_pred_prob = lin_model.predict(X_test)\n",
    "y_pred = (y_pred_prob > 0.5).astype('int')\n",
    "score_prediction(y_test, y_pred)"
   ]
  },
  {
   "cell_type": "markdown",
   "id": "4e8c128c-5398-4146-85d2-8768ce9be56f",
   "metadata": {
    "tags": []
   },
   "source": [
    "### 2. Use mean values"
   ]
  },
  {
   "cell_type": "code",
   "execution_count": 15,
   "id": "25b0bfe0-f23d-40f3-a059-7cfa2f24a6e5",
   "metadata": {},
   "outputs": [
    {
     "name": "stdout",
     "output_type": "stream",
     "text": [
      "Survived         0\n",
      "Pclass           0\n",
      "Age              0\n",
      "SibSp            0\n",
      "Parch            0\n",
      "Fare             0\n",
      "if_female        0\n",
      "if_embarked_C    0\n",
      "if_embarked_Q    0\n",
      "miss_Embarked    0\n",
      "dtype: int64\n"
     ]
    }
   ],
   "source": [
    "df_nonmiss = df_num.fillna(df_num.mean())\n",
    "print(df_nonmiss.isna().sum())\n",
    "\n",
    "y = df_nonmiss.pop(target)\n",
    "x = df_nonmiss"
   ]
  },
  {
   "cell_type": "code",
   "execution_count": 16,
   "id": "5d4d1377-0afc-4de9-b6be-66d72dd9e25a",
   "metadata": {},
   "outputs": [
    {
     "name": "stdout",
     "output_type": "stream",
     "text": [
      "(623, 9) (268, 9)\n",
      "Accuracy:  0.806\n",
      "Precision: 0.768\n",
      "Recall:    0.724\n",
      "F1:        0.745\n"
     ]
    }
   ],
   "source": [
    "X_train,X_test,y_train,y_test=train_test_split(x, y, train_size = 0.7, random_state=412)\n",
    "print(X_train.shape, X_test.shape)\n",
    "\n",
    "lin_model = LinearRegression().fit(X_train, y_train)\n",
    "y_pred_prob = lin_model.predict(X_test)\n",
    "y_pred = (y_pred_prob > 0.5).astype('int')\n",
    "score_prediction(y_test, y_pred)"
   ]
  },
  {
   "cell_type": "markdown",
   "id": "20067a33-cd85-411d-9189-e8f30806da27",
   "metadata": {
    "tags": []
   },
   "source": [
    "### 3. Use zero values"
   ]
  },
  {
   "cell_type": "code",
   "execution_count": 17,
   "id": "7c0e3fbd-0d2d-4405-9605-0aa753b4d445",
   "metadata": {},
   "outputs": [
    {
     "name": "stdout",
     "output_type": "stream",
     "text": [
      "Survived         0\n",
      "Pclass           0\n",
      "Age              0\n",
      "SibSp            0\n",
      "Parch            0\n",
      "Fare             0\n",
      "if_female        0\n",
      "if_embarked_C    0\n",
      "if_embarked_Q    0\n",
      "miss_Embarked    0\n",
      "dtype: int64\n"
     ]
    }
   ],
   "source": [
    "df_nonmiss = df_num.fillna(0)\n",
    "print(df_nonmiss.isna().sum())\n",
    "\n",
    "y = df_nonmiss.pop(target)\n",
    "x = df_nonmiss"
   ]
  },
  {
   "cell_type": "code",
   "execution_count": 18,
   "id": "b707497a-58e8-448c-b8d4-cecb80d37327",
   "metadata": {},
   "outputs": [
    {
     "name": "stdout",
     "output_type": "stream",
     "text": [
      "(623, 9) (268, 9)\n",
      "Accuracy:  0.795\n",
      "Precision: 0.755\n",
      "Recall:    0.705\n",
      "F1:        0.729\n"
     ]
    }
   ],
   "source": [
    "X_train,X_test,y_train,y_test=train_test_split(x, y, train_size = 0.7, random_state=412)\n",
    "print(X_train.shape, X_test.shape)\n",
    "\n",
    "lin_model = LinearRegression().fit(X_train, y_train)\n",
    "y_pred_prob = lin_model.predict(X_test)\n",
    "y_pred = (y_pred_prob > 0.5).astype('int')\n",
    "score_prediction(y_test, y_pred)"
   ]
  },
  {
   "cell_type": "markdown",
   "id": "d248ea61-2589-4048-bad1-b379955b558c",
   "metadata": {},
   "source": [
    "### 4. Use mean values + missing_age feature"
   ]
  },
  {
   "cell_type": "code",
   "execution_count": 119,
   "id": "2cc1f8b2-7c74-4016-8b71-034cc0eec5a9",
   "metadata": {},
   "outputs": [
    {
     "data": {
      "text/html": [
       "<div>\n",
       "<style scoped>\n",
       "    .dataframe tbody tr th:only-of-type {\n",
       "        vertical-align: middle;\n",
       "    }\n",
       "\n",
       "    .dataframe tbody tr th {\n",
       "        vertical-align: top;\n",
       "    }\n",
       "\n",
       "    .dataframe thead th {\n",
       "        text-align: right;\n",
       "    }\n",
       "</style>\n",
       "<table border=\"1\" class=\"dataframe\">\n",
       "  <thead>\n",
       "    <tr style=\"text-align: right;\">\n",
       "      <th></th>\n",
       "      <th>Pclass</th>\n",
       "      <th>Age</th>\n",
       "      <th>SibSp</th>\n",
       "      <th>Parch</th>\n",
       "      <th>Fare</th>\n",
       "      <th>if_female</th>\n",
       "      <th>if_embarked_C</th>\n",
       "      <th>if_embarked_Q</th>\n",
       "      <th>miss_Embarked</th>\n",
       "      <th>miss_age</th>\n",
       "    </tr>\n",
       "  </thead>\n",
       "  <tbody>\n",
       "    <tr>\n",
       "      <th>886</th>\n",
       "      <td>2</td>\n",
       "      <td>27.0000</td>\n",
       "      <td>0</td>\n",
       "      <td>0</td>\n",
       "      <td>13.0000</td>\n",
       "      <td>0</td>\n",
       "      <td>0</td>\n",
       "      <td>0</td>\n",
       "      <td>0</td>\n",
       "      <td>0</td>\n",
       "    </tr>\n",
       "    <tr>\n",
       "      <th>887</th>\n",
       "      <td>1</td>\n",
       "      <td>19.0000</td>\n",
       "      <td>0</td>\n",
       "      <td>0</td>\n",
       "      <td>30.0000</td>\n",
       "      <td>1</td>\n",
       "      <td>0</td>\n",
       "      <td>0</td>\n",
       "      <td>0</td>\n",
       "      <td>0</td>\n",
       "    </tr>\n",
       "    <tr>\n",
       "      <th>888</th>\n",
       "      <td>3</td>\n",
       "      <td>29.6991</td>\n",
       "      <td>1</td>\n",
       "      <td>2</td>\n",
       "      <td>23.4500</td>\n",
       "      <td>1</td>\n",
       "      <td>0</td>\n",
       "      <td>0</td>\n",
       "      <td>0</td>\n",
       "      <td>1</td>\n",
       "    </tr>\n",
       "    <tr>\n",
       "      <th>889</th>\n",
       "      <td>1</td>\n",
       "      <td>26.0000</td>\n",
       "      <td>0</td>\n",
       "      <td>0</td>\n",
       "      <td>30.0000</td>\n",
       "      <td>0</td>\n",
       "      <td>1</td>\n",
       "      <td>0</td>\n",
       "      <td>0</td>\n",
       "      <td>0</td>\n",
       "    </tr>\n",
       "    <tr>\n",
       "      <th>890</th>\n",
       "      <td>3</td>\n",
       "      <td>32.0000</td>\n",
       "      <td>0</td>\n",
       "      <td>0</td>\n",
       "      <td>7.7500</td>\n",
       "      <td>0</td>\n",
       "      <td>0</td>\n",
       "      <td>1</td>\n",
       "      <td>0</td>\n",
       "      <td>0</td>\n",
       "    </tr>\n",
       "  </tbody>\n",
       "</table>\n",
       "</div>"
      ],
      "text/plain": [
       "     Pclass     Age  SibSp  Parch    Fare  if_female  if_embarked_C  \\\n",
       "886       2 27.0000      0      0 13.0000          0              0   \n",
       "887       1 19.0000      0      0 30.0000          1              0   \n",
       "888       3 29.6991      1      2 23.4500          1              0   \n",
       "889       1 26.0000      0      0 30.0000          0              1   \n",
       "890       3 32.0000      0      0  7.7500          0              0   \n",
       "\n",
       "     if_embarked_Q  miss_Embarked  miss_age  \n",
       "886              0              0         0  \n",
       "887              0              0         0  \n",
       "888              0              0         1  \n",
       "889              0              0         0  \n",
       "890              1              0         0  "
      ]
     },
     "execution_count": 119,
     "metadata": {},
     "output_type": "execute_result"
    }
   ],
   "source": [
    "df_nonmiss = df_num.copy()\n",
    "df_nonmiss['miss_age'] = df_nonmiss.Age.isna().astype('int')\n",
    "age_mean = df_nonmiss.Age.mean()\n",
    "df_nonmiss.loc[df_nonmiss.Age.isna(), 'Age'] = age_mean\n",
    "\n",
    "y = df_nonmiss.pop(target)\n",
    "x = df_nonmiss\n",
    "\n",
    "df_nonmiss.tail()"
   ]
  },
  {
   "cell_type": "code",
   "execution_count": 120,
   "id": "342ffd58-55e3-475a-84fb-fd436fb2ec93",
   "metadata": {},
   "outputs": [
    {
     "data": {
      "image/png": "[encoded data removed]",
      "text/plain": [
       "<Figure size 1008x792 with 2 Axes>"
      ]
     },
     "metadata": {
      "needs_background": "light"
     },
     "output_type": "display_data"
    }
   ],
   "source": [
    "corr_matrix = x.corr()\n",
    "\n",
    "corr_plot(corr_matrix, \"feature correlation\")"
   ]
  },
  {
   "cell_type": "code",
   "execution_count": 121,
   "id": "7d0187be-a14e-4324-b9c2-62fc4ec11a4e",
   "metadata": {},
   "outputs": [
    {
     "name": "stdout",
     "output_type": "stream",
     "text": [
      "(623, 10) (268, 10)\n",
      "Accuracy:  0.821\n",
      "Precision: 0.794\n",
      "Recall:    0.733\n",
      "F1:        0.762\n"
     ]
    }
   ],
   "source": [
    "X_train,X_test,y_train,y_test=train_test_split(x, y, train_size = 0.7, random_state=412)\n",
    "print(X_train.shape, X_test.shape)\n",
    "\n",
    "lin_model = LinearRegression().fit(X_train, y_train)\n",
    "y_pred_prob = lin_model.predict(X_test)\n",
    "y_pred = (y_pred_prob > 0.5).astype('int')\n",
    "score_prediction(y_test, y_pred)"
   ]
  },
  {
   "cell_type": "markdown",
   "id": "f5acf90d-5b5a-4cfa-aca7-aff878c5cfb7",
   "metadata": {},
   "source": [
    "### 5. Use zero values + missing_age feature"
   ]
  },
  {
   "cell_type": "code",
   "execution_count": 21,
   "id": "8147fd5a-cdb6-43ed-9d3b-3e10e8c8a8f5",
   "metadata": {},
   "outputs": [
    {
     "data": {
      "text/html": [
       "<div>\n",
       "<style scoped>\n",
       "    .dataframe tbody tr th:only-of-type {\n",
       "        vertical-align: middle;\n",
       "    }\n",
       "\n",
       "    .dataframe tbody tr th {\n",
       "        vertical-align: top;\n",
       "    }\n",
       "\n",
       "    .dataframe thead th {\n",
       "        text-align: right;\n",
       "    }\n",
       "</style>\n",
       "<table border=\"1\" class=\"dataframe\">\n",
       "  <thead>\n",
       "    <tr style=\"text-align: right;\">\n",
       "      <th></th>\n",
       "      <th>Pclass</th>\n",
       "      <th>Age</th>\n",
       "      <th>SibSp</th>\n",
       "      <th>Parch</th>\n",
       "      <th>Fare</th>\n",
       "      <th>if_female</th>\n",
       "      <th>if_embarked_C</th>\n",
       "      <th>if_embarked_Q</th>\n",
       "      <th>miss_Embarked</th>\n",
       "      <th>miss_age</th>\n",
       "    </tr>\n",
       "  </thead>\n",
       "  <tbody>\n",
       "    <tr>\n",
       "      <th>886</th>\n",
       "      <td>2</td>\n",
       "      <td>27.0</td>\n",
       "      <td>0</td>\n",
       "      <td>0</td>\n",
       "      <td>13.00</td>\n",
       "      <td>0</td>\n",
       "      <td>0</td>\n",
       "      <td>0</td>\n",
       "      <td>0</td>\n",
       "      <td>0</td>\n",
       "    </tr>\n",
       "    <tr>\n",
       "      <th>887</th>\n",
       "      <td>1</td>\n",
       "      <td>19.0</td>\n",
       "      <td>0</td>\n",
       "      <td>0</td>\n",
       "      <td>30.00</td>\n",
       "      <td>1</td>\n",
       "      <td>0</td>\n",
       "      <td>0</td>\n",
       "      <td>0</td>\n",
       "      <td>0</td>\n",
       "    </tr>\n",
       "    <tr>\n",
       "      <th>888</th>\n",
       "      <td>3</td>\n",
       "      <td>0.0</td>\n",
       "      <td>1</td>\n",
       "      <td>2</td>\n",
       "      <td>23.45</td>\n",
       "      <td>1</td>\n",
       "      <td>0</td>\n",
       "      <td>0</td>\n",
       "      <td>0</td>\n",
       "      <td>1</td>\n",
       "    </tr>\n",
       "    <tr>\n",
       "      <th>889</th>\n",
       "      <td>1</td>\n",
       "      <td>26.0</td>\n",
       "      <td>0</td>\n",
       "      <td>0</td>\n",
       "      <td>30.00</td>\n",
       "      <td>0</td>\n",
       "      <td>1</td>\n",
       "      <td>0</td>\n",
       "      <td>0</td>\n",
       "      <td>0</td>\n",
       "    </tr>\n",
       "    <tr>\n",
       "      <th>890</th>\n",
       "      <td>3</td>\n",
       "      <td>32.0</td>\n",
       "      <td>0</td>\n",
       "      <td>0</td>\n",
       "      <td>7.75</td>\n",
       "      <td>0</td>\n",
       "      <td>0</td>\n",
       "      <td>1</td>\n",
       "      <td>0</td>\n",
       "      <td>0</td>\n",
       "    </tr>\n",
       "  </tbody>\n",
       "</table>\n",
       "</div>"
      ],
      "text/plain": [
       "     Pclass   Age  SibSp  Parch   Fare  if_female  if_embarked_C  \\\n",
       "886       2  27.0      0      0  13.00          0              0   \n",
       "887       1  19.0      0      0  30.00          1              0   \n",
       "888       3   0.0      1      2  23.45          1              0   \n",
       "889       1  26.0      0      0  30.00          0              1   \n",
       "890       3  32.0      0      0   7.75          0              0   \n",
       "\n",
       "     if_embarked_Q  miss_Embarked  miss_age  \n",
       "886              0              0         0  \n",
       "887              0              0         0  \n",
       "888              0              0         1  \n",
       "889              0              0         0  \n",
       "890              1              0         0  "
      ]
     },
     "execution_count": 21,
     "metadata": {},
     "output_type": "execute_result"
    }
   ],
   "source": [
    "df_nonmiss = df_num.copy()\n",
    "df_nonmiss['miss_age'] = df_nonmiss.Age.isna().astype('int')\n",
    "df_nonmiss.loc[df_nonmiss.Age.isna(), 'Age'] = 0\n",
    "\n",
    "y = df_nonmiss.pop(target)\n",
    "x = df_nonmiss\n",
    "\n",
    "df_nonmiss.tail()"
   ]
  },
  {
   "cell_type": "code",
   "execution_count": 28,
   "id": "2eab3a9d-4885-4d4f-a16d-4c905b1eb13f",
   "metadata": {},
   "outputs": [
    {
     "name": "stdout",
     "output_type": "stream",
     "text": [
      "(623, 10) (268, 10)\n",
      "Accuracy:  0.821\n",
      "Precision: 0.794\n",
      "Recall:    0.733\n",
      "F1:        0.762\n"
     ]
    }
   ],
   "source": [
    "X_train,X_test,y_train,y_test=train_test_split(x, y, train_size = 0.7, random_state=412)\n",
    "print(X_train.shape, X_test.shape)\n",
    "\n",
    "lin_model = LinearRegression().fit(X_train, y_train)\n",
    "y_pred_prob = lin_model.predict(X_test)\n",
    "y_pred = (y_pred_prob > 0.5).astype('int')\n",
    "score_prediction(y_test, y_pred)"
   ]
  },
  {
   "cell_type": "code",
   "execution_count": 29,
   "id": "6be0dbef-17f1-4bcb-80c2-9758ae1875ad",
   "metadata": {},
   "outputs": [
    {
     "data": {
      "text/html": [
       "\n",
       "    <style>\n",
       "    table.eli5-weights tr:hover {\n",
       "        filter: brightness(85%);\n",
       "    }\n",
       "</style>\n",
       "\n",
       "\n",
       "\n",
       "    \n",
       "\n",
       "    \n",
       "\n",
       "    \n",
       "\n",
       "    \n",
       "\n",
       "    \n",
       "\n",
       "    \n",
       "\n",
       "\n",
       "    \n",
       "\n",
       "    \n",
       "\n",
       "    \n",
       "\n",
       "    \n",
       "\n",
       "    \n",
       "\n",
       "    \n",
       "\n",
       "\n",
       "    \n",
       "\n",
       "    \n",
       "\n",
       "    \n",
       "\n",
       "    \n",
       "\n",
       "    \n",
       "        <table class=\"eli5-weights eli5-feature-importances\" style=\"border-collapse: collapse; border: none; margin-top: 0em; table-layout: auto;\">\n",
       "    <thead>\n",
       "    <tr style=\"border: none;\">\n",
       "        <th style=\"padding: 0 1em 0 0.5em; text-align: right; border: none;\">Weight</th>\n",
       "        <th style=\"padding: 0 0.5em 0 0.5em; text-align: left; border: none;\">Feature</th>\n",
       "    </tr>\n",
       "    </thead>\n",
       "    <tbody>\n",
       "    \n",
       "        <tr style=\"background-color: hsl(120, 100.00%, 80.00%); border: none;\">\n",
       "            <td style=\"padding: 0 1em 0 0.5em; text-align: right; border: none;\">\n",
       "                0.4579\n",
       "                \n",
       "                    &plusmn; 0.1316\n",
       "                \n",
       "            </td>\n",
       "            <td style=\"padding: 0 0.5em 0 0.5em; text-align: left; border: none;\">\n",
       "                if_female\n",
       "            </td>\n",
       "        </tr>\n",
       "    \n",
       "        <tr style=\"background-color: hsl(120, 100.00%, 91.52%); border: none;\">\n",
       "            <td style=\"padding: 0 1em 0 0.5em; text-align: right; border: none;\">\n",
       "                0.1344\n",
       "                \n",
       "                    &plusmn; 0.0322\n",
       "                \n",
       "            </td>\n",
       "            <td style=\"padding: 0 0.5em 0 0.5em; text-align: left; border: none;\">\n",
       "                Pclass\n",
       "            </td>\n",
       "        </tr>\n",
       "    \n",
       "        <tr style=\"background-color: hsl(120, 100.00%, 96.09%); border: none;\">\n",
       "            <td style=\"padding: 0 1em 0 0.5em; text-align: right; border: none;\">\n",
       "                0.0444\n",
       "                \n",
       "                    &plusmn; 0.0206\n",
       "                \n",
       "            </td>\n",
       "            <td style=\"padding: 0 0.5em 0 0.5em; text-align: left; border: none;\">\n",
       "                Age\n",
       "            </td>\n",
       "        </tr>\n",
       "    \n",
       "        <tr style=\"background-color: hsl(120, 100.00%, 98.34%); border: none;\">\n",
       "            <td style=\"padding: 0 1em 0 0.5em; text-align: right; border: none;\">\n",
       "                0.0131\n",
       "                \n",
       "                    &plusmn; 0.0186\n",
       "                \n",
       "            </td>\n",
       "            <td style=\"padding: 0 0.5em 0 0.5em; text-align: left; border: none;\">\n",
       "                SibSp\n",
       "            </td>\n",
       "        </tr>\n",
       "    \n",
       "        <tr style=\"background-color: hsl(120, 100.00%, 98.59%); border: none;\">\n",
       "            <td style=\"padding: 0 1em 0 0.5em; text-align: right; border: none;\">\n",
       "                0.0104\n",
       "                \n",
       "                    &plusmn; 0.0138\n",
       "                \n",
       "            </td>\n",
       "            <td style=\"padding: 0 0.5em 0 0.5em; text-align: left; border: none;\">\n",
       "                if_embarked_C\n",
       "            </td>\n",
       "        </tr>\n",
       "    \n",
       "        <tr style=\"background-color: hsl(120, 100.00%, 99.09%); border: none;\">\n",
       "            <td style=\"padding: 0 1em 0 0.5em; text-align: right; border: none;\">\n",
       "                0.0055\n",
       "                \n",
       "                    &plusmn; 0.0147\n",
       "                \n",
       "            </td>\n",
       "            <td style=\"padding: 0 0.5em 0 0.5em; text-align: left; border: none;\">\n",
       "                if_embarked_Q\n",
       "            </td>\n",
       "        </tr>\n",
       "    \n",
       "        <tr style=\"background-color: hsl(120, 100.00%, 99.48%); border: none;\">\n",
       "            <td style=\"padding: 0 1em 0 0.5em; text-align: right; border: none;\">\n",
       "                0.0025\n",
       "                \n",
       "                    &plusmn; 0.0037\n",
       "                \n",
       "            </td>\n",
       "            <td style=\"padding: 0 0.5em 0 0.5em; text-align: left; border: none;\">\n",
       "                Fare\n",
       "            </td>\n",
       "        </tr>\n",
       "    \n",
       "        <tr style=\"background-color: hsl(120, 100.00%, 99.84%); border: none;\">\n",
       "            <td style=\"padding: 0 1em 0 0.5em; text-align: right; border: none;\">\n",
       "                0.0004\n",
       "                \n",
       "                    &plusmn; 0.0022\n",
       "                \n",
       "            </td>\n",
       "            <td style=\"padding: 0 0.5em 0 0.5em; text-align: left; border: none;\">\n",
       "                miss_Embarked\n",
       "            </td>\n",
       "        </tr>\n",
       "    \n",
       "        <tr style=\"background-color: hsl(120, 100.00%, 99.88%); border: none;\">\n",
       "            <td style=\"padding: 0 1em 0 0.5em; text-align: right; border: none;\">\n",
       "                0.0003\n",
       "                \n",
       "                    &plusmn; 0.0005\n",
       "                \n",
       "            </td>\n",
       "            <td style=\"padding: 0 0.5em 0 0.5em; text-align: left; border: none;\">\n",
       "                Parch\n",
       "            </td>\n",
       "        </tr>\n",
       "    \n",
       "        <tr style=\"background-color: hsl(0, 100.00%, 99.40%); border: none;\">\n",
       "            <td style=\"padding: 0 1em 0 0.5em; text-align: right; border: none;\">\n",
       "                -0.0031\n",
       "                \n",
       "                    &plusmn; 0.0042\n",
       "                \n",
       "            </td>\n",
       "            <td style=\"padding: 0 0.5em 0 0.5em; text-align: left; border: none;\">\n",
       "                miss_age\n",
       "            </td>\n",
       "        </tr>\n",
       "    \n",
       "    \n",
       "    </tbody>\n",
       "</table>\n",
       "    \n",
       "\n",
       "    \n",
       "\n",
       "\n",
       "    \n",
       "\n",
       "    \n",
       "\n",
       "    \n",
       "\n",
       "    \n",
       "\n",
       "    \n",
       "\n",
       "    \n",
       "\n",
       "\n",
       "\n"
      ],
      "text/plain": [
       "<IPython.core.display.HTML object>"
      ]
     },
     "execution_count": 29,
     "metadata": {},
     "output_type": "execute_result"
    }
   ],
   "source": [
    "lr_perm = PermutationImportance(lin_model, random_state=42).fit(X_test, y_test)\n",
    "eli5.show_weights(lr_perm, feature_names = X_test.columns.tolist())"
   ]
  },
  {
   "cell_type": "markdown",
   "id": "1bf42c85-f0ad-4b63-8713-c91716ec8639",
   "metadata": {},
   "source": [
    "### Let's investigate ROC_AUC"
   ]
  },
  {
   "cell_type": "code",
   "execution_count": 131,
   "id": "5c721376-de98-4649-9e27-a1ec8ecdfdd4",
   "metadata": {},
   "outputs": [
    {
     "data": {
      "text/plain": [
       "[0.0, 0.01, 0.02, 0.03, 0.04]"
      ]
     },
     "execution_count": 131,
     "metadata": {},
     "output_type": "execute_result"
    }
   ],
   "source": [
    "thresh_list = list(np.arange(0.0, 1.0, 0.01))\n",
    "thresh_list[0:5]"
   ]
  },
  {
   "cell_type": "markdown",
   "id": "57830fb9-247b-4c8e-89dd-635f458af66b",
   "metadata": {},
   "source": [
    "#### More features model"
   ]
  },
  {
   "cell_type": "code",
   "execution_count": 125,
   "id": "990eeda7-4c21-4bca-a524-53b4ec1dd209",
   "metadata": {},
   "outputs": [],
   "source": [
    "df_nonmiss = df_num.copy()\n",
    "df_nonmiss['miss_age'] = df_nonmiss.Age.isna().astype('int')\n",
    "age_mean = df_nonmiss.Age.mean()\n",
    "df_nonmiss.loc[df_nonmiss.Age.isna(), 'Age'] = age_mean\n",
    "\n",
    "y = df_nonmiss.pop(target)\n",
    "x = df_nonmiss"
   ]
  },
  {
   "cell_type": "code",
   "execution_count": 126,
   "id": "25cc3d30-71ea-4dee-9d12-0f75ffdb10fa",
   "metadata": {},
   "outputs": [
    {
     "name": "stdout",
     "output_type": "stream",
     "text": [
      "(623, 10) (268, 10)\n",
      "Accuracy:  0.821\n",
      "Precision: 0.794\n",
      "Recall:    0.733\n",
      "F1:        0.762\n"
     ]
    }
   ],
   "source": [
    "X_train,X_test,y_train,y_test=train_test_split(x, y, train_size = 0.7, random_state=412)\n",
    "print(X_train.shape, X_test.shape)\n",
    "\n",
    "lin_model = LinearRegression().fit(X_train, y_train)\n",
    "y_pred_prob = lin_model.predict(X_test)\n",
    "y_pred = (y_pred_prob > 0.5).astype('int')\n",
    "score_prediction(y_test, y_pred)"
   ]
  },
  {
   "cell_type": "code",
   "execution_count": 127,
   "id": "9ff14952-f786-44a7-b741-b7556adeb1da",
   "metadata": {},
   "outputs": [
    {
     "data": {
      "image/png": "[encoded data removed]",
      "text/plain": [
       "<Figure size 432x288 with 1 Axes>"
      ]
     },
     "metadata": {
      "needs_background": "light"
     },
     "output_type": "display_data"
    }
   ],
   "source": [
    "tpr_series = [tpr_thresh(thresh) for thresh in thresh_list]\n",
    "fpr_series = [fpr_thresh(thresh) for thresh in thresh_list]\n",
    "\n",
    "plt.plot(fpr_series, tpr_series)\n",
    "plt.title('ROC curve, all features')\n",
    "plt.show()"
   ]
  },
  {
   "cell_type": "markdown",
   "id": "06346222-daef-40c9-b050-74fd6f220835",
   "metadata": {},
   "source": [
    "#### Simple model"
   ]
  },
  {
   "cell_type": "code",
   "execution_count": 117,
   "id": "29746f95-70ec-417b-b0c1-1e343b20a24b",
   "metadata": {},
   "outputs": [
    {
     "name": "stdout",
     "output_type": "stream",
     "text": [
      "(623, 1) (268, 1)\n",
      "Accuracy:  0.687\n",
      "Precision: 0.667\n",
      "Recall:    0.400\n",
      "F1:        0.500\n"
     ]
    }
   ],
   "source": [
    "df_nonmiss = df_num.copy()\n",
    "\n",
    "y = df_nonmiss.pop(target)\n",
    "x = df_nonmiss[['Pclass']]\n",
    "X_train,X_test,y_train,y_test=train_test_split(x, y, train_size = 0.7, random_state=412)\n",
    "print(X_train.shape, X_test.shape)\n",
    "\n",
    "lin_model = LinearRegression().fit(X_train, y_train)\n",
    "y_pred_prob = lin_model.predict(X_test)\n",
    "y_pred = (y_pred_prob > 0.5).astype('int')\n",
    "score_prediction(y_test, y_pred)"
   ]
  },
  {
   "cell_type": "code",
   "execution_count": 118,
   "id": "fdb17483-1467-4d3e-8c43-b10dc4e3e02e",
   "metadata": {},
   "outputs": [
    {
     "data": {
      "image/png": "[encoded data removed]",
      "text/plain": [
       "<Figure size 432x288 with 1 Axes>"
      ]
     },
     "metadata": {
      "needs_background": "light"
     },
     "output_type": "display_data"
    }
   ],
   "source": [
    "tpr_series_1 = [tpr_thresh(thresh) for thresh in thresh_list]\n",
    "fpr_series_1 = [fpr_thresh(thresh) for thresh in thresh_list]\n",
    "\n",
    "plt.plot(fpr_series_1, tpr_series_1)\n",
    "plt.title('ROC curve, Pclass only')\n",
    "plt.show()"
   ]
  },
  {
   "cell_type": "code",
   "execution_count": 130,
   "id": "7c77adfc-95f1-4cdc-b4a7-ec1d87c0adce",
   "metadata": {},
   "outputs": [
    {
     "data": {
      "image/png": "[encoded data removed]",
      "text/plain": [
       "<Figure size 432x288 with 1 Axes>"
      ]
     },
     "metadata": {
      "needs_background": "light"
     },
     "output_type": "display_data"
    }
   ],
   "source": [
    "plt.plot(fpr_series, tpr_series, label='many features')\n",
    "plt.plot(fpr_series_1, tpr_series_1, label='simple model')\n",
    "plt.legend()\n",
    "plt.title('ROC curve, Pclass only')\n",
    "plt.show()"
   ]
  },
  {
   "cell_type": "code",
   "execution_count": 132,
   "id": "64a010ec-e450-488c-a4b7-995be519d005",
   "metadata": {},
   "outputs": [
    {
     "data": {
      "text/plain": [
       "(0.9523809523809523, 0.14285714285714285)"
      ]
     },
     "execution_count": 132,
     "metadata": {},
     "output_type": "execute_result"
    }
   ],
   "source": [
    "tpr_thresh(0.1), tpr_thresh(0.9)"
   ]
  },
  {
   "cell_type": "markdown",
   "id": "202c6903-7a67-4b3d-b8ae-a0496eebd0cc",
   "metadata": {},
   "source": [
    "### How accuracy depends on threshold"
   ]
  },
  {
   "cell_type": "code",
   "execution_count": 133,
   "id": "1e854ad4-bd91-4228-b3f0-df1d87ded0b6",
   "metadata": {},
   "outputs": [],
   "source": [
    "def accuracy_thresh(thresh, y_test, y_pred_prob):\n",
    "    y_pred = (y_pred_prob > thresh).astype('int')\n",
    "    return accuracy_score(y_test, y_pred)"
   ]
  },
  {
   "cell_type": "code",
   "execution_count": 142,
   "id": "d7a305ae-7edc-4319-b9bc-a15dde05ba53",
   "metadata": {},
   "outputs": [
    {
     "data": {
      "text/html": [
       "\n",
       "    <style>\n",
       "    table.eli5-weights tr:hover {\n",
       "        filter: brightness(85%);\n",
       "    }\n",
       "</style>\n",
       "\n",
       "\n",
       "\n",
       "    \n",
       "\n",
       "    \n",
       "\n",
       "    \n",
       "\n",
       "    \n",
       "\n",
       "    \n",
       "\n",
       "    \n",
       "\n",
       "\n",
       "    \n",
       "\n",
       "    \n",
       "\n",
       "    \n",
       "\n",
       "    \n",
       "\n",
       "    \n",
       "\n",
       "    \n",
       "\n",
       "\n",
       "    \n",
       "\n",
       "    \n",
       "\n",
       "    \n",
       "\n",
       "    \n",
       "\n",
       "    \n",
       "        <table class=\"eli5-weights eli5-feature-importances\" style=\"border-collapse: collapse; border: none; margin-top: 0em; table-layout: auto;\">\n",
       "    <thead>\n",
       "    <tr style=\"border: none;\">\n",
       "        <th style=\"padding: 0 1em 0 0.5em; text-align: right; border: none;\">Weight</th>\n",
       "        <th style=\"padding: 0 0.5em 0 0.5em; text-align: left; border: none;\">Feature</th>\n",
       "    </tr>\n",
       "    </thead>\n",
       "    <tbody>\n",
       "    \n",
       "        <tr style=\"background-color: hsl(120, 100.00%, 80.00%); border: none;\">\n",
       "            <td style=\"padding: 0 1em 0 0.5em; text-align: right; border: none;\">\n",
       "                0.5014\n",
       "                \n",
       "                    &plusmn; 0.1034\n",
       "                \n",
       "            </td>\n",
       "            <td style=\"padding: 0 0.5em 0 0.5em; text-align: left; border: none;\">\n",
       "                if_female\n",
       "            </td>\n",
       "        </tr>\n",
       "    \n",
       "        <tr style=\"background-color: hsl(120, 100.00%, 89.03%); border: none;\">\n",
       "            <td style=\"padding: 0 1em 0 0.5em; text-align: right; border: none;\">\n",
       "                0.2125\n",
       "                \n",
       "                    &plusmn; 0.0463\n",
       "                \n",
       "            </td>\n",
       "            <td style=\"padding: 0 0.5em 0 0.5em; text-align: left; border: none;\">\n",
       "                Pclass\n",
       "            </td>\n",
       "        </tr>\n",
       "    \n",
       "        <tr style=\"background-color: hsl(120, 100.00%, 95.16%); border: none;\">\n",
       "            <td style=\"padding: 0 1em 0 0.5em; text-align: right; border: none;\">\n",
       "                0.0660\n",
       "                \n",
       "                    &plusmn; 0.0634\n",
       "                \n",
       "            </td>\n",
       "            <td style=\"padding: 0 0.5em 0 0.5em; text-align: left; border: none;\">\n",
       "                Age\n",
       "            </td>\n",
       "        </tr>\n",
       "    \n",
       "        <tr style=\"background-color: hsl(120, 100.00%, 97.75%); border: none;\">\n",
       "            <td style=\"padding: 0 1em 0 0.5em; text-align: right; border: none;\">\n",
       "                0.0222\n",
       "                \n",
       "                    &plusmn; 0.0128\n",
       "                \n",
       "            </td>\n",
       "            <td style=\"padding: 0 0.5em 0 0.5em; text-align: left; border: none;\">\n",
       "                SibSp\n",
       "            </td>\n",
       "        </tr>\n",
       "    \n",
       "        <tr style=\"background-color: hsl(120, 100.00%, 99.20%); border: none;\">\n",
       "            <td style=\"padding: 0 1em 0 0.5em; text-align: right; border: none;\">\n",
       "                0.0051\n",
       "                \n",
       "                    &plusmn; 0.0036\n",
       "                \n",
       "            </td>\n",
       "            <td style=\"padding: 0 0.5em 0 0.5em; text-align: left; border: none;\">\n",
       "                if_embarked_C\n",
       "            </td>\n",
       "        </tr>\n",
       "    \n",
       "        <tr style=\"background-color: hsl(120, 100.00%, 99.47%); border: none;\">\n",
       "            <td style=\"padding: 0 1em 0 0.5em; text-align: right; border: none;\">\n",
       "                0.0028\n",
       "                \n",
       "                    &plusmn; 0.0052\n",
       "                \n",
       "            </td>\n",
       "            <td style=\"padding: 0 0.5em 0 0.5em; text-align: left; border: none;\">\n",
       "                if_embarked_Q\n",
       "            </td>\n",
       "        </tr>\n",
       "    \n",
       "        <tr style=\"background-color: hsl(0, 100.00%, 99.95%); border: none;\">\n",
       "            <td style=\"padding: 0 1em 0 0.5em; text-align: right; border: none;\">\n",
       "                -0.0001\n",
       "                \n",
       "                    &plusmn; 0.0001\n",
       "                \n",
       "            </td>\n",
       "            <td style=\"padding: 0 0.5em 0 0.5em; text-align: left; border: none;\">\n",
       "                Fare\n",
       "            </td>\n",
       "        </tr>\n",
       "    \n",
       "        <tr style=\"background-color: hsl(0, 100.00%, 99.70%); border: none;\">\n",
       "            <td style=\"padding: 0 1em 0 0.5em; text-align: right; border: none;\">\n",
       "                -0.0013\n",
       "                \n",
       "                    &plusmn; 0.0077\n",
       "                \n",
       "            </td>\n",
       "            <td style=\"padding: 0 0.5em 0 0.5em; text-align: left; border: none;\">\n",
       "                miss_Embarked\n",
       "            </td>\n",
       "        </tr>\n",
       "    \n",
       "        <tr style=\"background-color: hsl(0, 100.00%, 99.12%); border: none;\">\n",
       "            <td style=\"padding: 0 1em 0 0.5em; text-align: right; border: none;\">\n",
       "                -0.0057\n",
       "                \n",
       "                    &plusmn; 0.0064\n",
       "                \n",
       "            </td>\n",
       "            <td style=\"padding: 0 0.5em 0 0.5em; text-align: left; border: none;\">\n",
       "                Parch\n",
       "            </td>\n",
       "        </tr>\n",
       "    \n",
       "    \n",
       "    </tbody>\n",
       "</table>\n",
       "    \n",
       "\n",
       "    \n",
       "\n",
       "\n",
       "    \n",
       "\n",
       "    \n",
       "\n",
       "    \n",
       "\n",
       "    \n",
       "\n",
       "    \n",
       "\n",
       "    \n",
       "\n",
       "\n",
       "\n"
      ],
      "text/plain": [
       "<IPython.core.display.HTML object>"
      ]
     },
     "execution_count": 142,
     "metadata": {},
     "output_type": "execute_result"
    }
   ],
   "source": [
    "df_nonmiss = df_num.dropna(subset = [\"Age\"])\n",
    "\n",
    "y = df_nonmiss.pop(target)\n",
    "x = df_nonmiss\n",
    "X_train,X_test,y_train,y_test=train_test_split(x, y, train_size = 0.7, random_state=412)\n",
    "\n",
    "lin_model = LinearRegression().fit(X_train, y_train)\n",
    "y_pred_prob = lin_model.predict(X_test)\n",
    "lr_perm = PermutationImportance(lin_model, random_state=42).fit(X_test, y_test)\n",
    "eli5.show_weights(lr_perm, feature_names = X_test.columns.tolist())"
   ]
  },
  {
   "cell_type": "code",
   "execution_count": 146,
   "id": "8580083e-655d-45f2-a792-bc06fc346bb9",
   "metadata": {},
   "outputs": [
    {
     "data": {
      "image/png": "[encoded data removed]",
      "text/plain": [
       "<Figure size 432x288 with 1 Axes>"
      ]
     },
     "metadata": {
      "needs_background": "light"
     },
     "output_type": "display_data"
    }
   ],
   "source": [
    "accuracy_series = [accuracy_thresh(thresh, y_test, y_pred_prob) for thresh in thresh_list]\n",
    "plt.plot(thresh_list, accuracy_series, label='simple model')\n",
    "plt.legend()\n",
    "plt.title('Accuracy by threshold')\n",
    "plt.show()"
   ]
  },
  {
   "cell_type": "markdown",
   "id": "33561ef9-55c4-4d6a-89d9-70305107ab14",
   "metadata": {},
   "source": [
    "### HW 1: check (plot) precision_score, recall_score, f1_score for different threshold values"
   ]
  },
  {
   "cell_type": "code",
   "execution_count": 24,
   "id": "1d1ee5c7-c2f6-46f3-b0f9-993a8147aa2a",
   "metadata": {},
   "outputs": [],
   "source": []
  },
  {
   "cell_type": "code",
   "execution_count": 24,
   "id": "5ff9e424-f1b4-4994-bf2b-31f950b225e8",
   "metadata": {},
   "outputs": [],
   "source": []
  },
  {
   "cell_type": "code",
   "execution_count": 24,
   "id": "310d25a2-ec9e-4769-8fcf-fef3061d3279",
   "metadata": {},
   "outputs": [
    {
     "ename": "ModuleNotFoundError",
     "evalue": "No module named 'sklearn.grid_search'",
     "output_type": "error",
     "traceback": [
      "\u001b[0;31m---------------------------------------------------------------------------\u001b[0m",
      "\u001b[0;31mModuleNotFoundError\u001b[0m                       Traceback (most recent call last)",
      "Input \u001b[0;32mIn [24]\u001b[0m, in \u001b[0;36m<module>\u001b[0;34m\u001b[0m\n\u001b[1;32m      1\u001b[0m \u001b[38;5;28;01mfrom\u001b[39;00m \u001b[38;5;21;01msklearn\u001b[39;00m\u001b[38;5;21;01m.\u001b[39;00m\u001b[38;5;21;01mlinear_model\u001b[39;00m \u001b[38;5;28;01mimport\u001b[39;00m LogisticRegression\n\u001b[0;32m----> 2\u001b[0m \u001b[38;5;28;01mfrom\u001b[39;00m \u001b[38;5;21;01msklearn\u001b[39;00m\u001b[38;5;21;01m.\u001b[39;00m\u001b[38;5;21;01mgrid_search\u001b[39;00m \u001b[38;5;28;01mimport\u001b[39;00m GridSearchCV\n\u001b[1;32m      3\u001b[0m \u001b[38;5;28;01mfrom\u001b[39;00m \u001b[38;5;21;01msklearn\u001b[39;00m\u001b[38;5;21;01m.\u001b[39;00m\u001b[38;5;21;01mpreprocessing\u001b[39;00m \u001b[38;5;28;01mimport\u001b[39;00m LabelEncoder\n\u001b[1;32m      4\u001b[0m \u001b[38;5;28;01mfrom\u001b[39;00m \u001b[38;5;21;01msklearn\u001b[39;00m\u001b[38;5;21;01m.\u001b[39;00m\u001b[38;5;21;01mpreprocessing\u001b[39;00m \u001b[38;5;28;01mimport\u001b[39;00m StandardScaler\n",
      "\u001b[0;31mModuleNotFoundError\u001b[0m: No module named 'sklearn.grid_search'"
     ]
    }
   ],
   "source": [
    "from sklearn.linear_model import LogisticRegression\n",
    "from sklearn.grid_search import GridSearchCV\n",
    "from sklearn.preprocessing import LabelEncoder\n",
    "from sklearn.preprocessing import StandardScaler\n",
    "\n",
    "\n",
    "np.random.seed(42)\n",
    "\n",
    "train = pd.read_csv('../input/train.csv')\n",
    "x_train = train.drop(['id', 'species'], axis=1).values\n",
    "le = LabelEncoder().fit(train['species'])\n",
    "y_train = le.transform(train['species'])\n",
    "\n",
    "scaler = StandardScaler().fit(x_train)\n",
    "x_train = scaler.transform(x_train)\n",
    "\n",
    "params = {'C':[1, 10, 50, 100, 500, 1000, 2000], 'tol': [0.001, 0.0001, 0.005]}\n",
    "log_reg = LogisticRegression(solver='newton-cg', multi_class='multinomial')\n",
    "clf = GridSearchCV(log_reg, params, scoring='log_loss', refit='True', n_jobs=1, cv=5)\n",
    "clf.fit(x_train, y_train)\n",
    "\n",
    "print(\"best params: \" + str(clf.best_params_))\n",
    "for params, mean_score, scores in clf.grid_scores_:\n",
    "  print(\"%0.3f (+/-%0.03f) for %r\" % (mean_score, scores.std(), params))\n",
    "  print(scores)\n",
    "\n",
    "test = pd.read_csv('../input/test.csv')\n",
    "test_ids = test.pop('id')\n",
    "x_test = test.values\n",
    "scaler = StandardScaler().fit(x_test)\n",
    "x_test = scaler.transform(x_test)\n",
    "\n",
    "y_test = clf.predict_proba(x_test)\n",
    "\n",
    "submission = pd.DataFrame(y_test, index=test_ids, columns=le.classes_)\n",
    "submission.to_csv('submission.csv')"
   ]
  }
 ],
 "metadata": {
  "kernelspec": {
   "display_name": "Python 3 (ipykernel)",
   "language": "python",
   "name": "python3"
  },
  "language_info": {
   "codemirror_mode": {
    "name": "ipython",
    "version": 3
   },
   "file_extension": ".py",
   "mimetype": "text/x-python",
   "name": "python",
   "nbconvert_exporter": "python",
   "pygments_lexer": "ipython3",
   "version": "3.9.10"
  }
 },
 "nbformat": 4,
 "nbformat_minor": 5
}
