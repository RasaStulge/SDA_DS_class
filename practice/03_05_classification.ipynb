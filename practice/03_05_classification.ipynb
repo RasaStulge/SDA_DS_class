{
 "cells": [
  {
   "cell_type": "markdown",
   "id": "e4f3722d-9a1c-49ca-8ebe-412bb953c2fe",
   "metadata": {
    "tags": []
   },
   "source": [
    "# Classification with Imbalanced Data"
   ]
  },
  {
   "cell_type": "markdown",
   "id": "96841c21-0a26-4981-aba3-567533b20659",
   "metadata": {
    "tags": []
   },
   "source": [
    "## setup"
   ]
  },
  {
   "cell_type": "code",
   "execution_count": 5,
   "id": "3893b277-288d-4551-949a-08adf5d86bf0",
   "metadata": {},
   "outputs": [],
   "source": [
    "import pandas as pd\n",
    "import numpy as np # linear algebra\n",
    "from tqdm import tqdm\n",
    "\n",
    "import matplotlib.pyplot as plt\n",
    "import seaborn as sns\n",
    "\n",
    "sns.set()"
   ]
  },
  {
   "cell_type": "code",
   "execution_count": 55,
   "id": "a454533a-b209-4b0f-8205-025ea1a29ece",
   "metadata": {},
   "outputs": [],
   "source": [
    "from sklearn.metrics import accuracy_score, confusion_matrix, classification_report, SCORERS, precision_recall_curve\n",
    "from sklearn.metrics import average_precision_score, auc, roc_curve\n",
    "from sklearn.metrics import accuracy_score, precision_score, recall_score, f1_score\n",
    "from sklearn.model_selection import train_test_split, StratifiedKFold, KFold, LeaveOneOut\n",
    "\n",
    "from sklearn.linear_model import LinearRegression, LogisticRegression\n",
    "from sklearn.tree import DecisionTreeClassifier\n",
    "from sklearn import tree\n",
    "from sklearn import preprocessing\n",
    "\n",
    "import graphviz\n",
    "\n",
    "from sklearn.utils import resample"
   ]
  },
  {
   "cell_type": "code",
   "execution_count": 21,
   "id": "a3718255-2b90-4bef-845a-3c1802b0bd6d",
   "metadata": {},
   "outputs": [],
   "source": [
    "def score_prediction(y_test, y_pred):\n",
    "    print(f'Accuracy:  {accuracy_score(y_test, y_pred):.3f}')\n",
    "    print(f'Precision: {precision_score(y_test, y_pred):.3f}')\n",
    "    print(f'Recall:    {recall_score(y_test, y_pred):.3f}')\n",
    "    print(f'F1:        {f1_score(y_test, y_pred):.3f}')"
   ]
  },
  {
   "cell_type": "code",
   "execution_count": 2,
   "id": "955e8fb4-db62-447b-b8a5-36fa36045cb4",
   "metadata": {},
   "outputs": [],
   "source": [
    "%matplotlib inline\n",
    "%load_ext autoreload\n",
    "%autoreload 2"
   ]
  },
  {
   "cell_type": "markdown",
   "id": "25a6ae65-9275-4604-94ec-3f3d8ea7cf3a",
   "metadata": {
    "jp-MarkdownHeadingCollapsed": true,
    "tags": []
   },
   "source": [
    "## Credit Card problem"
   ]
  },
  {
   "cell_type": "markdown",
   "id": "5037bd3b-323a-4c39-a224-edcfd22d8a78",
   "metadata": {},
   "source": [
    "source: https://www.kaggle.com/mlg-ulb/creditcardfraud"
   ]
  },
  {
   "cell_type": "code",
   "execution_count": 3,
   "id": "4a67fb01-652a-4107-bb88-e0f8881e53b2",
   "metadata": {},
   "outputs": [
    {
     "data": {
      "text/html": [
       "<div>\n",
       "<style scoped>\n",
       "    .dataframe tbody tr th:only-of-type {\n",
       "        vertical-align: middle;\n",
       "    }\n",
       "\n",
       "    .dataframe tbody tr th {\n",
       "        vertical-align: top;\n",
       "    }\n",
       "\n",
       "    .dataframe thead th {\n",
       "        text-align: right;\n",
       "    }\n",
       "</style>\n",
       "<table border=\"1\" class=\"dataframe\">\n",
       "  <thead>\n",
       "    <tr style=\"text-align: right;\">\n",
       "      <th></th>\n",
       "      <th>Time</th>\n",
       "      <th>V1</th>\n",
       "      <th>V2</th>\n",
       "      <th>V3</th>\n",
       "      <th>V4</th>\n",
       "      <th>V5</th>\n",
       "      <th>V6</th>\n",
       "      <th>V7</th>\n",
       "      <th>V8</th>\n",
       "      <th>V9</th>\n",
       "      <th>...</th>\n",
       "      <th>V21</th>\n",
       "      <th>V22</th>\n",
       "      <th>V23</th>\n",
       "      <th>V24</th>\n",
       "      <th>V25</th>\n",
       "      <th>V26</th>\n",
       "      <th>V27</th>\n",
       "      <th>V28</th>\n",
       "      <th>Amount</th>\n",
       "      <th>Class</th>\n",
       "    </tr>\n",
       "  </thead>\n",
       "  <tbody>\n",
       "    <tr>\n",
       "      <th>0</th>\n",
       "      <td>0.0</td>\n",
       "      <td>-1.359807</td>\n",
       "      <td>-0.072781</td>\n",
       "      <td>2.536347</td>\n",
       "      <td>1.378155</td>\n",
       "      <td>-0.338321</td>\n",
       "      <td>0.462388</td>\n",
       "      <td>0.239599</td>\n",
       "      <td>0.098698</td>\n",
       "      <td>0.363787</td>\n",
       "      <td>...</td>\n",
       "      <td>-0.018307</td>\n",
       "      <td>0.277838</td>\n",
       "      <td>-0.110474</td>\n",
       "      <td>0.066928</td>\n",
       "      <td>0.128539</td>\n",
       "      <td>-0.189115</td>\n",
       "      <td>0.133558</td>\n",
       "      <td>-0.021053</td>\n",
       "      <td>149.62</td>\n",
       "      <td>0</td>\n",
       "    </tr>\n",
       "    <tr>\n",
       "      <th>1</th>\n",
       "      <td>0.0</td>\n",
       "      <td>1.191857</td>\n",
       "      <td>0.266151</td>\n",
       "      <td>0.166480</td>\n",
       "      <td>0.448154</td>\n",
       "      <td>0.060018</td>\n",
       "      <td>-0.082361</td>\n",
       "      <td>-0.078803</td>\n",
       "      <td>0.085102</td>\n",
       "      <td>-0.255425</td>\n",
       "      <td>...</td>\n",
       "      <td>-0.225775</td>\n",
       "      <td>-0.638672</td>\n",
       "      <td>0.101288</td>\n",
       "      <td>-0.339846</td>\n",
       "      <td>0.167170</td>\n",
       "      <td>0.125895</td>\n",
       "      <td>-0.008983</td>\n",
       "      <td>0.014724</td>\n",
       "      <td>2.69</td>\n",
       "      <td>0</td>\n",
       "    </tr>\n",
       "    <tr>\n",
       "      <th>2</th>\n",
       "      <td>1.0</td>\n",
       "      <td>-1.358354</td>\n",
       "      <td>-1.340163</td>\n",
       "      <td>1.773209</td>\n",
       "      <td>0.379780</td>\n",
       "      <td>-0.503198</td>\n",
       "      <td>1.800499</td>\n",
       "      <td>0.791461</td>\n",
       "      <td>0.247676</td>\n",
       "      <td>-1.514654</td>\n",
       "      <td>...</td>\n",
       "      <td>0.247998</td>\n",
       "      <td>0.771679</td>\n",
       "      <td>0.909412</td>\n",
       "      <td>-0.689281</td>\n",
       "      <td>-0.327642</td>\n",
       "      <td>-0.139097</td>\n",
       "      <td>-0.055353</td>\n",
       "      <td>-0.059752</td>\n",
       "      <td>378.66</td>\n",
       "      <td>0</td>\n",
       "    </tr>\n",
       "    <tr>\n",
       "      <th>3</th>\n",
       "      <td>1.0</td>\n",
       "      <td>-0.966272</td>\n",
       "      <td>-0.185226</td>\n",
       "      <td>1.792993</td>\n",
       "      <td>-0.863291</td>\n",
       "      <td>-0.010309</td>\n",
       "      <td>1.247203</td>\n",
       "      <td>0.237609</td>\n",
       "      <td>0.377436</td>\n",
       "      <td>-1.387024</td>\n",
       "      <td>...</td>\n",
       "      <td>-0.108300</td>\n",
       "      <td>0.005274</td>\n",
       "      <td>-0.190321</td>\n",
       "      <td>-1.175575</td>\n",
       "      <td>0.647376</td>\n",
       "      <td>-0.221929</td>\n",
       "      <td>0.062723</td>\n",
       "      <td>0.061458</td>\n",
       "      <td>123.50</td>\n",
       "      <td>0</td>\n",
       "    </tr>\n",
       "    <tr>\n",
       "      <th>4</th>\n",
       "      <td>2.0</td>\n",
       "      <td>-1.158233</td>\n",
       "      <td>0.877737</td>\n",
       "      <td>1.548718</td>\n",
       "      <td>0.403034</td>\n",
       "      <td>-0.407193</td>\n",
       "      <td>0.095921</td>\n",
       "      <td>0.592941</td>\n",
       "      <td>-0.270533</td>\n",
       "      <td>0.817739</td>\n",
       "      <td>...</td>\n",
       "      <td>-0.009431</td>\n",
       "      <td>0.798278</td>\n",
       "      <td>-0.137458</td>\n",
       "      <td>0.141267</td>\n",
       "      <td>-0.206010</td>\n",
       "      <td>0.502292</td>\n",
       "      <td>0.219422</td>\n",
       "      <td>0.215153</td>\n",
       "      <td>69.99</td>\n",
       "      <td>0</td>\n",
       "    </tr>\n",
       "  </tbody>\n",
       "</table>\n",
       "<p>5 rows × 31 columns</p>\n",
       "</div>"
      ],
      "text/plain": [
       "   Time        V1        V2        V3        V4        V5        V6        V7  \\\n",
       "0   0.0 -1.359807 -0.072781  2.536347  1.378155 -0.338321  0.462388  0.239599   \n",
       "1   0.0  1.191857  0.266151  0.166480  0.448154  0.060018 -0.082361 -0.078803   \n",
       "2   1.0 -1.358354 -1.340163  1.773209  0.379780 -0.503198  1.800499  0.791461   \n",
       "3   1.0 -0.966272 -0.185226  1.792993 -0.863291 -0.010309  1.247203  0.237609   \n",
       "4   2.0 -1.158233  0.877737  1.548718  0.403034 -0.407193  0.095921  0.592941   \n",
       "\n",
       "         V8        V9  ...       V21       V22       V23       V24       V25  \\\n",
       "0  0.098698  0.363787  ... -0.018307  0.277838 -0.110474  0.066928  0.128539   \n",
       "1  0.085102 -0.255425  ... -0.225775 -0.638672  0.101288 -0.339846  0.167170   \n",
       "2  0.247676 -1.514654  ...  0.247998  0.771679  0.909412 -0.689281 -0.327642   \n",
       "3  0.377436 -1.387024  ... -0.108300  0.005274 -0.190321 -1.175575  0.647376   \n",
       "4 -0.270533  0.817739  ... -0.009431  0.798278 -0.137458  0.141267 -0.206010   \n",
       "\n",
       "        V26       V27       V28  Amount  Class  \n",
       "0 -0.189115  0.133558 -0.021053  149.62      0  \n",
       "1  0.125895 -0.008983  0.014724    2.69      0  \n",
       "2 -0.139097 -0.055353 -0.059752  378.66      0  \n",
       "3 -0.221929  0.062723  0.061458  123.50      0  \n",
       "4  0.502292  0.219422  0.215153   69.99      0  \n",
       "\n",
       "[5 rows x 31 columns]"
      ]
     },
     "execution_count": 3,
     "metadata": {},
     "output_type": "execute_result"
    }
   ],
   "source": [
    "df = pd.read_csv('input/creditcard.csv')\n",
    "\n",
    "df.head()"
   ]
  },
  {
   "cell_type": "code",
   "execution_count": 7,
   "id": "ace72b1e-1d55-42cd-8eea-ffd77b90a775",
   "metadata": {},
   "outputs": [
    {
     "name": "stderr",
     "output_type": "stream",
     "text": [
      "/Users/giedrius/anaconda3/envs/scipy/lib/python3.9/site-packages/seaborn/_decorators.py:36: FutureWarning: Pass the following variable as a keyword arg: x. From version 0.12, the only valid positional argument will be `data`, and passing other arguments without an explicit keyword will result in an error or misinterpretation.\n",
      "  warnings.warn(\n"
     ]
    },
    {
     "data": {
      "image/png": "[encoded data removed]",
      "text/plain": [
       "<Figure size 432x288 with 1 Axes>"
      ]
     },
     "metadata": {},
     "output_type": "display_data"
    }
   ],
   "source": [
    "sns.countplot(df['Class']);"
   ]
  },
  {
   "cell_type": "code",
   "execution_count": 9,
   "id": "9230330f-8f32-49f0-96ef-c6b71a4b7cd8",
   "metadata": {},
   "outputs": [
    {
     "name": "stdout",
     "output_type": "stream",
     "text": [
      "Fraudulent transactions: 492; Good transactions: 284,315\n"
     ]
    }
   ],
   "source": [
    "good = df[df['Class']==0]\n",
    "fraud = df[df['Class']==1]\n",
    "\n",
    "print(f'Fraudulent transactions: {len(fraud):,}; Good transactions: {len(good):,}')"
   ]
  },
  {
   "cell_type": "markdown",
   "id": "8eadf71a-a9c1-4ee6-a68e-311fd7649a64",
   "metadata": {},
   "source": [
    "### Full sample"
   ]
  },
  {
   "cell_type": "code",
   "execution_count": 43,
   "id": "b6cc0ef4-276f-4d6e-827c-ba5add7d0bf0",
   "metadata": {},
   "outputs": [],
   "source": [
    "#spliting the data for target and features\n",
    "X = df.drop(columns=['Class'], axis=1)\n",
    "y = df['Class'] #.astype('int')"
   ]
  },
  {
   "cell_type": "code",
   "execution_count": 44,
   "id": "e9e07e17-8c63-4ae0-9aeb-ee5b4ac684f9",
   "metadata": {},
   "outputs": [
    {
     "name": "stdout",
     "output_type": "stream",
     "text": [
      "(199364, 30) (85443, 30)\n",
      "Ratio of fraudulent transactions in train dataset: 0.0017254870488152324, in test dataset: 0.0017321489179921118\n"
     ]
    }
   ],
   "source": [
    "X_train, X_test, y_train, y_test=train_test_split(X, y, train_size = 0.7, random_state=42, stratify=y) # \n",
    "print(X_train.shape, X_test.shape)\n",
    "print(f'Ratio of fraudulent transactions in train dataset: {y_train.mean()}, in test dataset: {y_test.mean()}')"
   ]
  },
  {
   "cell_type": "code",
   "execution_count": 50,
   "id": "ebd519e9-70cc-45d7-8276-9d52b7b62531",
   "metadata": {},
   "outputs": [
    {
     "name": "stdout",
     "output_type": "stream",
     "text": [
      "Accuracy:  0.998\n",
      "Precision: 0.000\n",
      "Recall:    0.000\n",
      "F1:        0.000\n"
     ]
    },
    {
     "name": "stderr",
     "output_type": "stream",
     "text": [
      "/Users/giedrius/anaconda3/envs/scipy/lib/python3.9/site-packages/sklearn/metrics/_classification.py:1318: UndefinedMetricWarning: Precision is ill-defined and being set to 0.0 due to no predicted samples. Use `zero_division` parameter to control this behavior.\n",
      "  _warn_prf(average, modifier, msg_start, len(result))\n"
     ]
    }
   ],
   "source": [
    "y_pred = np.zeros(y_test.shape)\n",
    "score_prediction(y_test, y_pred)"
   ]
  },
  {
   "cell_type": "code",
   "execution_count": 47,
   "id": "61c513b9-2595-40ad-a84a-313d67d00e65",
   "metadata": {},
   "outputs": [],
   "source": [
    "clf_tree = DecisionTreeClassifier(min_samples_split=5)\n",
    "model_tree = clf_tree.fit(X_train, y_train)"
   ]
  },
  {
   "cell_type": "code",
   "execution_count": 49,
   "id": "333a4bea-b498-462c-9f4d-a651f9553ce2",
   "metadata": {},
   "outputs": [
    {
     "name": "stdout",
     "output_type": "stream",
     "text": [
      "Accuracy:  0.999\n",
      "Precision: 0.765\n",
      "Recall:    0.703\n",
      "F1:        0.732\n"
     ]
    }
   ],
   "source": [
    "y_pred = model_tree.predict(X_test)\n",
    "score_prediction(y_test, y_pred)"
   ]
  },
  {
   "cell_type": "markdown",
   "id": "606fb689-b2d1-4660-8334-5bae1787d716",
   "metadata": {},
   "source": [
    "### Simple under sampling"
   ]
  },
  {
   "cell_type": "code",
   "execution_count": 72,
   "id": "ef0c60c2-8b90-429c-ae45-4f25c404d457",
   "metadata": {},
   "outputs": [],
   "source": [
    "df_majority = X_train[y_train == 0]\n",
    "df_minority = X_train[y_train == 1]\n",
    "size_minor = len(df_minority)\n",
    "\n",
    "y_majority = y_train[y_train == 0]\n",
    "y_minority = y_train[y_train == 1]\n",
    "\n",
    "# Downsample majority class\n",
    "df_majority_downsampled = resample(df_majority, \n",
    "                   replace=False,    # sample with replacement\n",
    "                   n_samples=size_minor,    # to match majority class\n",
    "                   random_state=42)  # reproducible results\n",
    "\n",
    "X_down_train = pd.concat([df_minority, df_majority_downsampled])\n",
    "# print(X_down_train.shape)\n",
    "\n",
    "y_majority_downsampled = y_majority[X_down.index]\n",
    "y_down_train = pd.concat([y_minority, y_majority_downsampled])\n",
    "# y_down_train.value_counts()\n",
    "\n",
    "# sns.countplot(y_down_train);"
   ]
  },
  {
   "cell_type": "code",
   "execution_count": 71,
   "id": "2511c1d0-113e-41f5-88cb-e40684a14afc",
   "metadata": {},
   "outputs": [
    {
     "name": "stdout",
     "output_type": "stream",
     "text": [
      "Accuracy:  0.876\n",
      "Precision: 0.012\n",
      "Recall:    0.885\n",
      "F1:        0.024\n"
     ]
    }
   ],
   "source": [
    "clf_tree_down = DecisionTreeClassifier(min_samples_split=5)\n",
    "model_tree_down = clf_tree_down.fit(X_down_train, y_down_train)\n",
    "y_pred = model_tree_down.predict(X_test)\n",
    "score_prediction(y_test, y_pred)"
   ]
  },
  {
   "cell_type": "code",
   "execution_count": 68,
   "id": "d859d92b-cbcb-4f34-b312-bb517a8df2bf",
   "metadata": {},
   "outputs": [
    {
     "data": {
      "text/plain": [
       "0.025304322821815394"
      ]
     },
     "execution_count": 68,
     "metadata": {},
     "output_type": "execute_result"
    }
   ],
   "source": [
    "f1_score(y_test, y_pred)"
   ]
  },
  {
   "cell_type": "code",
   "execution_count": 78,
   "id": "d19a791f-2d4d-482a-b18e-711b80a57dcc",
   "metadata": {},
   "outputs": [
    {
     "name": "stdout",
     "output_type": "stream",
     "text": [
      "Training sample size: 444, F1-score: 0.016\n",
      "Training sample size: 1,344, F1-score: 0.072\n",
      "Training sample size: 5,344, F1-score: 0.218\n",
      "Training sample size: 10,344, F1-score: 0.332\n",
      "Training sample size: 50,344, F1-score: 0.595\n",
      "Training sample size: 99,344, F1-score: 0.671\n"
     ]
    }
   ],
   "source": [
    "for size_minor in [100, 1000, 5000, 10000, 50000, 99000]:\n",
    "    \n",
    "    df_majority = X_train[y_train == 0]\n",
    "    df_minority = X_train[y_train == 1]\n",
    "\n",
    "    y_majority = y_train[y_train == 0]\n",
    "    y_minority = y_train[y_train == 1]\n",
    "\n",
    "    # Downsample majority class\n",
    "    df_majority_downsampled = resample(df_majority, \n",
    "                   replace=False,    # sample with replacement\n",
    "                   n_samples=size_minor,    # to match majority class\n",
    "                   random_state=42)  # reproducible results\n",
    "\n",
    "    X_down_train = pd.concat([df_minority, df_majority_downsampled])\n",
    "    # print(X_down_train.shape)\n",
    "\n",
    "    y_majority_downsampled = y_majority[df_majority_downsampled.index]\n",
    "    y_down_train = pd.concat([y_minority, y_majority_downsampled])\n",
    "    \n",
    "    clf_tree_down = DecisionTreeClassifier(min_samples_split=5)\n",
    "    model_tree_down = clf_tree_down.fit(X_down_train, y_down_train)\n",
    "    y_pred = model_tree_down.predict(X_test)\n",
    "    print(f'Training sample size: {len(X_down_train):,}, F1-score: {f1_score(y_test, y_pred):.3f}')"
   ]
  },
  {
   "cell_type": "markdown",
   "id": "2ea908d7-f4f9-44bf-92b9-dd280d3459cd",
   "metadata": {},
   "source": [
    "## Orange Telecom's Churn"
   ]
  },
  {
   "cell_type": "markdown",
   "id": "18bc4240-9133-438f-a57b-b7ebcae0943c",
   "metadata": {},
   "source": [
    "The Orange Telecom's Churn Dataset, which consists of cleaned customer activity data (features), along with a churn label specifying whether a customer canceled the subscription, will be used to develop predictive models. Two datasets are made available here: The churn-80 and churn-20 datasets can be downloaded.\n",
    "\n",
    "The two sets are from the same batch, but have been split by an 80/20 ratio. As more data is often desirable for developing ML models, let's use the larger set (that is, churn-80) for training and cross-validation purposes, and the smaller set (that is, churn-20) for final testing and model performance evaluation."
   ]
  },
  {
   "cell_type": "markdown",
   "id": "122e3960-6873-4941-954e-85a597d55150",
   "metadata": {},
   "source": [
    "https://www.kaggle.com/mnassrib/telecom-churn-datasets"
   ]
  },
  {
   "cell_type": "code",
   "execution_count": 81,
   "id": "1c8b60d9-0edb-4e11-9bb4-e2938f423ad4",
   "metadata": {},
   "outputs": [
    {
     "data": {
      "text/html": [
       "<div>\n",
       "<style scoped>\n",
       "    .dataframe tbody tr th:only-of-type {\n",
       "        vertical-align: middle;\n",
       "    }\n",
       "\n",
       "    .dataframe tbody tr th {\n",
       "        vertical-align: top;\n",
       "    }\n",
       "\n",
       "    .dataframe thead th {\n",
       "        text-align: right;\n",
       "    }\n",
       "</style>\n",
       "<table border=\"1\" class=\"dataframe\">\n",
       "  <thead>\n",
       "    <tr style=\"text-align: right;\">\n",
       "      <th></th>\n",
       "      <th>State</th>\n",
       "      <th>Account length</th>\n",
       "      <th>Area code</th>\n",
       "      <th>International plan</th>\n",
       "      <th>Voice mail plan</th>\n",
       "      <th>Number vmail messages</th>\n",
       "      <th>Total day minutes</th>\n",
       "      <th>Total day calls</th>\n",
       "      <th>Total day charge</th>\n",
       "      <th>Total eve minutes</th>\n",
       "      <th>Total eve calls</th>\n",
       "      <th>Total eve charge</th>\n",
       "      <th>Total night minutes</th>\n",
       "      <th>Total night calls</th>\n",
       "      <th>Total night charge</th>\n",
       "      <th>Total intl minutes</th>\n",
       "      <th>Total intl calls</th>\n",
       "      <th>Total intl charge</th>\n",
       "      <th>Customer service calls</th>\n",
       "      <th>Churn</th>\n",
       "    </tr>\n",
       "  </thead>\n",
       "  <tbody>\n",
       "    <tr>\n",
       "      <th>0</th>\n",
       "      <td>KS</td>\n",
       "      <td>128</td>\n",
       "      <td>415</td>\n",
       "      <td>No</td>\n",
       "      <td>Yes</td>\n",
       "      <td>25</td>\n",
       "      <td>265.1</td>\n",
       "      <td>110</td>\n",
       "      <td>45.07</td>\n",
       "      <td>197.4</td>\n",
       "      <td>99</td>\n",
       "      <td>16.78</td>\n",
       "      <td>244.7</td>\n",
       "      <td>91</td>\n",
       "      <td>11.01</td>\n",
       "      <td>10.0</td>\n",
       "      <td>3</td>\n",
       "      <td>2.70</td>\n",
       "      <td>1</td>\n",
       "      <td>False</td>\n",
       "    </tr>\n",
       "    <tr>\n",
       "      <th>1</th>\n",
       "      <td>OH</td>\n",
       "      <td>107</td>\n",
       "      <td>415</td>\n",
       "      <td>No</td>\n",
       "      <td>Yes</td>\n",
       "      <td>26</td>\n",
       "      <td>161.6</td>\n",
       "      <td>123</td>\n",
       "      <td>27.47</td>\n",
       "      <td>195.5</td>\n",
       "      <td>103</td>\n",
       "      <td>16.62</td>\n",
       "      <td>254.4</td>\n",
       "      <td>103</td>\n",
       "      <td>11.45</td>\n",
       "      <td>13.7</td>\n",
       "      <td>3</td>\n",
       "      <td>3.70</td>\n",
       "      <td>1</td>\n",
       "      <td>False</td>\n",
       "    </tr>\n",
       "    <tr>\n",
       "      <th>2</th>\n",
       "      <td>NJ</td>\n",
       "      <td>137</td>\n",
       "      <td>415</td>\n",
       "      <td>No</td>\n",
       "      <td>No</td>\n",
       "      <td>0</td>\n",
       "      <td>243.4</td>\n",
       "      <td>114</td>\n",
       "      <td>41.38</td>\n",
       "      <td>121.2</td>\n",
       "      <td>110</td>\n",
       "      <td>10.30</td>\n",
       "      <td>162.6</td>\n",
       "      <td>104</td>\n",
       "      <td>7.32</td>\n",
       "      <td>12.2</td>\n",
       "      <td>5</td>\n",
       "      <td>3.29</td>\n",
       "      <td>0</td>\n",
       "      <td>False</td>\n",
       "    </tr>\n",
       "    <tr>\n",
       "      <th>3</th>\n",
       "      <td>OH</td>\n",
       "      <td>84</td>\n",
       "      <td>408</td>\n",
       "      <td>Yes</td>\n",
       "      <td>No</td>\n",
       "      <td>0</td>\n",
       "      <td>299.4</td>\n",
       "      <td>71</td>\n",
       "      <td>50.90</td>\n",
       "      <td>61.9</td>\n",
       "      <td>88</td>\n",
       "      <td>5.26</td>\n",
       "      <td>196.9</td>\n",
       "      <td>89</td>\n",
       "      <td>8.86</td>\n",
       "      <td>6.6</td>\n",
       "      <td>7</td>\n",
       "      <td>1.78</td>\n",
       "      <td>2</td>\n",
       "      <td>False</td>\n",
       "    </tr>\n",
       "    <tr>\n",
       "      <th>4</th>\n",
       "      <td>OK</td>\n",
       "      <td>75</td>\n",
       "      <td>415</td>\n",
       "      <td>Yes</td>\n",
       "      <td>No</td>\n",
       "      <td>0</td>\n",
       "      <td>166.7</td>\n",
       "      <td>113</td>\n",
       "      <td>28.34</td>\n",
       "      <td>148.3</td>\n",
       "      <td>122</td>\n",
       "      <td>12.61</td>\n",
       "      <td>186.9</td>\n",
       "      <td>121</td>\n",
       "      <td>8.41</td>\n",
       "      <td>10.1</td>\n",
       "      <td>3</td>\n",
       "      <td>2.73</td>\n",
       "      <td>3</td>\n",
       "      <td>False</td>\n",
       "    </tr>\n",
       "  </tbody>\n",
       "</table>\n",
       "</div>"
      ],
      "text/plain": [
       "  State  Account length  Area code International plan Voice mail plan  \\\n",
       "0    KS             128        415                 No             Yes   \n",
       "1    OH             107        415                 No             Yes   \n",
       "2    NJ             137        415                 No              No   \n",
       "3    OH              84        408                Yes              No   \n",
       "4    OK              75        415                Yes              No   \n",
       "\n",
       "   Number vmail messages  Total day minutes  Total day calls  \\\n",
       "0                     25              265.1              110   \n",
       "1                     26              161.6              123   \n",
       "2                      0              243.4              114   \n",
       "3                      0              299.4               71   \n",
       "4                      0              166.7              113   \n",
       "\n",
       "   Total day charge  Total eve minutes  Total eve calls  Total eve charge  \\\n",
       "0             45.07              197.4               99             16.78   \n",
       "1             27.47              195.5              103             16.62   \n",
       "2             41.38              121.2              110             10.30   \n",
       "3             50.90               61.9               88              5.26   \n",
       "4             28.34              148.3              122             12.61   \n",
       "\n",
       "   Total night minutes  Total night calls  Total night charge  \\\n",
       "0                244.7                 91               11.01   \n",
       "1                254.4                103               11.45   \n",
       "2                162.6                104                7.32   \n",
       "3                196.9                 89                8.86   \n",
       "4                186.9                121                8.41   \n",
       "\n",
       "   Total intl minutes  Total intl calls  Total intl charge  \\\n",
       "0                10.0                 3               2.70   \n",
       "1                13.7                 3               3.70   \n",
       "2                12.2                 5               3.29   \n",
       "3                 6.6                 7               1.78   \n",
       "4                10.1                 3               2.73   \n",
       "\n",
       "   Customer service calls  Churn  \n",
       "0                       1  False  \n",
       "1                       1  False  \n",
       "2                       0  False  \n",
       "3                       2  False  \n",
       "4                       3  False  "
      ]
     },
     "execution_count": 81,
     "metadata": {},
     "output_type": "execute_result"
    }
   ],
   "source": [
    "df = pd.read_csv(\"https://github.com/giedriusblazys/SDA_DS_class/raw/main/practice/input/churn-bigml-80.csv\")\n",
    "df.head()"
   ]
  },
  {
   "cell_type": "code",
   "execution_count": 82,
   "id": "e07eeb2e-b489-4746-b5d3-f3161b809d8f",
   "metadata": {},
   "outputs": [],
   "source": [
    "df.info()"
   ]
  },
  {
   "cell_type": "code",
   "execution_count": 89,
   "id": "70de5435-5356-436d-8be3-ab8c09554532",
   "metadata": {},
   "outputs": [],
   "source": [
    "def corr_plot(df):\n",
    "    corr = df.corr()\n",
    "    plt.figure(figsize=(10, 10))\n",
    "    ax = sns.heatmap(\n",
    "    corr, \n",
    "    vmin=-1, vmax=1, center=0,\n",
    "    cmap=sns.diverging_palette(20, 220, n=200),\n",
    "    square=True\n",
    "    )\n",
    "    ax.set_xticklabels(\n",
    "    ax.get_xticklabels(),\n",
    "    rotation=45,\n",
    "    horizontalalignment='right'\n",
    "    )"
   ]
  },
  {
   "cell_type": "code",
   "execution_count": 90,
   "id": "a2c33ead-3398-41c4-a41b-b2f1abb5bc74",
   "metadata": {},
   "outputs": [
    {
     "data": {
      "image/png": "[encoded data removed]",
      "text/plain": [
       "<Figure size 720x720 with 2 Axes>"
      ]
     },
     "metadata": {},
     "output_type": "display_data"
    }
   ],
   "source": [
    "corr_plot(df)"
   ]
  },
  {
   "cell_type": "code",
   "execution_count": 84,
   "id": "355e4dfe-7424-4809-95bb-ccf9728da1aa",
   "metadata": {},
   "outputs": [
    {
     "data": {
      "image/png": "[encoded data removed]",
      "text/plain": [
       "<Figure size 432x288 with 1 Axes>"
      ]
     },
     "metadata": {},
     "output_type": "display_data"
    }
   ],
   "source": [
    "sns.countplot(x=df[\"Churn\"]);"
   ]
  },
  {
   "cell_type": "code",
   "execution_count": 87,
   "id": "c6aa30d3-a139-4dd0-b58a-3ca736274bcc",
   "metadata": {},
   "outputs": [
    {
     "name": "stdout",
     "output_type": "stream",
     "text": [
      "(799, 19) (1867, 19)\n"
     ]
    },
    {
     "data": {
      "text/plain": [
       "Index(['Account length', 'Area code', 'Number vmail messages',\n",
       "       'Total day minutes', 'Total day calls', 'Total day charge',\n",
       "       'Total eve minutes', 'Total eve calls', 'Total eve charge',\n",
       "       'Total night minutes', 'Total night calls', 'Total night charge',\n",
       "       'Total intl minutes', 'Total intl calls', 'Total intl charge',\n",
       "       'Customer service calls', 'State_AL', 'State_AR', 'State_AZ',\n",
       "       'State_CA', 'State_CO', 'State_CT', 'State_DC', 'State_DE', 'State_FL',\n",
       "       'State_GA', 'State_HI', 'State_IA', 'State_ID', 'State_IL', 'State_IN',\n",
       "       'State_KS', 'State_KY', 'State_LA', 'State_MA', 'State_MD', 'State_ME',\n",
       "       'State_MI', 'State_MN', 'State_MO', 'State_MS', 'State_MT', 'State_NC',\n",
       "       'State_ND', 'State_NE', 'State_NH', 'State_NJ', 'State_NM', 'State_NV',\n",
       "       'State_NY', 'State_OH', 'State_OK', 'State_OR', 'State_PA', 'State_RI',\n",
       "       'State_SC', 'State_SD', 'State_TN', 'State_TX', 'State_UT', 'State_VA',\n",
       "       'State_VT', 'State_WA', 'State_WI', 'State_WV', 'State_WY',\n",
       "       'International plan_Yes', 'Voice mail plan_Yes'],\n",
       "      dtype='object')"
      ]
     },
     "execution_count": 87,
     "metadata": {},
     "output_type": "execute_result"
    }
   ],
   "source": [
    "#spliting the data for target and features\n",
    "X = df.drop(columns='Churn', axis=1)\n",
    "y = df['Churn'].astype('int')\n",
    "\n",
    "#creating the test train split\n",
    "X_train, X_test, y_train, y_test = train_test_split(X, y, test_size=0.7, random_state = 42, stratify=y)\n",
    "print(X_train.shape, X_test.shape)\n",
    "\n",
    "## One-hot encoder\n",
    "\n",
    "s = (X_train.dtypes == 'object')\n",
    "obj_cols = list(s[s].index)\n",
    "\n",
    "OH_encoder = preprocessing.OneHotEncoder(drop='first')\n",
    "\n",
    "X_train_array = OH_encoder.fit_transform(X_train[obj_cols]).toarray()\n",
    "OH_cols_train = pd.DataFrame(X_train_array, columns = OH_encoder.get_feature_names_out())\n",
    "X_test_array = OH_encoder.transform(X_test[obj_cols]).toarray()\n",
    "OH_cols_test = pd.DataFrame(X_test_array, columns = OH_encoder.get_feature_names_out())\n",
    "OH_cols_train.index = X_train.index\n",
    "OH_cols_test.index = X_test.index\n",
    "\n",
    "# Remove categorical columns (will replace with one-hot encoding)\n",
    "num_X_train = X_train.drop(obj_cols, axis=1)\n",
    "num_X_test = X_test.drop(obj_cols, axis=1)\n",
    "\n",
    "# Add one-hot encoded columns to numerical features\n",
    "OH_X_train = pd.concat([num_X_train, OH_cols_train], axis=1)\n",
    "OH_X_test = pd.concat([num_X_test, OH_cols_test], axis=1)\n",
    "OH_X_train.columns"
   ]
  },
  {
   "cell_type": "code",
   "execution_count": null,
   "id": "f8d490ba-2aa2-4d0b-8b32-039b018ed1c0",
   "metadata": {},
   "outputs": [],
   "source": [
    "from sklearn.linear_model import LogisticRegression\n",
    "\n",
    "clf = LogisticRegression()"
   ]
  }
 ],
 "metadata": {
  "kernelspec": {
   "display_name": "Python 3 (ipykernel)",
   "language": "python",
   "name": "python3"
  },
  "language_info": {
   "codemirror_mode": {
    "name": "ipython",
    "version": 3
   },
   "file_extension": ".py",
   "mimetype": "text/x-python",
   "name": "python",
   "nbconvert_exporter": "python",
   "pygments_lexer": "ipython3",
   "version": "3.9.10"
  }
 },
 "nbformat": 4,
 "nbformat_minor": 5
}
