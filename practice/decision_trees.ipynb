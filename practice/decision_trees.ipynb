{
  "cells": [
    {
      "cell_type": "markdown",
      "id": "cdeec650-bfb5-4d7a-bf07-f7019ce7f8b9",
      "metadata": {
        "id": "cdeec650-bfb5-4d7a-bf07-f7019ce7f8b9",
        "tags": []
      },
      "source": [
        "## Decision treas and Model explainability"
      ]
    },
    {
      "cell_type": "markdown",
      "id": "6ecbbb9d-2196-4964-84f2-f7bb5b8939b9",
      "metadata": {
        "id": "6ecbbb9d-2196-4964-84f2-f7bb5b8939b9"
      },
      "source": [
        "**Data Source** https://www.kaggle.com/harlfoxem/housesalesprediction\n",
        "\n",
        "This dataset contains house sale prices for King County, which includes Seattle. It includes homes sold between May 2014 and May 2015.\n",
        "\n",
        "**Column definitions** https://rstudio-pubs-static.s3.amazonaws.com/155304_cc51f448116744069664b35e7762999f.html\n",
        "- id - Unique ID for each home sold\n",
        "- date - Date of the home sale\n",
        "- price - Price of each home sold\n",
        "- bedrooms - Number of bedrooms\n",
        "- bathrooms - Number of bathrooms, where .5 accounts for a room with a toilet but no shower\n",
        "- sqft_living - Square footage of the apartments interior living space\n",
        "- sqft_lot - Square footage of the land space\n",
        "- floors - Number of floors\n",
        "- waterfront - A dummy variable for whether the apartment was overlooking the waterfront or not\n",
        "- view - An index from 0 to 4 of how good the view of the property was\n",
        "- condition - An index from 1 to 5 on the condition of the apartment,\n",
        "- grade - An index from 1 to 13, where 1-3 falls short of building construction and design, 7 has an average level of construction and design, and 11-13 have a high quality level of construction and design.\n",
        "- sqft_above - The square footage of the interior housing space that is above ground level\n",
        "- sqft_basement - The square footage of the interior housing space that is below ground level\n",
        "- yr_built - The year the house was initially built\n",
        "- yr_renovated - The year of the house’s last renovation\n",
        "- zipcode - What zipcode area the house is in\n",
        "- lat - Lattitude\n",
        "- long - Longitude\n",
        "- sqft_living15 - The square footage of interior housing living space for the nearest 15 neighbors\n",
        "- sqft_lot15 - The square footage of the land lots of the nearest 15 neighbors"
      ]
    },
    {
      "cell_type": "code",
      "execution_count": 1,
      "id": "4a478935-0228-45af-bf1e-16c79bd08881",
      "metadata": {
        "id": "4a478935-0228-45af-bf1e-16c79bd08881"
      },
      "outputs": [],
      "source": [
        "import pandas as pd\n",
        "import numpy as np\n",
        "\n",
        "from matplotlib import pyplot as plt\n",
        "import seaborn as sns\n",
        "\n",
        "%matplotlib inline"
      ]
    },
    {
      "cell_type": "code",
      "execution_count": 2,
      "id": "8a843a1c-d874-4c42-b3f6-939ae7ed9b88",
      "metadata": {
        "id": "8a843a1c-d874-4c42-b3f6-939ae7ed9b88"
      },
      "outputs": [],
      "source": [
        "# improve how pandas numbers are displayed\n",
        "pd.set_option('display.float_format', lambda x: '%.3f' % x)\n",
        "pd.set_option('display.max_columns', 25)\n",
        "pd.set_option('display.max_rows', 50)"
      ]
    },
    {
      "cell_type": "code",
      "execution_count": 9,
      "id": "a113399f-08db-48ab-8d2a-abca39b7826b",
      "metadata": {
        "id": "a113399f-08db-48ab-8d2a-abca39b7826b"
      },
      "outputs": [],
      "source": [
        "# load the data set\n",
        "df = pd.read_csv(\"https://github.com/giedriusblazys/SDA_DS_class/blob/main/practice/input/kc_house_data.csv?raw=true\")\n",
        "# df = pd.read_csv(\"input/kc_house_data.csv\")"
      ]
    },
    {
      "cell_type": "code",
      "execution_count": 5,
      "id": "49d52b5c-9e0d-4915-a9d5-5d13a282f582",
      "metadata": {
        "id": "49d52b5c-9e0d-4915-a9d5-5d13a282f582",
        "outputId": "b63d175c-15ea-4594-8dc6-e4e1ae78bb02",
        "colab": {
          "base_uri": "https://localhost:8080/"
        }
      },
      "outputs": [
        {
          "output_type": "execute_result",
          "data": {
            "text/plain": [
              "str"
            ]
          },
          "metadata": {},
          "execution_count": 5
        }
      ],
      "source": [
        "type(df.date[0])"
      ]
    },
    {
      "cell_type": "code",
      "source": [
        "df.date = pd.to_datetime(df.date)\n",
        "df['age'] = df.date.dt.year - df.yr_built"
      ],
      "metadata": {
        "id": "am2VRvrvHHVd"
      },
      "id": "am2VRvrvHHVd",
      "execution_count": 11,
      "outputs": []
    },
    {
      "cell_type": "code",
      "source": [
        "df.info()"
      ],
      "metadata": {
        "id": "nyHGV3_NHSlD",
        "outputId": "e219c3e4-c0b2-485c-f0f5-4743cdd77b65",
        "colab": {
          "base_uri": "https://localhost:8080/"
        }
      },
      "id": "nyHGV3_NHSlD",
      "execution_count": 12,
      "outputs": [
        {
          "output_type": "stream",
          "name": "stdout",
          "text": [
            "<class 'pandas.core.frame.DataFrame'>\n",
            "RangeIndex: 21613 entries, 0 to 21612\n",
            "Data columns (total 22 columns):\n",
            " #   Column         Non-Null Count  Dtype         \n",
            "---  ------         --------------  -----         \n",
            " 0   id             21613 non-null  int64         \n",
            " 1   date           21613 non-null  datetime64[ns]\n",
            " 2   price          21613 non-null  float64       \n",
            " 3   bedrooms       21613 non-null  int64         \n",
            " 4   bathrooms      21613 non-null  float64       \n",
            " 5   sqft_living    21613 non-null  int64         \n",
            " 6   sqft_lot       21613 non-null  int64         \n",
            " 7   floors         21613 non-null  float64       \n",
            " 8   waterfront     21613 non-null  int64         \n",
            " 9   view           21613 non-null  int64         \n",
            " 10  condition      21613 non-null  int64         \n",
            " 11  grade          21613 non-null  int64         \n",
            " 12  sqft_above     21613 non-null  int64         \n",
            " 13  sqft_basement  21613 non-null  int64         \n",
            " 14  yr_built       21613 non-null  int64         \n",
            " 15  yr_renovated   21613 non-null  int64         \n",
            " 16  zipcode        21613 non-null  int64         \n",
            " 17  lat            21613 non-null  float64       \n",
            " 18  long           21613 non-null  float64       \n",
            " 19  sqft_living15  21613 non-null  int64         \n",
            " 20  sqft_lot15     21613 non-null  int64         \n",
            " 21  age            21613 non-null  int64         \n",
            "dtypes: datetime64[ns](1), float64(5), int64(16)\n",
            "memory usage: 3.6 MB\n"
          ]
        }
      ]
    },
    {
      "cell_type": "code",
      "source": [
        "df.head()"
      ],
      "metadata": {
        "id": "LbaKi0lmHT6v",
        "outputId": "541a347b-d533-46be-fc98-ca7d6929edc1",
        "colab": {
          "base_uri": "https://localhost:8080/",
          "height": 357
        }
      },
      "id": "LbaKi0lmHT6v",
      "execution_count": 13,
      "outputs": [
        {
          "output_type": "execute_result",
          "data": {
            "text/html": [
              "\n",
              "  <div id=\"df-6dd203a8-b325-42b0-9158-1ace42e3cfac\">\n",
              "    <div class=\"colab-df-container\">\n",
              "      <div>\n",
              "<style scoped>\n",
              "    .dataframe tbody tr th:only-of-type {\n",
              "        vertical-align: middle;\n",
              "    }\n",
              "\n",
              "    .dataframe tbody tr th {\n",
              "        vertical-align: top;\n",
              "    }\n",
              "\n",
              "    .dataframe thead th {\n",
              "        text-align: right;\n",
              "    }\n",
              "</style>\n",
              "<table border=\"1\" class=\"dataframe\">\n",
              "  <thead>\n",
              "    <tr style=\"text-align: right;\">\n",
              "      <th></th>\n",
              "      <th>id</th>\n",
              "      <th>date</th>\n",
              "      <th>price</th>\n",
              "      <th>bedrooms</th>\n",
              "      <th>bathrooms</th>\n",
              "      <th>sqft_living</th>\n",
              "      <th>sqft_lot</th>\n",
              "      <th>floors</th>\n",
              "      <th>waterfront</th>\n",
              "      <th>view</th>\n",
              "      <th>condition</th>\n",
              "      <th>grade</th>\n",
              "      <th>sqft_above</th>\n",
              "      <th>sqft_basement</th>\n",
              "      <th>yr_built</th>\n",
              "      <th>yr_renovated</th>\n",
              "      <th>zipcode</th>\n",
              "      <th>lat</th>\n",
              "      <th>long</th>\n",
              "      <th>sqft_living15</th>\n",
              "      <th>sqft_lot15</th>\n",
              "      <th>age</th>\n",
              "    </tr>\n",
              "  </thead>\n",
              "  <tbody>\n",
              "    <tr>\n",
              "      <th>0</th>\n",
              "      <td>7129300520</td>\n",
              "      <td>2014-10-13</td>\n",
              "      <td>221900.000</td>\n",
              "      <td>3</td>\n",
              "      <td>1.000</td>\n",
              "      <td>1180</td>\n",
              "      <td>5650</td>\n",
              "      <td>1.000</td>\n",
              "      <td>0</td>\n",
              "      <td>0</td>\n",
              "      <td>3</td>\n",
              "      <td>7</td>\n",
              "      <td>1180</td>\n",
              "      <td>0</td>\n",
              "      <td>1955</td>\n",
              "      <td>0</td>\n",
              "      <td>98178</td>\n",
              "      <td>47.511</td>\n",
              "      <td>-122.257</td>\n",
              "      <td>1340</td>\n",
              "      <td>5650</td>\n",
              "      <td>59</td>\n",
              "    </tr>\n",
              "    <tr>\n",
              "      <th>1</th>\n",
              "      <td>6414100192</td>\n",
              "      <td>2014-12-09</td>\n",
              "      <td>538000.000</td>\n",
              "      <td>3</td>\n",
              "      <td>2.250</td>\n",
              "      <td>2570</td>\n",
              "      <td>7242</td>\n",
              "      <td>2.000</td>\n",
              "      <td>0</td>\n",
              "      <td>0</td>\n",
              "      <td>3</td>\n",
              "      <td>7</td>\n",
              "      <td>2170</td>\n",
              "      <td>400</td>\n",
              "      <td>1951</td>\n",
              "      <td>1991</td>\n",
              "      <td>98125</td>\n",
              "      <td>47.721</td>\n",
              "      <td>-122.319</td>\n",
              "      <td>1690</td>\n",
              "      <td>7639</td>\n",
              "      <td>63</td>\n",
              "    </tr>\n",
              "    <tr>\n",
              "      <th>2</th>\n",
              "      <td>5631500400</td>\n",
              "      <td>2015-02-25</td>\n",
              "      <td>180000.000</td>\n",
              "      <td>2</td>\n",
              "      <td>1.000</td>\n",
              "      <td>770</td>\n",
              "      <td>10000</td>\n",
              "      <td>1.000</td>\n",
              "      <td>0</td>\n",
              "      <td>0</td>\n",
              "      <td>3</td>\n",
              "      <td>6</td>\n",
              "      <td>770</td>\n",
              "      <td>0</td>\n",
              "      <td>1933</td>\n",
              "      <td>0</td>\n",
              "      <td>98028</td>\n",
              "      <td>47.738</td>\n",
              "      <td>-122.233</td>\n",
              "      <td>2720</td>\n",
              "      <td>8062</td>\n",
              "      <td>82</td>\n",
              "    </tr>\n",
              "    <tr>\n",
              "      <th>3</th>\n",
              "      <td>2487200875</td>\n",
              "      <td>2014-12-09</td>\n",
              "      <td>604000.000</td>\n",
              "      <td>4</td>\n",
              "      <td>3.000</td>\n",
              "      <td>1960</td>\n",
              "      <td>5000</td>\n",
              "      <td>1.000</td>\n",
              "      <td>0</td>\n",
              "      <td>0</td>\n",
              "      <td>5</td>\n",
              "      <td>7</td>\n",
              "      <td>1050</td>\n",
              "      <td>910</td>\n",
              "      <td>1965</td>\n",
              "      <td>0</td>\n",
              "      <td>98136</td>\n",
              "      <td>47.521</td>\n",
              "      <td>-122.393</td>\n",
              "      <td>1360</td>\n",
              "      <td>5000</td>\n",
              "      <td>49</td>\n",
              "    </tr>\n",
              "    <tr>\n",
              "      <th>4</th>\n",
              "      <td>1954400510</td>\n",
              "      <td>2015-02-18</td>\n",
              "      <td>510000.000</td>\n",
              "      <td>3</td>\n",
              "      <td>2.000</td>\n",
              "      <td>1680</td>\n",
              "      <td>8080</td>\n",
              "      <td>1.000</td>\n",
              "      <td>0</td>\n",
              "      <td>0</td>\n",
              "      <td>3</td>\n",
              "      <td>8</td>\n",
              "      <td>1680</td>\n",
              "      <td>0</td>\n",
              "      <td>1987</td>\n",
              "      <td>0</td>\n",
              "      <td>98074</td>\n",
              "      <td>47.617</td>\n",
              "      <td>-122.045</td>\n",
              "      <td>1800</td>\n",
              "      <td>7503</td>\n",
              "      <td>28</td>\n",
              "    </tr>\n",
              "  </tbody>\n",
              "</table>\n",
              "</div>\n",
              "      <button class=\"colab-df-convert\" onclick=\"convertToInteractive('df-6dd203a8-b325-42b0-9158-1ace42e3cfac')\"\n",
              "              title=\"Convert this dataframe to an interactive table.\"\n",
              "              style=\"display:none;\">\n",
              "        \n",
              "  <svg xmlns=\"http://www.w3.org/2000/svg\" height=\"24px\"viewBox=\"0 0 24 24\"\n",
              "       width=\"24px\">\n",
              "    <path d=\"M0 0h24v24H0V0z\" fill=\"none\"/>\n",
              "    <path d=\"M18.56 5.44l.94 2.06.94-2.06 2.06-.94-2.06-.94-.94-2.06-.94 2.06-2.06.94zm-11 1L8.5 8.5l.94-2.06 2.06-.94-2.06-.94L8.5 2.5l-.94 2.06-2.06.94zm10 10l.94 2.06.94-2.06 2.06-.94-2.06-.94-.94-2.06-.94 2.06-2.06.94z\"/><path d=\"M17.41 7.96l-1.37-1.37c-.4-.4-.92-.59-1.43-.59-.52 0-1.04.2-1.43.59L10.3 9.45l-7.72 7.72c-.78.78-.78 2.05 0 2.83L4 21.41c.39.39.9.59 1.41.59.51 0 1.02-.2 1.41-.59l7.78-7.78 2.81-2.81c.8-.78.8-2.07 0-2.86zM5.41 20L4 18.59l7.72-7.72 1.47 1.35L5.41 20z\"/>\n",
              "  </svg>\n",
              "      </button>\n",
              "      \n",
              "  <style>\n",
              "    .colab-df-container {\n",
              "      display:flex;\n",
              "      flex-wrap:wrap;\n",
              "      gap: 12px;\n",
              "    }\n",
              "\n",
              "    .colab-df-convert {\n",
              "      background-color: #E8F0FE;\n",
              "      border: none;\n",
              "      border-radius: 50%;\n",
              "      cursor: pointer;\n",
              "      display: none;\n",
              "      fill: #1967D2;\n",
              "      height: 32px;\n",
              "      padding: 0 0 0 0;\n",
              "      width: 32px;\n",
              "    }\n",
              "\n",
              "    .colab-df-convert:hover {\n",
              "      background-color: #E2EBFA;\n",
              "      box-shadow: 0px 1px 2px rgba(60, 64, 67, 0.3), 0px 1px 3px 1px rgba(60, 64, 67, 0.15);\n",
              "      fill: #174EA6;\n",
              "    }\n",
              "\n",
              "    [theme=dark] .colab-df-convert {\n",
              "      background-color: #3B4455;\n",
              "      fill: #D2E3FC;\n",
              "    }\n",
              "\n",
              "    [theme=dark] .colab-df-convert:hover {\n",
              "      background-color: #434B5C;\n",
              "      box-shadow: 0px 1px 3px 1px rgba(0, 0, 0, 0.15);\n",
              "      filter: drop-shadow(0px 1px 2px rgba(0, 0, 0, 0.3));\n",
              "      fill: #FFFFFF;\n",
              "    }\n",
              "  </style>\n",
              "\n",
              "      <script>\n",
              "        const buttonEl =\n",
              "          document.querySelector('#df-6dd203a8-b325-42b0-9158-1ace42e3cfac button.colab-df-convert');\n",
              "        buttonEl.style.display =\n",
              "          google.colab.kernel.accessAllowed ? 'block' : 'none';\n",
              "\n",
              "        async function convertToInteractive(key) {\n",
              "          const element = document.querySelector('#df-6dd203a8-b325-42b0-9158-1ace42e3cfac');\n",
              "          const dataTable =\n",
              "            await google.colab.kernel.invokeFunction('convertToInteractive',\n",
              "                                                     [key], {});\n",
              "          if (!dataTable) return;\n",
              "\n",
              "          const docLinkHtml = 'Like what you see? Visit the ' +\n",
              "            '<a target=\"_blank\" href=https://colab.research.google.com/notebooks/data_table.ipynb>data table notebook</a>'\n",
              "            + ' to learn more about interactive tables.';\n",
              "          element.innerHTML = '';\n",
              "          dataTable['output_type'] = 'display_data';\n",
              "          await google.colab.output.renderOutput(dataTable, element);\n",
              "          const docLink = document.createElement('div');\n",
              "          docLink.innerHTML = docLinkHtml;\n",
              "          element.appendChild(docLink);\n",
              "        }\n",
              "      </script>\n",
              "    </div>\n",
              "  </div>\n",
              "  "
            ],
            "text/plain": [
              "           id       date      price  bedrooms  bathrooms  sqft_living  \\\n",
              "0  7129300520 2014-10-13 221900.000         3      1.000         1180   \n",
              "1  6414100192 2014-12-09 538000.000         3      2.250         2570   \n",
              "2  5631500400 2015-02-25 180000.000         2      1.000          770   \n",
              "3  2487200875 2014-12-09 604000.000         4      3.000         1960   \n",
              "4  1954400510 2015-02-18 510000.000         3      2.000         1680   \n",
              "\n",
              "   sqft_lot  floors  waterfront  view  condition  grade  sqft_above  \\\n",
              "0      5650   1.000           0     0          3      7        1180   \n",
              "1      7242   2.000           0     0          3      7        2170   \n",
              "2     10000   1.000           0     0          3      6         770   \n",
              "3      5000   1.000           0     0          5      7        1050   \n",
              "4      8080   1.000           0     0          3      8        1680   \n",
              "\n",
              "   sqft_basement  yr_built  yr_renovated  zipcode    lat     long  \\\n",
              "0              0      1955             0    98178 47.511 -122.257   \n",
              "1            400      1951          1991    98125 47.721 -122.319   \n",
              "2              0      1933             0    98028 47.738 -122.233   \n",
              "3            910      1965             0    98136 47.521 -122.393   \n",
              "4              0      1987             0    98074 47.617 -122.045   \n",
              "\n",
              "   sqft_living15  sqft_lot15  age  \n",
              "0           1340        5650   59  \n",
              "1           1690        7639   63  \n",
              "2           2720        8062   82  \n",
              "3           1360        5000   49  \n",
              "4           1800        7503   28  "
            ]
          },
          "metadata": {},
          "execution_count": 13
        }
      ]
    },
    {
      "cell_type": "code",
      "source": [
        "df['ln_price'] = np.log(df.price)"
      ],
      "metadata": {
        "id": "jh5OH15QHx-N"
      },
      "id": "jh5OH15QHx-N",
      "execution_count": 14,
      "outputs": []
    },
    {
      "cell_type": "code",
      "source": [
        "# use data for zip=98105 (University of Washington village)\n",
        "idx_98105 = (df.zipcode == 98105)\n",
        "df = df[idx_98105]\n",
        "df.shape"
      ],
      "metadata": {
        "id": "B72s4bUxILqn",
        "outputId": "177ffe62-8df5-4b85-8386-5584702e6ceb",
        "colab": {
          "base_uri": "https://localhost:8080/"
        }
      },
      "id": "B72s4bUxILqn",
      "execution_count": 22,
      "outputs": [
        {
          "output_type": "execute_result",
          "data": {
            "text/plain": [
              "(229, 23)"
            ]
          },
          "metadata": {},
          "execution_count": 22
        }
      ]
    },
    {
      "cell_type": "code",
      "source": [
        "features = ['sqft_living', 'waterfront', 'view', 'condition', 'grade', 'yr_built', 'age']\n",
        "x = df[features]\n",
        "y = df.ln_price"
      ],
      "metadata": {
        "id": "xBbcAVgiJrQ4"
      },
      "id": "xBbcAVgiJrQ4",
      "execution_count": 39,
      "outputs": []
    },
    {
      "cell_type": "code",
      "source": [
        "from sklearn.linear_model import LinearRegression\n",
        "from sklearn.model_selection import train_test_split\n",
        "from sklearn.metrics import mean_absolute_percentage_error, mean_squared_error, mean_absolute_error\n",
        "\n",
        "def rmse(y_test, y_pred):\n",
        "    \"\"\"root mean squared error\"\"\"\n",
        "    return round(np.sqrt(mean_squared_error(y_test, y_pred)), 3)\n",
        "\n",
        "def mae(y_test, y_pred):\n",
        "    return round(mean_absolute_error(y_test, y_pred), 3)\n",
        "\n",
        "def mape(y_test, y_pred):\n",
        "    return round(mean_absolute_percentage_error(y_test, y_pred), 3)\n",
        "\n",
        "def wmape(y_test, y_pred):\n",
        "    wmape = sum(np.abs(y_test-y_pred)) / sum(np.abs(y_test))\n",
        "    return round(wmape, 3)"
      ],
      "metadata": {
        "id": "pmIfbw7sJK-4"
      },
      "id": "pmIfbw7sJK-4",
      "execution_count": 40,
      "outputs": []
    },
    {
      "cell_type": "code",
      "source": [
        "# Let's use 70% of random sample to train the model, and the remaining 30% of sample to test how good is the model\n",
        "X_train,X_test,y_train,y_test=train_test_split(x, y, train_size = 0.7, random_state=412)\n",
        "\n",
        "lr = LinearRegression()\n",
        "reg = lr.fit(X_train, y_train)\n",
        "y_pred = np.exp(reg.predict(X_test))\n",
        "y_test_exp = np.exp(y_test)\n",
        "\n",
        "print(f'Validation MAPE: {mape(y_test_exp, y_pred)}')\n",
        "print(f'Validation WMAPE: {wmape(y_test_exp, y_pred)}')\n",
        "\n",
        "print(f'Validation MAE: {mae(y_test_exp, y_pred)}')\n",
        "print(f'Validation RMSE: {rmse(y_test_exp, y_pred)}')"
      ],
      "metadata": {
        "id": "d7YxlV2TJK8E",
        "outputId": "c0ec4811-eec7-49d3-e456-9e3bb6a1b8a1",
        "colab": {
          "base_uri": "https://localhost:8080/"
        }
      },
      "id": "d7YxlV2TJK8E",
      "execution_count": 45,
      "outputs": [
        {
          "output_type": "stream",
          "name": "stdout",
          "text": [
            "Validation MAPE: 0.126\n",
            "Validation WMAPE: 0.135\n",
            "Validation MAE: 116371.611\n",
            "Validation RMSE: 178731.844\n"
          ]
        }
      ]
    },
    {
      "cell_type": "code",
      "source": [
        "from sklearn import tree\n",
        "from sklearn.tree import DecisionTreeRegressor"
      ],
      "metadata": {
        "id": "3fBcj_BZJK0B"
      },
      "id": "3fBcj_BZJK0B",
      "execution_count": 46,
      "outputs": []
    },
    {
      "cell_type": "code",
      "source": [
        "dtr = DecisionTreeRegressor(random_state=42, max_depth=5, min_samples_split=5)\n",
        "tree_model = dtr.fit(X_train, y_train)\n",
        "y_pred = np.exp(tree_model.predict(X_test))\n",
        "y_test_exp = np.exp(y_test)\n",
        "\n",
        "print(f'Validation MAPE: {mape(y_test_exp, y_pred)}')\n",
        "print(f'Validation WMAPE: {wmape(y_test_exp, y_pred)}')\n",
        "\n",
        "print(f'Validation MAE: {mae(y_test_exp, y_pred)}')\n",
        "print(f'Validation RMSE: {rmse(y_test_exp, y_pred)}')"
      ],
      "metadata": {
        "id": "puUbVmlDIxVr",
        "outputId": "1f0e09c5-2f21-4a1f-8f21-88db5a01357d",
        "colab": {
          "base_uri": "https://localhost:8080/"
        }
      },
      "id": "puUbVmlDIxVr",
      "execution_count": 47,
      "outputs": [
        {
          "output_type": "stream",
          "name": "stdout",
          "text": [
            "Validation MAPE: 0.155\n",
            "Validation WMAPE: 0.164\n",
            "Validation MAE: 141713.71\n",
            "Validation RMSE: 221232.552\n"
          ]
        }
      ]
    },
    {
      "cell_type": "markdown",
      "source": [
        "Let's vizualize the tree"
      ],
      "metadata": {
        "id": "pT6zZhLUM2_L"
      },
      "id": "pT6zZhLUM2_L"
    },
    {
      "cell_type": "code",
      "source": [
        "import graphviz"
      ],
      "metadata": {
        "id": "KhxKZer7L4-Z"
      },
      "id": "KhxKZer7L4-Z",
      "execution_count": 48,
      "outputs": []
    },
    {
      "cell_type": "code",
      "source": [
        "tree_graph = tree.export_graphviz(tree_model, out_file=None, feature_names=features)\n",
        "graphviz.Source(tree_graph)"
      ],
      "metadata": {
        "id": "CBKBMhBAMYQo",
        "outputId": "37a8686b-77fc-4ef5-e0aa-9ca61d5cd2aa",
        "colab": {
          "base_uri": "https://localhost:8080/",
          "height": 815
        }
      },
      "id": "CBKBMhBAMYQo",
      "execution_count": 49,
      "outputs": [
        {
          "output_type": "execute_result",
          "data": {
            "text/plain": [
              "<graphviz.files.Source at 0x7f8e3f0cd5d0>"
            ],
            "image/svg+xml": "<?xml version=\"1.0\" encoding=\"UTF-8\" standalone=\"no\"?>\n<!DOCTYPE svg PUBLIC \"-//W3C//DTD SVG 1.1//EN\"\n \"http://www.w3.org/Graphics/SVG/1.1/DTD/svg11.dtd\">\n<!-- Generated by graphviz version 2.40.1 (20161225.0304)\n -->\n<!-- Title: Tree Pages: 1 -->\n<svg width=\"3877pt\" height=\"581pt\"\n viewBox=\"0.00 0.00 3877.00 581.00\" xmlns=\"http://www.w3.org/2000/svg\" xmlns:xlink=\"http://www.w3.org/1999/xlink\">\n<g id=\"graph0\" class=\"graph\" transform=\"scale(1 1) rotate(0) translate(4 577)\">\n<title>Tree</title>\n<polygon fill=\"#ffffff\" stroke=\"transparent\" points=\"-4,4 -4,-577 3873,-577 3873,4 -4,4\"/>\n<!-- 0 -->\n<g id=\"node1\" class=\"node\">\n<title>0</title>\n<polygon fill=\"none\" stroke=\"#000000\" points=\"1939,-573 1778,-573 1778,-505 1939,-505 1939,-573\"/>\n<text text-anchor=\"middle\" x=\"1858.5\" y=\"-557.8\" font-family=\"Helvetica,sans-Serif\" font-size=\"14.00\" fill=\"#000000\">sqft_living &lt;= 2235.0</text>\n<text text-anchor=\"middle\" x=\"1858.5\" y=\"-542.8\" font-family=\"Helvetica,sans-Serif\" font-size=\"14.00\" fill=\"#000000\">squared_error = 0.189</text>\n<text text-anchor=\"middle\" x=\"1858.5\" y=\"-527.8\" font-family=\"Helvetica,sans-Serif\" font-size=\"14.00\" fill=\"#000000\">samples = 160</text>\n<text text-anchor=\"middle\" x=\"1858.5\" y=\"-512.8\" font-family=\"Helvetica,sans-Serif\" font-size=\"14.00\" fill=\"#000000\">value = 13.56</text>\n</g>\n<!-- 1 -->\n<g id=\"node2\" class=\"node\">\n<title>1</title>\n<polygon fill=\"none\" stroke=\"#000000\" points=\"1500,-469 1339,-469 1339,-401 1500,-401 1500,-469\"/>\n<text text-anchor=\"middle\" x=\"1419.5\" y=\"-453.8\" font-family=\"Helvetica,sans-Serif\" font-size=\"14.00\" fill=\"#000000\">sqft_living &lt;= 1855.0</text>\n<text text-anchor=\"middle\" x=\"1419.5\" y=\"-438.8\" font-family=\"Helvetica,sans-Serif\" font-size=\"14.00\" fill=\"#000000\">squared_error = 0.036</text>\n<text text-anchor=\"middle\" x=\"1419.5\" y=\"-423.8\" font-family=\"Helvetica,sans-Serif\" font-size=\"14.00\" fill=\"#000000\">samples = 94</text>\n<text text-anchor=\"middle\" x=\"1419.5\" y=\"-408.8\" font-family=\"Helvetica,sans-Serif\" font-size=\"14.00\" fill=\"#000000\">value = 13.276</text>\n</g>\n<!-- 0&#45;&gt;1 -->\n<g id=\"edge1\" class=\"edge\">\n<title>0&#45;&gt;1</title>\n<path fill=\"none\" stroke=\"#000000\" d=\"M1777.9806,-519.9248C1702.2571,-501.9857 1589.0455,-475.1657 1510.1766,-456.4815\"/>\n<polygon fill=\"#000000\" stroke=\"#000000\" points=\"1510.7886,-453.0296 1500.251,-454.1301 1509.1749,-459.8411 1510.7886,-453.0296\"/>\n<text text-anchor=\"middle\" x=\"1513.3775\" y=\"-471.7067\" font-family=\"Helvetica,sans-Serif\" font-size=\"14.00\" fill=\"#000000\">True</text>\n</g>\n<!-- 26 -->\n<g id=\"node27\" class=\"node\">\n<title>26</title>\n<polygon fill=\"none\" stroke=\"#000000\" points=\"2209,-469 2048,-469 2048,-401 2209,-401 2209,-469\"/>\n<text text-anchor=\"middle\" x=\"2128.5\" y=\"-453.8\" font-family=\"Helvetica,sans-Serif\" font-size=\"14.00\" fill=\"#000000\">grade &lt;= 8.5</text>\n<text text-anchor=\"middle\" x=\"2128.5\" y=\"-438.8\" font-family=\"Helvetica,sans-Serif\" font-size=\"14.00\" fill=\"#000000\">squared_error = 0.127</text>\n<text text-anchor=\"middle\" x=\"2128.5\" y=\"-423.8\" font-family=\"Helvetica,sans-Serif\" font-size=\"14.00\" fill=\"#000000\">samples = 66</text>\n<text text-anchor=\"middle\" x=\"2128.5\" y=\"-408.8\" font-family=\"Helvetica,sans-Serif\" font-size=\"14.00\" fill=\"#000000\">value = 13.966</text>\n</g>\n<!-- 0&#45;&gt;26 -->\n<g id=\"edge26\" class=\"edge\">\n<title>0&#45;&gt;26</title>\n<path fill=\"none\" stroke=\"#000000\" d=\"M1939.1432,-507.9374C1970.3991,-495.8981 2006.3218,-482.0612 2038.4205,-469.6973\"/>\n<polygon fill=\"#000000\" stroke=\"#000000\" points=\"2039.7325,-472.9427 2047.8061,-466.0821 2037.2164,-466.4105 2039.7325,-472.9427\"/>\n<text text-anchor=\"middle\" x=\"2037.664\" y=\"-485.2324\" font-family=\"Helvetica,sans-Serif\" font-size=\"14.00\" fill=\"#000000\">False</text>\n</g>\n<!-- 2 -->\n<g id=\"node3\" class=\"node\">\n<title>2</title>\n<polygon fill=\"none\" stroke=\"#000000\" points=\"776,-365 615,-365 615,-297 776,-297 776,-365\"/>\n<text text-anchor=\"middle\" x=\"695.5\" y=\"-349.8\" font-family=\"Helvetica,sans-Serif\" font-size=\"14.00\" fill=\"#000000\">sqft_living &lt;= 1335.0</text>\n<text text-anchor=\"middle\" x=\"695.5\" y=\"-334.8\" font-family=\"Helvetica,sans-Serif\" font-size=\"14.00\" fill=\"#000000\">squared_error = 0.021</text>\n<text text-anchor=\"middle\" x=\"695.5\" y=\"-319.8\" font-family=\"Helvetica,sans-Serif\" font-size=\"14.00\" fill=\"#000000\">samples = 73</text>\n<text text-anchor=\"middle\" x=\"695.5\" y=\"-304.8\" font-family=\"Helvetica,sans-Serif\" font-size=\"14.00\" fill=\"#000000\">value = 13.211</text>\n</g>\n<!-- 1&#45;&gt;2 -->\n<g id=\"edge2\" class=\"edge\">\n<title>1&#45;&gt;2</title>\n<path fill=\"none\" stroke=\"#000000\" d=\"M1338.9046,-423.4228C1202.8458,-403.8784 928.5303,-364.474 786.0426,-344.0061\"/>\n<polygon fill=\"#000000\" stroke=\"#000000\" points=\"786.4112,-340.5232 776.0151,-342.5657 785.4158,-347.4521 786.4112,-340.5232\"/>\n</g>\n<!-- 15 -->\n<g id=\"node16\" class=\"node\">\n<title>15</title>\n<polygon fill=\"none\" stroke=\"#000000\" points=\"1500,-365 1339,-365 1339,-297 1500,-297 1500,-365\"/>\n<text text-anchor=\"middle\" x=\"1419.5\" y=\"-349.8\" font-family=\"Helvetica,sans-Serif\" font-size=\"14.00\" fill=\"#000000\">grade &lt;= 7.5</text>\n<text text-anchor=\"middle\" x=\"1419.5\" y=\"-334.8\" font-family=\"Helvetica,sans-Serif\" font-size=\"14.00\" fill=\"#000000\">squared_error = 0.023</text>\n<text text-anchor=\"middle\" x=\"1419.5\" y=\"-319.8\" font-family=\"Helvetica,sans-Serif\" font-size=\"14.00\" fill=\"#000000\">samples = 21</text>\n<text text-anchor=\"middle\" x=\"1419.5\" y=\"-304.8\" font-family=\"Helvetica,sans-Serif\" font-size=\"14.00\" fill=\"#000000\">value = 13.501</text>\n</g>\n<!-- 1&#45;&gt;15 -->\n<g id=\"edge15\" class=\"edge\">\n<title>1&#45;&gt;15</title>\n<path fill=\"none\" stroke=\"#000000\" d=\"M1419.5,-400.9465C1419.5,-392.776 1419.5,-383.9318 1419.5,-375.3697\"/>\n<polygon fill=\"#000000\" stroke=\"#000000\" points=\"1423.0001,-375.13 1419.5,-365.13 1416.0001,-375.13 1423.0001,-375.13\"/>\n</g>\n<!-- 3 -->\n<g id=\"node4\" class=\"node\">\n<title>3</title>\n<polygon fill=\"none\" stroke=\"#000000\" points=\"508,-261 347,-261 347,-193 508,-193 508,-261\"/>\n<text text-anchor=\"middle\" x=\"427.5\" y=\"-245.8\" font-family=\"Helvetica,sans-Serif\" font-size=\"14.00\" fill=\"#000000\">condition &lt;= 4.5</text>\n<text text-anchor=\"middle\" x=\"427.5\" y=\"-230.8\" font-family=\"Helvetica,sans-Serif\" font-size=\"14.00\" fill=\"#000000\">squared_error = 0.018</text>\n<text text-anchor=\"middle\" x=\"427.5\" y=\"-215.8\" font-family=\"Helvetica,sans-Serif\" font-size=\"14.00\" fill=\"#000000\">samples = 38</text>\n<text text-anchor=\"middle\" x=\"427.5\" y=\"-200.8\" font-family=\"Helvetica,sans-Serif\" font-size=\"14.00\" fill=\"#000000\">value = 13.159</text>\n</g>\n<!-- 2&#45;&gt;3 -->\n<g id=\"edge3\" class=\"edge\">\n<title>2&#45;&gt;3</title>\n<path fill=\"none\" stroke=\"#000000\" d=\"M614.7277,-299.6555C584.1392,-287.7854 549.1322,-274.2005 517.7283,-262.014\"/>\n<polygon fill=\"#000000\" stroke=\"#000000\" points=\"518.6957,-258.6351 508.1068,-258.2803 516.1633,-265.161 518.6957,-258.6351\"/>\n</g>\n<!-- 8 -->\n<g id=\"node9\" class=\"node\">\n<title>8</title>\n<polygon fill=\"none\" stroke=\"#000000\" points=\"776,-261 615,-261 615,-193 776,-193 776,-261\"/>\n<text text-anchor=\"middle\" x=\"695.5\" y=\"-245.8\" font-family=\"Helvetica,sans-Serif\" font-size=\"14.00\" fill=\"#000000\">grade &lt;= 7.5</text>\n<text text-anchor=\"middle\" x=\"695.5\" y=\"-230.8\" font-family=\"Helvetica,sans-Serif\" font-size=\"14.00\" fill=\"#000000\">squared_error = 0.017</text>\n<text text-anchor=\"middle\" x=\"695.5\" y=\"-215.8\" font-family=\"Helvetica,sans-Serif\" font-size=\"14.00\" fill=\"#000000\">samples = 35</text>\n<text text-anchor=\"middle\" x=\"695.5\" y=\"-200.8\" font-family=\"Helvetica,sans-Serif\" font-size=\"14.00\" fill=\"#000000\">value = 13.267</text>\n</g>\n<!-- 2&#45;&gt;8 -->\n<g id=\"edge8\" class=\"edge\">\n<title>2&#45;&gt;8</title>\n<path fill=\"none\" stroke=\"#000000\" d=\"M695.5,-296.9465C695.5,-288.776 695.5,-279.9318 695.5,-271.3697\"/>\n<polygon fill=\"#000000\" stroke=\"#000000\" points=\"699.0001,-271.13 695.5,-261.13 692.0001,-271.13 699.0001,-271.13\"/>\n</g>\n<!-- 4 -->\n<g id=\"node5\" class=\"node\">\n<title>4</title>\n<polygon fill=\"none\" stroke=\"#000000\" points=\"329,-157 168,-157 168,-89 329,-89 329,-157\"/>\n<text text-anchor=\"middle\" x=\"248.5\" y=\"-141.8\" font-family=\"Helvetica,sans-Serif\" font-size=\"14.00\" fill=\"#000000\">sqft_living &lt;= 1130.0</text>\n<text text-anchor=\"middle\" x=\"248.5\" y=\"-126.8\" font-family=\"Helvetica,sans-Serif\" font-size=\"14.00\" fill=\"#000000\">squared_error = 0.016</text>\n<text text-anchor=\"middle\" x=\"248.5\" y=\"-111.8\" font-family=\"Helvetica,sans-Serif\" font-size=\"14.00\" fill=\"#000000\">samples = 36</text>\n<text text-anchor=\"middle\" x=\"248.5\" y=\"-96.8\" font-family=\"Helvetica,sans-Serif\" font-size=\"14.00\" fill=\"#000000\">value = 13.147</text>\n</g>\n<!-- 3&#45;&gt;4 -->\n<g id=\"edge4\" class=\"edge\">\n<title>3&#45;&gt;4</title>\n<path fill=\"none\" stroke=\"#000000\" d=\"M368.8887,-192.9465C352.0445,-183.1599 333.5364,-172.4066 316.192,-162.3294\"/>\n<polygon fill=\"#000000\" stroke=\"#000000\" points=\"317.6478,-159.1274 307.243,-157.13 314.1312,-165.18 317.6478,-159.1274\"/>\n</g>\n<!-- 7 -->\n<g id=\"node8\" class=\"node\">\n<title>7</title>\n<polygon fill=\"none\" stroke=\"#000000\" points=\"508,-149.5 347,-149.5 347,-96.5 508,-96.5 508,-149.5\"/>\n<text text-anchor=\"middle\" x=\"427.5\" y=\"-134.3\" font-family=\"Helvetica,sans-Serif\" font-size=\"14.00\" fill=\"#000000\">squared_error = 0.012</text>\n<text text-anchor=\"middle\" x=\"427.5\" y=\"-119.3\" font-family=\"Helvetica,sans-Serif\" font-size=\"14.00\" fill=\"#000000\">samples = 2</text>\n<text text-anchor=\"middle\" x=\"427.5\" y=\"-104.3\" font-family=\"Helvetica,sans-Serif\" font-size=\"14.00\" fill=\"#000000\">value = 13.373</text>\n</g>\n<!-- 3&#45;&gt;7 -->\n<g id=\"edge7\" class=\"edge\">\n<title>3&#45;&gt;7</title>\n<path fill=\"none\" stroke=\"#000000\" d=\"M427.5,-192.9465C427.5,-182.2621 427.5,-170.4254 427.5,-159.5742\"/>\n<polygon fill=\"#000000\" stroke=\"#000000\" points=\"431.0001,-159.5421 427.5,-149.5422 424.0001,-159.5422 431.0001,-159.5421\"/>\n</g>\n<!-- 5 -->\n<g id=\"node6\" class=\"node\">\n<title>5</title>\n<polygon fill=\"none\" stroke=\"#000000\" points=\"161,-53 0,-53 0,0 161,0 161,-53\"/>\n<text text-anchor=\"middle\" x=\"80.5\" y=\"-37.8\" font-family=\"Helvetica,sans-Serif\" font-size=\"14.00\" fill=\"#000000\">squared_error = 0.019</text>\n<text text-anchor=\"middle\" x=\"80.5\" y=\"-22.8\" font-family=\"Helvetica,sans-Serif\" font-size=\"14.00\" fill=\"#000000\">samples = 16</text>\n<text text-anchor=\"middle\" x=\"80.5\" y=\"-7.8\" font-family=\"Helvetica,sans-Serif\" font-size=\"14.00\" fill=\"#000000\">value = 13.097</text>\n</g>\n<!-- 4&#45;&gt;5 -->\n<g id=\"edge5\" class=\"edge\">\n<title>4&#45;&gt;5</title>\n<path fill=\"none\" stroke=\"#000000\" d=\"M189.2695,-88.9777C171.8126,-78.9504 152.7883,-68.0228 135.6019,-58.1508\"/>\n<polygon fill=\"#000000\" stroke=\"#000000\" points=\"137.2148,-55.041 126.8002,-53.095 133.7281,-61.1109 137.2148,-55.041\"/>\n</g>\n<!-- 6 -->\n<g id=\"node7\" class=\"node\">\n<title>6</title>\n<polygon fill=\"none\" stroke=\"#000000\" points=\"331.5,-53 179.5,-53 179.5,0 331.5,0 331.5,-53\"/>\n<text text-anchor=\"middle\" x=\"255.5\" y=\"-37.8\" font-family=\"Helvetica,sans-Serif\" font-size=\"14.00\" fill=\"#000000\">squared_error = 0.01</text>\n<text text-anchor=\"middle\" x=\"255.5\" y=\"-22.8\" font-family=\"Helvetica,sans-Serif\" font-size=\"14.00\" fill=\"#000000\">samples = 20</text>\n<text text-anchor=\"middle\" x=\"255.5\" y=\"-7.8\" font-family=\"Helvetica,sans-Serif\" font-size=\"14.00\" fill=\"#000000\">value = 13.188</text>\n</g>\n<!-- 4&#45;&gt;6 -->\n<g id=\"edge6\" class=\"edge\">\n<title>4&#45;&gt;6</title>\n<path fill=\"none\" stroke=\"#000000\" d=\"M250.9679,-88.9777C251.5724,-80.6449 252.222,-71.6903 252.8352,-63.2364\"/>\n<polygon fill=\"#000000\" stroke=\"#000000\" points=\"256.3269,-63.4755 253.5597,-53.2485 249.3453,-62.969 256.3269,-63.4755\"/>\n</g>\n<!-- 9 -->\n<g id=\"node10\" class=\"node\">\n<title>9</title>\n<polygon fill=\"none\" stroke=\"#000000\" points=\"687,-157 526,-157 526,-89 687,-89 687,-157\"/>\n<text text-anchor=\"middle\" x=\"606.5\" y=\"-141.8\" font-family=\"Helvetica,sans-Serif\" font-size=\"14.00\" fill=\"#000000\">condition &lt;= 4.5</text>\n<text text-anchor=\"middle\" x=\"606.5\" y=\"-126.8\" font-family=\"Helvetica,sans-Serif\" font-size=\"14.00\" fill=\"#000000\">squared_error = 0.012</text>\n<text text-anchor=\"middle\" x=\"606.5\" y=\"-111.8\" font-family=\"Helvetica,sans-Serif\" font-size=\"14.00\" fill=\"#000000\">samples = 25</text>\n<text text-anchor=\"middle\" x=\"606.5\" y=\"-96.8\" font-family=\"Helvetica,sans-Serif\" font-size=\"14.00\" fill=\"#000000\">value = 13.239</text>\n</g>\n<!-- 8&#45;&gt;9 -->\n<g id=\"edge9\" class=\"edge\">\n<title>8&#45;&gt;9</title>\n<path fill=\"none\" stroke=\"#000000\" d=\"M666.3581,-192.9465C658.6745,-183.968 650.2947,-174.1758 642.3041,-164.8385\"/>\n<polygon fill=\"#000000\" stroke=\"#000000\" points=\"644.8685,-162.4521 635.7074,-157.13 639.5501,-167.0034 644.8685,-162.4521\"/>\n</g>\n<!-- 12 -->\n<g id=\"node13\" class=\"node\">\n<title>12</title>\n<polygon fill=\"none\" stroke=\"#000000\" points=\"866,-157 705,-157 705,-89 866,-89 866,-157\"/>\n<text text-anchor=\"middle\" x=\"785.5\" y=\"-141.8\" font-family=\"Helvetica,sans-Serif\" font-size=\"14.00\" fill=\"#000000\">age &lt;= 39.0</text>\n<text text-anchor=\"middle\" x=\"785.5\" y=\"-126.8\" font-family=\"Helvetica,sans-Serif\" font-size=\"14.00\" fill=\"#000000\">squared_error = 0.022</text>\n<text text-anchor=\"middle\" x=\"785.5\" y=\"-111.8\" font-family=\"Helvetica,sans-Serif\" font-size=\"14.00\" fill=\"#000000\">samples = 10</text>\n<text text-anchor=\"middle\" x=\"785.5\" y=\"-96.8\" font-family=\"Helvetica,sans-Serif\" font-size=\"14.00\" fill=\"#000000\">value = 13.336</text>\n</g>\n<!-- 8&#45;&gt;12 -->\n<g id=\"edge12\" class=\"edge\">\n<title>8&#45;&gt;12</title>\n<path fill=\"none\" stroke=\"#000000\" d=\"M724.9694,-192.9465C732.7393,-183.968 741.2132,-174.1758 749.2936,-164.8385\"/>\n<polygon fill=\"#000000\" stroke=\"#000000\" points=\"752.0672,-166.982 755.9644,-157.13 746.774,-162.4014 752.0672,-166.982\"/>\n</g>\n<!-- 10 -->\n<g id=\"node11\" class=\"node\">\n<title>10</title>\n<polygon fill=\"none\" stroke=\"#000000\" points=\"507.5,-53 355.5,-53 355.5,0 507.5,0 507.5,-53\"/>\n<text text-anchor=\"middle\" x=\"431.5\" y=\"-37.8\" font-family=\"Helvetica,sans-Serif\" font-size=\"14.00\" fill=\"#000000\">squared_error = 0.01</text>\n<text text-anchor=\"middle\" x=\"431.5\" y=\"-22.8\" font-family=\"Helvetica,sans-Serif\" font-size=\"14.00\" fill=\"#000000\">samples = 22</text>\n<text text-anchor=\"middle\" x=\"431.5\" y=\"-7.8\" font-family=\"Helvetica,sans-Serif\" font-size=\"14.00\" fill=\"#000000\">value = 13.221</text>\n</g>\n<!-- 9&#45;&gt;10 -->\n<g id=\"edge10\" class=\"edge\">\n<title>9&#45;&gt;10</title>\n<path fill=\"none\" stroke=\"#000000\" d=\"M544.8015,-88.9777C526.6173,-78.9504 506.8003,-68.0228 488.8979,-58.1508\"/>\n<polygon fill=\"#000000\" stroke=\"#000000\" points=\"490.1763,-54.859 479.7293,-53.095 486.7961,-60.9888 490.1763,-54.859\"/>\n</g>\n<!-- 11 -->\n<g id=\"node12\" class=\"node\">\n<title>11</title>\n<polygon fill=\"none\" stroke=\"#000000\" points=\"687,-53 526,-53 526,0 687,0 687,-53\"/>\n<text text-anchor=\"middle\" x=\"606.5\" y=\"-37.8\" font-family=\"Helvetica,sans-Serif\" font-size=\"14.00\" fill=\"#000000\">squared_error = 0.008</text>\n<text text-anchor=\"middle\" x=\"606.5\" y=\"-22.8\" font-family=\"Helvetica,sans-Serif\" font-size=\"14.00\" fill=\"#000000\">samples = 3</text>\n<text text-anchor=\"middle\" x=\"606.5\" y=\"-7.8\" font-family=\"Helvetica,sans-Serif\" font-size=\"14.00\" fill=\"#000000\">value = 13.373</text>\n</g>\n<!-- 9&#45;&gt;11 -->\n<g id=\"edge11\" class=\"edge\">\n<title>9&#45;&gt;11</title>\n<path fill=\"none\" stroke=\"#000000\" d=\"M606.5,-88.9777C606.5,-80.7364 606.5,-71.887 606.5,-63.5153\"/>\n<polygon fill=\"#000000\" stroke=\"#000000\" points=\"610.0001,-63.2484 606.5,-53.2485 603.0001,-63.2485 610.0001,-63.2484\"/>\n</g>\n<!-- 13 -->\n<g id=\"node14\" class=\"node\">\n<title>13</title>\n<polygon fill=\"none\" stroke=\"#000000\" points=\"866,-53 705,-53 705,0 866,0 866,-53\"/>\n<text text-anchor=\"middle\" x=\"785.5\" y=\"-37.8\" font-family=\"Helvetica,sans-Serif\" font-size=\"14.00\" fill=\"#000000\">squared_error = 0.014</text>\n<text text-anchor=\"middle\" x=\"785.5\" y=\"-22.8\" font-family=\"Helvetica,sans-Serif\" font-size=\"14.00\" fill=\"#000000\">samples = 5</text>\n<text text-anchor=\"middle\" x=\"785.5\" y=\"-7.8\" font-family=\"Helvetica,sans-Serif\" font-size=\"14.00\" fill=\"#000000\">value = 13.242</text>\n</g>\n<!-- 12&#45;&gt;13 -->\n<g id=\"edge13\" class=\"edge\">\n<title>12&#45;&gt;13</title>\n<path fill=\"none\" stroke=\"#000000\" d=\"M785.5,-88.9777C785.5,-80.7364 785.5,-71.887 785.5,-63.5153\"/>\n<polygon fill=\"#000000\" stroke=\"#000000\" points=\"789.0001,-63.2484 785.5,-53.2485 782.0001,-63.2485 789.0001,-63.2484\"/>\n</g>\n<!-- 14 -->\n<g id=\"node15\" class=\"node\">\n<title>14</title>\n<polygon fill=\"none\" stroke=\"#000000\" points=\"1045,-53 884,-53 884,0 1045,0 1045,-53\"/>\n<text text-anchor=\"middle\" x=\"964.5\" y=\"-37.8\" font-family=\"Helvetica,sans-Serif\" font-size=\"14.00\" fill=\"#000000\">squared_error = 0.013</text>\n<text text-anchor=\"middle\" x=\"964.5\" y=\"-22.8\" font-family=\"Helvetica,sans-Serif\" font-size=\"14.00\" fill=\"#000000\">samples = 5</text>\n<text text-anchor=\"middle\" x=\"964.5\" y=\"-7.8\" font-family=\"Helvetica,sans-Serif\" font-size=\"14.00\" fill=\"#000000\">value = 13.431</text>\n</g>\n<!-- 12&#45;&gt;14 -->\n<g id=\"edge14\" class=\"edge\">\n<title>12&#45;&gt;14</title>\n<path fill=\"none\" stroke=\"#000000\" d=\"M848.6087,-88.9777C867.3792,-78.8584 887.8506,-67.8222 906.2937,-57.8794\"/>\n<polygon fill=\"#000000\" stroke=\"#000000\" points=\"908.0268,-60.9213 915.1683,-53.095 904.705,-54.7597 908.0268,-60.9213\"/>\n</g>\n<!-- 16 -->\n<g id=\"node17\" class=\"node\">\n<title>16</title>\n<polygon fill=\"none\" stroke=\"#000000\" points=\"1406.5,-261 1254.5,-261 1254.5,-193 1406.5,-193 1406.5,-261\"/>\n<text text-anchor=\"middle\" x=\"1330.5\" y=\"-245.8\" font-family=\"Helvetica,sans-Serif\" font-size=\"14.00\" fill=\"#000000\">sqft_living &lt;= 2050.0</text>\n<text text-anchor=\"middle\" x=\"1330.5\" y=\"-230.8\" font-family=\"Helvetica,sans-Serif\" font-size=\"14.00\" fill=\"#000000\">squared_error = 0.01</text>\n<text text-anchor=\"middle\" x=\"1330.5\" y=\"-215.8\" font-family=\"Helvetica,sans-Serif\" font-size=\"14.00\" fill=\"#000000\">samples = 11</text>\n<text text-anchor=\"middle\" x=\"1330.5\" y=\"-200.8\" font-family=\"Helvetica,sans-Serif\" font-size=\"14.00\" fill=\"#000000\">value = 13.399</text>\n</g>\n<!-- 15&#45;&gt;16 -->\n<g id=\"edge16\" class=\"edge\">\n<title>15&#45;&gt;16</title>\n<path fill=\"none\" stroke=\"#000000\" d=\"M1390.3581,-296.9465C1382.6745,-287.968 1374.2947,-278.1758 1366.3041,-268.8385\"/>\n<polygon fill=\"#000000\" stroke=\"#000000\" points=\"1368.8685,-266.4521 1359.7074,-261.13 1363.5501,-271.0034 1368.8685,-266.4521\"/>\n</g>\n<!-- 21 -->\n<g id=\"node22\" class=\"node\">\n<title>21</title>\n<polygon fill=\"none\" stroke=\"#000000\" points=\"1590,-261 1429,-261 1429,-193 1590,-193 1590,-261\"/>\n<text text-anchor=\"middle\" x=\"1509.5\" y=\"-245.8\" font-family=\"Helvetica,sans-Serif\" font-size=\"14.00\" fill=\"#000000\">view &lt;= 2.5</text>\n<text text-anchor=\"middle\" x=\"1509.5\" y=\"-230.8\" font-family=\"Helvetica,sans-Serif\" font-size=\"14.00\" fill=\"#000000\">squared_error = 0.012</text>\n<text text-anchor=\"middle\" x=\"1509.5\" y=\"-215.8\" font-family=\"Helvetica,sans-Serif\" font-size=\"14.00\" fill=\"#000000\">samples = 10</text>\n<text text-anchor=\"middle\" x=\"1509.5\" y=\"-200.8\" font-family=\"Helvetica,sans-Serif\" font-size=\"14.00\" fill=\"#000000\">value = 13.613</text>\n</g>\n<!-- 15&#45;&gt;21 -->\n<g id=\"edge21\" class=\"edge\">\n<title>15&#45;&gt;21</title>\n<path fill=\"none\" stroke=\"#000000\" d=\"M1448.9694,-296.9465C1456.7393,-287.968 1465.2132,-278.1758 1473.2936,-268.8385\"/>\n<polygon fill=\"#000000\" stroke=\"#000000\" points=\"1476.0672,-270.982 1479.9644,-261.13 1470.774,-266.4014 1476.0672,-270.982\"/>\n</g>\n<!-- 17 -->\n<g id=\"node18\" class=\"node\">\n<title>17</title>\n<polygon fill=\"none\" stroke=\"#000000\" points=\"1232,-157 1071,-157 1071,-89 1232,-89 1232,-157\"/>\n<text text-anchor=\"middle\" x=\"1151.5\" y=\"-141.8\" font-family=\"Helvetica,sans-Serif\" font-size=\"14.00\" fill=\"#000000\">sqft_living &lt;= 1960.0</text>\n<text text-anchor=\"middle\" x=\"1151.5\" y=\"-126.8\" font-family=\"Helvetica,sans-Serif\" font-size=\"14.00\" fill=\"#000000\">squared_error = 0.003</text>\n<text text-anchor=\"middle\" x=\"1151.5\" y=\"-111.8\" font-family=\"Helvetica,sans-Serif\" font-size=\"14.00\" fill=\"#000000\">samples = 7</text>\n<text text-anchor=\"middle\" x=\"1151.5\" y=\"-96.8\" font-family=\"Helvetica,sans-Serif\" font-size=\"14.00\" fill=\"#000000\">value = 13.458</text>\n</g>\n<!-- 16&#45;&gt;17 -->\n<g id=\"edge17\" class=\"edge\">\n<title>16&#45;&gt;17</title>\n<path fill=\"none\" stroke=\"#000000\" d=\"M1271.8887,-192.9465C1255.0445,-183.1599 1236.5364,-172.4066 1219.192,-162.3294\"/>\n<polygon fill=\"#000000\" stroke=\"#000000\" points=\"1220.6478,-159.1274 1210.243,-157.13 1217.1312,-165.18 1220.6478,-159.1274\"/>\n</g>\n<!-- 20 -->\n<g id=\"node21\" class=\"node\">\n<title>20</title>\n<polygon fill=\"none\" stroke=\"#000000\" points=\"1411,-149.5 1250,-149.5 1250,-96.5 1411,-96.5 1411,-149.5\"/>\n<text text-anchor=\"middle\" x=\"1330.5\" y=\"-134.3\" font-family=\"Helvetica,sans-Serif\" font-size=\"14.00\" fill=\"#000000\">squared_error = 0.006</text>\n<text text-anchor=\"middle\" x=\"1330.5\" y=\"-119.3\" font-family=\"Helvetica,sans-Serif\" font-size=\"14.00\" fill=\"#000000\">samples = 4</text>\n<text text-anchor=\"middle\" x=\"1330.5\" y=\"-104.3\" font-family=\"Helvetica,sans-Serif\" font-size=\"14.00\" fill=\"#000000\">value = 13.297</text>\n</g>\n<!-- 16&#45;&gt;20 -->\n<g id=\"edge20\" class=\"edge\">\n<title>16&#45;&gt;20</title>\n<path fill=\"none\" stroke=\"#000000\" d=\"M1330.5,-192.9465C1330.5,-182.2621 1330.5,-170.4254 1330.5,-159.5742\"/>\n<polygon fill=\"#000000\" stroke=\"#000000\" points=\"1334.0001,-159.5421 1330.5,-149.5422 1327.0001,-159.5422 1334.0001,-159.5421\"/>\n</g>\n<!-- 18 -->\n<g id=\"node19\" class=\"node\">\n<title>18</title>\n<polygon fill=\"none\" stroke=\"#000000\" points=\"1224,-53 1063,-53 1063,0 1224,0 1224,-53\"/>\n<text text-anchor=\"middle\" x=\"1143.5\" y=\"-37.8\" font-family=\"Helvetica,sans-Serif\" font-size=\"14.00\" fill=\"#000000\">squared_error = 0.002</text>\n<text text-anchor=\"middle\" x=\"1143.5\" y=\"-22.8\" font-family=\"Helvetica,sans-Serif\" font-size=\"14.00\" fill=\"#000000\">samples = 5</text>\n<text text-anchor=\"middle\" x=\"1143.5\" y=\"-7.8\" font-family=\"Helvetica,sans-Serif\" font-size=\"14.00\" fill=\"#000000\">value = 13.435</text>\n</g>\n<!-- 17&#45;&gt;18 -->\n<g id=\"edge18\" class=\"edge\">\n<title>17&#45;&gt;18</title>\n<path fill=\"none\" stroke=\"#000000\" d=\"M1148.6795,-88.9777C1147.9887,-80.6449 1147.2463,-71.6903 1146.5455,-63.2364\"/>\n<polygon fill=\"#000000\" stroke=\"#000000\" points=\"1150.0318,-62.9251 1145.7175,-53.2485 1143.0557,-63.5035 1150.0318,-62.9251\"/>\n</g>\n<!-- 19 -->\n<g id=\"node20\" class=\"node\">\n<title>19</title>\n<polygon fill=\"none\" stroke=\"#000000\" points=\"1403,-53 1242,-53 1242,0 1403,0 1403,-53\"/>\n<text text-anchor=\"middle\" x=\"1322.5\" y=\"-37.8\" font-family=\"Helvetica,sans-Serif\" font-size=\"14.00\" fill=\"#000000\">squared_error = 0.001</text>\n<text text-anchor=\"middle\" x=\"1322.5\" y=\"-22.8\" font-family=\"Helvetica,sans-Serif\" font-size=\"14.00\" fill=\"#000000\">samples = 2</text>\n<text text-anchor=\"middle\" x=\"1322.5\" y=\"-7.8\" font-family=\"Helvetica,sans-Serif\" font-size=\"14.00\" fill=\"#000000\">value = 13.516</text>\n</g>\n<!-- 17&#45;&gt;19 -->\n<g id=\"edge19\" class=\"edge\">\n<title>17&#45;&gt;19</title>\n<path fill=\"none\" stroke=\"#000000\" d=\"M1211.7882,-88.9777C1229.5568,-78.9504 1248.9208,-68.0228 1266.4141,-58.1508\"/>\n<polygon fill=\"#000000\" stroke=\"#000000\" points=\"1268.3843,-61.0579 1275.3731,-53.095 1264.9439,-54.9616 1268.3843,-61.0579\"/>\n</g>\n<!-- 22 -->\n<g id=\"node23\" class=\"node\">\n<title>22</title>\n<polygon fill=\"none\" stroke=\"#000000\" points=\"1590,-157 1429,-157 1429,-89 1590,-89 1590,-157\"/>\n<text text-anchor=\"middle\" x=\"1509.5\" y=\"-141.8\" font-family=\"Helvetica,sans-Serif\" font-size=\"14.00\" fill=\"#000000\">sqft_living &lt;= 1935.0</text>\n<text text-anchor=\"middle\" x=\"1509.5\" y=\"-126.8\" font-family=\"Helvetica,sans-Serif\" font-size=\"14.00\" fill=\"#000000\">squared_error = 0.007</text>\n<text text-anchor=\"middle\" x=\"1509.5\" y=\"-111.8\" font-family=\"Helvetica,sans-Serif\" font-size=\"14.00\" fill=\"#000000\">samples = 9</text>\n<text text-anchor=\"middle\" x=\"1509.5\" y=\"-96.8\" font-family=\"Helvetica,sans-Serif\" font-size=\"14.00\" fill=\"#000000\">value = 13.587</text>\n</g>\n<!-- 21&#45;&gt;22 -->\n<g id=\"edge22\" class=\"edge\">\n<title>21&#45;&gt;22</title>\n<path fill=\"none\" stroke=\"#000000\" d=\"M1509.5,-192.9465C1509.5,-184.776 1509.5,-175.9318 1509.5,-167.3697\"/>\n<polygon fill=\"#000000\" stroke=\"#000000\" points=\"1513.0001,-167.13 1509.5,-157.13 1506.0001,-167.13 1513.0001,-167.13\"/>\n</g>\n<!-- 25 -->\n<g id=\"node26\" class=\"node\">\n<title>25</title>\n<polygon fill=\"none\" stroke=\"#000000\" points=\"1752.5,-149.5 1608.5,-149.5 1608.5,-96.5 1752.5,-96.5 1752.5,-149.5\"/>\n<text text-anchor=\"middle\" x=\"1680.5\" y=\"-134.3\" font-family=\"Helvetica,sans-Serif\" font-size=\"14.00\" fill=\"#000000\">squared_error = 0.0</text>\n<text text-anchor=\"middle\" x=\"1680.5\" y=\"-119.3\" font-family=\"Helvetica,sans-Serif\" font-size=\"14.00\" fill=\"#000000\">samples = 1</text>\n<text text-anchor=\"middle\" x=\"1680.5\" y=\"-104.3\" font-family=\"Helvetica,sans-Serif\" font-size=\"14.00\" fill=\"#000000\">value = 13.846</text>\n</g>\n<!-- 21&#45;&gt;25 -->\n<g id=\"edge25\" class=\"edge\">\n<title>21&#45;&gt;25</title>\n<path fill=\"none\" stroke=\"#000000\" d=\"M1565.4918,-192.9465C1585.6856,-180.6649 1608.3826,-166.8609 1628.2445,-154.7811\"/>\n<polygon fill=\"#000000\" stroke=\"#000000\" points=\"1630.1333,-157.7289 1636.8586,-149.5422 1626.4959,-151.7481 1630.1333,-157.7289\"/>\n</g>\n<!-- 23 -->\n<g id=\"node24\" class=\"node\">\n<title>23</title>\n<polygon fill=\"none\" stroke=\"#000000\" points=\"1582,-53 1421,-53 1421,0 1582,0 1582,-53\"/>\n<text text-anchor=\"middle\" x=\"1501.5\" y=\"-37.8\" font-family=\"Helvetica,sans-Serif\" font-size=\"14.00\" fill=\"#000000\">squared_error = 0.001</text>\n<text text-anchor=\"middle\" x=\"1501.5\" y=\"-22.8\" font-family=\"Helvetica,sans-Serif\" font-size=\"14.00\" fill=\"#000000\">samples = 3</text>\n<text text-anchor=\"middle\" x=\"1501.5\" y=\"-7.8\" font-family=\"Helvetica,sans-Serif\" font-size=\"14.00\" fill=\"#000000\">value = 13.521</text>\n</g>\n<!-- 22&#45;&gt;23 -->\n<g id=\"edge23\" class=\"edge\">\n<title>22&#45;&gt;23</title>\n<path fill=\"none\" stroke=\"#000000\" d=\"M1506.6795,-88.9777C1505.9887,-80.6449 1505.2463,-71.6903 1504.5455,-63.2364\"/>\n<polygon fill=\"#000000\" stroke=\"#000000\" points=\"1508.0318,-62.9251 1503.7175,-53.2485 1501.0557,-63.5035 1508.0318,-62.9251\"/>\n</g>\n<!-- 24 -->\n<g id=\"node25\" class=\"node\">\n<title>24</title>\n<polygon fill=\"none\" stroke=\"#000000\" points=\"1761,-53 1600,-53 1600,0 1761,0 1761,-53\"/>\n<text text-anchor=\"middle\" x=\"1680.5\" y=\"-37.8\" font-family=\"Helvetica,sans-Serif\" font-size=\"14.00\" fill=\"#000000\">squared_error = 0.007</text>\n<text text-anchor=\"middle\" x=\"1680.5\" y=\"-22.8\" font-family=\"Helvetica,sans-Serif\" font-size=\"14.00\" fill=\"#000000\">samples = 6</text>\n<text text-anchor=\"middle\" x=\"1680.5\" y=\"-7.8\" font-family=\"Helvetica,sans-Serif\" font-size=\"14.00\" fill=\"#000000\">value = 13.62</text>\n</g>\n<!-- 22&#45;&gt;24 -->\n<g id=\"edge24\" class=\"edge\">\n<title>22&#45;&gt;24</title>\n<path fill=\"none\" stroke=\"#000000\" d=\"M1569.7882,-88.9777C1587.5568,-78.9504 1606.9208,-68.0228 1624.4141,-58.1508\"/>\n<polygon fill=\"#000000\" stroke=\"#000000\" points=\"1626.3843,-61.0579 1633.3731,-53.095 1622.9439,-54.9616 1626.3843,-61.0579\"/>\n</g>\n<!-- 27 -->\n<g id=\"node28\" class=\"node\">\n<title>27</title>\n<polygon fill=\"none\" stroke=\"#000000\" points=\"2204.5,-365 2052.5,-365 2052.5,-297 2204.5,-297 2204.5,-365\"/>\n<text text-anchor=\"middle\" x=\"2128.5\" y=\"-349.8\" font-family=\"Helvetica,sans-Serif\" font-size=\"14.00\" fill=\"#000000\">grade &lt;= 7.5</text>\n<text text-anchor=\"middle\" x=\"2128.5\" y=\"-334.8\" font-family=\"Helvetica,sans-Serif\" font-size=\"14.00\" fill=\"#000000\">squared_error = 0.04</text>\n<text text-anchor=\"middle\" x=\"2128.5\" y=\"-319.8\" font-family=\"Helvetica,sans-Serif\" font-size=\"14.00\" fill=\"#000000\">samples = 30</text>\n<text text-anchor=\"middle\" x=\"2128.5\" y=\"-304.8\" font-family=\"Helvetica,sans-Serif\" font-size=\"14.00\" fill=\"#000000\">value = 13.7</text>\n</g>\n<!-- 26&#45;&gt;27 -->\n<g id=\"edge27\" class=\"edge\">\n<title>26&#45;&gt;27</title>\n<path fill=\"none\" stroke=\"#000000\" d=\"M2128.5,-400.9465C2128.5,-392.776 2128.5,-383.9318 2128.5,-375.3697\"/>\n<polygon fill=\"#000000\" stroke=\"#000000\" points=\"2132.0001,-375.13 2128.5,-365.13 2125.0001,-375.13 2132.0001,-375.13\"/>\n</g>\n<!-- 38 -->\n<g id=\"node39\" class=\"node\">\n<title>38</title>\n<polygon fill=\"none\" stroke=\"#000000\" points=\"2916,-365 2755,-365 2755,-297 2916,-297 2916,-365\"/>\n<text text-anchor=\"middle\" x=\"2835.5\" y=\"-349.8\" font-family=\"Helvetica,sans-Serif\" font-size=\"14.00\" fill=\"#000000\">view &lt;= 1.5</text>\n<text text-anchor=\"middle\" x=\"2835.5\" y=\"-334.8\" font-family=\"Helvetica,sans-Serif\" font-size=\"14.00\" fill=\"#000000\">squared_error = 0.092</text>\n<text text-anchor=\"middle\" x=\"2835.5\" y=\"-319.8\" font-family=\"Helvetica,sans-Serif\" font-size=\"14.00\" fill=\"#000000\">samples = 36</text>\n<text text-anchor=\"middle\" x=\"2835.5\" y=\"-304.8\" font-family=\"Helvetica,sans-Serif\" font-size=\"14.00\" fill=\"#000000\">value = 14.187</text>\n</g>\n<!-- 26&#45;&gt;38 -->\n<g id=\"edge38\" class=\"edge\">\n<title>26&#45;&gt;38</title>\n<path fill=\"none\" stroke=\"#000000\" d=\"M2209.2574,-423.1205C2342.0737,-403.5832 2605.7249,-364.8 2744.7801,-344.3449\"/>\n<polygon fill=\"#000000\" stroke=\"#000000\" points=\"2745.5974,-347.7625 2754.9816,-342.8443 2744.5786,-340.837 2745.5974,-347.7625\"/>\n</g>\n<!-- 28 -->\n<g id=\"node29\" class=\"node\">\n<title>28</title>\n<polygon fill=\"none\" stroke=\"#000000\" points=\"2119,-261 1958,-261 1958,-193 2119,-193 2119,-261\"/>\n<text text-anchor=\"middle\" x=\"2038.5\" y=\"-245.8\" font-family=\"Helvetica,sans-Serif\" font-size=\"14.00\" fill=\"#000000\">yr_built &lt;= 1915.0</text>\n<text text-anchor=\"middle\" x=\"2038.5\" y=\"-230.8\" font-family=\"Helvetica,sans-Serif\" font-size=\"14.00\" fill=\"#000000\">squared_error = 0.012</text>\n<text text-anchor=\"middle\" x=\"2038.5\" y=\"-215.8\" font-family=\"Helvetica,sans-Serif\" font-size=\"14.00\" fill=\"#000000\">samples = 11</text>\n<text text-anchor=\"middle\" x=\"2038.5\" y=\"-200.8\" font-family=\"Helvetica,sans-Serif\" font-size=\"14.00\" fill=\"#000000\">value = 13.54</text>\n</g>\n<!-- 27&#45;&gt;28 -->\n<g id=\"edge28\" class=\"edge\">\n<title>27&#45;&gt;28</title>\n<path fill=\"none\" stroke=\"#000000\" d=\"M2099.0306,-296.9465C2091.2607,-287.968 2082.7868,-278.1758 2074.7064,-268.8385\"/>\n<polygon fill=\"#000000\" stroke=\"#000000\" points=\"2077.226,-266.4014 2068.0356,-261.13 2071.9328,-270.982 2077.226,-266.4014\"/>\n</g>\n<!-- 33 -->\n<g id=\"node34\" class=\"node\">\n<title>33</title>\n<polygon fill=\"none\" stroke=\"#000000\" points=\"2298,-261 2137,-261 2137,-193 2298,-193 2298,-261\"/>\n<text text-anchor=\"middle\" x=\"2217.5\" y=\"-245.8\" font-family=\"Helvetica,sans-Serif\" font-size=\"14.00\" fill=\"#000000\">sqft_living &lt;= 2865.0</text>\n<text text-anchor=\"middle\" x=\"2217.5\" y=\"-230.8\" font-family=\"Helvetica,sans-Serif\" font-size=\"14.00\" fill=\"#000000\">squared_error = 0.034</text>\n<text text-anchor=\"middle\" x=\"2217.5\" y=\"-215.8\" font-family=\"Helvetica,sans-Serif\" font-size=\"14.00\" fill=\"#000000\">samples = 19</text>\n<text text-anchor=\"middle\" x=\"2217.5\" y=\"-200.8\" font-family=\"Helvetica,sans-Serif\" font-size=\"14.00\" fill=\"#000000\">value = 13.793</text>\n</g>\n<!-- 27&#45;&gt;33 -->\n<g id=\"edge33\" class=\"edge\">\n<title>27&#45;&gt;33</title>\n<path fill=\"none\" stroke=\"#000000\" d=\"M2157.6419,-296.9465C2165.3255,-287.968 2173.7053,-278.1758 2181.6959,-268.8385\"/>\n<polygon fill=\"#000000\" stroke=\"#000000\" points=\"2184.4499,-271.0034 2188.2926,-261.13 2179.1315,-266.4521 2184.4499,-271.0034\"/>\n</g>\n<!-- 29 -->\n<g id=\"node30\" class=\"node\">\n<title>29</title>\n<polygon fill=\"none\" stroke=\"#000000\" points=\"1940,-149.5 1779,-149.5 1779,-96.5 1940,-96.5 1940,-149.5\"/>\n<text text-anchor=\"middle\" x=\"1859.5\" y=\"-134.3\" font-family=\"Helvetica,sans-Serif\" font-size=\"14.00\" fill=\"#000000\">squared_error = 0.002</text>\n<text text-anchor=\"middle\" x=\"1859.5\" y=\"-119.3\" font-family=\"Helvetica,sans-Serif\" font-size=\"14.00\" fill=\"#000000\">samples = 4</text>\n<text text-anchor=\"middle\" x=\"1859.5\" y=\"-104.3\" font-family=\"Helvetica,sans-Serif\" font-size=\"14.00\" fill=\"#000000\">value = 13.442</text>\n</g>\n<!-- 28&#45;&gt;29 -->\n<g id=\"edge29\" class=\"edge\">\n<title>28&#45;&gt;29</title>\n<path fill=\"none\" stroke=\"#000000\" d=\"M1979.8887,-192.9465C1958.6554,-180.6098 1934.7782,-166.7371 1913.9207,-154.6187\"/>\n<polygon fill=\"#000000\" stroke=\"#000000\" points=\"1915.588,-151.5396 1905.1831,-149.5422 1912.0714,-157.5922 1915.588,-151.5396\"/>\n</g>\n<!-- 30 -->\n<g id=\"node31\" class=\"node\">\n<title>30</title>\n<polygon fill=\"none\" stroke=\"#000000\" points=\"2119,-157 1958,-157 1958,-89 2119,-89 2119,-157\"/>\n<text text-anchor=\"middle\" x=\"2038.5\" y=\"-141.8\" font-family=\"Helvetica,sans-Serif\" font-size=\"14.00\" fill=\"#000000\">condition &lt;= 3.5</text>\n<text text-anchor=\"middle\" x=\"2038.5\" y=\"-126.8\" font-family=\"Helvetica,sans-Serif\" font-size=\"14.00\" fill=\"#000000\">squared_error = 0.009</text>\n<text text-anchor=\"middle\" x=\"2038.5\" y=\"-111.8\" font-family=\"Helvetica,sans-Serif\" font-size=\"14.00\" fill=\"#000000\">samples = 7</text>\n<text text-anchor=\"middle\" x=\"2038.5\" y=\"-96.8\" font-family=\"Helvetica,sans-Serif\" font-size=\"14.00\" fill=\"#000000\">value = 13.596</text>\n</g>\n<!-- 28&#45;&gt;30 -->\n<g id=\"edge30\" class=\"edge\">\n<title>28&#45;&gt;30</title>\n<path fill=\"none\" stroke=\"#000000\" d=\"M2038.5,-192.9465C2038.5,-184.776 2038.5,-175.9318 2038.5,-167.3697\"/>\n<polygon fill=\"#000000\" stroke=\"#000000\" points=\"2042.0001,-167.13 2038.5,-157.13 2035.0001,-167.13 2042.0001,-167.13\"/>\n</g>\n<!-- 31 -->\n<g id=\"node32\" class=\"node\">\n<title>31</title>\n<polygon fill=\"none\" stroke=\"#000000\" points=\"1940,-53 1779,-53 1779,0 1940,0 1940,-53\"/>\n<text text-anchor=\"middle\" x=\"1859.5\" y=\"-37.8\" font-family=\"Helvetica,sans-Serif\" font-size=\"14.00\" fill=\"#000000\">squared_error = 0.004</text>\n<text text-anchor=\"middle\" x=\"1859.5\" y=\"-22.8\" font-family=\"Helvetica,sans-Serif\" font-size=\"14.00\" fill=\"#000000\">samples = 3</text>\n<text text-anchor=\"middle\" x=\"1859.5\" y=\"-7.8\" font-family=\"Helvetica,sans-Serif\" font-size=\"14.00\" fill=\"#000000\">value = 13.667</text>\n</g>\n<!-- 30&#45;&gt;31 -->\n<g id=\"edge31\" class=\"edge\">\n<title>30&#45;&gt;31</title>\n<path fill=\"none\" stroke=\"#000000\" d=\"M1975.3913,-88.9777C1956.6208,-78.8584 1936.1494,-67.8222 1917.7063,-57.8794\"/>\n<polygon fill=\"#000000\" stroke=\"#000000\" points=\"1919.295,-54.7597 1908.8317,-53.095 1915.9732,-60.9213 1919.295,-54.7597\"/>\n</g>\n<!-- 32 -->\n<g id=\"node33\" class=\"node\">\n<title>32</title>\n<polygon fill=\"none\" stroke=\"#000000\" points=\"2119,-53 1958,-53 1958,0 2119,0 2119,-53\"/>\n<text text-anchor=\"middle\" x=\"2038.5\" y=\"-37.8\" font-family=\"Helvetica,sans-Serif\" font-size=\"14.00\" fill=\"#000000\">squared_error = 0.006</text>\n<text text-anchor=\"middle\" x=\"2038.5\" y=\"-22.8\" font-family=\"Helvetica,sans-Serif\" font-size=\"14.00\" fill=\"#000000\">samples = 4</text>\n<text text-anchor=\"middle\" x=\"2038.5\" y=\"-7.8\" font-family=\"Helvetica,sans-Serif\" font-size=\"14.00\" fill=\"#000000\">value = 13.544</text>\n</g>\n<!-- 30&#45;&gt;32 -->\n<g id=\"edge32\" class=\"edge\">\n<title>30&#45;&gt;32</title>\n<path fill=\"none\" stroke=\"#000000\" d=\"M2038.5,-88.9777C2038.5,-80.7364 2038.5,-71.887 2038.5,-63.5153\"/>\n<polygon fill=\"#000000\" stroke=\"#000000\" points=\"2042.0001,-63.2484 2038.5,-53.2485 2035.0001,-63.2485 2042.0001,-63.2484\"/>\n</g>\n<!-- 34 -->\n<g id=\"node35\" class=\"node\">\n<title>34</title>\n<polygon fill=\"none\" stroke=\"#000000\" points=\"2298,-157 2137,-157 2137,-89 2298,-89 2298,-157\"/>\n<text text-anchor=\"middle\" x=\"2217.5\" y=\"-141.8\" font-family=\"Helvetica,sans-Serif\" font-size=\"14.00\" fill=\"#000000\">age &lt;= 78.5</text>\n<text text-anchor=\"middle\" x=\"2217.5\" y=\"-126.8\" font-family=\"Helvetica,sans-Serif\" font-size=\"14.00\" fill=\"#000000\">squared_error = 0.026</text>\n<text text-anchor=\"middle\" x=\"2217.5\" y=\"-111.8\" font-family=\"Helvetica,sans-Serif\" font-size=\"14.00\" fill=\"#000000\">samples = 16</text>\n<text text-anchor=\"middle\" x=\"2217.5\" y=\"-96.8\" font-family=\"Helvetica,sans-Serif\" font-size=\"14.00\" fill=\"#000000\">value = 13.75</text>\n</g>\n<!-- 33&#45;&gt;34 -->\n<g id=\"edge34\" class=\"edge\">\n<title>33&#45;&gt;34</title>\n<path fill=\"none\" stroke=\"#000000\" d=\"M2217.5,-192.9465C2217.5,-184.776 2217.5,-175.9318 2217.5,-167.3697\"/>\n<polygon fill=\"#000000\" stroke=\"#000000\" points=\"2221.0001,-167.13 2217.5,-157.13 2214.0001,-167.13 2221.0001,-167.13\"/>\n</g>\n<!-- 37 -->\n<g id=\"node38\" class=\"node\">\n<title>37</title>\n<polygon fill=\"none\" stroke=\"#000000\" points=\"2477,-149.5 2316,-149.5 2316,-96.5 2477,-96.5 2477,-149.5\"/>\n<text text-anchor=\"middle\" x=\"2396.5\" y=\"-134.3\" font-family=\"Helvetica,sans-Serif\" font-size=\"14.00\" fill=\"#000000\">squared_error = 0.009</text>\n<text text-anchor=\"middle\" x=\"2396.5\" y=\"-119.3\" font-family=\"Helvetica,sans-Serif\" font-size=\"14.00\" fill=\"#000000\">samples = 3</text>\n<text text-anchor=\"middle\" x=\"2396.5\" y=\"-104.3\" font-family=\"Helvetica,sans-Serif\" font-size=\"14.00\" fill=\"#000000\">value = 14.023</text>\n</g>\n<!-- 33&#45;&gt;37 -->\n<g id=\"edge37\" class=\"edge\">\n<title>33&#45;&gt;37</title>\n<path fill=\"none\" stroke=\"#000000\" d=\"M2276.1113,-192.9465C2297.3446,-180.6098 2321.2218,-166.7371 2342.0793,-154.6187\"/>\n<polygon fill=\"#000000\" stroke=\"#000000\" points=\"2343.9286,-157.5922 2350.8169,-149.5422 2340.412,-151.5396 2343.9286,-157.5922\"/>\n</g>\n<!-- 35 -->\n<g id=\"node36\" class=\"node\">\n<title>35</title>\n<polygon fill=\"none\" stroke=\"#000000\" points=\"2298,-53 2137,-53 2137,0 2298,0 2298,-53\"/>\n<text text-anchor=\"middle\" x=\"2217.5\" y=\"-37.8\" font-family=\"Helvetica,sans-Serif\" font-size=\"14.00\" fill=\"#000000\">squared_error = 0.024</text>\n<text text-anchor=\"middle\" x=\"2217.5\" y=\"-22.8\" font-family=\"Helvetica,sans-Serif\" font-size=\"14.00\" fill=\"#000000\">samples = 4</text>\n<text text-anchor=\"middle\" x=\"2217.5\" y=\"-7.8\" font-family=\"Helvetica,sans-Serif\" font-size=\"14.00\" fill=\"#000000\">value = 13.907</text>\n</g>\n<!-- 34&#45;&gt;35 -->\n<g id=\"edge35\" class=\"edge\">\n<title>34&#45;&gt;35</title>\n<path fill=\"none\" stroke=\"#000000\" d=\"M2217.5,-88.9777C2217.5,-80.7364 2217.5,-71.887 2217.5,-63.5153\"/>\n<polygon fill=\"#000000\" stroke=\"#000000\" points=\"2221.0001,-63.2484 2217.5,-53.2485 2214.0001,-63.2485 2221.0001,-63.2484\"/>\n</g>\n<!-- 36 -->\n<g id=\"node37\" class=\"node\">\n<title>36</title>\n<polygon fill=\"none\" stroke=\"#000000\" points=\"2477,-53 2316,-53 2316,0 2477,0 2477,-53\"/>\n<text text-anchor=\"middle\" x=\"2396.5\" y=\"-37.8\" font-family=\"Helvetica,sans-Serif\" font-size=\"14.00\" fill=\"#000000\">squared_error = 0.016</text>\n<text text-anchor=\"middle\" x=\"2396.5\" y=\"-22.8\" font-family=\"Helvetica,sans-Serif\" font-size=\"14.00\" fill=\"#000000\">samples = 12</text>\n<text text-anchor=\"middle\" x=\"2396.5\" y=\"-7.8\" font-family=\"Helvetica,sans-Serif\" font-size=\"14.00\" fill=\"#000000\">value = 13.698</text>\n</g>\n<!-- 34&#45;&gt;36 -->\n<g id=\"edge36\" class=\"edge\">\n<title>34&#45;&gt;36</title>\n<path fill=\"none\" stroke=\"#000000\" d=\"M2280.6087,-88.9777C2299.3792,-78.8584 2319.8506,-67.8222 2338.2937,-57.8794\"/>\n<polygon fill=\"#000000\" stroke=\"#000000\" points=\"2340.0268,-60.9213 2347.1683,-53.095 2336.705,-54.7597 2340.0268,-60.9213\"/>\n</g>\n<!-- 39 -->\n<g id=\"node40\" class=\"node\">\n<title>39</title>\n<polygon fill=\"none\" stroke=\"#000000\" points=\"2916,-261 2755,-261 2755,-193 2916,-193 2916,-261\"/>\n<text text-anchor=\"middle\" x=\"2835.5\" y=\"-245.8\" font-family=\"Helvetica,sans-Serif\" font-size=\"14.00\" fill=\"#000000\">sqft_living &lt;= 3255.0</text>\n<text text-anchor=\"middle\" x=\"2835.5\" y=\"-230.8\" font-family=\"Helvetica,sans-Serif\" font-size=\"14.00\" fill=\"#000000\">squared_error = 0.034</text>\n<text text-anchor=\"middle\" x=\"2835.5\" y=\"-215.8\" font-family=\"Helvetica,sans-Serif\" font-size=\"14.00\" fill=\"#000000\">samples = 24</text>\n<text text-anchor=\"middle\" x=\"2835.5\" y=\"-200.8\" font-family=\"Helvetica,sans-Serif\" font-size=\"14.00\" fill=\"#000000\">value = 14.046</text>\n</g>\n<!-- 38&#45;&gt;39 -->\n<g id=\"edge39\" class=\"edge\">\n<title>38&#45;&gt;39</title>\n<path fill=\"none\" stroke=\"#000000\" d=\"M2835.5,-296.9465C2835.5,-288.776 2835.5,-279.9318 2835.5,-271.3697\"/>\n<polygon fill=\"#000000\" stroke=\"#000000\" points=\"2839.0001,-271.13 2835.5,-261.13 2832.0001,-271.13 2839.0001,-271.13\"/>\n</g>\n<!-- 46 -->\n<g id=\"node47\" class=\"node\">\n<title>46</title>\n<polygon fill=\"none\" stroke=\"#000000\" points=\"3425,-261 3264,-261 3264,-193 3425,-193 3425,-261\"/>\n<text text-anchor=\"middle\" x=\"3344.5\" y=\"-245.8\" font-family=\"Helvetica,sans-Serif\" font-size=\"14.00\" fill=\"#000000\">sqft_living &lt;= 3785.0</text>\n<text text-anchor=\"middle\" x=\"3344.5\" y=\"-230.8\" font-family=\"Helvetica,sans-Serif\" font-size=\"14.00\" fill=\"#000000\">squared_error = 0.088</text>\n<text text-anchor=\"middle\" x=\"3344.5\" y=\"-215.8\" font-family=\"Helvetica,sans-Serif\" font-size=\"14.00\" fill=\"#000000\">samples = 12</text>\n<text text-anchor=\"middle\" x=\"3344.5\" y=\"-200.8\" font-family=\"Helvetica,sans-Serif\" font-size=\"14.00\" fill=\"#000000\">value = 14.47</text>\n</g>\n<!-- 38&#45;&gt;46 -->\n<g id=\"edge46\" class=\"edge\">\n<title>38&#45;&gt;46</title>\n<path fill=\"none\" stroke=\"#000000\" d=\"M2916.1526,-314.5209C3008.0686,-295.7404 3157.937,-265.119 3253.8315,-245.5256\"/>\n<polygon fill=\"#000000\" stroke=\"#000000\" points=\"3254.7077,-248.919 3263.8046,-243.4879 3253.3064,-242.0606 3254.7077,-248.919\"/>\n</g>\n<!-- 40 -->\n<g id=\"node41\" class=\"node\">\n<title>40</title>\n<polygon fill=\"none\" stroke=\"#000000\" points=\"2826,-157 2665,-157 2665,-89 2826,-89 2826,-157\"/>\n<text text-anchor=\"middle\" x=\"2745.5\" y=\"-141.8\" font-family=\"Helvetica,sans-Serif\" font-size=\"14.00\" fill=\"#000000\">sqft_living &lt;= 3210.0</text>\n<text text-anchor=\"middle\" x=\"2745.5\" y=\"-126.8\" font-family=\"Helvetica,sans-Serif\" font-size=\"14.00\" fill=\"#000000\">squared_error = 0.031</text>\n<text text-anchor=\"middle\" x=\"2745.5\" y=\"-111.8\" font-family=\"Helvetica,sans-Serif\" font-size=\"14.00\" fill=\"#000000\">samples = 13</text>\n<text text-anchor=\"middle\" x=\"2745.5\" y=\"-96.8\" font-family=\"Helvetica,sans-Serif\" font-size=\"14.00\" fill=\"#000000\">value = 13.946</text>\n</g>\n<!-- 39&#45;&gt;40 -->\n<g id=\"edge40\" class=\"edge\">\n<title>39&#45;&gt;40</title>\n<path fill=\"none\" stroke=\"#000000\" d=\"M2806.0306,-192.9465C2798.2607,-183.968 2789.7868,-174.1758 2781.7064,-164.8385\"/>\n<polygon fill=\"#000000\" stroke=\"#000000\" points=\"2784.226,-162.4014 2775.0356,-157.13 2778.9328,-166.982 2784.226,-162.4014\"/>\n</g>\n<!-- 43 -->\n<g id=\"node44\" class=\"node\">\n<title>43</title>\n<polygon fill=\"none\" stroke=\"#000000\" points=\"3005,-157 2844,-157 2844,-89 3005,-89 3005,-157\"/>\n<text text-anchor=\"middle\" x=\"2924.5\" y=\"-141.8\" font-family=\"Helvetica,sans-Serif\" font-size=\"14.00\" fill=\"#000000\">sqft_living &lt;= 5095.0</text>\n<text text-anchor=\"middle\" x=\"2924.5\" y=\"-126.8\" font-family=\"Helvetica,sans-Serif\" font-size=\"14.00\" fill=\"#000000\">squared_error = 0.012</text>\n<text text-anchor=\"middle\" x=\"2924.5\" y=\"-111.8\" font-family=\"Helvetica,sans-Serif\" font-size=\"14.00\" fill=\"#000000\">samples = 11</text>\n<text text-anchor=\"middle\" x=\"2924.5\" y=\"-96.8\" font-family=\"Helvetica,sans-Serif\" font-size=\"14.00\" fill=\"#000000\">value = 14.164</text>\n</g>\n<!-- 39&#45;&gt;43 -->\n<g id=\"edge43\" class=\"edge\">\n<title>39&#45;&gt;43</title>\n<path fill=\"none\" stroke=\"#000000\" d=\"M2864.6419,-192.9465C2872.3255,-183.968 2880.7053,-174.1758 2888.6959,-164.8385\"/>\n<polygon fill=\"#000000\" stroke=\"#000000\" points=\"2891.4499,-167.0034 2895.2926,-157.13 2886.1315,-162.4521 2891.4499,-167.0034\"/>\n</g>\n<!-- 41 -->\n<g id=\"node42\" class=\"node\">\n<title>41</title>\n<polygon fill=\"none\" stroke=\"#000000\" points=\"2656,-53 2495,-53 2495,0 2656,0 2656,-53\"/>\n<text text-anchor=\"middle\" x=\"2575.5\" y=\"-37.8\" font-family=\"Helvetica,sans-Serif\" font-size=\"14.00\" fill=\"#000000\">squared_error = 0.028</text>\n<text text-anchor=\"middle\" x=\"2575.5\" y=\"-22.8\" font-family=\"Helvetica,sans-Serif\" font-size=\"14.00\" fill=\"#000000\">samples = 12</text>\n<text text-anchor=\"middle\" x=\"2575.5\" y=\"-7.8\" font-family=\"Helvetica,sans-Serif\" font-size=\"14.00\" fill=\"#000000\">value = 13.968</text>\n</g>\n<!-- 40&#45;&gt;41 -->\n<g id=\"edge41\" class=\"edge\">\n<title>40&#45;&gt;41</title>\n<path fill=\"none\" stroke=\"#000000\" d=\"M2685.5644,-88.9777C2667.8997,-78.9504 2648.6489,-68.0228 2631.2579,-58.1508\"/>\n<polygon fill=\"#000000\" stroke=\"#000000\" points=\"2632.7757,-54.9879 2622.3513,-53.095 2629.3201,-61.0755 2632.7757,-54.9879\"/>\n</g>\n<!-- 42 -->\n<g id=\"node43\" class=\"node\">\n<title>42</title>\n<polygon fill=\"none\" stroke=\"#000000\" points=\"2823,-53 2674,-53 2674,0 2823,0 2823,-53\"/>\n<text text-anchor=\"middle\" x=\"2748.5\" y=\"-37.8\" font-family=\"Helvetica,sans-Serif\" font-size=\"14.00\" fill=\"#000000\">squared_error = &#45;0.0</text>\n<text text-anchor=\"middle\" x=\"2748.5\" y=\"-22.8\" font-family=\"Helvetica,sans-Serif\" font-size=\"14.00\" fill=\"#000000\">samples = 1</text>\n<text text-anchor=\"middle\" x=\"2748.5\" y=\"-7.8\" font-family=\"Helvetica,sans-Serif\" font-size=\"14.00\" fill=\"#000000\">value = 13.688</text>\n</g>\n<!-- 40&#45;&gt;42 -->\n<g id=\"edge42\" class=\"edge\">\n<title>40&#45;&gt;42</title>\n<path fill=\"none\" stroke=\"#000000\" d=\"M2746.5577,-88.9777C2746.8139,-80.7364 2747.089,-71.887 2747.3493,-63.5153\"/>\n<polygon fill=\"#000000\" stroke=\"#000000\" points=\"2750.8559,-63.3524 2747.6684,-53.2485 2743.8593,-63.1349 2750.8559,-63.3524\"/>\n</g>\n<!-- 44 -->\n<g id=\"node45\" class=\"node\">\n<title>44</title>\n<polygon fill=\"none\" stroke=\"#000000\" points=\"3002,-53 2841,-53 2841,0 3002,0 3002,-53\"/>\n<text text-anchor=\"middle\" x=\"2921.5\" y=\"-37.8\" font-family=\"Helvetica,sans-Serif\" font-size=\"14.00\" fill=\"#000000\">squared_error = 0.005</text>\n<text text-anchor=\"middle\" x=\"2921.5\" y=\"-22.8\" font-family=\"Helvetica,sans-Serif\" font-size=\"14.00\" fill=\"#000000\">samples = 10</text>\n<text text-anchor=\"middle\" x=\"2921.5\" y=\"-7.8\" font-family=\"Helvetica,sans-Serif\" font-size=\"14.00\" fill=\"#000000\">value = 14.137</text>\n</g>\n<!-- 43&#45;&gt;44 -->\n<g id=\"edge44\" class=\"edge\">\n<title>43&#45;&gt;44</title>\n<path fill=\"none\" stroke=\"#000000\" d=\"M2923.4423,-88.9777C2923.1861,-80.7364 2922.911,-71.887 2922.6507,-63.5153\"/>\n<polygon fill=\"#000000\" stroke=\"#000000\" points=\"2926.1407,-63.1349 2922.3316,-53.2485 2919.1441,-63.3524 2926.1407,-63.1349\"/>\n</g>\n<!-- 45 -->\n<g id=\"node46\" class=\"node\">\n<title>45</title>\n<polygon fill=\"none\" stroke=\"#000000\" points=\"3169,-53 3020,-53 3020,0 3169,0 3169,-53\"/>\n<text text-anchor=\"middle\" x=\"3094.5\" y=\"-37.8\" font-family=\"Helvetica,sans-Serif\" font-size=\"14.00\" fill=\"#000000\">squared_error = &#45;0.0</text>\n<text text-anchor=\"middle\" x=\"3094.5\" y=\"-22.8\" font-family=\"Helvetica,sans-Serif\" font-size=\"14.00\" fill=\"#000000\">samples = 1</text>\n<text text-anchor=\"middle\" x=\"3094.5\" y=\"-7.8\" font-family=\"Helvetica,sans-Serif\" font-size=\"14.00\" fill=\"#000000\">value = 14.433</text>\n</g>\n<!-- 43&#45;&gt;45 -->\n<g id=\"edge45\" class=\"edge\">\n<title>43&#45;&gt;45</title>\n<path fill=\"none\" stroke=\"#000000\" d=\"M2984.4356,-88.9777C3002.1003,-78.9504 3021.3511,-68.0228 3038.7421,-58.1508\"/>\n<polygon fill=\"#000000\" stroke=\"#000000\" points=\"3040.6799,-61.0755 3047.6487,-53.095 3037.2243,-54.9879 3040.6799,-61.0755\"/>\n</g>\n<!-- 47 -->\n<g id=\"node48\" class=\"node\">\n<title>47</title>\n<polygon fill=\"none\" stroke=\"#000000\" points=\"3425,-157 3264,-157 3264,-89 3425,-89 3425,-157\"/>\n<text text-anchor=\"middle\" x=\"3344.5\" y=\"-141.8\" font-family=\"Helvetica,sans-Serif\" font-size=\"14.00\" fill=\"#000000\">sqft_living &lt;= 2910.0</text>\n<text text-anchor=\"middle\" x=\"3344.5\" y=\"-126.8\" font-family=\"Helvetica,sans-Serif\" font-size=\"14.00\" fill=\"#000000\">squared_error = 0.013</text>\n<text text-anchor=\"middle\" x=\"3344.5\" y=\"-111.8\" font-family=\"Helvetica,sans-Serif\" font-size=\"14.00\" fill=\"#000000\">samples = 7</text>\n<text text-anchor=\"middle\" x=\"3344.5\" y=\"-96.8\" font-family=\"Helvetica,sans-Serif\" font-size=\"14.00\" fill=\"#000000\">value = 14.266</text>\n</g>\n<!-- 46&#45;&gt;47 -->\n<g id=\"edge47\" class=\"edge\">\n<title>46&#45;&gt;47</title>\n<path fill=\"none\" stroke=\"#000000\" d=\"M3344.5,-192.9465C3344.5,-184.776 3344.5,-175.9318 3344.5,-167.3697\"/>\n<polygon fill=\"#000000\" stroke=\"#000000\" points=\"3348.0001,-167.13 3344.5,-157.13 3341.0001,-167.13 3348.0001,-167.13\"/>\n</g>\n<!-- 50 -->\n<g id=\"node51\" class=\"node\">\n<title>50</title>\n<polygon fill=\"none\" stroke=\"#000000\" points=\"3690,-157 3529,-157 3529,-89 3690,-89 3690,-157\"/>\n<text text-anchor=\"middle\" x=\"3609.5\" y=\"-141.8\" font-family=\"Helvetica,sans-Serif\" font-size=\"14.00\" fill=\"#000000\">waterfront &lt;= 0.5</text>\n<text text-anchor=\"middle\" x=\"3609.5\" y=\"-126.8\" font-family=\"Helvetica,sans-Serif\" font-size=\"14.00\" fill=\"#000000\">squared_error = 0.055</text>\n<text text-anchor=\"middle\" x=\"3609.5\" y=\"-111.8\" font-family=\"Helvetica,sans-Serif\" font-size=\"14.00\" fill=\"#000000\">samples = 5</text>\n<text text-anchor=\"middle\" x=\"3609.5\" y=\"-96.8\" font-family=\"Helvetica,sans-Serif\" font-size=\"14.00\" fill=\"#000000\">value = 14.755</text>\n</g>\n<!-- 46&#45;&gt;50 -->\n<g id=\"edge50\" class=\"edge\">\n<title>46&#45;&gt;50</title>\n<path fill=\"none\" stroke=\"#000000\" d=\"M3425.0881,-195.373C3454.8958,-183.6749 3488.8669,-170.3428 3519.4608,-158.3361\"/>\n<polygon fill=\"#000000\" stroke=\"#000000\" points=\"3520.8086,-161.5672 3528.8387,-154.6557 3518.2513,-155.051 3520.8086,-161.5672\"/>\n</g>\n<!-- 48 -->\n<g id=\"node49\" class=\"node\">\n<title>48</title>\n<polygon fill=\"none\" stroke=\"#000000\" points=\"3331.5,-53 3187.5,-53 3187.5,0 3331.5,0 3331.5,-53\"/>\n<text text-anchor=\"middle\" x=\"3259.5\" y=\"-37.8\" font-family=\"Helvetica,sans-Serif\" font-size=\"14.00\" fill=\"#000000\">squared_error = 0.0</text>\n<text text-anchor=\"middle\" x=\"3259.5\" y=\"-22.8\" font-family=\"Helvetica,sans-Serif\" font-size=\"14.00\" fill=\"#000000\">samples = 1</text>\n<text text-anchor=\"middle\" x=\"3259.5\" y=\"-7.8\" font-family=\"Helvetica,sans-Serif\" font-size=\"14.00\" fill=\"#000000\">value = 14.039</text>\n</g>\n<!-- 47&#45;&gt;48 -->\n<g id=\"edge48\" class=\"edge\">\n<title>47&#45;&gt;48</title>\n<path fill=\"none\" stroke=\"#000000\" d=\"M3314.5322,-88.9777C3306.5471,-79.9123 3297.9138,-70.111 3289.9056,-61.0192\"/>\n<polygon fill=\"#000000\" stroke=\"#000000\" points=\"3292.2971,-58.4391 3283.0608,-53.2485 3287.0442,-63.066 3292.2971,-58.4391\"/>\n</g>\n<!-- 49 -->\n<g id=\"node50\" class=\"node\">\n<title>49</title>\n<polygon fill=\"none\" stroke=\"#000000\" points=\"3511,-53 3350,-53 3350,0 3511,0 3511,-53\"/>\n<text text-anchor=\"middle\" x=\"3430.5\" y=\"-37.8\" font-family=\"Helvetica,sans-Serif\" font-size=\"14.00\" fill=\"#000000\">squared_error = 0.005</text>\n<text text-anchor=\"middle\" x=\"3430.5\" y=\"-22.8\" font-family=\"Helvetica,sans-Serif\" font-size=\"14.00\" fill=\"#000000\">samples = 6</text>\n<text text-anchor=\"middle\" x=\"3430.5\" y=\"-7.8\" font-family=\"Helvetica,sans-Serif\" font-size=\"14.00\" fill=\"#000000\">value = 14.304</text>\n</g>\n<!-- 47&#45;&gt;49 -->\n<g id=\"edge49\" class=\"edge\">\n<title>47&#45;&gt;49</title>\n<path fill=\"none\" stroke=\"#000000\" d=\"M3374.8204,-88.9777C3382.981,-79.8207 3391.8108,-69.9129 3399.9821,-60.744\"/>\n<polygon fill=\"#000000\" stroke=\"#000000\" points=\"3402.6217,-63.0427 3406.662,-53.2485 3397.3958,-58.3854 3402.6217,-63.0427\"/>\n</g>\n<!-- 51 -->\n<g id=\"node52\" class=\"node\">\n<title>51</title>\n<polygon fill=\"none\" stroke=\"#000000\" points=\"3690,-53 3529,-53 3529,0 3690,0 3690,-53\"/>\n<text text-anchor=\"middle\" x=\"3609.5\" y=\"-37.8\" font-family=\"Helvetica,sans-Serif\" font-size=\"14.00\" fill=\"#000000\">squared_error = 0.014</text>\n<text text-anchor=\"middle\" x=\"3609.5\" y=\"-22.8\" font-family=\"Helvetica,sans-Serif\" font-size=\"14.00\" fill=\"#000000\">samples = 3</text>\n<text text-anchor=\"middle\" x=\"3609.5\" y=\"-7.8\" font-family=\"Helvetica,sans-Serif\" font-size=\"14.00\" fill=\"#000000\">value = 14.588</text>\n</g>\n<!-- 50&#45;&gt;51 -->\n<g id=\"edge51\" class=\"edge\">\n<title>50&#45;&gt;51</title>\n<path fill=\"none\" stroke=\"#000000\" d=\"M3609.5,-88.9777C3609.5,-80.7364 3609.5,-71.887 3609.5,-63.5153\"/>\n<polygon fill=\"#000000\" stroke=\"#000000\" points=\"3613.0001,-63.2484 3609.5,-53.2485 3606.0001,-63.2485 3613.0001,-63.2484\"/>\n</g>\n<!-- 52 -->\n<g id=\"node53\" class=\"node\">\n<title>52</title>\n<polygon fill=\"none\" stroke=\"#000000\" points=\"3869,-53 3708,-53 3708,0 3869,0 3869,-53\"/>\n<text text-anchor=\"middle\" x=\"3788.5\" y=\"-37.8\" font-family=\"Helvetica,sans-Serif\" font-size=\"14.00\" fill=\"#000000\">squared_error = 0.011</text>\n<text text-anchor=\"middle\" x=\"3788.5\" y=\"-22.8\" font-family=\"Helvetica,sans-Serif\" font-size=\"14.00\" fill=\"#000000\">samples = 2</text>\n<text text-anchor=\"middle\" x=\"3788.5\" y=\"-7.8\" font-family=\"Helvetica,sans-Serif\" font-size=\"14.00\" fill=\"#000000\">value = 15.004</text>\n</g>\n<!-- 50&#45;&gt;52 -->\n<g id=\"edge52\" class=\"edge\">\n<title>50&#45;&gt;52</title>\n<path fill=\"none\" stroke=\"#000000\" d=\"M3672.6087,-88.9777C3691.3792,-78.8584 3711.8506,-67.8222 3730.2937,-57.8794\"/>\n<polygon fill=\"#000000\" stroke=\"#000000\" points=\"3732.0268,-60.9213 3739.1683,-53.095 3728.705,-54.7597 3732.0268,-60.9213\"/>\n</g>\n</g>\n</svg>\n"
          },
          "metadata": {},
          "execution_count": 49
        }
      ]
    },
    {
      "cell_type": "code",
      "source": [
        ""
      ],
      "metadata": {
        "id": "FD5VlJwlNQ0J"
      },
      "id": "FD5VlJwlNQ0J",
      "execution_count": null,
      "outputs": []
    }
  ],
  "metadata": {
    "kernelspec": {
      "display_name": "Python (ds39)",
      "language": "python",
      "name": "ds39"
    },
    "language_info": {
      "name": ""
    },
    "colab": {
      "name": "decision_trees.ipynb",
      "provenance": []
    }
  },
  "nbformat": 4,
  "nbformat_minor": 5
}