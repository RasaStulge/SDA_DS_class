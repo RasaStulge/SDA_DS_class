{
 "cells": [
  {
   "cell_type": "markdown",
   "id": "cdeec650-bfb5-4d7a-bf07-f7019ce7f8b9",
   "metadata": {
    "id": "98e6d850-7861-4f07-846f-f87b2f303fca",
    "tags": []
   },
   "source": [
    "## Decision treas and Model explainability"
   ]
  },
  {
   "cell_type": "markdown",
   "id": "6ecbbb9d-2196-4964-84f2-f7bb5b8939b9",
   "metadata": {
    "id": "76cd8d20-fea8-4bb2-af52-4d163a09374f"
   },
   "source": [
    "**Data Source** https://www.kaggle.com/harlfoxem/housesalesprediction\n",
    "\n",
    "This dataset contains house sale prices for King County, which includes Seattle. It includes homes sold between May 2014 and May 2015.\n",
    "\n",
    "**Column definitions** https://rstudio-pubs-static.s3.amazonaws.com/155304_cc51f448116744069664b35e7762999f.html\n",
    "- id - Unique ID for each home sold\n",
    "- date - Date of the home sale\n",
    "- price - Price of each home sold\n",
    "- bedrooms - Number of bedrooms\n",
    "- bathrooms - Number of bathrooms, where .5 accounts for a room with a toilet but no shower\n",
    "- sqft_living - Square footage of the apartments interior living space\n",
    "- sqft_lot - Square footage of the land space\n",
    "- floors - Number of floors\n",
    "- waterfront - A dummy variable for whether the apartment was overlooking the waterfront or not\n",
    "- view - An index from 0 to 4 of how good the view of the property was\n",
    "- condition - An index from 1 to 5 on the condition of the apartment,\n",
    "- grade - An index from 1 to 13, where 1-3 falls short of building construction and design, 7 has an average level of construction and design, and 11-13 have a high quality level of construction and design.\n",
    "- sqft_above - The square footage of the interior housing space that is above ground level\n",
    "- sqft_basement - The square footage of the interior housing space that is below ground level\n",
    "- yr_built - The year the house was initially built\n",
    "- yr_renovated - The year of the house’s last renovation\n",
    "- zipcode - What zipcode area the house is in\n",
    "- lat - Lattitude\n",
    "- long - Longitude\n",
    "- sqft_living15 - The square footage of interior housing living space for the nearest 15 neighbors\n",
    "- sqft_lot15 - The square footage of the land lots of the nearest 15 neighbors"
   ]
  },
  {
   "cell_type": "code",
   "execution_count": null,
   "id": "4a478935-0228-45af-bf1e-16c79bd08881",
   "metadata": {
    "id": "b9b16950-ad9c-41ad-96bc-9ac498dfc142"
   },
   "outputs": [],
   "source": [
    "import pandas as pd\n",
    "import numpy as np\n",
    "\n",
    "from matplotlib import pyplot as plt\n",
    "import seaborn as sns\n",
    "\n",
    "%matplotlib inline"
   ]
  },
  {
   "cell_type": "code",
   "execution_count": null,
   "id": "8a843a1c-d874-4c42-b3f6-939ae7ed9b88",
   "metadata": {
    "id": "6aa3efeb-7d74-4cb9-8673-648d533bf9cc"
   },
   "outputs": [],
   "source": [
    "# improve how pandas numbers are displayed\n",
    "pd.set_option('display.float_format', lambda x: '%.3f' % x)\n",
    "pd.set_option('display.max_columns', 25)\n",
    "pd.set_option('display.max_rows', 50)"
   ]
  },
  {
   "cell_type": "code",
   "execution_count": null,
   "id": "a113399f-08db-48ab-8d2a-abca39b7826b",
   "metadata": {
    "id": "7c6599ff-80b6-49f0-a568-03c751d716ac"
   },
   "outputs": [],
   "source": [
    "# load the data set\n",
    "df = pd.read_csv(\"https://github.com/giedriusblazys/SDA_DS_class/blob/main/practice/input/kc_house_data.csv?raw=true\")\n",
    "# df = pd.read_csv(\"input/kc_house_data.csv\")\n",
    "df.head()"
   ]
  },
  {
   "cell_type": "code",
   "execution_count": null,
   "id": "49d52b5c-9e0d-4915-a9d5-5d13a282f582",
   "metadata": {},
   "outputs": [],
   "source": []
  }
 ],
 "metadata": {
  "kernelspec": {
   "display_name": "Python (ds39)",
   "language": "python",
   "name": "ds39"
  },
  "language_info": {
   "name": ""
  }
 },
 "nbformat": 4,
 "nbformat_minor": 5
}
