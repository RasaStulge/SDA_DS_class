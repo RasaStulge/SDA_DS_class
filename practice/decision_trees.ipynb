{
  "cells": [
    {
      "cell_type": "markdown",
      "metadata": {
        "id": "view-in-github",
        "colab_type": "text"
      },
      "source": [
        "<a href=\"https://colab.research.google.com/github/giedriusblazys/SDA_DS_class/blob/main/practice/decision_trees.ipynb\" target=\"_parent\"><img src=\"https://colab.research.google.com/assets/colab-badge.svg\" alt=\"Open In Colab\"/></a>"
      ]
    },
    {
      "cell_type": "markdown",
      "id": "cdeec650-bfb5-4d7a-bf07-f7019ce7f8b9",
      "metadata": {
        "id": "cdeec650-bfb5-4d7a-bf07-f7019ce7f8b9",
        "tags": []
      },
      "source": [
        "## Decision treas and Model explainability"
      ]
    },
    {
      "cell_type": "code",
      "source": [
        "#!pip install eli5\n",
        "#!pip install pdpbox\n",
        "#!pip install shop"
      ],
      "metadata": {
        "id": "zpTILScBPsY1",
        "outputId": "248edfba-62ac-48f3-a0e7-cb1c3d919f5d",
        "colab": {
          "base_uri": "https://localhost:8080/"
        }
      },
      "id": "zpTILScBPsY1",
      "execution_count": 1,
      "outputs": [
        {
          "output_type": "stream",
          "name": "stdout",
          "text": [
            "Requirement already satisfied: eli5 in /usr/local/lib/python3.7/dist-packages (0.11.0)\n",
            "Requirement already satisfied: graphviz in /usr/local/lib/python3.7/dist-packages (from eli5) (0.10.1)\n",
            "Requirement already satisfied: attrs>16.0.0 in /usr/local/lib/python3.7/dist-packages (from eli5) (21.4.0)\n",
            "Requirement already satisfied: scipy in /usr/local/lib/python3.7/dist-packages (from eli5) (1.4.1)\n",
            "Requirement already satisfied: numpy>=1.9.0 in /usr/local/lib/python3.7/dist-packages (from eli5) (1.19.5)\n",
            "Requirement already satisfied: jinja2 in /usr/local/lib/python3.7/dist-packages (from eli5) (2.11.3)\n",
            "Requirement already satisfied: six in /usr/local/lib/python3.7/dist-packages (from eli5) (1.15.0)\n",
            "Requirement already satisfied: tabulate>=0.7.7 in /usr/local/lib/python3.7/dist-packages (from eli5) (0.8.9)\n",
            "Requirement already satisfied: scikit-learn>=0.20 in /usr/local/lib/python3.7/dist-packages (from eli5) (1.0.2)\n",
            "Requirement already satisfied: threadpoolctl>=2.0.0 in /usr/local/lib/python3.7/dist-packages (from scikit-learn>=0.20->eli5) (3.1.0)\n",
            "Requirement already satisfied: joblib>=0.11 in /usr/local/lib/python3.7/dist-packages (from scikit-learn>=0.20->eli5) (1.1.0)\n",
            "Requirement already satisfied: MarkupSafe>=0.23 in /usr/local/lib/python3.7/dist-packages (from jinja2->eli5) (2.0.1)\n"
          ]
        }
      ]
    },
    {
      "cell_type": "code",
      "source": [
        ""
      ],
      "metadata": {
        "id": "P9QZE2qbTDZr",
        "outputId": "71e4ba58-d0ba-4031-ce54-5369b3c017ba",
        "colab": {
          "base_uri": "https://localhost:8080/"
        }
      },
      "id": "P9QZE2qbTDZr",
      "execution_count": 2,
      "outputs": [
        {
          "output_type": "stream",
          "name": "stdout",
          "text": [
            "Requirement already satisfied: pdpbox in /usr/local/lib/python3.7/dist-packages (0.2.1)\n",
            "Requirement already satisfied: joblib in /usr/local/lib/python3.7/dist-packages (from pdpbox) (1.1.0)\n",
            "Requirement already satisfied: psutil in /usr/local/lib/python3.7/dist-packages (from pdpbox) (5.4.8)\n",
            "Requirement already satisfied: matplotlib==3.1.1 in /usr/local/lib/python3.7/dist-packages (from pdpbox) (3.1.1)\n",
            "Requirement already satisfied: pandas in /usr/local/lib/python3.7/dist-packages (from pdpbox) (1.3.5)\n",
            "Requirement already satisfied: numpy in /usr/local/lib/python3.7/dist-packages (from pdpbox) (1.19.5)\n",
            "Requirement already satisfied: sklearn in /usr/local/lib/python3.7/dist-packages (from pdpbox) (0.0)\n",
            "Requirement already satisfied: scipy in /usr/local/lib/python3.7/dist-packages (from pdpbox) (1.4.1)\n",
            "Requirement already satisfied: python-dateutil>=2.1 in /usr/local/lib/python3.7/dist-packages (from matplotlib==3.1.1->pdpbox) (2.8.2)\n",
            "Requirement already satisfied: kiwisolver>=1.0.1 in /usr/local/lib/python3.7/dist-packages (from matplotlib==3.1.1->pdpbox) (1.3.2)\n",
            "Requirement already satisfied: pyparsing!=2.0.4,!=2.1.2,!=2.1.6,>=2.0.1 in /usr/local/lib/python3.7/dist-packages (from matplotlib==3.1.1->pdpbox) (3.0.7)\n",
            "Requirement already satisfied: cycler>=0.10 in /usr/local/lib/python3.7/dist-packages (from matplotlib==3.1.1->pdpbox) (0.11.0)\n",
            "Requirement already satisfied: six>=1.5 in /usr/local/lib/python3.7/dist-packages (from python-dateutil>=2.1->matplotlib==3.1.1->pdpbox) (1.15.0)\n",
            "Requirement already satisfied: pytz>=2017.3 in /usr/local/lib/python3.7/dist-packages (from pandas->pdpbox) (2018.9)\n",
            "Requirement already satisfied: scikit-learn in /usr/local/lib/python3.7/dist-packages (from sklearn->pdpbox) (1.0.2)\n",
            "Requirement already satisfied: threadpoolctl>=2.0.0 in /usr/local/lib/python3.7/dist-packages (from scikit-learn->sklearn->pdpbox) (3.1.0)\n"
          ]
        }
      ]
    },
    {
      "cell_type": "markdown",
      "id": "6ecbbb9d-2196-4964-84f2-f7bb5b8939b9",
      "metadata": {
        "id": "6ecbbb9d-2196-4964-84f2-f7bb5b8939b9"
      },
      "source": [
        "**Data Source** https://www.kaggle.com/harlfoxem/housesalesprediction\n",
        "\n",
        "This dataset contains house sale prices for King County, which includes Seattle. It includes homes sold between May 2014 and May 2015.\n",
        "\n",
        "**Column definitions** https://rstudio-pubs-static.s3.amazonaws.com/155304_cc51f448116744069664b35e7762999f.html\n",
        "- id - Unique ID for each home sold\n",
        "- date - Date of the home sale\n",
        "- price - Price of each home sold\n",
        "- bedrooms - Number of bedrooms\n",
        "- bathrooms - Number of bathrooms, where .5 accounts for a room with a toilet but no shower\n",
        "- sqft_living - Square footage of the apartments interior living space\n",
        "- sqft_lot - Square footage of the land space\n",
        "- floors - Number of floors\n",
        "- waterfront - A dummy variable for whether the apartment was overlooking the waterfront or not\n",
        "- view - An index from 0 to 4 of how good the view of the property was\n",
        "- condition - An index from 1 to 5 on the condition of the apartment,\n",
        "- grade - An index from 1 to 13, where 1-3 falls short of building construction and design, 7 has an average level of construction and design, and 11-13 have a high quality level of construction and design.\n",
        "- sqft_above - The square footage of the interior housing space that is above ground level\n",
        "- sqft_basement - The square footage of the interior housing space that is below ground level\n",
        "- yr_built - The year the house was initially built\n",
        "- yr_renovated - The year of the house’s last renovation\n",
        "- zipcode - What zipcode area the house is in\n",
        "- lat - Lattitude\n",
        "- long - Longitude\n",
        "- sqft_living15 - The square footage of interior housing living space for the nearest 15 neighbors\n",
        "- sqft_lot15 - The square footage of the land lots of the nearest 15 neighbors"
      ]
    },
    {
      "cell_type": "code",
      "execution_count": 3,
      "id": "4a478935-0228-45af-bf1e-16c79bd08881",
      "metadata": {
        "id": "4a478935-0228-45af-bf1e-16c79bd08881"
      },
      "outputs": [],
      "source": [
        "import pandas as pd\n",
        "import numpy as np\n",
        "\n",
        "from matplotlib import pyplot as plt\n",
        "import seaborn as sns\n",
        "\n",
        "%matplotlib inline"
      ]
    },
    {
      "cell_type": "code",
      "execution_count": 4,
      "id": "8a843a1c-d874-4c42-b3f6-939ae7ed9b88",
      "metadata": {
        "id": "8a843a1c-d874-4c42-b3f6-939ae7ed9b88"
      },
      "outputs": [],
      "source": [
        "# improve how pandas numbers are displayed\n",
        "pd.set_option('display.float_format', lambda x: '%.3f' % x)\n",
        "pd.set_option('display.max_columns', 25)\n",
        "pd.set_option('display.max_rows', 50)"
      ]
    },
    {
      "cell_type": "code",
      "execution_count": 5,
      "id": "a113399f-08db-48ab-8d2a-abca39b7826b",
      "metadata": {
        "id": "a113399f-08db-48ab-8d2a-abca39b7826b"
      },
      "outputs": [],
      "source": [
        "# load the data set\n",
        "df = pd.read_csv(\"https://github.com/giedriusblazys/SDA_DS_class/blob/main/practice/input/kc_house_data.csv?raw=true\")\n",
        "# df = pd.read_csv(\"input/kc_house_data.csv\")"
      ]
    },
    {
      "cell_type": "code",
      "execution_count": 6,
      "id": "49d52b5c-9e0d-4915-a9d5-5d13a282f582",
      "metadata": {
        "id": "49d52b5c-9e0d-4915-a9d5-5d13a282f582",
        "outputId": "b53876ba-ba3a-44bd-9890-99259d6e6fe4",
        "colab": {
          "base_uri": "https://localhost:8080/"
        }
      },
      "outputs": [
        {
          "output_type": "execute_result",
          "data": {
            "text/plain": [
              "str"
            ]
          },
          "metadata": {},
          "execution_count": 6
        }
      ],
      "source": [
        "type(df.date[0])"
      ]
    },
    {
      "cell_type": "code",
      "source": [
        "df.date = pd.to_datetime(df.date)\n",
        "df['age'] = df.date.dt.year - df.yr_built"
      ],
      "metadata": {
        "id": "am2VRvrvHHVd"
      },
      "id": "am2VRvrvHHVd",
      "execution_count": 7,
      "outputs": []
    },
    {
      "cell_type": "code",
      "source": [
        "df.info()"
      ],
      "metadata": {
        "id": "nyHGV3_NHSlD",
        "outputId": "e94136b5-4c8b-4cc6-8a9f-bbf059dee1ae",
        "colab": {
          "base_uri": "https://localhost:8080/"
        }
      },
      "id": "nyHGV3_NHSlD",
      "execution_count": 8,
      "outputs": [
        {
          "output_type": "stream",
          "name": "stdout",
          "text": [
            "<class 'pandas.core.frame.DataFrame'>\n",
            "RangeIndex: 21613 entries, 0 to 21612\n",
            "Data columns (total 22 columns):\n",
            " #   Column         Non-Null Count  Dtype         \n",
            "---  ------         --------------  -----         \n",
            " 0   id             21613 non-null  int64         \n",
            " 1   date           21613 non-null  datetime64[ns]\n",
            " 2   price          21613 non-null  float64       \n",
            " 3   bedrooms       21613 non-null  int64         \n",
            " 4   bathrooms      21613 non-null  float64       \n",
            " 5   sqft_living    21613 non-null  int64         \n",
            " 6   sqft_lot       21613 non-null  int64         \n",
            " 7   floors         21613 non-null  float64       \n",
            " 8   waterfront     21613 non-null  int64         \n",
            " 9   view           21613 non-null  int64         \n",
            " 10  condition      21613 non-null  int64         \n",
            " 11  grade          21613 non-null  int64         \n",
            " 12  sqft_above     21613 non-null  int64         \n",
            " 13  sqft_basement  21613 non-null  int64         \n",
            " 14  yr_built       21613 non-null  int64         \n",
            " 15  yr_renovated   21613 non-null  int64         \n",
            " 16  zipcode        21613 non-null  int64         \n",
            " 17  lat            21613 non-null  float64       \n",
            " 18  long           21613 non-null  float64       \n",
            " 19  sqft_living15  21613 non-null  int64         \n",
            " 20  sqft_lot15     21613 non-null  int64         \n",
            " 21  age            21613 non-null  int64         \n",
            "dtypes: datetime64[ns](1), float64(5), int64(16)\n",
            "memory usage: 3.6 MB\n"
          ]
        }
      ]
    },
    {
      "cell_type": "code",
      "source": [
        "df.head()"
      ],
      "metadata": {
        "id": "LbaKi0lmHT6v",
        "outputId": "060fbf25-f712-4a30-b7a2-0742d50ae929",
        "colab": {
          "base_uri": "https://localhost:8080/",
          "height": 357
        }
      },
      "id": "LbaKi0lmHT6v",
      "execution_count": 9,
      "outputs": [
        {
          "output_type": "execute_result",
          "data": {
            "text/html": [
              "\n",
              "  <div id=\"df-43a63143-9297-4b0a-a11d-884d50e5fd32\">\n",
              "    <div class=\"colab-df-container\">\n",
              "      <div>\n",
              "<style scoped>\n",
              "    .dataframe tbody tr th:only-of-type {\n",
              "        vertical-align: middle;\n",
              "    }\n",
              "\n",
              "    .dataframe tbody tr th {\n",
              "        vertical-align: top;\n",
              "    }\n",
              "\n",
              "    .dataframe thead th {\n",
              "        text-align: right;\n",
              "    }\n",
              "</style>\n",
              "<table border=\"1\" class=\"dataframe\">\n",
              "  <thead>\n",
              "    <tr style=\"text-align: right;\">\n",
              "      <th></th>\n",
              "      <th>id</th>\n",
              "      <th>date</th>\n",
              "      <th>price</th>\n",
              "      <th>bedrooms</th>\n",
              "      <th>bathrooms</th>\n",
              "      <th>sqft_living</th>\n",
              "      <th>sqft_lot</th>\n",
              "      <th>floors</th>\n",
              "      <th>waterfront</th>\n",
              "      <th>view</th>\n",
              "      <th>condition</th>\n",
              "      <th>grade</th>\n",
              "      <th>sqft_above</th>\n",
              "      <th>sqft_basement</th>\n",
              "      <th>yr_built</th>\n",
              "      <th>yr_renovated</th>\n",
              "      <th>zipcode</th>\n",
              "      <th>lat</th>\n",
              "      <th>long</th>\n",
              "      <th>sqft_living15</th>\n",
              "      <th>sqft_lot15</th>\n",
              "      <th>age</th>\n",
              "    </tr>\n",
              "  </thead>\n",
              "  <tbody>\n",
              "    <tr>\n",
              "      <th>0</th>\n",
              "      <td>7129300520</td>\n",
              "      <td>2014-10-13</td>\n",
              "      <td>221900.000</td>\n",
              "      <td>3</td>\n",
              "      <td>1.000</td>\n",
              "      <td>1180</td>\n",
              "      <td>5650</td>\n",
              "      <td>1.000</td>\n",
              "      <td>0</td>\n",
              "      <td>0</td>\n",
              "      <td>3</td>\n",
              "      <td>7</td>\n",
              "      <td>1180</td>\n",
              "      <td>0</td>\n",
              "      <td>1955</td>\n",
              "      <td>0</td>\n",
              "      <td>98178</td>\n",
              "      <td>47.511</td>\n",
              "      <td>-122.257</td>\n",
              "      <td>1340</td>\n",
              "      <td>5650</td>\n",
              "      <td>59</td>\n",
              "    </tr>\n",
              "    <tr>\n",
              "      <th>1</th>\n",
              "      <td>6414100192</td>\n",
              "      <td>2014-12-09</td>\n",
              "      <td>538000.000</td>\n",
              "      <td>3</td>\n",
              "      <td>2.250</td>\n",
              "      <td>2570</td>\n",
              "      <td>7242</td>\n",
              "      <td>2.000</td>\n",
              "      <td>0</td>\n",
              "      <td>0</td>\n",
              "      <td>3</td>\n",
              "      <td>7</td>\n",
              "      <td>2170</td>\n",
              "      <td>400</td>\n",
              "      <td>1951</td>\n",
              "      <td>1991</td>\n",
              "      <td>98125</td>\n",
              "      <td>47.721</td>\n",
              "      <td>-122.319</td>\n",
              "      <td>1690</td>\n",
              "      <td>7639</td>\n",
              "      <td>63</td>\n",
              "    </tr>\n",
              "    <tr>\n",
              "      <th>2</th>\n",
              "      <td>5631500400</td>\n",
              "      <td>2015-02-25</td>\n",
              "      <td>180000.000</td>\n",
              "      <td>2</td>\n",
              "      <td>1.000</td>\n",
              "      <td>770</td>\n",
              "      <td>10000</td>\n",
              "      <td>1.000</td>\n",
              "      <td>0</td>\n",
              "      <td>0</td>\n",
              "      <td>3</td>\n",
              "      <td>6</td>\n",
              "      <td>770</td>\n",
              "      <td>0</td>\n",
              "      <td>1933</td>\n",
              "      <td>0</td>\n",
              "      <td>98028</td>\n",
              "      <td>47.738</td>\n",
              "      <td>-122.233</td>\n",
              "      <td>2720</td>\n",
              "      <td>8062</td>\n",
              "      <td>82</td>\n",
              "    </tr>\n",
              "    <tr>\n",
              "      <th>3</th>\n",
              "      <td>2487200875</td>\n",
              "      <td>2014-12-09</td>\n",
              "      <td>604000.000</td>\n",
              "      <td>4</td>\n",
              "      <td>3.000</td>\n",
              "      <td>1960</td>\n",
              "      <td>5000</td>\n",
              "      <td>1.000</td>\n",
              "      <td>0</td>\n",
              "      <td>0</td>\n",
              "      <td>5</td>\n",
              "      <td>7</td>\n",
              "      <td>1050</td>\n",
              "      <td>910</td>\n",
              "      <td>1965</td>\n",
              "      <td>0</td>\n",
              "      <td>98136</td>\n",
              "      <td>47.521</td>\n",
              "      <td>-122.393</td>\n",
              "      <td>1360</td>\n",
              "      <td>5000</td>\n",
              "      <td>49</td>\n",
              "    </tr>\n",
              "    <tr>\n",
              "      <th>4</th>\n",
              "      <td>1954400510</td>\n",
              "      <td>2015-02-18</td>\n",
              "      <td>510000.000</td>\n",
              "      <td>3</td>\n",
              "      <td>2.000</td>\n",
              "      <td>1680</td>\n",
              "      <td>8080</td>\n",
              "      <td>1.000</td>\n",
              "      <td>0</td>\n",
              "      <td>0</td>\n",
              "      <td>3</td>\n",
              "      <td>8</td>\n",
              "      <td>1680</td>\n",
              "      <td>0</td>\n",
              "      <td>1987</td>\n",
              "      <td>0</td>\n",
              "      <td>98074</td>\n",
              "      <td>47.617</td>\n",
              "      <td>-122.045</td>\n",
              "      <td>1800</td>\n",
              "      <td>7503</td>\n",
              "      <td>28</td>\n",
              "    </tr>\n",
              "  </tbody>\n",
              "</table>\n",
              "</div>\n",
              "      <button class=\"colab-df-convert\" onclick=\"convertToInteractive('df-43a63143-9297-4b0a-a11d-884d50e5fd32')\"\n",
              "              title=\"Convert this dataframe to an interactive table.\"\n",
              "              style=\"display:none;\">\n",
              "        \n",
              "  <svg xmlns=\"http://www.w3.org/2000/svg\" height=\"24px\"viewBox=\"0 0 24 24\"\n",
              "       width=\"24px\">\n",
              "    <path d=\"M0 0h24v24H0V0z\" fill=\"none\"/>\n",
              "    <path d=\"M18.56 5.44l.94 2.06.94-2.06 2.06-.94-2.06-.94-.94-2.06-.94 2.06-2.06.94zm-11 1L8.5 8.5l.94-2.06 2.06-.94-2.06-.94L8.5 2.5l-.94 2.06-2.06.94zm10 10l.94 2.06.94-2.06 2.06-.94-2.06-.94-.94-2.06-.94 2.06-2.06.94z\"/><path d=\"M17.41 7.96l-1.37-1.37c-.4-.4-.92-.59-1.43-.59-.52 0-1.04.2-1.43.59L10.3 9.45l-7.72 7.72c-.78.78-.78 2.05 0 2.83L4 21.41c.39.39.9.59 1.41.59.51 0 1.02-.2 1.41-.59l7.78-7.78 2.81-2.81c.8-.78.8-2.07 0-2.86zM5.41 20L4 18.59l7.72-7.72 1.47 1.35L5.41 20z\"/>\n",
              "  </svg>\n",
              "      </button>\n",
              "      \n",
              "  <style>\n",
              "    .colab-df-container {\n",
              "      display:flex;\n",
              "      flex-wrap:wrap;\n",
              "      gap: 12px;\n",
              "    }\n",
              "\n",
              "    .colab-df-convert {\n",
              "      background-color: #E8F0FE;\n",
              "      border: none;\n",
              "      border-radius: 50%;\n",
              "      cursor: pointer;\n",
              "      display: none;\n",
              "      fill: #1967D2;\n",
              "      height: 32px;\n",
              "      padding: 0 0 0 0;\n",
              "      width: 32px;\n",
              "    }\n",
              "\n",
              "    .colab-df-convert:hover {\n",
              "      background-color: #E2EBFA;\n",
              "      box-shadow: 0px 1px 2px rgba(60, 64, 67, 0.3), 0px 1px 3px 1px rgba(60, 64, 67, 0.15);\n",
              "      fill: #174EA6;\n",
              "    }\n",
              "\n",
              "    [theme=dark] .colab-df-convert {\n",
              "      background-color: #3B4455;\n",
              "      fill: #D2E3FC;\n",
              "    }\n",
              "\n",
              "    [theme=dark] .colab-df-convert:hover {\n",
              "      background-color: #434B5C;\n",
              "      box-shadow: 0px 1px 3px 1px rgba(0, 0, 0, 0.15);\n",
              "      filter: drop-shadow(0px 1px 2px rgba(0, 0, 0, 0.3));\n",
              "      fill: #FFFFFF;\n",
              "    }\n",
              "  </style>\n",
              "\n",
              "      <script>\n",
              "        const buttonEl =\n",
              "          document.querySelector('#df-43a63143-9297-4b0a-a11d-884d50e5fd32 button.colab-df-convert');\n",
              "        buttonEl.style.display =\n",
              "          google.colab.kernel.accessAllowed ? 'block' : 'none';\n",
              "\n",
              "        async function convertToInteractive(key) {\n",
              "          const element = document.querySelector('#df-43a63143-9297-4b0a-a11d-884d50e5fd32');\n",
              "          const dataTable =\n",
              "            await google.colab.kernel.invokeFunction('convertToInteractive',\n",
              "                                                     [key], {});\n",
              "          if (!dataTable) return;\n",
              "\n",
              "          const docLinkHtml = 'Like what you see? Visit the ' +\n",
              "            '<a target=\"_blank\" href=https://colab.research.google.com/notebooks/data_table.ipynb>data table notebook</a>'\n",
              "            + ' to learn more about interactive tables.';\n",
              "          element.innerHTML = '';\n",
              "          dataTable['output_type'] = 'display_data';\n",
              "          await google.colab.output.renderOutput(dataTable, element);\n",
              "          const docLink = document.createElement('div');\n",
              "          docLink.innerHTML = docLinkHtml;\n",
              "          element.appendChild(docLink);\n",
              "        }\n",
              "      </script>\n",
              "    </div>\n",
              "  </div>\n",
              "  "
            ],
            "text/plain": [
              "           id       date      price  bedrooms  bathrooms  sqft_living  \\\n",
              "0  7129300520 2014-10-13 221900.000         3      1.000         1180   \n",
              "1  6414100192 2014-12-09 538000.000         3      2.250         2570   \n",
              "2  5631500400 2015-02-25 180000.000         2      1.000          770   \n",
              "3  2487200875 2014-12-09 604000.000         4      3.000         1960   \n",
              "4  1954400510 2015-02-18 510000.000         3      2.000         1680   \n",
              "\n",
              "   sqft_lot  floors  waterfront  view  condition  grade  sqft_above  \\\n",
              "0      5650   1.000           0     0          3      7        1180   \n",
              "1      7242   2.000           0     0          3      7        2170   \n",
              "2     10000   1.000           0     0          3      6         770   \n",
              "3      5000   1.000           0     0          5      7        1050   \n",
              "4      8080   1.000           0     0          3      8        1680   \n",
              "\n",
              "   sqft_basement  yr_built  yr_renovated  zipcode    lat     long  \\\n",
              "0              0      1955             0    98178 47.511 -122.257   \n",
              "1            400      1951          1991    98125 47.721 -122.319   \n",
              "2              0      1933             0    98028 47.738 -122.233   \n",
              "3            910      1965             0    98136 47.521 -122.393   \n",
              "4              0      1987             0    98074 47.617 -122.045   \n",
              "\n",
              "   sqft_living15  sqft_lot15  age  \n",
              "0           1340        5650   59  \n",
              "1           1690        7639   63  \n",
              "2           2720        8062   82  \n",
              "3           1360        5000   49  \n",
              "4           1800        7503   28  "
            ]
          },
          "metadata": {},
          "execution_count": 9
        }
      ]
    },
    {
      "cell_type": "code",
      "source": [
        "df['ln_price'] = np.log(df.price)"
      ],
      "metadata": {
        "id": "jh5OH15QHx-N"
      },
      "id": "jh5OH15QHx-N",
      "execution_count": 10,
      "outputs": []
    },
    {
      "cell_type": "code",
      "source": [
        "# use data for zip=98105 (University of Washington village)\n",
        "idx_98105 = (df.zipcode == 98105)\n",
        "df = df[idx_98105]\n",
        "df['sql2'] = df.sqft_living * df.sqft_living"
      ],
      "metadata": {
        "id": "B72s4bUxILqn",
        "outputId": "82579985-547d-49f4-a17e-cdaf9e4bcd55",
        "colab": {
          "base_uri": "https://localhost:8080/"
        }
      },
      "id": "B72s4bUxILqn",
      "execution_count": 11,
      "outputs": [
        {
          "output_type": "stream",
          "name": "stderr",
          "text": [
            "/usr/local/lib/python3.7/dist-packages/ipykernel_launcher.py:4: SettingWithCopyWarning: \n",
            "A value is trying to be set on a copy of a slice from a DataFrame.\n",
            "Try using .loc[row_indexer,col_indexer] = value instead\n",
            "\n",
            "See the caveats in the documentation: https://pandas.pydata.org/pandas-docs/stable/user_guide/indexing.html#returning-a-view-versus-a-copy\n",
            "  after removing the cwd from sys.path.\n"
          ]
        }
      ]
    },
    {
      "cell_type": "code",
      "source": [
        "features = ['sqft_living',  'waterfront', 'view', 'grade', 'yr_built', 'age']\n",
        "x = df[features]\n",
        "y = df.ln_price\n",
        "# y = df.price"
      ],
      "metadata": {
        "id": "xBbcAVgiJrQ4"
      },
      "id": "xBbcAVgiJrQ4",
      "execution_count": 12,
      "outputs": []
    },
    {
      "cell_type": "code",
      "source": [
        "from sklearn.linear_model import LinearRegression\n",
        "from sklearn.model_selection import train_test_split\n",
        "from sklearn.metrics import mean_absolute_percentage_error, mean_squared_error, mean_absolute_error\n",
        "\n",
        "def rmse(y_test, y_pred):\n",
        "    \"\"\"root mean squared error\"\"\"\n",
        "    return round(np.sqrt(mean_squared_error(y_test, y_pred)), 3)\n",
        "\n",
        "def mae(y_test, y_pred):\n",
        "    return round(mean_absolute_error(y_test, y_pred), 3)\n",
        "\n",
        "def mape(y_test, y_pred):\n",
        "    return round(mean_absolute_percentage_error(y_test, y_pred), 3)\n",
        "\n",
        "def wmape(y_test, y_pred):\n",
        "    wmape = sum(np.abs(y_test-y_pred)) / sum(np.abs(y_test))\n",
        "    return round(wmape, 3)"
      ],
      "metadata": {
        "id": "pmIfbw7sJK-4"
      },
      "id": "pmIfbw7sJK-4",
      "execution_count": 13,
      "outputs": []
    },
    {
      "cell_type": "code",
      "source": [
        "# Let's use 70% of random sample to train the model, and the remaining 30% of sample to test how good is the model\n",
        "X_train,X_test,y_train,y_test=train_test_split(x, y, train_size = 0.7, random_state=412)\n",
        "\n",
        "lr = LinearRegression()\n",
        "reg = lr.fit(X_train, y_train)\n",
        "y_pred = np.exp(reg.predict(X_test))\n",
        "y_test_exp = np.exp(y_test)\n",
        "\n",
        "print(f'Validation MAPE: {mape(y_test_exp, y_pred)}')\n",
        "print(f'Validation WMAPE: {wmape(y_test_exp, y_pred)}')\n",
        "\n",
        "print(f'Validation MAE: {mae(y_test_exp, y_pred)}')\n",
        "print(f'Validation RMSE: {rmse(y_test_exp, y_pred)}')"
      ],
      "metadata": {
        "id": "d7YxlV2TJK8E",
        "outputId": "ab0ff794-ef81-4ef1-9b8d-a6ddd18ed428",
        "colab": {
          "base_uri": "https://localhost:8080/"
        }
      },
      "id": "d7YxlV2TJK8E",
      "execution_count": 14,
      "outputs": [
        {
          "output_type": "stream",
          "name": "stdout",
          "text": [
            "Validation MAPE: 0.133\n",
            "Validation WMAPE: 0.146\n",
            "Validation MAE: 126358.452\n",
            "Validation RMSE: 201112.44\n"
          ]
        }
      ]
    },
    {
      "cell_type": "code",
      "source": [
        "from sklearn import tree\n",
        "from sklearn.tree import DecisionTreeRegressor"
      ],
      "metadata": {
        "id": "3fBcj_BZJK0B"
      },
      "id": "3fBcj_BZJK0B",
      "execution_count": 15,
      "outputs": []
    },
    {
      "cell_type": "code",
      "source": [
        "import graphviz"
      ],
      "metadata": {
        "id": "KhxKZer7L4-Z"
      },
      "id": "KhxKZer7L4-Z",
      "execution_count": 16,
      "outputs": []
    },
    {
      "cell_type": "code",
      "source": [
        "dtr = DecisionTreeRegressor(random_state=42, max_depth=2, min_samples_split=5)\n",
        "tree_model = dtr.fit(X_train, y_train)\n",
        "y_pred = np.exp(tree_model.predict(X_test))\n",
        "y_test_exp = np.exp(y_test)\n",
        "\n",
        "print(f'Validation MAPE: {mape(y_test_exp, y_pred)}')\n",
        "print(f'Validation WMAPE: {wmape(y_test_exp, y_pred)}')\n",
        "\n",
        "print(f'Validation MAE: {mae(y_test_exp, y_pred)}')\n",
        "print(f'Validation RMSE: {rmse(y_test_exp, y_pred)}')"
      ],
      "metadata": {
        "id": "puUbVmlDIxVr",
        "outputId": "97c47de2-3206-499c-efc3-8233279613ca",
        "colab": {
          "base_uri": "https://localhost:8080/"
        }
      },
      "id": "puUbVmlDIxVr",
      "execution_count": 17,
      "outputs": [
        {
          "output_type": "stream",
          "name": "stdout",
          "text": [
            "Validation MAPE: 0.204\n",
            "Validation WMAPE: 0.237\n",
            "Validation MAE: 204838.613\n",
            "Validation RMSE: 323486.749\n"
          ]
        }
      ]
    },
    {
      "cell_type": "markdown",
      "source": [
        "Let's vizualize the tree"
      ],
      "metadata": {
        "id": "pT6zZhLUM2_L"
      },
      "id": "pT6zZhLUM2_L"
    },
    {
      "cell_type": "code",
      "source": [
        "tree_graph = tree.export_graphviz(tree_model, out_file=None, feature_names=features)\n",
        "graphviz.Source(tree_graph)"
      ],
      "metadata": {
        "id": "CBKBMhBAMYQo",
        "outputId": "dfb7624a-6639-4927-ef84-f63d5c69147b",
        "colab": {
          "base_uri": "https://localhost:8080/",
          "height": 379
        }
      },
      "id": "CBKBMhBAMYQo",
      "execution_count": 18,
      "outputs": [
        {
          "output_type": "execute_result",
          "data": {
            "text/plain": [
              "<graphviz.files.Source at 0x7f36c985d750>"
            ],
            "image/svg+xml": "<?xml version=\"1.0\" encoding=\"UTF-8\" standalone=\"no\"?>\n<!DOCTYPE svg PUBLIC \"-//W3C//DTD SVG 1.1//EN\"\n \"http://www.w3.org/Graphics/SVG/1.1/DTD/svg11.dtd\">\n<!-- Generated by graphviz version 2.40.1 (20161225.0304)\n -->\n<!-- Title: Tree Pages: 1 -->\n<svg width=\"700pt\" height=\"269pt\"\n viewBox=\"0.00 0.00 700.00 269.00\" xmlns=\"http://www.w3.org/2000/svg\" xmlns:xlink=\"http://www.w3.org/1999/xlink\">\n<g id=\"graph0\" class=\"graph\" transform=\"scale(1 1) rotate(0) translate(4 265)\">\n<title>Tree</title>\n<polygon fill=\"#ffffff\" stroke=\"transparent\" points=\"-4,4 -4,-265 696,-265 696,4 -4,4\"/>\n<!-- 0 -->\n<g id=\"node1\" class=\"node\">\n<title>0</title>\n<polygon fill=\"none\" stroke=\"#000000\" points=\"428,-261 267,-261 267,-193 428,-193 428,-261\"/>\n<text text-anchor=\"middle\" x=\"347.5\" y=\"-245.8\" font-family=\"Helvetica,sans-Serif\" font-size=\"14.00\" fill=\"#000000\">sqft_living &lt;= 2235.0</text>\n<text text-anchor=\"middle\" x=\"347.5\" y=\"-230.8\" font-family=\"Helvetica,sans-Serif\" font-size=\"14.00\" fill=\"#000000\">squared_error = 0.189</text>\n<text text-anchor=\"middle\" x=\"347.5\" y=\"-215.8\" font-family=\"Helvetica,sans-Serif\" font-size=\"14.00\" fill=\"#000000\">samples = 160</text>\n<text text-anchor=\"middle\" x=\"347.5\" y=\"-200.8\" font-family=\"Helvetica,sans-Serif\" font-size=\"14.00\" fill=\"#000000\">value = 13.56</text>\n</g>\n<!-- 1 -->\n<g id=\"node2\" class=\"node\">\n<title>1</title>\n<polygon fill=\"none\" stroke=\"#000000\" points=\"339,-157 178,-157 178,-89 339,-89 339,-157\"/>\n<text text-anchor=\"middle\" x=\"258.5\" y=\"-141.8\" font-family=\"Helvetica,sans-Serif\" font-size=\"14.00\" fill=\"#000000\">sqft_living &lt;= 1855.0</text>\n<text text-anchor=\"middle\" x=\"258.5\" y=\"-126.8\" font-family=\"Helvetica,sans-Serif\" font-size=\"14.00\" fill=\"#000000\">squared_error = 0.036</text>\n<text text-anchor=\"middle\" x=\"258.5\" y=\"-111.8\" font-family=\"Helvetica,sans-Serif\" font-size=\"14.00\" fill=\"#000000\">samples = 94</text>\n<text text-anchor=\"middle\" x=\"258.5\" y=\"-96.8\" font-family=\"Helvetica,sans-Serif\" font-size=\"14.00\" fill=\"#000000\">value = 13.276</text>\n</g>\n<!-- 0&#45;&gt;1 -->\n<g id=\"edge1\" class=\"edge\">\n<title>0&#45;&gt;1</title>\n<path fill=\"none\" stroke=\"#000000\" d=\"M318.3581,-192.9465C310.6745,-183.968 302.2947,-174.1758 294.3041,-164.8385\"/>\n<polygon fill=\"#000000\" stroke=\"#000000\" points=\"296.8685,-162.4521 287.7074,-157.13 291.5501,-167.0034 296.8685,-162.4521\"/>\n<text text-anchor=\"middle\" x=\"285.7702\" y=\"-178.3548\" font-family=\"Helvetica,sans-Serif\" font-size=\"14.00\" fill=\"#000000\">True</text>\n</g>\n<!-- 4 -->\n<g id=\"node5\" class=\"node\">\n<title>4</title>\n<polygon fill=\"none\" stroke=\"#000000\" points=\"518,-157 357,-157 357,-89 518,-89 518,-157\"/>\n<text text-anchor=\"middle\" x=\"437.5\" y=\"-141.8\" font-family=\"Helvetica,sans-Serif\" font-size=\"14.00\" fill=\"#000000\">grade &lt;= 8.5</text>\n<text text-anchor=\"middle\" x=\"437.5\" y=\"-126.8\" font-family=\"Helvetica,sans-Serif\" font-size=\"14.00\" fill=\"#000000\">squared_error = 0.127</text>\n<text text-anchor=\"middle\" x=\"437.5\" y=\"-111.8\" font-family=\"Helvetica,sans-Serif\" font-size=\"14.00\" fill=\"#000000\">samples = 66</text>\n<text text-anchor=\"middle\" x=\"437.5\" y=\"-96.8\" font-family=\"Helvetica,sans-Serif\" font-size=\"14.00\" fill=\"#000000\">value = 13.966</text>\n</g>\n<!-- 0&#45;&gt;4 -->\n<g id=\"edge4\" class=\"edge\">\n<title>0&#45;&gt;4</title>\n<path fill=\"none\" stroke=\"#000000\" d=\"M376.9694,-192.9465C384.7393,-183.968 393.2132,-174.1758 401.2936,-164.8385\"/>\n<polygon fill=\"#000000\" stroke=\"#000000\" points=\"404.0672,-166.982 407.9644,-157.13 398.774,-162.4014 404.0672,-166.982\"/>\n<text text-anchor=\"middle\" x=\"409.7639\" y=\"-178.3652\" font-family=\"Helvetica,sans-Serif\" font-size=\"14.00\" fill=\"#000000\">False</text>\n</g>\n<!-- 2 -->\n<g id=\"node3\" class=\"node\">\n<title>2</title>\n<polygon fill=\"none\" stroke=\"#000000\" points=\"161,-53 0,-53 0,0 161,0 161,-53\"/>\n<text text-anchor=\"middle\" x=\"80.5\" y=\"-37.8\" font-family=\"Helvetica,sans-Serif\" font-size=\"14.00\" fill=\"#000000\">squared_error = 0.021</text>\n<text text-anchor=\"middle\" x=\"80.5\" y=\"-22.8\" font-family=\"Helvetica,sans-Serif\" font-size=\"14.00\" fill=\"#000000\">samples = 73</text>\n<text text-anchor=\"middle\" x=\"80.5\" y=\"-7.8\" font-family=\"Helvetica,sans-Serif\" font-size=\"14.00\" fill=\"#000000\">value = 13.211</text>\n</g>\n<!-- 1&#45;&gt;2 -->\n<g id=\"edge2\" class=\"edge\">\n<title>1&#45;&gt;2</title>\n<path fill=\"none\" stroke=\"#000000\" d=\"M195.7439,-88.9777C177.0782,-78.8584 156.7212,-67.8222 138.3811,-57.8794\"/>\n<polygon fill=\"#000000\" stroke=\"#000000\" points=\"140.0154,-54.7842 129.5561,-53.095 136.6792,-60.938 140.0154,-54.7842\"/>\n</g>\n<!-- 3 -->\n<g id=\"node4\" class=\"node\">\n<title>3</title>\n<polygon fill=\"none\" stroke=\"#000000\" points=\"340,-53 179,-53 179,0 340,0 340,-53\"/>\n<text text-anchor=\"middle\" x=\"259.5\" y=\"-37.8\" font-family=\"Helvetica,sans-Serif\" font-size=\"14.00\" fill=\"#000000\">squared_error = 0.023</text>\n<text text-anchor=\"middle\" x=\"259.5\" y=\"-22.8\" font-family=\"Helvetica,sans-Serif\" font-size=\"14.00\" fill=\"#000000\">samples = 21</text>\n<text text-anchor=\"middle\" x=\"259.5\" y=\"-7.8\" font-family=\"Helvetica,sans-Serif\" font-size=\"14.00\" fill=\"#000000\">value = 13.501</text>\n</g>\n<!-- 1&#45;&gt;3 -->\n<g id=\"edge3\" class=\"edge\">\n<title>1&#45;&gt;3</title>\n<path fill=\"none\" stroke=\"#000000\" d=\"M258.8526,-88.9777C258.938,-80.7364 259.0297,-71.887 259.1164,-63.5153\"/>\n<polygon fill=\"#000000\" stroke=\"#000000\" points=\"262.6189,-63.2842 259.2228,-53.2485 255.6193,-63.2116 262.6189,-63.2842\"/>\n</g>\n<!-- 5 -->\n<g id=\"node6\" class=\"node\">\n<title>5</title>\n<polygon fill=\"none\" stroke=\"#000000\" points=\"512.5,-53 360.5,-53 360.5,0 512.5,0 512.5,-53\"/>\n<text text-anchor=\"middle\" x=\"436.5\" y=\"-37.8\" font-family=\"Helvetica,sans-Serif\" font-size=\"14.00\" fill=\"#000000\">squared_error = 0.04</text>\n<text text-anchor=\"middle\" x=\"436.5\" y=\"-22.8\" font-family=\"Helvetica,sans-Serif\" font-size=\"14.00\" fill=\"#000000\">samples = 30</text>\n<text text-anchor=\"middle\" x=\"436.5\" y=\"-7.8\" font-family=\"Helvetica,sans-Serif\" font-size=\"14.00\" fill=\"#000000\">value = 13.7</text>\n</g>\n<!-- 4&#45;&gt;5 -->\n<g id=\"edge5\" class=\"edge\">\n<title>4&#45;&gt;5</title>\n<path fill=\"none\" stroke=\"#000000\" d=\"M437.1474,-88.9777C437.062,-80.7364 436.9703,-71.887 436.8836,-63.5153\"/>\n<polygon fill=\"#000000\" stroke=\"#000000\" points=\"440.3807,-63.2116 436.7772,-53.2485 433.3811,-63.2842 440.3807,-63.2116\"/>\n</g>\n<!-- 6 -->\n<g id=\"node7\" class=\"node\">\n<title>6</title>\n<polygon fill=\"none\" stroke=\"#000000\" points=\"692,-53 531,-53 531,0 692,0 692,-53\"/>\n<text text-anchor=\"middle\" x=\"611.5\" y=\"-37.8\" font-family=\"Helvetica,sans-Serif\" font-size=\"14.00\" fill=\"#000000\">squared_error = 0.092</text>\n<text text-anchor=\"middle\" x=\"611.5\" y=\"-22.8\" font-family=\"Helvetica,sans-Serif\" font-size=\"14.00\" fill=\"#000000\">samples = 36</text>\n<text text-anchor=\"middle\" x=\"611.5\" y=\"-7.8\" font-family=\"Helvetica,sans-Serif\" font-size=\"14.00\" fill=\"#000000\">value = 14.187</text>\n</g>\n<!-- 4&#45;&gt;6 -->\n<g id=\"edge6\" class=\"edge\">\n<title>4&#45;&gt;6</title>\n<path fill=\"none\" stroke=\"#000000\" d=\"M498.8459,-88.9777C516.9262,-78.9504 536.63,-68.0228 554.4301,-58.1508\"/>\n<polygon fill=\"#000000\" stroke=\"#000000\" points=\"556.4987,-61.0059 563.5463,-53.095 553.1036,-54.8843 556.4987,-61.0059\"/>\n</g>\n</g>\n</svg>\n"
          },
          "metadata": {},
          "execution_count": 18
        }
      ]
    },
    {
      "cell_type": "code",
      "source": [
        "dtr = DecisionTreeRegressor(random_state=42, max_depth=6, min_samples_split=5)\n",
        "tree_model = dtr.fit(X_train, y_train)\n",
        "y_pred = np.exp(tree_model.predict(X_test))\n",
        "y_test_exp = np.exp(y_test)\n",
        "\n",
        "print(f'Validation MAPE: {mape(y_test_exp, y_pred)}')\n",
        "print(f'Validation WMAPE: {wmape(y_test_exp, y_pred)}')\n",
        "\n",
        "print(f'Validation MAE: {mae(y_test_exp, y_pred)}')\n",
        "print(f'Validation RMSE: {rmse(y_test_exp, y_pred)}')"
      ],
      "metadata": {
        "id": "FD5VlJwlNQ0J",
        "outputId": "bfb531fc-3856-43a5-aff0-619bad4ee7f3",
        "colab": {
          "base_uri": "https://localhost:8080/"
        }
      },
      "id": "FD5VlJwlNQ0J",
      "execution_count": 19,
      "outputs": [
        {
          "output_type": "stream",
          "name": "stdout",
          "text": [
            "Validation MAPE: 0.156\n",
            "Validation WMAPE: 0.172\n",
            "Validation MAE: 148702.812\n",
            "Validation RMSE: 233267.901\n"
          ]
        }
      ]
    },
    {
      "cell_type": "code",
      "source": [
        "# Permutation Feature Importance\n",
        "\n",
        "import eli5\n",
        "from eli5.sklearn import PermutationImportance"
      ],
      "metadata": {
        "id": "5Cei23xkPkYA"
      },
      "id": "5Cei23xkPkYA",
      "execution_count": 20,
      "outputs": []
    },
    {
      "cell_type": "code",
      "source": [
        "perm = PermutationImportance(tree_model, random_state=42).fit(X_test, y_test)\n",
        "eli5.show_weights(perm, feature_names = X_test.columns.tolist())"
      ],
      "metadata": {
        "id": "rVNANLsYPvoa",
        "outputId": "1ee4c879-2b51-4ce4-e237-0997eea4aeb0",
        "colab": {
          "base_uri": "https://localhost:8080/",
          "height": 138
        }
      },
      "id": "rVNANLsYPvoa",
      "execution_count": 21,
      "outputs": [
        {
          "output_type": "execute_result",
          "data": {
            "text/html": [
              "\n",
              "    <style>\n",
              "    table.eli5-weights tr:hover {\n",
              "        filter: brightness(85%);\n",
              "    }\n",
              "</style>\n",
              "\n",
              "\n",
              "\n",
              "    \n",
              "\n",
              "    \n",
              "\n",
              "    \n",
              "\n",
              "    \n",
              "\n",
              "    \n",
              "\n",
              "    \n",
              "\n",
              "\n",
              "    \n",
              "\n",
              "    \n",
              "\n",
              "    \n",
              "\n",
              "    \n",
              "\n",
              "    \n",
              "\n",
              "    \n",
              "\n",
              "\n",
              "    \n",
              "\n",
              "    \n",
              "\n",
              "    \n",
              "\n",
              "    \n",
              "\n",
              "    \n",
              "        <table class=\"eli5-weights eli5-feature-importances\" style=\"border-collapse: collapse; border: none; margin-top: 0em; table-layout: auto;\">\n",
              "    <thead>\n",
              "    <tr style=\"border: none;\">\n",
              "        <th style=\"padding: 0 1em 0 0.5em; text-align: right; border: none;\">Weight</th>\n",
              "        <th style=\"padding: 0 0.5em 0 0.5em; text-align: left; border: none;\">Feature</th>\n",
              "    </tr>\n",
              "    </thead>\n",
              "    <tbody>\n",
              "    \n",
              "        <tr style=\"background-color: hsl(120, 100.00%, 80.00%); border: none;\">\n",
              "            <td style=\"padding: 0 1em 0 0.5em; text-align: right; border: none;\">\n",
              "                0.7520\n",
              "                \n",
              "                    &plusmn; 0.3228\n",
              "                \n",
              "            </td>\n",
              "            <td style=\"padding: 0 0.5em 0 0.5em; text-align: left; border: none;\">\n",
              "                sqft_living\n",
              "            </td>\n",
              "        </tr>\n",
              "    \n",
              "        <tr style=\"background-color: hsl(120, 100.00%, 87.48%); border: none;\">\n",
              "            <td style=\"padding: 0 1em 0 0.5em; text-align: right; border: none;\">\n",
              "                0.3853\n",
              "                \n",
              "                    &plusmn; 0.1035\n",
              "                \n",
              "            </td>\n",
              "            <td style=\"padding: 0 0.5em 0 0.5em; text-align: left; border: none;\">\n",
              "                grade\n",
              "            </td>\n",
              "        </tr>\n",
              "    \n",
              "        <tr style=\"background-color: hsl(120, 100.00%, 97.98%); border: none;\">\n",
              "            <td style=\"padding: 0 1em 0 0.5em; text-align: right; border: none;\">\n",
              "                0.0284\n",
              "                \n",
              "                    &plusmn; 0.0206\n",
              "                \n",
              "            </td>\n",
              "            <td style=\"padding: 0 0.5em 0 0.5em; text-align: left; border: none;\">\n",
              "                view\n",
              "            </td>\n",
              "        </tr>\n",
              "    \n",
              "        <tr style=\"background-color: hsl(120, 100.00%, 98.67%); border: none;\">\n",
              "            <td style=\"padding: 0 1em 0 0.5em; text-align: right; border: none;\">\n",
              "                0.0157\n",
              "                \n",
              "                    &plusmn; 0.0132\n",
              "                \n",
              "            </td>\n",
              "            <td style=\"padding: 0 0.5em 0 0.5em; text-align: left; border: none;\">\n",
              "                yr_built\n",
              "            </td>\n",
              "        </tr>\n",
              "    \n",
              "        <tr style=\"background-color: hsl(0, 100.00%, 99.85%); border: none;\">\n",
              "            <td style=\"padding: 0 1em 0 0.5em; text-align: right; border: none;\">\n",
              "                -0.0007\n",
              "                \n",
              "                    &plusmn; 0.0257\n",
              "                \n",
              "            </td>\n",
              "            <td style=\"padding: 0 0.5em 0 0.5em; text-align: left; border: none;\">\n",
              "                age\n",
              "            </td>\n",
              "        </tr>\n",
              "    \n",
              "        <tr style=\"background-color: hsl(0, 100.00%, 99.63%); border: none;\">\n",
              "            <td style=\"padding: 0 1em 0 0.5em; text-align: right; border: none;\">\n",
              "                -0.0026\n",
              "                \n",
              "                    &plusmn; 0.0000\n",
              "                \n",
              "            </td>\n",
              "            <td style=\"padding: 0 0.5em 0 0.5em; text-align: left; border: none;\">\n",
              "                waterfront\n",
              "            </td>\n",
              "        </tr>\n",
              "    \n",
              "    \n",
              "    </tbody>\n",
              "</table>\n",
              "    \n",
              "\n",
              "    \n",
              "\n",
              "\n",
              "    \n",
              "\n",
              "    \n",
              "\n",
              "    \n",
              "\n",
              "    \n",
              "\n",
              "    \n",
              "\n",
              "    \n",
              "\n",
              "\n",
              "\n"
            ],
            "text/plain": [
              "<IPython.core.display.HTML object>"
            ]
          },
          "metadata": {},
          "execution_count": 21
        }
      ]
    },
    {
      "cell_type": "code",
      "source": [
        "# Partial Dependence Plots\n",
        "from matplotlib import pyplot as plt\n",
        "from pdpbox import pdp, get_dataset, info_plots\n",
        "\n"
      ],
      "metadata": {
        "id": "8em47_xgQGNU"
      },
      "id": "8em47_xgQGNU",
      "execution_count": 22,
      "outputs": []
    },
    {
      "cell_type": "code",
      "source": [
        "feature_to_plot = 'sqft_living'\n",
        "\n",
        "pdp_dist = pdp.pdp_isolate(model=tree_model, dataset=X_test, model_features=features, feature=feature_to_plot)\n",
        "\n",
        "pdp.pdp_plot(pdp_dist, feature_to_plot)\n",
        "plt.show()"
      ],
      "metadata": {
        "id": "LZFpljqkQWTj",
        "outputId": "07269846-8774-4416-81d2-bf067544ecd6",
        "colab": {
          "base_uri": "https://localhost:8080/",
          "height": 650
        }
      },
      "id": "LZFpljqkQWTj",
      "execution_count": 23,
      "outputs": [
        {
          "output_type": "stream",
          "name": "stderr",
          "text": [
            "findfont: Font family ['Arial'] not found. Falling back to DejaVu Sans.\n",
            "findfont: Font family ['Arial'] not found. Falling back to DejaVu Sans.\n",
            "findfont: Font family ['Arial'] not found. Falling back to DejaVu Sans.\n",
            "findfont: Font family ['Arial'] not found. Falling back to DejaVu Sans.\n"
          ]
        },
        {
          "output_type": "display_data",
          "data": {
            "image/png": "[encoded data removed]",
            "text/plain": [
              "<Figure size 1080x684 with 2 Axes>"
            ]
          },
          "metadata": {
            "needs_background": "light"
          }
        }
      ]
    },
    {
      "cell_type": "code",
      "source": [
        "a = 100\n",
        "b = 120\n",
        "\n",
        "# let's estimate difference and percentage difference\n",
        "print(f'b-a={b-a}')\n",
        "print(f'(b-a)/a={(b-a)/a*100}%')"
      ],
      "metadata": {
        "id": "p-y43uRDTbIh",
        "outputId": "83601c9e-ed56-4490-dced-a034c95d906b",
        "colab": {
          "base_uri": "https://localhost:8080/"
        }
      },
      "id": "p-y43uRDTbIh",
      "execution_count": 24,
      "outputs": [
        {
          "output_type": "stream",
          "name": "stdout",
          "text": [
            "b-a=20\n",
            "(b-a)/a=20.0%\n"
          ]
        }
      ]
    },
    {
      "cell_type": "code",
      "source": [
        "ln_a = np.log(a)\n",
        "ln_b = np.log(b)\n",
        "\n",
        "print(f'ln_b-ln_a={(ln_b-ln_a)*100}')"
      ],
      "metadata": {
        "id": "-fWjONigT7p9",
        "outputId": "36be8304-be8b-4551-d9dd-46c6f5cd30ab",
        "colab": {
          "base_uri": "https://localhost:8080/"
        }
      },
      "id": "-fWjONigT7p9",
      "execution_count": 25,
      "outputs": [
        {
          "output_type": "stream",
          "name": "stdout",
          "text": [
            "ln_b-ln_a=18.2321556793954\n"
          ]
        }
      ]
    },
    {
      "cell_type": "code",
      "source": [
        ""
      ],
      "metadata": {
        "id": "cfJA5wp8UnWo"
      },
      "id": "cfJA5wp8UnWo",
      "execution_count": 25,
      "outputs": []
    }
  ],
  "metadata": {
    "kernelspec": {
      "display_name": "Python 3",
      "name": "python3"
    },
    "language_info": {
      "name": "python"
    },
    "colab": {
      "name": "decision_trees.ipynb",
      "provenance": [],
      "include_colab_link": true
    }
  },
  "nbformat": 4,
  "nbformat_minor": 5
}